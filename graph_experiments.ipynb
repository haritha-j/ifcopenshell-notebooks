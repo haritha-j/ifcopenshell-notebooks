{
 "cells": [
  {
   "cell_type": "markdown",
   "metadata": {},
   "source": [
    "# The Viewer Component\n",
    "The interactive viewer for IFC models has been extended from Thomas Paviots' excellent [JupyterRenderer](https://github.com/tpaviot/pythonocc-core/blob/master/src/Display/WebGl/jupyter_renderer.py) and offeres a number of functionalities:"
   ]
  },
  {
   "cell_type": "code",
   "execution_count": null,
   "metadata": {},
   "outputs": [],
   "source": [
    "%load_ext autoreload\n",
    "%autoreload 2"
   ]
  },
  {
   "cell_type": "code",
   "execution_count": null,
   "metadata": {},
   "outputs": [],
   "source": [
    "import json\n",
    "import collections\n",
    "import math\n",
    "import uuid\n",
    "import random\n",
    "from itertools import islice\n",
    "\n",
    "import ifcopenshell\n",
    "import open3d as o3d\n",
    "import numpy as np\n",
    "import pymeshlab as ml\n",
    "from tqdm import tqdm\n",
    "from ifcopenshell.util.selector import Selector\n",
    "from ipywidgets import interact\n",
    "from compas.geometry import oriented_bounding_box_numpy\n",
    "from scipy.spatial import distance\n",
    "\n",
    "from OCC.Core.Bnd import Bnd_Box, Bnd_OBB\n",
    "from OCC.Core.BRepBndLib import brepbndlib_AddOBB\n",
    "from OCC.Core.BRepPrimAPI import (BRepPrimAPI_MakeBox, \n",
    "BRepPrimAPI_MakeSphere, BRepPrimAPI_MakeCylinder)\n",
    "from OCC.Core.gp import gp_Pnt, gp_XYZ, gp_Ax2, gp_Dir\n",
    "\n",
    "from utils.JupyterIFCRenderer import JupyterIFCRenderer"
   ]
  },
  {
   "cell_type": "code",
   "execution_count": null,
   "metadata": {},
   "outputs": [],
   "source": [
    "m = ifcopenshell.open(\"../merged_full.ifc\")\n",
    "system_dict_file = \"../WestDeckBox.nwd_aggregation.json\"\n",
    "#m = ifcopenshell.open(\"data/231110AC-11-Smiley-West-04-07-2007.ifc\")k"
   ]
  },
  {
   "cell_type": "markdown",
   "metadata": {},
   "source": [
    "## Relationship Identification"
   ]
  },
  {
   "cell_type": "markdown",
   "metadata": {},
   "source": [
    "###  aggrgegation relationships"
   ]
  },
  {
   "cell_type": "code",
   "execution_count": null,
   "metadata": {},
   "outputs": [],
   "source": [
    "# flatten info dictionary\n",
    "def flatten(d, parent_key='', sep='_'):\n",
    "    items = []\n",
    "    for k, v in d.items():\n",
    "        new_key = parent_key + sep + k if parent_key else k\n",
    "        #print(type(v))\n",
    "        if isinstance(v, list):\n",
    "            for i, el in enumerate(v):\n",
    "                new_key_2 = new_key + sep + str(i)\n",
    "                if isinstance(el, collections.MutableMapping):\n",
    "                    items.extend(flatten(el, new_key_2, sep=sep))\n",
    "                else:\n",
    "                    \n",
    "                    items.append(el)\n",
    "        elif isinstance(v, collections.MutableMapping):\n",
    "            #print(v)\n",
    "            items.extend(flatten(v, new_key, sep=sep))\n",
    "        else:\n",
    "            print(type(v))\n",
    "            items.append(v)\n",
    "    return (items)\n",
    "\n",
    "\n",
    "def get_systems(system_dict_file):\n",
    "    f = open(system_dict_file)\n",
    "    system_dict = json.load(f)\n",
    "    root = list(system_dict.keys())[0]\n",
    "    out_dict = {}\n",
    "\n",
    "    for sys in system_dict[root]:\n",
    "        sys_name = list(sys.keys())[0]\n",
    "        \n",
    "        out_dict[sys_name] = flatten(sys)\n",
    "        print(sys_name, len(out_dict[sys_name]))\n",
    "    return out_dict\n",
    "        \n",
    "\n",
    "get_systems(system_dict_file)    \n",
    "    \n",
    "    "
   ]
  },
  {
   "cell_type": "markdown",
   "metadata": {},
   "source": [
    "### Topological relationships"
   ]
  },
  {
   "cell_type": "code",
   "execution_count": null,
   "metadata": {},
   "outputs": [],
   "source": [
    "# flatten info dictionary to branch level\n",
    "def flatten_branch(d, parent_key='', sep='_'):\n",
    "    items = []\n",
    "    for k, v in d.items():\n",
    "        new_key = parent_key + sep + k if parent_key else k\n",
    "        #print(type(v))\n",
    "        if isinstance(v, list):\n",
    "            for i, el in enumerate(v):\n",
    "                new_key_2 = new_key + sep + str(i)\n",
    "                if isinstance(el, collections.MutableMapping):\n",
    "                    items.extend(flatten_branch(el, new_key_2, sep=sep))\n",
    "                else:\n",
    "                    \n",
    "                    items.append((k, el))\n",
    "        elif isinstance(v, collections.MutableMapping):\n",
    "            #print(v)\n",
    "            items.extend(flatten_branch(v, new_key, sep=sep))\n",
    "        else:\n",
    "            print(type(v))\n",
    "            items.append((k,v))\n",
    "    return (items)\n",
    "\n",
    "\n",
    "# get components of each branch\n",
    "def get_branches(system_dict_file):\n",
    "    f = open(system_dict_file)\n",
    "    system_dict = json.load(f)\n",
    "    root = list(system_dict.keys())[0]\n",
    "    out_dict = {}\n",
    "\n",
    "    for sys in system_dict[root]:\n",
    "        sys_name = list(sys.keys())[0]\n",
    "        \n",
    "        items = flatten_branch(sys)\n",
    "        print(items)\n",
    "        d = {}\n",
    "        for branch, e in items:\n",
    "            if not branch in d:\n",
    "                d[branch] = []\n",
    "            d[branch] += [e]\n",
    "        out_dict[sys_name] = d\n",
    "        \n",
    "        #out_dict[sys_name] = flatten_branch(sys)\n",
    "        print(sys_name, len(out_dict[sys_name]))\n",
    "    return out_dict\n",
    "        \n",
    "system = 'West-DeckBox-Pipe.rvm'\n",
    "branches = get_branches(system_dict_file)[system]    \n"
   ]
  },
  {
   "cell_type": "code",
   "execution_count": null,
   "metadata": {},
   "outputs": [],
   "source": [
    "\n",
    "\n",
    "# # draw links between connected elements\n",
    "# def visualize_branches(branches, ifc, contiguous=False):\n",
    "#     vis_dict = {}\n",
    "#     for k, val in branches.items():\n",
    "#         vis_elements = []\n",
    "#         for element in val:\n",
    "#             if element in pipe_names:\n",
    "#                 vis_elements.append((element, pipe_type))\n",
    "#             elif element in fitting_names:\n",
    "#                 vis_elements.append((element, fitting_type))\n",
    "#         vis_dict[k] = vis_elements\n",
    "\n",
    "#     error_count = 0\n",
    "#     # enumerate through branches\n",
    "#     count = 0\n",
    "#     for k, val in tqdm(vis_dict.items()):\n",
    "#         if count == 50:\n",
    "#             break\n",
    "#         branch_size = len(val)\n",
    "#         for i, element in enumerate(val):\n",
    "#             #check if element is not the last element\n",
    "#             if (i+1) < branch_size:\n",
    "#                 try:\n",
    "#                     draw_relationship(element[0], element[1], \n",
    "#                           val[i+1][0], val[i+1][1], ifc)\n",
    "#                 except:\n",
    "#                     error_count +=1\n",
    "#         count +=1\n",
    "\n",
    "#     print(error_count)\n",
    "#     #print(vis_dict)\n",
    "    \n",
    "def visualize_branches(branches, ifc, contiguous=True, dist_thresh=0.002):\n",
    "    pipe_type = 'IFCPIPESEGMENT'\n",
    "    fitting_type = 'IFCPIPEFITTING'\n",
    "\n",
    "    pipe_selector = Selector()\n",
    "    fitting_selector = Selector()\n",
    "    pipes = pipe_selector.parse(ifc, '.' + pipe_type)\n",
    "    fittings = fitting_selector.parse(ifc, '.' + fitting_type)\n",
    "    fitting_names = [f.Name for f in fittings]\n",
    "    pipe_names = [p.Name for p in pipes]\n",
    "    print(pipes[0].Name)\n",
    "\n",
    "    vis_dict = {}\n",
    "    for k, val in branches.items():\n",
    "        vis_elements = []\n",
    "        connect = True\n",
    "        for element in val:\n",
    "            if element in pipe_names:\n",
    "                vis_elements.append((element, pipe_type, connect))\n",
    "                connect = True\n",
    "            elif element in fitting_names:\n",
    "                vis_elements.append((element, fitting_type, connect))\n",
    "                connect = True\n",
    "            else:\n",
    "                connect = False\n",
    "        vis_dict[k] = vis_elements\n",
    "\n",
    "    error_count = 0\n",
    "    # enumerate through branches\n",
    "    count = 0\n",
    "    for k, val in tqdm(vis_dict.items()):\n",
    "        if count == 10:\n",
    "            break\n",
    "        branch_size = len(val)\n",
    "        for i, element in enumerate(val):\n",
    "            #check if element is not the last element\n",
    "            if (i+1) < branch_size:\n",
    "                try:\n",
    "                    if val[i+1][2] or not contiguous:\n",
    "                        draw_relationship(element[0], element[1], \n",
    "                              val[i+1][0], val[i+1][1], ifc)\n",
    "                    else:\n",
    "                        if element_distance(element[0], element[1], \n",
    "                              val[i+1][0], val[i+1][1], ifc) < dist_thresh:\n",
    "                            draw_relationship(element[0], element[1], \n",
    "                              val[i+1][0], val[i+1][1], ifc)\n",
    "                except:\n",
    "                    error_count +=1\n",
    "        count +=1\n",
    "\n",
    "    print(error_count)\n",
    "\n",
    "    \n",
    "visualize_branches(branches, m)"
   ]
  },
  {
   "cell_type": "markdown",
   "metadata": {},
   "source": [
    "## Visualization"
   ]
  },
  {
   "cell_type": "code",
   "execution_count": null,
   "metadata": {
    "scrolled": false
   },
   "outputs": [],
   "source": [
    "viewer = JupyterIFCRenderer(m, size=(400,300))\n",
    "viewer.setAllTransparent()\n",
    "viewer"
   ]
  },
  {
   "cell_type": "markdown",
   "metadata": {},
   "source": [
    "### aggregation relationships"
   ]
  },
  {
   "cell_type": "code",
   "execution_count": null,
   "metadata": {},
   "outputs": [],
   "source": [
    "picker = viewer.colorPicker()\n",
    "picker\n"
   ]
  },
  {
   "cell_type": "code",
   "execution_count": null,
   "metadata": {},
   "outputs": [],
   "source": [
    "out_dict = {'HVAC':['Rohrtypen:Kupfer - Hartgelötet:7718868', 'Rohrtypen:Kupfer - Hartgelötet:7718886', ],\n",
    "           'electrical':[ 'Rohrtypen:Kupfer - Hartgelötet:7718872', 'Rohrtypen:Kupfer - Hartgelötet:7718880']}\n",
    "\n",
    "# PAINT A SET OF ELEMENTS IN ONE COLOUR\n",
    "def systemSelect(system):\n",
    "    selector = Selector()\n",
    "    for e in out_dict[system]:\n",
    "        element = selector.parse(m, '.IfcProduct[Name *= \"' + e + '\"]')[0]\n",
    "        viewer.setColor(element, picker.value)\n",
    "    return system\n",
    "\n",
    "interact(systemSelect, system=['HVAC', 'electrical'])"
   ]
  },
  {
   "cell_type": "markdown",
   "metadata": {},
   "source": [
    "Instances of building elements with represenations can be selected interactivly. Information such as the attributes `GUID`, `Name` etc. are displayed to the left of the 3D viewport."
   ]
  },
  {
   "cell_type": "code",
   "execution_count": null,
   "metadata": {},
   "outputs": [],
   "source": [
    "# reset colours\n",
    "viewer.setDefaultColors()"
   ]
  },
  {
   "cell_type": "markdown",
   "metadata": {},
   "source": [
    "### topological relationships\n",
    "\n"
   ]
  },
  {
   "cell_type": "markdown",
   "metadata": {},
   "source": [
    "## replace jupyter renderer\n",
    "\n",
    "1. Compute the bounding box of ifc product directly from points\n",
    "2. generate ifc elements to indicate relationships\n"
   ]
  },
  {
   "cell_type": "code",
   "execution_count": null,
   "metadata": {},
   "outputs": [],
   "source": [
    "element_name = \"TUBE 1 of BRANCH /AM-8120227-WD-MDA-01/B1\"\n",
    "element_type = \"IFCPIPESEGMENT\"\n",
    "\n",
    "selector = Selector()\n",
    "element = selector.parse(\n",
    "    m, '.' + element_type + '[Name *= \"' + element_name + '\"]')[0]\n",
    "\n",
    "shape = element.Representation.Representations[0].Items[0]\n",
    "element_coords = np.array(shape.Coordinates.CoordList)\n",
    "#print(element_coords)\n",
    "bbox = oriented_bounding_box_numpy(element_coords)\n",
    "print(bbox)"
   ]
  },
  {
   "cell_type": "code",
   "execution_count": null,
   "metadata": {},
   "outputs": [],
   "source": [
    "create_guid = lambda: ifcopenshell.guid.compress(uuid.uuid1().hex)\n",
    "owner_history = m.by_type(\"IfcOwnerHistory\")[0]\n",
    "project = m.by_type(\"IfcProject\")[0]\n",
    "context = m.by_type(\"IfcGeometricRepresentationContext\")[0]\n",
    "floor = m.by_type(\"IfcBuildingStorey\")[0]\n",
    "\n",
    "# get bounding box of ifc element\n",
    "def get_oriented_bbox(element_name, element_type):\n",
    "    # get element and bbox\n",
    "    selector = Selector()\n",
    "    element = selector.parse(\n",
    "        m, '.' + element_type + '[Name *= \"' + element_name + '\"]')[0]\n",
    "\n",
    "    #print(element.Representation.Representations)\n",
    "    shape = element.Representation.Representations[0].Items[0]\n",
    "    element_coords = np.array(shape.Coordinates.CoordList)\n",
    "    #print(element_coords)\n",
    "    bbox = oriented_bounding_box_numpy(element_coords)\n",
    "    \n",
    "    # identify box orientation\n",
    "    l1 = math.sqrt(sq_distance(bbox[0][0], bbox[0][1], bbox[0][2],\n",
    "                               bbox[1][0], bbox[1][1], bbox[1][2]))\n",
    "    l2 = math.sqrt(sq_distance(bbox[0][0], bbox[0][1], bbox[0][2],\n",
    "                               bbox[3][0], bbox[3][1], bbox[3][2]))\n",
    "    l3 = math.sqrt(sq_distance(bbox[0][0], bbox[0][1], bbox[0][2],\n",
    "                               bbox[4][0], bbox[4][1], bbox[4][2]))\n",
    "    half_lengths = [l1/2, l2/2, l3/2]\n",
    "    \n",
    "    dominant_axis = half_lengths.index(max(half_lengths))\n",
    "    if dominant_axis == 0:\n",
    "        dominant_direction = vector_norm([bbox[0][i] - bbox[1][i] \n",
    "                                          for i in range(3)])\n",
    "    elif dominant_axis == 1:\n",
    "        dominant_direction = vector_norm([bbox[0][i] - bbox[3][i] \n",
    "                                          for i in range(3)])\n",
    "    else:\n",
    "        dominant_direction = vector_norm([bbox[0][i] - bbox[4][i] \n",
    "                                          for i in range(3)])\n",
    "\n",
    "    dominance_ratio = max(half_lengths)/sorted(half_lengths)[-2]\n",
    "    center = [(bbox[0][i] + bbox[6][i])/2 for i in range(3)]\n",
    "\n",
    "    #print(dominance_ratio, dominant_direction)\n",
    "    #print(element_name, half_lengths, dominant_direction, center)\n",
    "\n",
    "    #print(center)\n",
    "    return([dominant_direction, max(half_lengths), \n",
    "           half_lengths, center])\n",
    "\n",
    "\n",
    "def CreateBeam(ifcFile, container, name, section, L, position, \n",
    "               direction, owner_history, context):\n",
    "    Z = 0.,0.,1.\n",
    "    #print('length', L)\n",
    "    B1 = ifcFile.createIfcBeam(create_guid(),owner_history , name)\n",
    "    B1.ObjectType ='beam'\n",
    "    \n",
    "    #print(type(position[0]))\n",
    "    B1_Point =ifcFile.createIfcCartesianPoint ( tuple(position) ) \n",
    "    #B1_Point =ifcFile.createIfcCartesianPoint ( (0.0,0.0,0.0) ) \n",
    "    B1_Axis2Placement = ifcFile.createIfcAxis2Placement3D(B1_Point)\n",
    "    B1_Axis2Placement.Axis = ifcFile.createIfcDirection(direction)\n",
    "    B1_Axis2Placement.RefDirection =ifcFile.createIfcDirection(\n",
    "        np.cross(direction, Z).tolist())\n",
    "\n",
    "    B1_Placement = ifcFile.createIfcLocalPlacement(\n",
    "        container.ObjectPlacement,B1_Axis2Placement)\n",
    "    B1.ObjectPlacement=B1_Placement\n",
    "    B1_ExtrudePlacement = ifcFile.createIfcAxis2Placement3D(ifcFile.createIfcCartesianPoint ( (0.,0.,0.) )   )\n",
    "   \n",
    "    B1_Extruded=ifcFile.createIfcExtrudedAreaSolid()\n",
    "    B1_Extruded.SweptArea=section\n",
    "    B1_Extruded.Position=B1_ExtrudePlacement\n",
    "    B1_Extruded.ExtrudedDirection = ifcFile.createIfcDirection(Z)\n",
    "    B1_Extruded.Depth = L\n",
    "\n",
    "    B1_Repr=ifcFile.createIfcShapeRepresentation()\n",
    "    B1_Repr.ContextOfItems=context\n",
    "    B1_Repr.RepresentationIdentifier = 'Body'\n",
    "    B1_Repr.RepresentationType = 'SweptSolid'\n",
    "    B1_Repr.Items = [B1_Extruded]\n",
    "    \n",
    "    B1_DefShape=ifcFile.createIfcProductDefinitionShape()\n",
    "    B1_DefShape.Representations=[B1_Repr]\n",
    "    B1.Representation=B1_DefShape\n",
    "    \n",
    "    Flr1_Container = ifcFile.createIfcRelContainedInSpatialStructure(create_guid(),owner_history)\n",
    "    Flr1_Container.RelatedElements=[B1]\n",
    "    Flr1_Container.RelatingStructure= container\n",
    "    \n",
    "    \n",
    "def Circle_Section(r, ifcfile):\n",
    "    B1_Axis2Placement2D =ifcfile.createIfcAxis2Placement2D( \n",
    "                          ifcfile.createIfcCartesianPoint( (0.,0.,0.) ) )\n",
    "    B1_AreaProfile = ifcfile.createIfcCircleProfileDef(\"AREA\")\n",
    "    B1_AreaProfile.Position = B1_Axis2Placement2D \n",
    "    B1_AreaProfile.Radius = r\n",
    "    return B1_AreaProfile\n",
    "\n",
    "\n",
    "#get_oriented_bbox(element_name, element_type)"
   ]
  },
  {
   "cell_type": "code",
   "execution_count": null,
   "metadata": {},
   "outputs": [],
   "source": [
    "\n",
    "def get_point_along_axis(init_point, axis, half_length, edge_distance):\n",
    "    #print(half_length)\n",
    "    return (init_point + axis*(half_length - edge_distance))\n",
    "\n",
    "\n",
    "def sq_distance(x1, y1, z1, x2, y2, z2):\n",
    "    return ((x2 - x1)**2 + (y2 - y1)**2 + (z2 - z1)**2)\n",
    "\n",
    "\n",
    "def vector_norm(vec):\n",
    "    den = math.sqrt(vec[0]**2 + vec[1]**2 + vec[2]**2)\n",
    "    return [vec[0]/den, vec[1]/den, vec[2]/den]\n",
    "\n",
    "\n",
    "# identify a candidate for an edge of the relationship visualization\n",
    "def get_corner(obb, center_other, edge_distance):\n",
    "    direction = obb[0]\n",
    "    center = obb[3]\n",
    "\n",
    "    candidate1 = [get_point_along_axis(center[i], direction[i], \n",
    "                                    obb[1], edge_distance) \n",
    "               for i in range(3)]\n",
    "    candidate2 = [get_point_along_axis(center[i], direction[i], \n",
    "                                    -1*obb[1], -1*edge_distance) \n",
    "               for i in range(3)]\n",
    "    # print(corner1, corner2)\n",
    "    \n",
    "    dist1 = sq_distance(center_other[0], center_other[1],\n",
    "                   center_other[2], candidate1[0],\n",
    "                   candidate1[1], candidate1[2])    \n",
    "    dist2 = sq_distance(center_other[0], center_other[1],\n",
    "                   center_other[2], candidate2[0],\n",
    "                   candidate2[1], candidate2[2]) \n",
    "    \n",
    "    if dist1 < dist2:\n",
    "        return candidate1\n",
    "    else:\n",
    "        return candidate2\n",
    "\n",
    "    \n",
    "# get points belonging to an ifc element\n",
    "def get_points(element_name, element_type, ifc):\n",
    "    selector = Selector()\n",
    "    element = selector.parse(\n",
    "        ifc, '.' + element_type + '[Name *= \"' + element_name + '\"]')[0]\n",
    "    shape = element.Representation.Representations[0].Items[0]\n",
    "    return (np.array(shape.Coordinates.CoordList))   \n",
    "    \n",
    "    \n",
    "# calculate min distance between two ifc elements\n",
    "def element_distance(element1_name, element1_type, element2_name, element2_type, ifc):\n",
    "    points1 = get_points(element1_name, element1_type, ifc)\n",
    "    points2 = get_points(element2_name, element2_type, ifc)\n",
    "    return np.min(distance.cdist(points1, points2, 'sqeuclidean'))\n",
    "\n",
    "\n",
    "e1 = 'ELBOW 2 of BRANCH /AU-8110202-WD-MDA-02/B1'\n",
    "e1t = 'IFCPIPEFITTING'\n",
    "e2 = 'TUBE 1 of BRANCH /AU-8110202-WD-MDA-02/B1'\n",
    "e2t = 'IFCPIPESEGMENT'\n",
    "element_distance(e1, e1t, e2, e2t, m)\n",
    "    \n",
    "def draw_sphere(point, radius, colour, viewer):\n",
    "    point = gp_Pnt(point)\n",
    "    ball = BRepPrimAPI_MakeSphere(point, radius).Shape()\n",
    "    viewer.DisplayShape(ball, shape_color = colour, \n",
    "                        transparency=True, opacity=0.8)\n",
    "\n",
    "\n",
    "def draw_cylinder(p1, p2, radius, colour,  element_name1, element_name2, ifc):\n",
    "    sectionC1 = Circle_Section(r=radius, ifcfile=ifc)\n",
    "    name='rel '+element_name1 + ' x ' + element_name2\n",
    "    ConnectingBeam_1 = CreateBeam(ifc, container=floor, name=name, \n",
    "                                  section= sectionC1, \n",
    "                                  L=math.sqrt(sq_distance(p1[0],p1[1],p1[2],p2[0],p2[1],p2[2])),\n",
    "                                  position=([p2[0].item(), p2[1].item(), p2[2].item()]),\n",
    "                                  direction=((p1[0] - p2[0]).item(), (p1[1] - p2[1]).item(), \n",
    "                                             (p1[2] - p2[2]).item()),\n",
    "                                  owner_history=owner_history, context=context)\n",
    "#     ifc.create_entity('IfcPipeSegment', GlobalId=ifcopenshell.guid.new(), \n",
    "#                       Name='rel '+element_name1 + ' x ' + element_name2)\n",
    "    \n",
    "# def draw_cylinder(p1, p2, radius, colour, viewer):\n",
    "#     x = (p1.X() + p2.X())/2\n",
    "#     y = (p1.Y() + p2.Y())/2\n",
    "#     z = (p1.Z() + p2.Z())/2\n",
    "#     p = gp_Pnt(p2.X(), p2.Y(), p2.Z())\n",
    "#     v = gp_Dir((p1.X() - p2.X()), (p1.Y() - p2.Y()), (p1.Z() - p2.Z()))\n",
    "#     ax = gp_Ax2(p, v)\n",
    "#     h = math.sqrt(sq_distance(p1.X(), p1.Y(), p2.Z(), \n",
    "#                               p2.X(), p2.Y(), p2.Z()))\n",
    "#     print(x,y,z,p,v,ax,h)\n",
    "    \n",
    "#     cylinder = BRepPrimAPI_MakeCylinder(ax, radius, h).Shape()\n",
    "#     viewer.DisplayShape(cylinder, shape_color = colour, \n",
    "#                         transparency=True, opacity=0.8)\n",
    "    \n",
    "\n",
    "# draw a visual indication of a topological relationship    \n",
    "def draw_relationship (element_name1, element_type1, \n",
    "                       element_name2, element_type2, ifc):\n",
    "    # define params\n",
    "    #radius = 0.03\n",
    "    radius_expansion = 1.3\n",
    "    colour = 'blue'\n",
    "    threshold = 0.1\n",
    "    edge_distance = 0.1\n",
    "    \n",
    "    # get bboxes\n",
    "    obb1 = get_oriented_bbox(element_name1, element_type1)\n",
    "    obb2 = get_oriented_bbox(element_name2, element_type2)\n",
    "    \n",
    "    # if bboxes are roughly square, then use centerpoint, \n",
    "    # otherwise use a point closer to the edge\n",
    "    if obb1[1] < threshold:\n",
    "        corner1 = obb1[3]\n",
    "    else:\n",
    "        corner1 = get_corner(obb1, obb2[3], edge_distance)\n",
    "    if  obb2[1] < threshold:\n",
    "        corner2 = obb2[3]\n",
    "    else:\n",
    "        corner2 = get_corner(obb2, obb1[3], edge_distance)\n",
    "    #print(corner1.X(),corner1.Y(),corner1.Z(),corner2.X(),corner2.Y(),corner1.Z())\n",
    "    #print('rel', corner1, corner2, element_name1, element_name2)\n",
    "    \n",
    "    #dynamically scale radius\n",
    "    radius = max(min(obb1[2]), min(obb2[2])) * radius_expansion\n",
    "    \n",
    "    draw_cylinder(corner1, corner2, radius, 'green', \n",
    "                  element_name1, element_name2, ifc)\n",
    "#     draw_sphere(corner1, radius, colour, viewer)\n",
    "#     draw_sphere(corner2, radius, 'red', viewer)\n",
    " "
   ]
  },
  {
   "cell_type": "code",
   "execution_count": null,
   "metadata": {},
   "outputs": [],
   "source": [
    "element1_name = \"TUBE 1 of BRANCH /AM-8120227-WD-MDA-01/B1\"\n",
    "element1_type = \"IFCPIPESEGMENT\"\n",
    "element2_name = \"ELBOW 1 of BRANCH /AM-8120227-WD-MDA-01/B1\"\n",
    "element2_type = \"IFCPIPEFITTING\"\n",
    "\n",
    "element3_name = \"TUBE 2 of BRANCH /AM-8120227-WD-MDA-01/B1\"\n",
    "element3_type = \"IFCPIPESEGMENT\"\n",
    "element4_name = \"ELBOW 2 of BRANCH /AM-8120227-WD-MDA-01/B1\"\n",
    "element4_type = \"IFCPIPEFITTING\"\n",
    "element5_name = \"TUBE 3 of BRANCH /AM-8120227-WD-MDA-01/B1\"\n",
    "element5_type = \"IFCPIPESEGMENT\"\n",
    "\n",
    "draw_relationship(element1_name, element1_type, \n",
    "                  element2_name, element2_type, m)\n",
    "draw_relationship(element2_name, element2_type, \n",
    "                  element3_name, element3_type, m)\n",
    "draw_relationship(element3_name, element3_type, \n",
    "                  element4_name, element4_type, m)\n",
    "draw_relationship(element4_name, element4_type, \n",
    "                  element5_name, element5_type, m)\n",
    "#element1_center, element1_coords = get_element_deets()\n",
    "\n",
    "\n",
    "\n",
    "# centerpoint =gp_Pnt(element1_center)\n",
    "# ball = BRepPrimAPI_MakeSphere(centerpoint, 0.02).Shape()"
   ]
  },
  {
   "cell_type": "code",
   "execution_count": null,
   "metadata": {},
   "outputs": [],
   "source": [
    "m.write('../edited.ifc')"
   ]
  },
  {
   "cell_type": "markdown",
   "metadata": {},
   "source": [
    "# Misc"
   ]
  },
  {
   "cell_type": "code",
   "execution_count": null,
   "metadata": {},
   "outputs": [],
   "source": [
    "settings = ifcopenshell.geom.settings()\n",
    "settings.set(settings.USE_PYTHON_OPENCASCADE, True)\n",
    "pdct_shape = ifcopenshell.geom.create_shape(settings, inst=element)\n",
    "viewer.DisplayShape(ball, shape_color = 'blue', transparency=False, opacity=0.5)"
   ]
  },
  {
   "cell_type": "code",
   "execution_count": null,
   "metadata": {},
   "outputs": [],
   "source": [
    "o_bbox1 = get_oriented_boundingbox(list(viewer.shapedict.keys())[list(viewer.shapedict.values()).index(element1)])\n",
    "bbox_center1 = [o_bbox[0].X(), o_bbox[0].Y(), o_bbox[0].Z()]\n"
   ]
  },
  {
   "cell_type": "code",
   "execution_count": null,
   "metadata": {},
   "outputs": [],
   "source": [
    "viewer.shapedict.values()"
   ]
  },
  {
   "cell_type": "code",
   "execution_count": null,
   "metadata": {},
   "outputs": [],
   "source": [
    "list(viewer.shapedict.keys())[list(viewer.shapedict.values()).index(element)]"
   ]
  },
  {
   "cell_type": "code",
   "execution_count": null,
   "metadata": {},
   "outputs": [],
   "source": [
    "viewer._shapes"
   ]
  },
  {
   "cell_type": "code",
   "execution_count": null,
   "metadata": {},
   "outputs": [],
   "source": [
    "BoundingBox([[list(viewer.shapedict.keys())[list(viewer.shapedict.values()).index(element)]]]).xmin"
   ]
  },
  {
   "cell_type": "code",
   "execution_count": null,
   "metadata": {},
   "outputs": [],
   "source": [
    "[list(viewer.shapedict.keys())[list(viewer.shapedict.values()).index(element)]]"
   ]
  },
  {
   "cell_type": "code",
   "execution_count": null,
   "metadata": {
    "scrolled": true
   },
   "outputs": [],
   "source": [
    "print(len(element.Representation.Representations[0].Items[0].CoordIndex))"
   ]
  },
  {
   "cell_type": "code",
   "execution_count": null,
   "metadata": {},
   "outputs": [],
   "source": [
    "element.Representation.Representations[0].Items[0].CoordIndex = element.Representation.Representations[0].Items[0].CoordIndex[:1]"
   ]
  },
  {
   "cell_type": "markdown",
   "metadata": {},
   "source": [
    "## Selecting instances \n",
    "\n",
    "The instance object currently selected in the 3D view can be assigned to a avariable using the `.getSelectedProduct()` method. \n",
    "\n",
    "Provding the plain varialbe name call sthe `Display()`-method of the instance and prints the line of the original ifc-Datei the  [SPFF-format](https://en.wikipedia.org/wiki/ISO_10303-21).\n"
   ]
  },
  {
   "cell_type": "code",
   "execution_count": null,
   "metadata": {},
   "outputs": [],
   "source": [
    "selection = viewer.getSelectedProduct()\n",
    "selection"
   ]
  },
  {
   "cell_type": "markdown",
   "metadata": {},
   "source": [
    "## Show / Hide Objects\n",
    "Programatically or interactively selected projects can be hidden or shown in the viewer using `setVisible()`.\n"
   ]
  },
  {
   "cell_type": "code",
   "execution_count": null,
   "metadata": {},
   "outputs": [],
   "source": [
    "viewer.setVisible(selection, False)\n",
    "viewer"
   ]
  },
  {
   "cell_type": "markdown",
   "metadata": {},
   "source": [
    "Opening elements are displayed by default. Let's hide them."
   ]
  },
  {
   "cell_type": "code",
   "execution_count": null,
   "metadata": {},
   "outputs": [],
   "source": [
    "for opening in m.by_type(\"IfcOpeningElement\"):\n",
    "    viewer.setVisible(opening, False)"
   ]
  },
  {
   "cell_type": "markdown",
   "metadata": {},
   "source": [
    "## Coloring Objects\n",
    "Objects can be colored either by hexadicimal numbers provided as strings as they are common in e.g. in HTML and CSS and can be retrieved from many ressources"
   ]
  },
  {
   "cell_type": "code",
   "execution_count": null,
   "metadata": {},
   "outputs": [],
   "source": [
    "\n",
    "viewer.setColorSelected(\"#ddffaa\")\n",
    "viewer"
   ]
  },
  {
   "cell_type": "markdown",
   "metadata": {},
   "source": [
    "If you do not happen to have a color in mind  just call a color picker from the viewer:"
   ]
  },
  {
   "cell_type": "code",
   "execution_count": null,
   "metadata": {},
   "outputs": [],
   "source": [
    "picker = viewer.colorPicker()\n",
    "picker"
   ]
  },
  {
   "cell_type": "code",
   "execution_count": null,
   "metadata": {},
   "outputs": [],
   "source": [
    "viewer.setColorSelected(picker.value)"
   ]
  },
  {
   "cell_type": "markdown",
   "metadata": {},
   "source": [
    "## IFC to cloud\n",
    "\n",
    "sample points from ifc model"
   ]
  },
  {
   "cell_type": "code",
   "execution_count": null,
   "metadata": {},
   "outputs": [],
   "source": [
    "ifc = ifcopenshell.open(\"../merged_full.ifc\")"
   ]
  },
  {
   "cell_type": "code",
   "execution_count": null,
   "metadata": {},
   "outputs": [],
   "source": [
    "element_type = 'IFCPIPESEGMENT'\n",
    "selector = Selector()\n",
    "tees = selector.parse(ifc, '.' + element_type)\n",
    "print(len(tees))"
   ]
  },
  {
   "cell_type": "code",
   "execution_count": null,
   "metadata": {},
   "outputs": [],
   "source": [
    "# pick a point uniformly in a triangle\n",
    "def uniform_triangle(u, v):\n",
    "    while True:\n",
    "        s = random.random()\n",
    "        t = random.random()\n",
    "        in_triangle = s + t <= 1\n",
    "        p = s * u + t * v if in_triangle else (1 - s) * u + (1 - t) * v\n",
    "        yield p\n",
    "\n",
    "\n",
    "# uniformly sample points within triangle\n",
    "def sample_points(p, q, r, n):   \n",
    "    it = uniform_triangle((q - p), (r - p))\n",
    "    points = np.array(list(islice(it, 0, n)))\n",
    "    points += p\n",
    "    return points\n",
    "\n",
    "\n",
    "# convert an element to a point cloud\n",
    "def element_to_cloud(element, save_path, density=0):\n",
    "    shape = element.Representation.Representations[0].Items[0]\n",
    "    boundaries = np.array(shape.Coordinates.CoordList)\n",
    "    \n",
    "    # determine sampling target \n",
    "    point_count = len(boundaries)\n",
    "    samples = 10 if density == 0 else math.ceil(density * 6 / point_count)\n",
    "        \n",
    "    # get additional points by sampling from mesh triangles\n",
    "    limit = point_count -2\n",
    "    #print (limit)\n",
    "    centroids = []\n",
    "    for j in range(0, point_count, 3):\n",
    "        if j < limit:\n",
    "            # centroids.append([(boundaries[j][k] + boundaries[j+1][k] \n",
    "            # + boundaries[j+2][k])/3 for k in range(3)])\n",
    "            centroids.extend(sample_points((boundaries[j]), (boundaries[j+1]),\n",
    "                                           (boundaries[j+2]), samples))\n",
    "    boundaries = np.concatenate([boundaries, np.array(centroids)])\n",
    "    #print(len(boundaries))\n",
    "    \n",
    "    # downsample to fixed length\n",
    "    if density > 0:\n",
    "        boundaries = boundaries[np.random.choice(boundaries.shape[0], density, \n",
    "                                                 replace=False), :]\n",
    "    \n",
    "    # convert to pointcloud\n",
    "    pcd = o3d.geometry.PointCloud()\n",
    "    pcd.points = o3d.utility.Vector3dVector(boundaries)\n",
    "    o3d.io.write_point_cloud(save_path, pcd)\n",
    "    return (len(boundaries))"
   ]
  },
  {
   "cell_type": "code",
   "execution_count": null,
   "metadata": {},
   "outputs": [],
   "source": [
    "avg_point_count = 0\n",
    "for i, element in tqdm(enumerate(tees)):\n",
    "    save_path = \"../pipe_clouds/\" + str(i) + \".ply\"\n",
    "    avg_point_count += element_to_cloud(element, save_path, 1000)\n",
    "\n",
    "avg_point_count = avg_point_count/i\n",
    "print (avg_point_count)"
   ]
  },
  {
   "cell_type": "markdown",
   "metadata": {},
   "source": [
    "### Downsampling\n",
    "\n"
   ]
  },
  {
   "cell_type": "code",
   "execution_count": null,
   "metadata": {},
   "outputs": [],
   "source": [
    "ifc = ifcopenshell.open(\"../deckboxtee.ifc\")\n",
    "\n",
    "element_type = 'IFCPIPEFITTING'\n",
    "selector = Selector()\n",
    "tees = selector.parse(ifc, '.' + element_type)\n",
    "print(tees[0])"
   ]
  },
  {
   "cell_type": "code",
   "execution_count": null,
   "metadata": {},
   "outputs": [],
   "source": [
    "for element in tqdm(tees):\n",
    "    # create pymeshlab mesh\n",
    "    #print(element)\n",
    "    shape = element.Representation.Representations[0].Items[0]\n",
    "    element_faces = [np.array([i[0]-1, i[1]-1, i[2]-1]) for i in shape.CoordIndex]\n",
    "    element_coords = np.array(shape.Coordinates.CoordList)\n",
    "    print(len(element_faces))\n",
    "#     mesh = ml.Mesh(element_coords, element_faces)\n",
    "#     ms = ml.MeshSet()\n",
    "#     ms.add_mesh(mesh, \"x\")\n",
    "#     #ms.save_current_mesh(\"../output.ply\")\n",
    "    \n",
    "#     # downsample and reassign\n",
    "#     ms.apply_filter('simplification_clustering_decimation', threshold=ml.Percentage(2))\n",
    "#     m = ms.current_mesh()\n",
    "#     shape.CoordIndex = m.face_matrix().tolist()\n",
    "#     shape.Coordinates.CoordList = m.vertex_matrix().tolist()\n",
    "    "
   ]
  },
  {
   "cell_type": "code",
   "execution_count": null,
   "metadata": {},
   "outputs": [],
   "source": [
    "ifc.write('../added.ifc') "
   ]
  },
  {
   "cell_type": "code",
   "execution_count": null,
   "metadata": {},
   "outputs": [],
   "source": [
    "viewer = JupyterIFCRenderer(ifc, size=(400,300))\n",
    "viewer"
   ]
  },
  {
   "cell_type": "code",
   "execution_count": null,
   "metadata": {},
   "outputs": [],
   "source": [
    "## meshlab downsampling -DOESNT WORK"
   ]
  },
  {
   "cell_type": "code",
   "execution_count": null,
   "metadata": {},
   "outputs": [],
   "source": [
    "\n",
    "print('input mesh has', mesh.vertex_number(), 'vertex and', mesh.face_number(), 'faces')\n",
    "\n",
    "\n",
    "#Estimate number of faces to have 100+10000 vertex using Euler\n",
    "\n",
    "#Simplify the mesh. Only first simplification will be agressive\n",
    "#ms.apply_filter('simplification_quadric_edge_collapse_decimation', targetfacenum=numFaces, preservenormal=False)\n",
    "ms.apply_filter('simplification_clustering_decimation', threshold=ml.Percentage(5))\n",
    "print(\"Decimated to\", numFaces, \"faces mesh has\", ms.current_mesh().vertex_number(), \"vertex\")\n",
    "\n",
    "\n",
    "m = ms.current_mesh()\n",
    "print('output mesh has', m.vertex_number(), 'vertex and', m.face_number(), 'faces')\n",
    "ms.save_current_mesh('../output.ply')"
   ]
  },
  {
   "cell_type": "code",
   "execution_count": null,
   "metadata": {},
   "outputs": [],
   "source": [
    "print(m.face_matrix())"
   ]
  },
  {
   "cell_type": "code",
   "execution_count": null,
   "metadata": {},
   "outputs": [],
   "source": [
    "shape.CoordIndex = m.face_matrix().tolist()\n",
    "shape.Coordinates.CoordList = m.vertex_matrix().tolist()"
   ]
  },
  {
   "cell_type": "code",
   "execution_count": null,
   "metadata": {},
   "outputs": [],
   "source": []
  }
 ],
 "metadata": {
  "kernelspec": {
   "display_name": "Python 3 (ipykernel)",
   "language": "python",
   "name": "python3"
  },
  "language_info": {
   "codemirror_mode": {
    "name": "ipython",
    "version": 3
   },
   "file_extension": ".py",
   "mimetype": "text/x-python",
   "name": "python",
   "nbconvert_exporter": "python",
   "pygments_lexer": "ipython3",
   "version": "3.9.7"
  }
 },
 "nbformat": 4,
 "nbformat_minor": 4
}
