{
 "cells": [
  {
   "cell_type": "code",
   "execution_count": null,
   "id": "f45826d3",
   "metadata": {},
   "outputs": [],
   "source": [
    "# general\n",
    "import json\n",
    "import collections\n",
    "import math\n",
    "import uuid\n",
    "import random\n",
    "import pickle\n",
    "import os\n",
    "import time\n",
    "from itertools import islice\n",
    "import numpy as np\n",
    "from tqdm import tqdm_notebook as tqdm\n",
    "\n",
    "from src.geometry import sq_distance, vector_mag, sq_dist_vect\n",
    "from src.elements import *"
   ]
  },
  {
   "cell_type": "code",
   "execution_count": null,
   "id": "007b700a",
   "metadata": {},
   "outputs": [],
   "source": [
    "blueprint = 'data/sample.ifc'\n",
    "data_path = \"/mnt/c/data/3D_CAD/\"\n",
    "dist_threshold = 0.001 # distance threshold for pipe proximity\n",
    "centerline_angle_threshold = math.radians(10) # angle threshold for two pipes to be considered parallel\n",
    "centerline_dist_threshold = 0.0005 # centerline distance threshold pipes to be to considered connected"
   ]
  },
  {
   "cell_type": "code",
   "execution_count": null,
   "id": "598d370f",
   "metadata": {},
   "outputs": [],
   "source": [
    "# load data\n",
    "with open(data_path + 'edges_westdeckbox.pkl', 'rb') as f:\n",
    "    edges = pickle.load(f)\n",
    "with open(data_path + 'nodes_westdeckbox.pkl', 'rb') as f:\n",
    "    node_info = pickle.load(f)\n",
    "    nodes = node_info[0]\n",
    "    \n"
   ]
  },
  {
   "cell_type": "code",
   "execution_count": null,
   "id": "60d77c06",
   "metadata": {},
   "outputs": [],
   "source": [
    "print(nodes[0], edges[0])"
   ]
  },
  {
   "cell_type": "code",
   "execution_count": null,
   "id": "08b5c384",
   "metadata": {},
   "outputs": [],
   "source": [
    "e1 = [e[0] for e in edges]\n",
    "e2 = [e[1] for e in edges]\n",
    "print(max(e1), max(e2))\n",
    "print(len(nodes))\n",
    "print(len(edges))"
   ]
  },
  {
   "cell_type": "code",
   "execution_count": null,
   "id": "35a76f85",
   "metadata": {},
   "outputs": [],
   "source": [
    "print(type(nodes[0][3]))"
   ]
  },
  {
   "cell_type": "code",
   "execution_count": null,
   "id": "564ee656",
   "metadata": {},
   "outputs": [],
   "source": [
    "# find closest pair of edges satisfying a minimum distance criteria\n",
    "def edge_proximity_criteria(e1, e2, threshold):\n",
    "    nearby_pair = None\n",
    "    min_dist = math.inf\n",
    "    d = sq_dist_vect(e1[0], e2[0])\n",
    "    if (d < threshold):\n",
    "        nearby_pair = [0, 0]\n",
    "        min_dist = d\n",
    "    d = sq_dist_vect(e1[1], e2[0])\n",
    "    if (d < threshold and d < min_dist): \n",
    "        nearby_pair = [1, 0]\n",
    "        min_dist = d\n",
    "    d = sq_dist_vect(e1[0], e2[1])\n",
    "    if (d < threshold and d < min_dist): \n",
    "        nearby_pair = [0, 1]\n",
    "        min_dist = d    \n",
    "    d = sq_dist_vect(e1[1], e2[1]) \n",
    "    if (d < threshold and d < min_dist): \n",
    "        nearby_pair = [1, 1]\n",
    "        min_dist = d\n",
    "    return nearby_pair\n"
   ]
  },
  {
   "cell_type": "code",
   "execution_count": null,
   "id": "17839dd3",
   "metadata": {
    "scrolled": true
   },
   "outputs": [],
   "source": [
    "# get pipe neighbours\n",
    "\n",
    "# find edges of pipes\n",
    "# format - category, centerpoint, bounding box, principal direction, element id\n",
    "pipes = [[n[0], np.array(n[1]), np.array(n[2]), np.array(n[3]), n[4]] for n in nodes if n[0]==3]\n",
    "pipe_edges = [(n[1] - (max(n[2])/2 * n[3]),\n",
    "               n[1] + (max(n[2])/2 * n[3])) for n in pipes]\n",
    "# print(len(pipe_edges))\n",
    "# print(pipe_edges[0])\n",
    "\n",
    "# compare edges to find close-by edges\n",
    "nearby_edges = []\n",
    "for i, pe1 in tqdm(enumerate(pipe_edges)):\n",
    "    t1 = time.perf_counter()\n",
    "    for j, pe2 in enumerate(pipe_edges[i+1:]):\n",
    "        nearby_pair = edge_proximity_criteria(pe1, pe2, dist_threshold)\n",
    "        if nearby_pair is not None:\n",
    "            nearby_edges.append(((i,j+i+1), nearby_pair))\n",
    "    t2 = time.perf_counter()\n",
    "    if (t2 - t2) > 0.1:\n",
    "        print((t2 - t1), nearby_pair, min_dist)            \n",
    "print(len(nearby_edges), nearby_edges[0])"
   ]
  },
  {
   "cell_type": "code",
   "execution_count": null,
   "id": "3b58ebb9",
   "metadata": {},
   "outputs": [],
   "source": [
    "print(pipe_edges[0])\n",
    "print(pipes[10])"
   ]
  },
  {
   "cell_type": "code",
   "execution_count": null,
   "id": "a07d4867",
   "metadata": {},
   "outputs": [],
   "source": [
    "nearby_edges[:10]"
   ]
  },
  {
   "cell_type": "code",
   "execution_count": null,
   "id": "88bd2d82",
   "metadata": {},
   "outputs": [],
   "source": [
    "def edge_match(a, b):\n",
    "    e = None\n",
    "    if (a[0][0] == b[0][0] and a[1][0] == b[1][0]):\n",
    "        e = 1\n",
    "    elif (a[0][1] == b[0][0] and a[1][1] == b[1][0]):\n",
    "        e = 0\n",
    "    elif (a[0][0] == b[0][1] and a[1][0] == b[1][1]):\n",
    "        e = 1\n",
    "    elif (a[0][1] == b[0][1] and a[1][1] == b[1][1]):\n",
    "        e = 0\n",
    "    \n",
    "    if e is not None:\n",
    "        return ((a[0][e], b[0][0], b[0][1]), (a[1][e], b[1][0], b[1][1]))\n",
    "    else:\n",
    "        return None"
   ]
  },
  {
   "cell_type": "code",
   "execution_count": null,
   "id": "3f9867f3",
   "metadata": {},
   "outputs": [],
   "source": [
    "# rough check for tees\n",
    "possible_tees = []\n",
    "for i, ne1 in tqdm(enumerate(nearby_edges)):\n",
    "    for j, ne2 in enumerate(nearby_edges[i+1:]):\n",
    "        pt = edge_match(ne1, ne2)\n",
    "        if pt is not None:\n",
    "            possible_tees.append(pt)\n",
    "            \n",
    "print(len(possible_tees), possible_tees[0])"
   ]
  },
  {
   "cell_type": "code",
   "execution_count": null,
   "id": "74472f8f",
   "metadata": {},
   "outputs": [],
   "source": [
    "def pipe_check(a, b):\n",
    "    # centerline direction check -\n",
    "    centerline_deviation = np.arccos( np.dot(a[3], b[3]))\n",
    "    if centerline_deviation > np.pi/2:\n",
    "        centerline_deviation = np.pi - centerline_deviation\n",
    "    if centerline_deviation < centerline_angle_threshold:\n",
    "        return True\n",
    "    \n",
    "def elbow_check(a, b):\n",
    "    # centerline proximity check\n",
    "    centerline_connecting_line = np.cross(a[3], b[3])\n",
    "    edge_connecting_line = b[1] - a[1]\n",
    "    centerline_distance = (abs(np.dot(centerline_connecting_line, \n",
    "                                          edge_connecting_line)) / \n",
    "                           vector_mag(centerline_connecting_line))\n",
    "\n",
    "    if centerline_distance < centerline_dist_threshold:\n",
    "        return True"
   ]
  },
  {
   "cell_type": "code",
   "execution_count": null,
   "id": "39e4d9e5",
   "metadata": {},
   "outputs": [],
   "source": [
    "# check for tees\n",
    "# if two of the elements seem to be connected in a straight line and the other is placed like an elbow, its considered a tee\n",
    "tee_connections = []\n",
    "for i, pt in tqdm(enumerate(possible_tees)):\n",
    "    pipe_connection = False\n",
    "    if pipe_check(pipes[pt[0][0]], pipes[pt[0][1]]):\n",
    "        pipe_connection = True\n",
    "        pipe_pair = [0,1]\n",
    "        other = 2\n",
    "    if pipe_check(pipes[pt[0][0]], pipes[pt[0][2]]):\n",
    "        pipe_connection = True\n",
    "        pipe_pair = [0,2]\n",
    "        other = 1\n",
    "    if pipe_check(pipes[pt[0][1]], pipes[pt[0][2]]):\n",
    "        pipe_connection = True\n",
    "        pipe_pair = [1,2]\n",
    "        other = 0\n",
    "        \n",
    "    if pipe_connection:\n",
    "        if elbow_check(pipes[pt[0][pipe_pair[0]]], pipes[pt[0][other]]):\n",
    "            tee_connections.append((pt, pipe_pair, other))\n",
    "            \n",
    "print(len(tee_connections), tee_connections[0])\n",
    "        "
   ]
  },
  {
   "cell_type": "code",
   "execution_count": null,
   "id": "5e2f50cb",
   "metadata": {},
   "outputs": [],
   "source": [
    "# check for elbows or connected pipes\n",
    "pipe_connections = []\n",
    "elbow_connections = []\n",
    "for i, ne in enumerate(nearby_edges): \n",
    "\n",
    "    if pipe_check(ne[0], ne[1]):\n",
    "        pipe_connections.append(ne)\n",
    "        continue\n",
    "    \n",
    "    if elbow_check(ne[0], ne[1]):\n",
    "        elbow_connections.append(ne)\n",
    "            \n",
    "        \n",
    "\n",
    "\n",
    "\n",
    "\n",
    "\n",
    "\n",
    "# remove detected tees"
   ]
  },
  {
   "cell_type": "code",
   "execution_count": null,
   "id": "e7f67dee",
   "metadata": {},
   "outputs": [],
   "source": [
    "# check for elbows\n"
   ]
  },
  {
   "cell_type": "code",
   "execution_count": null,
   "id": "4fbb3ef2",
   "metadata": {},
   "outputs": [],
   "source": [
    "def get_radius_from_bbox(bbox):\n",
    "    sides = bbox[bbox.argsort()[:2]]\n",
    "    return (sum(sides)/4)\n"
   ]
  },
  {
   "cell_type": "code",
   "execution_count": null,
   "id": "c1b99daf",
   "metadata": {},
   "outputs": [],
   "source": [
    "# checking and visualisation\n",
    "\n",
    "elbows = [[n[0], np.array(n[1]), np.array(n[2]), np.array(n[3]), n[4]] for n in nodes if n[0]==1]\n",
    "tees = [[n[0], np.array(n[1]), np.array(n[2]), np.array(n[3]), n[4]] for n in nodes if n[0]==2]\n",
    "\n",
    "print(len(tees))\n",
    "\n",
    "def visualise_tees(tee_connections, blueprint):\n",
    "    # setup ifc\n",
    "    ifc = setup_ifc_file(blueprint)\n",
    "    owner_history = ifc.by_type(\"IfcOwnerHistory\")[0]\n",
    "    project = ifc.by_type(\"IfcProject\")[0]\n",
    "    context = ifc.by_type(\"IfcGeometricRepresentationContext\")[0]\n",
    "    floor = ifc.by_type(\"IfcBuildingStorey\")[0]\n",
    "\n",
    "    ifc_info = {\"owner_history\": owner_history,\n",
    "        \"project\": project,\n",
    "       \"context\": context, \n",
    "       \"floor\": floor}\n",
    "    \n",
    "    # calculate tee parameters\n",
    "    for tee in tee_connections[:1]:\n",
    "        pipe_pair_ids = [tee[0][0][tee[1][0]], tee[0][0][tee[1][1]]]\n",
    "        pipe_pair = (pipes[pipe_pair_ids[0]], pipes[pipe_pair_ids[1]])\n",
    "        other_id = tee[0][0][tee[2]]\n",
    "        other = pipes[other_id]\n",
    "        pipe_edge_ids = [tee[0][1][tee[1][0]], tee[0][1][tee[1][1]]]\n",
    "        other_edge_id = tee[0][1][tee[2]]\n",
    "        \n",
    "        r1 = (get_radius_from_bbox(pipe_pair[0][2]) + get_radius_from_bbox(pipe_pair[1][2]))/2\n",
    "        r2 = get_radius_from_bbox(other[2])\n",
    "        print('r', r1, r2)     \n",
    "\n",
    "        l1_edges = [pipe_edges[pipe_pair_ids[0]][pipe_edge_ids[0]], \n",
    "                    pipe_edges[pipe_pair_ids[1]][pipe_edge_ids[1]]]\n",
    "        l1 = np.sqrt(sq_dist_vect(l1_edges[0], l1_edges[1]))\n",
    "        l2_edges = [(l1_edges[0] + l1_edges[1])/2, pipe_edges[other_id][other_edge_id]]\n",
    "        l2 = np.sqrt(sq_dist_vect(l2_edges[0], l2_edges[1]))\n",
    "        print('l', l1, l2)\n",
    "\n",
    "        p1 = l1_edges[0].tolist()\n",
    "        p2 = l2_edges[0].tolist()\n",
    "        d1 = pipe_pair[0][3].tolist()\n",
    "        d2 = other[3].tolist()\n",
    "        print('pd', p1, p2, d1, d2)\n",
    "        \n",
    "        create_IfcTee(r1, r2, l1, l2, d1, d2, p1, p2, ifc, ifc_info)\n",
    "        \n",
    "    return ifc\n",
    "        "
   ]
  },
  {
   "cell_type": "code",
   "execution_count": null,
   "id": "21cea27c",
   "metadata": {
    "scrolled": false
   },
   "outputs": [],
   "source": [
    "ifc = visualise_tees(tee_connections, blueprint)"
   ]
  },
  {
   "cell_type": "code",
   "execution_count": null,
   "id": "a04b7454",
   "metadata": {},
   "outputs": [],
   "source": [
    "ifc.write(\"bp_tee_vis.ifc\")"
   ]
  },
  {
   "cell_type": "code",
   "execution_count": null,
   "id": "6cf6c069",
   "metadata": {},
   "outputs": [],
   "source": []
  }
 ],
 "metadata": {
  "kernelspec": {
   "display_name": "Python 3 (ipykernel)",
   "language": "python",
   "name": "python3"
  },
  "language_info": {
   "codemirror_mode": {
    "name": "ipython",
    "version": 3
   },
   "file_extension": ".py",
   "mimetype": "text/x-python",
   "name": "python",
   "nbconvert_exporter": "python",
   "pygments_lexer": "ipython3",
   "version": "3.9.16"
  }
 },
 "nbformat": 4,
 "nbformat_minor": 5
}
