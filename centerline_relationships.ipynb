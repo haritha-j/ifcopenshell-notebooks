{
 "cells": [
  {
   "cell_type": "code",
   "execution_count": null,
   "id": "f45826d3",
   "metadata": {},
   "outputs": [],
   "source": [
    "# general\n",
    "import json\n",
    "import collections\n",
    "import math\n",
    "import uuid\n",
    "import random\n",
    "import pickle\n",
    "import os\n",
    "from itertools import islice\n",
    "import numpy as np\n",
    "from tqdm import tqdm_notebook as tqdm\n",
    "\n",
    "from src.geometry import sq_distance, vector_mag\n"
   ]
  },
  {
   "cell_type": "code",
   "execution_count": null,
   "id": "007b700a",
   "metadata": {},
   "outputs": [],
   "source": [
    "data_path = \"/mnt/c/data/3D_CAD/\"\n",
    "dist_threshold = 0.05 # distance threshold for pipe proximity\n",
    "centerline_angle_threshold = math.radians(10) # angle threshold for two pipes to be considered parallel\n",
    "centerline_dist_threshold = 0.02 # centerline distance threshold pipes to be to considered connected"
   ]
  },
  {
   "cell_type": "code",
   "execution_count": null,
   "id": "598d370f",
   "metadata": {},
   "outputs": [],
   "source": [
    "# load data\n",
    "with open(data_path + 'edges_westdeckbox.pkl', 'rb') as f:\n",
    "    edges = pickle.load(f)\n",
    "with open(data_path + 'nodes_westdeckbox.pkl', 'rb') as f:\n",
    "    node_info = pickle.load(f)\n",
    "    nodes = node_info[0]\n",
    "    \n"
   ]
  },
  {
   "cell_type": "code",
   "execution_count": null,
   "id": "60d77c06",
   "metadata": {},
   "outputs": [],
   "source": [
    "print(nodes[0], edges[0])"
   ]
  },
  {
   "cell_type": "code",
   "execution_count": null,
   "id": "08b5c384",
   "metadata": {},
   "outputs": [],
   "source": [
    "e1 = [e[0] for e in edges]\n",
    "e2 = [e[1] for e in edges]\n",
    "print(max(e1), max(e2))\n",
    "print(len(nodes))\n",
    "print(len(edges))"
   ]
  },
  {
   "cell_type": "code",
   "execution_count": null,
   "id": "35a76f85",
   "metadata": {},
   "outputs": [],
   "source": [
    "print(type(nodes[0][3]))"
   ]
  },
  {
   "cell_type": "code",
   "execution_count": null,
   "id": "564ee656",
   "metadata": {},
   "outputs": [],
   "source": [
    "# find close-by edges\n",
    "def edge_proximity_criteria(e1, e2, threshold):\n",
    "    if ((sq_distance(e1[0][0], e1[0][1], e1[0][2], e2[0][0], e2[0][1], e2[0][2]) < threshold) or \n",
    "        (sq_distance(e1[1][0], e1[1][1], e1[1][2], e2[0][0], e2[0][1], e2[0][2]) < threshold) or \n",
    "        (sq_distance(e1[0][0], e1[0][1], e1[0][2], e2[1][0], e2[1][1], e2[1][2]) < threshold) or \n",
    "        (sq_distance(e1[1][0], e1[1][1], e1[1][2], e2[1][0], e2[0][1], e2[1][2]) < threshold)):\n",
    "        return True"
   ]
  },
  {
   "cell_type": "code",
   "execution_count": null,
   "id": "17839dd3",
   "metadata": {},
   "outputs": [],
   "source": [
    "# get pipe neighbours\n",
    "\n",
    "# find edges of pipes\n",
    "pipes = [[n[0], np.array(n[1]), np.array(n[2]), np.array(n[3]), n[4]] for n in nodes if n[0]==3]\n",
    "pipe_edges = [(n[1] - (max(n[2])/2 * n[3]),\n",
    "               n[1] + (max(n[2])/2 * n[3])) for n in pipes]\n",
    "# print(len(pipe_edges))\n",
    "# print(pipe_edges[0])\n",
    "\n",
    "# compare edges to find close-by edges\n",
    "nearby_edges = []\n",
    "for i, pe1 in tqdm(enumerate(pipe_edges)):\n",
    "    for j, pe2 in enumerate(pipe_edges[i+1:]):\n",
    "        if edge_proximity_criteria(pe1, pe2, dist_threshold):\n",
    "            nearby_edges.append((i,j))\n",
    "            \n",
    "print(len(nearby_edges), nearby_edges[0])"
   ]
  },
  {
   "cell_type": "code",
   "execution_count": null,
   "id": "3f9867f3",
   "metadata": {},
   "outputs": [],
   "source": [
    "# rough check for tees\n",
    "possible_tees = []\n",
    "for i, ne1 in tqdm(enumerate(nearby_edges)):\n",
    "    for j, ne2 in enumerate(nearby_edges[i+1:]):\n",
    "        if ((ne1[0] == ne2[0]) or \n",
    "            (ne1[1] == ne2[0]) or \n",
    "            (ne1[0] == ne2[1]) or \n",
    "            (ne1[1] == ne2[1])):\n",
    "            possible_tees.append({ne1[0], ne1[1], ne2[0], ne2[1]})\n",
    "            \n",
    "print(len(possible_tees), possible_tees[0])"
   ]
  },
  {
   "cell_type": "code",
   "execution_count": null,
   "id": "63047105",
   "metadata": {},
   "outputs": [],
   "source": [
    "lens = [len(pt) for pt in possible_tees if len(pt) !=3]\n",
    "print(lens)"
   ]
  },
  {
   "cell_type": "code",
   "execution_count": null,
   "id": "5e2f50cb",
   "metadata": {},
   "outputs": [],
   "source": [
    "# check for elbows or connected pipes\n",
    "pipe_connections = []\n",
    "elbow_connections = []\n",
    "for i, ne in enumerate(nearby_edges): # TODO filter out tees first\n",
    "    pipe = False\n",
    "\n",
    "    # centerline direction check -\n",
    "    centerline_deviation = math.acos(np.dot(ne[0][3], ne[1][3]))\n",
    "    if centerline_deviation < centerline_angle_threshold:\n",
    "        #pipe = True\n",
    "        pipe_connections.append(ne)\n",
    "                break        \n",
    "    \n",
    "    else:\n",
    "        # centerline proximity check\n",
    "        centerline_connecting_line = np.cross(ne[0][3], ne[1][3])\n",
    "        edge_connecting_line = ne[1][1] - ne[0][1]\n",
    "        centerline_distance = (math.abs(np.dot(centerline_connecting_line, \n",
    "                                              edge_connecting_line)) / \n",
    "                               vector_mag(centerline_connecting_line))\n",
    "        \n",
    "        if centerline_distance > centerline_dist_threshold:\n",
    "            elbow_connections.append(ne)\n",
    "        \n",
    "\n",
    "\n",
    "\n",
    "#check for tees\n",
    "\n",
    "\n",
    "\n",
    "# remove detected tees"
   ]
  },
  {
   "cell_type": "code",
   "execution_count": null,
   "id": "e7f67dee",
   "metadata": {},
   "outputs": [],
   "source": [
    "# check for elbows\n"
   ]
  }
 ],
 "metadata": {
  "kernelspec": {
   "display_name": "Python 3 (ipykernel)",
   "language": "python",
   "name": "python3"
  },
  "language_info": {
   "codemirror_mode": {
    "name": "ipython",
    "version": 3
   },
   "file_extension": ".py",
   "mimetype": "text/x-python",
   "name": "python",
   "nbconvert_exporter": "python",
   "pygments_lexer": "ipython3",
   "version": "3.9.16"
  }
 },
 "nbformat": 4,
 "nbformat_minor": 5
}
