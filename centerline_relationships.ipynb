{
 "cells": [
  {
   "cell_type": "markdown",
   "id": "d183cf78",
   "metadata": {},
   "source": [
    "## Identify tees and elbows using pipe centerlines"
   ]
  },
  {
   "cell_type": "markdown",
   "id": "e1d7bf8c",
   "metadata": {},
   "source": [
    "#### Setup"
   ]
  },
  {
   "cell_type": "code",
   "execution_count": null,
   "id": "f45826d3",
   "metadata": {},
   "outputs": [],
   "source": [
    "# general\n",
    "import json\n",
    "import collections\n",
    "import math\n",
    "import uuid\n",
    "import random\n",
    "import pickle\n",
    "import os\n",
    "import time\n",
    "from itertools import islice\n",
    "import numpy as np\n",
    "from tqdm.notebook import tqdm\n",
    "import open3d as o3d\n",
    "\n",
    "from src.geometry import sq_distance, vector_mag, sq_dist_vect, norm_array\n",
    "from src.visualisation import *\n",
    "from src.elements import *\n",
    "from src.chamfer import *"
   ]
  },
  {
   "cell_type": "code",
   "execution_count": null,
   "id": "007b700a",
   "metadata": {},
   "outputs": [],
   "source": [
    "blueprint = 'data/sample.ifc'\n",
    "data_path = \"/mnt/c/data/3D_CAD/\"\n"
   ]
  },
  {
   "cell_type": "code",
   "execution_count": null,
   "id": "598d370f",
   "metadata": {},
   "outputs": [],
   "source": [
    "# load data\n",
    "with open(data_path + 'edges_westdeckbox.pkl', 'rb') as f:\n",
    "    edges = pickle.load(f)\n",
    "with open(data_path + 'nodes_westdeckbox.pkl', 'rb') as f:\n",
    "    node_info = pickle.load(f)\n",
    "    nodes = node_info[0]\n",
    "    \n"
   ]
  },
  {
   "cell_type": "code",
   "execution_count": null,
   "id": "60d77c06",
   "metadata": {},
   "outputs": [],
   "source": [
    "print(len(nodes), nodes[0])\n",
    "print(len(edges), edges[0])"
   ]
  },
  {
   "cell_type": "code",
   "execution_count": null,
   "id": "b473384d",
   "metadata": {},
   "outputs": [],
   "source": [
    "# # create simplified dataset using subset\n",
    "# #subset_size = 100\n",
    "# subset_size = len(edges)\n",
    "# edges_sub = edges[:subset_size]\n",
    "\n",
    "# nodes_sub_ids = []\n",
    "# for e in edges_sub:\n",
    "#     nodes_sub_ids.append(e[0])\n",
    "#     nodes_sub_ids.append(e[1])\n",
    "# nodes_sub_ids = list(set(nodes_sub_ids))\n",
    "# nodes_sub = [nodes[i] for i in nodes_sub_ids]\n",
    "\n",
    "# print(len(nodes_sub), len(edges_sub), nodes_sub[0])\n",
    "\n",
    "# nodes = nodes_sub\n",
    "# edges = edges_sub"
   ]
  },
  {
   "cell_type": "code",
   "execution_count": null,
   "id": "08b5c384",
   "metadata": {},
   "outputs": [],
   "source": [
    "e1 = [e[0] for e in edges]\n",
    "e2 = [e[1] for e in edges]\n",
    "print(max(e1), max(e2))\n",
    "print(len(nodes))\n",
    "print(len(edges))"
   ]
  },
  {
   "cell_type": "markdown",
   "id": "fd8144c6",
   "metadata": {},
   "source": [
    "#### Detect nearby edges"
   ]
  },
  {
   "cell_type": "code",
   "execution_count": null,
   "id": "17839dd3",
   "metadata": {
    "scrolled": true
   },
   "outputs": [],
   "source": [
    "\n",
    "# find edges of pipes\n",
    "# format - category, centerpoint, bounding box, principal direction, element id\n",
    "pipe_candidates = [[n[0], np.array(n[1]), np.array(n[2]), np.array(n[3]), n[4]] for n in nodes if n[0]==3]\n",
    "\n",
    "# remove ridiculously large pipes\n",
    "pipes = []\n",
    "removed_pipes = []\n",
    "for p in pipe_candidates:\n",
    "    r = get_radius_from_bbox(p[2])\n",
    "    if (r < ridiculously_large_pipe_threshold):\n",
    "        pipes.append(p)\n",
    "    else:\n",
    "        removed_pipes.append(p)\n",
    "        \n",
    "pipe_edges = [(p[1] - (max(p[2])/2 * p[3]),\n",
    "               p[1] + (max(p[2])/2 * p[3])) for p in pipes]\n",
    "\n",
    "print(len(pipes))"
   ]
  },
  {
   "cell_type": "code",
   "execution_count": null,
   "id": "f329f40d",
   "metadata": {},
   "outputs": [],
   "source": [
    "# compare edges to find close-by edges\n",
    "count = 0\n",
    "nearby_edges = []\n",
    "for i, pe1 in tqdm(enumerate(pipe_edges)):\n",
    "    for j, pe2 in enumerate(pipe_edges[i+1:]):\n",
    "        \n",
    "        # rough radius check to check compatibility\n",
    "        if not radius_check([pipes[i],  pipes[j]], 0.2):\n",
    "            continue\n",
    "            \n",
    "        # set dynamic threshold based on avg. radius\n",
    "        r1 = get_radius_from_bbox(pipes[i][2])\n",
    "        r2 = get_radius_from_bbox(pipes[j][2])\n",
    "        dynamic_threshold = dist_threshold * (r1+r2)\n",
    "        \n",
    "        nearby_pair = edge_proximity_criteria(pe1, pe2, dynamic_threshold)\n",
    "        if nearby_pair is not None:\n",
    "            nearby_edges.append(((i,j+i+1), nearby_pair, count))\n",
    "            count += 1\n",
    "print(len(nearby_edges), nearby_edges[0])"
   ]
  },
  {
   "cell_type": "code",
   "execution_count": null,
   "id": "3b58ebb9",
   "metadata": {},
   "outputs": [],
   "source": [
    "print(pipe_edges[0])\n",
    "print(pipes[0])\n",
    "lens = [max(p[2]) for p in pipes]\n",
    "print(max(lens), min(lens), sum(lens)/len(lens))"
   ]
  },
  {
   "cell_type": "markdown",
   "id": "1e977fcd",
   "metadata": {},
   "source": [
    "#### Detect tees"
   ]
  },
  {
   "cell_type": "code",
   "execution_count": null,
   "id": "3f9867f3",
   "metadata": {},
   "outputs": [],
   "source": [
    "# rough check for tees\n",
    "possible_tees = []\n",
    "for i, ne1 in tqdm(enumerate(nearby_edges)):\n",
    "    for j, ne2 in enumerate(nearby_edges[i+1:]):\n",
    "        pt = edge_match(ne1, ne2)\n",
    "        if pt is not None:\n",
    "            possible_tees.append(pt)\n",
    "            \n",
    "print(len(possible_tees), possible_tees[0])"
   ]
  },
  {
   "cell_type": "code",
   "execution_count": null,
   "id": "39e4d9e5",
   "metadata": {},
   "outputs": [],
   "source": [
    "# check for tees\n",
    "# if two of the elements seem to be connected in a straight line and the other is placed like an elbow, its considered a tee\n",
    "tee_connections = []\n",
    "for i, pt in tqdm(enumerate(possible_tees)):\n",
    "   \n",
    "    # check for straight line connection\n",
    "    pipe_connection = False\n",
    "    if pipe_check(pipes[pt[0][0]], pipes[pt[0][1]]):\n",
    "        if elbow_check(pipes[pt[0][2]], pipes[pt[0][0]]) and elbow_check(pipes[pt[0][2]], pipes[pt[0][0]]):\n",
    "            pipe_connection = True\n",
    "            pipe_pair = [0,1]\n",
    "            other = 2\n",
    "    if pipe_check(pipes[pt[0][0]], pipes[pt[0][2]]):\n",
    "        if elbow_check(pipes[pt[0][1]], pipes[pt[0][0]]) and elbow_check(pipes[pt[0][1]], pipes[pt[0][2]]):       \n",
    "            pipe_connection = True\n",
    "            pipe_pair = [0,2]\n",
    "            other = 1\n",
    "    if pipe_check(pipes[pt[0][1]], pipes[pt[0][2]]):\n",
    "        if elbow_check(pipes[pt[0][0]], pipes[pt[0][1]]) and elbow_check(pipes[pt[0][0]], pipes[pt[0][2]]):\n",
    "            pipe_connection = True\n",
    "            pipe_pair = [1,2]\n",
    "            other = 0\n",
    "        \n",
    "    # check for angled connection\n",
    "    if pipe_connection:\n",
    "        if elbow_check(pipes[pt[0][pipe_pair[0]]], pipes[pt[0][other]]):\n",
    "            tee_connections.append((pt, pipe_pair, other))\n",
    "            \n",
    "print(len(tee_connections), tee_connections[0])\n",
    "        "
   ]
  },
  {
   "cell_type": "markdown",
   "id": "010eca09",
   "metadata": {},
   "source": [
    "#### Testing and visualisation"
   ]
  },
  {
   "cell_type": "code",
   "execution_count": null,
   "id": "21cea27c",
   "metadata": {
    "scrolled": false
   },
   "outputs": [],
   "source": [
    "tee_points, refined_tees = visualise_tees(tee_connections, blueprint, pipes, pipe_edges)\n",
    "print(refined_tees[0])"
   ]
  },
  {
   "cell_type": "code",
   "execution_count": null,
   "id": "ac9c922f",
   "metadata": {},
   "outputs": [],
   "source": [
    "tee_points = o3d.utility.Vector3dVector(tee_points)\n",
    "tee_cloud = o3d.geometry.PointCloud()\n",
    "tee_cloud.points = tee_points\n",
    "o3d.io.write_point_cloud(\"bp_tee_centerline_08.pcd\", tee_cloud)\n"
   ]
  },
  {
   "cell_type": "code",
   "execution_count": null,
   "id": "976db504",
   "metadata": {},
   "outputs": [],
   "source": [
    "pipe_points = visualise_pipes(pipes)"
   ]
  },
  {
   "cell_type": "code",
   "execution_count": null,
   "id": "805c2448",
   "metadata": {},
   "outputs": [],
   "source": [
    "pipe_points = o3d.utility.Vector3dVector(pipe_points)\n",
    "pipe_cloud = o3d.geometry.PointCloud()\n",
    "pipe_cloud.points = pipe_points\n",
    "o3d.io.write_point_cloud(\"bp_pipe_centerline.pcd\", pipe_cloud)\n"
   ]
  },
  {
   "cell_type": "markdown",
   "id": "ff5e0347",
   "metadata": {},
   "source": [
    "#### elbow test and vis"
   ]
  },
  {
   "cell_type": "code",
   "execution_count": null,
   "id": "9a15235d",
   "metadata": {},
   "outputs": [],
   "source": [
    "# filter out detected tees from nearby edges to get elbow candidates\n",
    "elbow_candidates = []\n",
    "for ne in nearby_edges:\n",
    "    edge_used = False\n",
    "    for tee in refined_tees:\n",
    "        if ne[2] in tee[0][2]:\n",
    "            edge_used = True\n",
    "            break\n",
    "    if not edge_used:\n",
    "        elbow_candidates.append(ne)\n",
    "        \n",
    "print(len(elbow_candidates), elbow_candidates[0])"
   ]
  },
  {
   "cell_type": "code",
   "execution_count": null,
   "id": "e744447f",
   "metadata": {},
   "outputs": [],
   "source": [
    "elbow_connections = []\n",
    "for ec in elbow_candidates:\n",
    "    if elbow_check(pipes[ec[0][0]], pipes[ec[0][1]], thresh=0.8, intersection_test=False):\n",
    "        elbow_connections.append(ec)\n",
    "        \n",
    "print(len(elbow_connections), elbow_candidates[0])"
   ]
  },
  {
   "cell_type": "code",
   "execution_count": null,
   "id": "341d2054",
   "metadata": {},
   "outputs": [],
   "source": [
    "elbow_subset = elbow_connections\n",
    "cl, ref_elbows = visualise_elbows(elbow_subset, pipes, pipe_edges)\n",
    "\n",
    "# connected_pipes1 = [pipes[ec[0][0]] for ec in elbow_subset]\n",
    "# connected_pipes2 = [pipes[ec[0][1]] for ec in elbow_subset]\n",
    "# print(len(ref_elbows))\n",
    "# connected_pipes = connected_pipes1 + connected_pipes2\n",
    "# cl_p = visualise_pipes(connected_pipes)\n",
    "\n",
    "# cl = np.concatenate([cl, cl_p])"
   ]
  },
  {
   "cell_type": "code",
   "execution_count": null,
   "id": "3d20d904",
   "metadata": {},
   "outputs": [],
   "source": [
    "elbow_cloud = o3d.geometry.PointCloud()\n",
    "elbow_points = o3d.utility.Vector3dVector(cl)\n",
    "elbow_cloud.points = elbow_points\n",
    "o3d.io.write_point_cloud(\"bp_elbow_centerline.pcd\", elbow_cloud)\n"
   ]
  },
  {
   "cell_type": "code",
   "execution_count": null,
   "id": "0d2a680b",
   "metadata": {},
   "outputs": [],
   "source": [
    "f = open('refined_res.pkl', 'wb')\n",
    "pickle.dump([refined_tees, ref_elbows], f)"
   ]
  },
  {
   "cell_type": "markdown",
   "id": "2c3b05fa",
   "metadata": {},
   "source": [
    "### Metrics"
   ]
  },
  {
   "cell_type": "code",
   "execution_count": null,
   "id": "c953a161",
   "metadata": {},
   "outputs": [],
   "source": [
    "# identify true positive tees and elbows using graph edges\n",
    "elbow_nodes = [i for i, n in enumerate(nodes) if n[0]==1]\n",
    "tee_nodes = [i for i, n in enumerate(nodes) if n[0]==2]\n",
    "\n",
    "# print(elbow_nodes[0])\n",
    "# print(tee_nodes[0])\n",
    "\n",
    "tp_tees, tp_elbows = [], []\n",
    "\n",
    "# for tn in tee_nodes:\n",
    "#     tee_edges = []\n",
    "#     for e in edges:\n",
    "#         # if the relationship contains the tee, add the other element to list of tee_edges, if it is a pipe\n",
    "#         if tn == e[0]:\n",
    "#             if nodes[e[1]][0] == 3:\n",
    "#                 tee_edges.append(e[1])\n",
    "#         elif tn == e[1]:\n",
    "#             if nodes[e[0]][0] == 3:\n",
    "#                 tee_edges.append(e[0])\n",
    "#     tp_tees.append(tee_edges)\n",
    "\n",
    "# l = [len(t) for t in tp_tees]\n",
    "# print(l)\n",
    "\n",
    "for en in elbow_nodes:\n",
    "    elbow_edges = []\n",
    "    for e in edges:\n",
    "        # if the relationship contains the elbow, add the other element to list of elbow_edges, if it is a pipe\n",
    "        if en == e[0]:\n",
    "            if nodes[e[1]][0] == 3 or True:\n",
    "                elbow_edges.append(e[1])\n",
    "        elif en == e[1]:\n",
    "            if nodes[e[0]][0] == 3 or True:\n",
    "                elbow_edges.append(e[0])\n",
    "    tp_elbows.append(elbow_edges)\n",
    "\n",
    "\n",
    "l = [len(e) for e in tp_elbows]\n",
    "print(l)\n"
   ]
  },
  {
   "cell_type": "code",
   "execution_count": null,
   "id": "f2f57271",
   "metadata": {},
   "outputs": [],
   "source": [
    "print(sum(l), len(l))"
   ]
  },
  {
   "cell_type": "code",
   "execution_count": null,
   "id": "41186202",
   "metadata": {},
   "outputs": [],
   "source": [
    "\"\"\"\n",
    "solutions for lack of annotations: \n",
    "1. check for existence of elements instead connections - something like bounding box overlap\n",
    "2. visualise the issue first using the ifc relationship viewer code - 1\n",
    "3. find a way to manually annotate connections - at least tees"
   ]
  },
  {
   "cell_type": "code",
   "execution_count": null,
   "id": "6cf6c069",
   "metadata": {},
   "outputs": [],
   "source": [
    "print(nodes[edges[0][0]])"
   ]
  },
  {
   "cell_type": "code",
   "execution_count": null,
   "id": "ac85e817",
   "metadata": {},
   "outputs": [],
   "source": [
    "# visualise the annotations to check for errors - code taken from graph experiments notebook TOFDO:organize code\n",
    "ifc = ifcopenshell.open(data_path + \"merged.ifc\")"
   ]
  },
  {
   "cell_type": "code",
   "execution_count": null,
   "id": "9a06c31d",
   "metadata": {},
   "outputs": [],
   "source": [
    "create_guid = lambda: ifcopenshell.guid.compress(uuid.uuid1().hex)\n",
    "owner_history = ifc.by_type(\"IfcOwnerHistory\")[0]\n",
    "project = ifc.by_type(\"IfcProject\")[0]\n",
    "context = ifc.by_type(\"IfcGeometricRepresentationContext\")[0]\n",
    "floor = ifc.by_type(\"IfcBuildingStorey\")[0]\n",
    "\n",
    "red = ifc.createIfcColourRgb('red', Red=0.9, Green=0.0, Blue=0.0)\n",
    "green = ifc.createIfcColourRgb('green', Red=0.0, Green=0.9, Blue=0.0)\n",
    "yellow = ifc.createIfcColourRgb('yellow', Red=0.9, Green=0.9, Blue=0.0)\n",
    "\n",
    "# visualize results on ifc file\n",
    "def draw_predictions(preds, nodes, ifc, colour):\n",
    "    for pair in tqdm(preds):\n",
    "        element1 = ifc.by_id(nodes[pair[0]][4])\n",
    "        element1_name = element1.Name\n",
    "        element2 = ifc.by_id(nodes[pair[1]][4])\n",
    "        element2_name = element2.Name\n",
    "        \n",
    "        draw_relationship(element1_name, element1, element2_name, \n",
    "                          element2, ifc, floor, owner_history, context, colour)"
   ]
  },
  {
   "cell_type": "code",
   "execution_count": null,
   "id": "61f6b059",
   "metadata": {},
   "outputs": [],
   "source": [
    "draw_predictions(edges, nodes, ifc, green)\n"
   ]
  },
  {
   "cell_type": "code",
   "execution_count": null,
   "id": "6bc7b65d",
   "metadata": {},
   "outputs": [],
   "source": [
    "ifc.write('annotations_bp_vis_test.ifc')"
   ]
  },
  {
   "cell_type": "code",
   "execution_count": null,
   "id": "cc296e0c",
   "metadata": {},
   "outputs": [],
   "source": []
  }
 ],
 "metadata": {
  "kernelspec": {
   "display_name": "Python 3 (ipykernel)",
   "language": "python",
   "name": "python3"
  },
  "language_info": {
   "codemirror_mode": {
    "name": "ipython",
    "version": 3
   },
   "file_extension": ".py",
   "mimetype": "text/x-python",
   "name": "python",
   "nbconvert_exporter": "python",
   "pygments_lexer": "ipython3",
   "version": "3.9.7"
  }
 },
 "nbformat": 4,
 "nbformat_minor": 5
}
