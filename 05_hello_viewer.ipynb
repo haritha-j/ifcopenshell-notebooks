{
 "cells": [
  {
   "cell_type": "markdown",
   "metadata": {},
   "source": [
    "# The Viewer Component\n",
    "The interactive viewer for IFC models has been extended from Thomas Paviots' excellent [JupyterRenderer](https://github.com/tpaviot/pythonocc-core/blob/master/src/Display/WebGl/jupyter_renderer.py) and offeres a number of functionalities:"
   ]
  },
  {
   "cell_type": "code",
   "execution_count": 9,
   "metadata": {},
   "outputs": [
    {
     "name": "stdout",
     "output_type": "stream",
     "text": [
      "The autoreload extension is already loaded. To reload it, use:\n",
      "  %reload_ext autoreload\n"
     ]
    }
   ],
   "source": [
    "%load_ext autoreload\n",
    "%autoreload 2"
   ]
  },
  {
   "cell_type": "code",
   "execution_count": 52,
   "metadata": {},
   "outputs": [],
   "source": [
    "import ifcopenshell\n",
    "import json\n",
    "import collections\n",
    "from ifcopenshell.util.selector import Selector\n",
    "from utils.JupyterIFCRenderer import JupyterIFCRenderer\n"
   ]
  },
  {
   "cell_type": "code",
   "execution_count": 45,
   "metadata": {},
   "outputs": [],
   "source": [
    "m = ifcopenshell.open(\"../FM.ifc\")\n",
    "system_dict_file = \"../WestDeckBox.nwd_aggregation.json\"\n",
    "#m = ifcopenshell.open(\"data/231110AC-11-Smiley-West-04-07-2007.ifc\")k"
   ]
  },
  {
   "cell_type": "markdown",
   "metadata": {},
   "source": [
    "## Identify aggrgegation relationships"
   ]
  },
  {
   "cell_type": "code",
   "execution_count": 41,
   "metadata": {},
   "outputs": [
    {
     "name": "stdout",
     "output_type": "stream",
     "text": [
      "West-DeckBox-Support.rvm 57062\n",
      "West-DeckBox-Electrical.rvm 32334\n",
      "West-DeckBox-Structure.rvm 19892\n",
      "West-DeckBox-Instrumentation.rvm 37549\n",
      "West-DeckBox-Pipe.rvm 33565\n",
      "West-DeckBox-Mechanical.rvm 31107\n",
      "West-DeckBox-Architecture.rvm 11181\n",
      "West-DeckBox-Safety.rvm 2638\n",
      "West-DeckBox-HVAC.rvm 7749\n"
     ]
    }
   ],
   "source": [
    "\n",
    "def flatten(d, parent_key='', sep='_'):\n",
    "    items = []\n",
    "    for k, v in d.items():\n",
    "        new_key = parent_key + sep + k if parent_key else k\n",
    "        #print(type(v))\n",
    "        if isinstance(v, list):\n",
    "            for i, el in enumerate(v):\n",
    "                new_key_2 = new_key + sep + str(i)\n",
    "                if isinstance(el, collections.MutableMapping):\n",
    "                    items.extend(flatten(el, new_key_2, sep=sep))\n",
    "                else:\n",
    "                    \n",
    "                    items.append(el)\n",
    "        elif isinstance(v, collections.MutableMapping):\n",
    "            #print(v)\n",
    "            items.extend(flatten(v, new_key, sep=sep))\n",
    "        else:\n",
    "            print(type(v))\n",
    "            items.append(v)\n",
    "    return (items)\n",
    "\n",
    "\n",
    "def getSystems(system_dict_file):\n",
    "    f = open(system_dict_file)\n",
    "    system_dict = json.load(f)\n",
    "    root = list(system_dict.keys())[0]\n",
    "    out_dict = {}\n",
    "\n",
    "    for sys in system_dict[root]:\n",
    "        sys_name = list(sys.keys())[0]\n",
    "        \n",
    "        out_dict[sys_name] = flatten(sys)\n",
    "        print(sys_name, len(out_dict[sys_name]))\n",
    "        \n",
    "\n",
    "getSystems(system_dict_file)    \n",
    "    \n",
    "    "
   ]
  },
  {
   "cell_type": "markdown",
   "metadata": {},
   "source": [
    "To invoke it we have to import the models residing in the local `utils` folder."
   ]
  },
  {
   "cell_type": "code",
   "execution_count": 46,
   "metadata": {},
   "outputs": [
    {
     "data": {
      "application/vnd.jupyter.widget-view+json": {
       "model_id": "01fb620f26f64846876c85e76364d883",
       "version_major": 2,
       "version_minor": 0
      },
      "text/plain": [
       "HBox(children=(VBox(children=(HBox(children=(Checkbox(value=True, description='Axes', layout=Layout(height='au…"
      ]
     },
     "metadata": {},
     "output_type": "display_data"
    },
    {
     "data": {
      "text/plain": []
     },
     "execution_count": 46,
     "metadata": {},
     "output_type": "execute_result"
    }
   ],
   "source": [
    "viewer = JupyterIFCRenderer(m, size=(400,300))\n",
    "viewer"
   ]
  },
  {
   "cell_type": "markdown",
   "metadata": {},
   "source": [
    "### colour by system"
   ]
  },
  {
   "cell_type": "code",
   "execution_count": 57,
   "metadata": {},
   "outputs": [
    {
     "name": "stdout",
     "output_type": "stream",
     "text": [
      "[#217510=IfcPipeSegment('3ELBYKoMX93QrK7TjQe0eV',#42,'Rohrtypen:Kupfer - Hartgelötet:7718880',$,'Rohrtypen:Kupfer - Hartgelötet',#217494,#217507,'7718880',.NOTDEFINED.)]\n"
     ]
    }
   ],
   "source": [
    "element_name = 'Rohrtypen:Kupfer - Hartgelötet:7718880'\n",
    "selector = Selector()\n",
    "elements = selector.parse(m, '.IfcProduct[Name *= \"' + element_name + '\"]')\n",
    "print(elements)\n",
    "colour = \"#ff0000\"\n",
    "\n",
    "viewer.setColor(elements[0], colour)"
   ]
  },
  {
   "cell_type": "markdown",
   "metadata": {},
   "source": [
    "Instances of building elements with represenations can be selected interactivly. Information such as the attributes `GUID`, `Name` etc. are displayed to the left of the 3D viewport."
   ]
  },
  {
   "cell_type": "code",
   "execution_count": 48,
   "metadata": {},
   "outputs": [],
   "source": [
    "viewer.setDefaultColors()"
   ]
  },
  {
   "cell_type": "markdown",
   "metadata": {},
   "source": [
    "## Selecting instances \n",
    "\n",
    "The instance object currently selected in the 3D view can be assigned to a avariable using the `.getSelectedProduct()` method. \n",
    "\n",
    "Provding the plain varialbe name call sthe `Display()`-method of the instance and prints the line of the original ifc-Datei the  [SPFF-format](https://en.wikipedia.org/wiki/ISO_10303-21).\n"
   ]
  },
  {
   "cell_type": "code",
   "execution_count": 47,
   "metadata": {},
   "outputs": [
    {
     "data": {
      "text/plain": [
       "#217510=IfcPipeSegment('3ELBYKoMX93QrK7TjQe0eV',#42,'Rohrtypen:Kupfer - Hartgelötet:7718880',$,'Rohrtypen:Kupfer - Hartgelötet',#217494,#217507,'7718880',.NOTDEFINED.)"
      ]
     },
     "execution_count": 47,
     "metadata": {},
     "output_type": "execute_result"
    }
   ],
   "source": [
    "selection = viewer.getSelectedProduct()\n",
    "selection"
   ]
  },
  {
   "cell_type": "markdown",
   "metadata": {},
   "source": [
    "## Show / Hide Objects\n",
    "Programatically or interactively selected projects can be hidden or shown in the viewer using `setVisible()`.\n"
   ]
  },
  {
   "cell_type": "code",
   "execution_count": null,
   "metadata": {},
   "outputs": [],
   "source": [
    "viewer.setVisible(selection, False)\n",
    "viewer"
   ]
  },
  {
   "cell_type": "markdown",
   "metadata": {},
   "source": [
    "Opening elements are displayed by default. Let's hide them."
   ]
  },
  {
   "cell_type": "code",
   "execution_count": null,
   "metadata": {},
   "outputs": [],
   "source": [
    "for opening in m.by_type(\"IfcOpeningElement\"):\n",
    "    viewer.setVisible(opening, False)"
   ]
  },
  {
   "cell_type": "markdown",
   "metadata": {},
   "source": [
    "## Coloring Objects\n",
    "Objects can be colored either by hexadicimal numbers provided as strings as they are common in e.g. in HTML and CSS and can be retrieved from many ressources"
   ]
  },
  {
   "cell_type": "code",
   "execution_count": 55,
   "metadata": {},
   "outputs": [
    {
     "ename": "AttributeError",
     "evalue": "'NoneType' object has no attribute 'material'",
     "output_type": "error",
     "traceback": [
      "\u001b[0;31m---------------------------------------------------------------------------\u001b[0m",
      "\u001b[0;31mAttributeError\u001b[0m                            Traceback (most recent call last)",
      "Input \u001b[0;32mIn [55]\u001b[0m, in \u001b[0;36m<cell line: 1>\u001b[0;34m()\u001b[0m\n\u001b[0;32m----> 1\u001b[0m \u001b[43mviewer\u001b[49m\u001b[38;5;241;43m.\u001b[39;49m\u001b[43msetColorSelected\u001b[49m\u001b[43m(\u001b[49m\u001b[38;5;124;43m\"\u001b[39;49m\u001b[38;5;124;43mdff0000\u001b[39;49m\u001b[38;5;124;43m\"\u001b[39;49m\u001b[43m)\u001b[49m\n\u001b[1;32m      2\u001b[0m viewer\n",
      "File \u001b[0;32m~/documents/ifc/ifcopenshell-notebooks/utils/JupyterIFCRenderer.py:127\u001b[0m, in \u001b[0;36mJupyterIFCRenderer.setColorSelected\u001b[0;34m(self, color)\u001b[0m\n\u001b[1;32m    125\u001b[0m shp \u001b[38;5;241m=\u001b[39m \u001b[38;5;28mself\u001b[39m\u001b[38;5;241m.\u001b[39m_current_shape_selection\n\u001b[1;32m    126\u001b[0m \u001b[38;5;66;03m# print(self._current_shape_selection.colors)\u001b[39;00m\n\u001b[0;32m--> 127\u001b[0m \u001b[38;5;28mprint\u001b[39m(\u001b[38;5;28;43mself\u001b[39;49m\u001b[38;5;241;43m.\u001b[39;49m\u001b[43m_current_mesh_selection\u001b[49m\u001b[38;5;241;43m.\u001b[39;49m\u001b[43mmaterial\u001b[49m\u001b[38;5;241m.\u001b[39mcolor)\n\u001b[1;32m    128\u001b[0m \u001b[38;5;28mself\u001b[39m\u001b[38;5;241m.\u001b[39m_current_mesh_selection\u001b[38;5;241m.\u001b[39mmaterial\u001b[38;5;241m.\u001b[39mcolor \u001b[38;5;241m=\u001b[39m color\n",
      "\u001b[0;31mAttributeError\u001b[0m: 'NoneType' object has no attribute 'material'"
     ]
    }
   ],
   "source": [
    "\n",
    "viewer.setColorSelected(\"#ddffaa\")\n",
    "viewer"
   ]
  },
  {
   "cell_type": "markdown",
   "metadata": {},
   "source": [
    "If you do not happen to have a color in mind  just call a color picker from the viewer:"
   ]
  },
  {
   "cell_type": "code",
   "execution_count": 53,
   "metadata": {},
   "outputs": [
    {
     "ename": "AttributeError",
     "evalue": "'JupyterIFCRenderer' object has no attribute 'colorPicker'",
     "output_type": "error",
     "traceback": [
      "\u001b[0;31m---------------------------------------------------------------------------\u001b[0m",
      "\u001b[0;31mAttributeError\u001b[0m                            Traceback (most recent call last)",
      "Input \u001b[0;32mIn [53]\u001b[0m, in \u001b[0;36m<cell line: 1>\u001b[0;34m()\u001b[0m\n\u001b[0;32m----> 1\u001b[0m picker \u001b[38;5;241m=\u001b[39m \u001b[43mviewer\u001b[49m\u001b[38;5;241;43m.\u001b[39;49m\u001b[43mcolorPicker\u001b[49m()\n\u001b[1;32m      2\u001b[0m picker\n",
      "\u001b[0;31mAttributeError\u001b[0m: 'JupyterIFCRenderer' object has no attribute 'colorPicker'"
     ]
    }
   ],
   "source": [
    "picker = viewer.colorPicker()\n",
    "picker"
   ]
  },
  {
   "cell_type": "code",
   "execution_count": null,
   "metadata": {},
   "outputs": [],
   "source": [
    "viewer.setColorSelected(picker.value)"
   ]
  },
  {
   "cell_type": "markdown",
   "metadata": {},
   "source": [
    "### Default colors\n",
    "a number of colors has been defined as a fallback palette and can be called using `viewer.setDefaultColors()`"
   ]
  },
  {
   "cell_type": "code",
   "execution_count": null,
   "metadata": {},
   "outputs": [],
   "source": [
    "viewer.setDefaultColors()"
   ]
  },
  {
   "cell_type": "code",
   "execution_count": null,
   "metadata": {},
   "outputs": [],
   "source": [
    "viewer"
   ]
  },
  {
   "cell_type": "code",
   "execution_count": null,
   "metadata": {},
   "outputs": [],
   "source": []
  },
  {
   "cell_type": "code",
   "execution_count": null,
   "metadata": {},
   "outputs": [],
   "source": []
  }
 ],
 "metadata": {
  "kernelspec": {
   "display_name": "Python 3 (ipykernel)",
   "language": "python",
   "name": "python3"
  },
  "language_info": {
   "codemirror_mode": {
    "name": "ipython",
    "version": 3
   },
   "file_extension": ".py",
   "mimetype": "text/x-python",
   "name": "python",
   "nbconvert_exporter": "python",
   "pygments_lexer": "ipython3",
   "version": "3.9.7"
  }
 },
 "nbformat": 4,
 "nbformat_minor": 4
}
