{
 "cells": [
  {
   "cell_type": "markdown",
   "metadata": {
    "id": "NpvL68OfBEQC"
   },
   "source": [
    "# Element Parameter Detection"
   ]
  },
  {
   "cell_type": "markdown",
   "metadata": {
    "id": "-z7n_pw4SMWl"
   },
   "source": [
    "## Setup"
   ]
  },
  {
   "cell_type": "code",
   "execution_count": 1,
   "metadata": {
    "id": "TJ47VNF7fmTS",
    "scrolled": true
   },
   "outputs": [
    {
     "name": "stdout",
     "output_type": "stream",
     "text": [
      "Jupyter environment detected. Enabling Open3D WebVisualizer.\n",
      "[Open3D INFO] WebRTC GUI backend enabled.\n",
      "[Open3D INFO] WebRTCWindowSystem: HTTP handshake server disabled.\n",
      "Loaded JIT 3D CUDA emd\n"
     ]
    }
   ],
   "source": [
    "%load_ext autoreload\n",
    "\n",
    "import numpy as np\n",
    "import math\n",
    "import random\n",
    "import os\n",
    "import os.path\n",
    "import torch\n",
    "import sys\n",
    "import copy\n",
    "import pickle\n",
    "import importlib\n",
    "import torch.nn as nn\n",
    "import time\n",
    "import functorch\n",
    "from numpy.random import default_rng\n",
    "from tqdm.notebook import tqdm\n",
    "from ipywidgets import interact \n",
    "import gc\n",
    "\n",
    "from torch.utils.data import Dataset, DataLoader\n",
    "import torch.nn.functional as F\n",
    "from torchvision import transforms, utils\n",
    "import matplotlib.pyplot as plt\n",
    "from chamferdist import ChamferDistance\n",
    "from pathlib import Path\n",
    "\n",
    "import ifcopenshell\n",
    "import open3d as o3d\n",
    "\n",
    "from src.elements import *\n",
    "from src.ifc import *\n",
    "from src.preparation import *\n",
    "from src.dataset import *\n",
    "from src.pointnet import *\n",
    "from src.visualisation import *\n",
    "from src.geometry import sq_distance, get_oriented_bbox_from_points\n",
    "from src.icp import icp_finetuning\n",
    "from src.chamfer import *\n",
    "from src.utils import *\n",
    "from src.plots import plot_error_graph, plot_parameter_errors\n",
    "from src.pca import testset_PCA\n",
    "from src.finetune import chamfer_fine_tune, mahalanobis_fine_tune\n",
    "from src.cloud import add_noise\n",
    "\n",
    "\n",
    "random.seed = 42\n",
    "rng = default_rng()"
   ]
  },
  {
   "cell_type": "markdown",
   "metadata": {},
   "source": [
    "### sphere morphing"
   ]
  },
  {
   "cell_type": "code",
   "execution_count": null,
   "metadata": {},
   "outputs": [],
   "source": [
    "# visualise a list of point clouds as an animation using open3d\n",
    "# use ctrl+c to copy and ctrl+v to set camera and zoom inside visualiser\n",
    "def create_point_cloud_animation(cloud_list, loss_func, save_image=False, colours=None):\n",
    "    o3d.utility.set_verbosity_level(o3d.utility.VerbosityLevel.Debug)\n",
    "    vis = o3d.visualization.Visualizer()\n",
    "    vis.create_window()\n",
    "    cloud = cloud_list[0]\n",
    "    point_cloud = o3d.geometry.PointCloud()\n",
    "    point_cloud.points = o3d.utility.Vector3dVector(cloud)\n",
    "    if colours is not None:\n",
    "        point_cloud.colors = o3d.utility.Vector3dVector(colours[0])\n",
    "    vis.add_geometry(point_cloud)\n",
    "    stops = [9,39,99,299,999]\n",
    "\n",
    "    for i in range(len(cloud_list)):\n",
    "        time.sleep(0.01 + 0.05/(i/10+1))\n",
    "        cloud = cloud_list[i]\n",
    "        point_cloud.points = o3d.utility.Vector3dVector(cloud)\n",
    "        if colours is not None:\n",
    "            point_cloud.colors = o3d.utility.Vector3dVector(colours[i])\n",
    "        vis.update_geometry(point_cloud)\n",
    "        vis.poll_events()\n",
    "        vis.update_renderer()\n",
    "        if save_image and i in stops:\n",
    "            vis.capture_screen_image(\"sphere/\" + loss_func + str(i) + \".jpg\", do_render=True)\n",
    "    vis.destroy_window()\n",
    "\n",
    "    o3d.utility.set_verbosity_level(o3d.utility.VerbosityLevel.Info)\n"
   ]
  },
  {
   "cell_type": "code",
   "execution_count": null,
   "metadata": {},
   "outputs": [],
   "source": [
    "def calc_direct(x, y):\n",
    "    return torch.sum(torch.square(x-y))"
   ]
  },
  {
   "cell_type": "code",
   "execution_count": null,
   "metadata": {},
   "outputs": [],
   "source": [
    "%autoreload 2\n",
    "\n",
    "# morph a sphere into the shape of an input point cloud\n",
    "# by optimising chamfer loss iteratively\n",
    "# total points = num_points**2\n",
    "def morph_sphere(src_pcd_tensor, num_points, iterations, learning_rate, stops=[],\n",
    "                 loss_func= \"chamfer\", measure_consistency=True, sphere=True, return_assignment=True):\n",
    "    \n",
    "    cuda = torch.device(\"cuda\")\n",
    "    if sphere:\n",
    "        # gnerate sphere\n",
    "        # Generate spherical coordinates\n",
    "        theta = np.linspace(0, 2 * np.pi, num_points)\n",
    "        phi = np.linspace(0, np.pi, num_points)\n",
    "\n",
    "        # Create a meshgrid from spherical coordinates\n",
    "        theta, phi = np.meshgrid(theta, phi)\n",
    "\n",
    "        # Convert spherical coordinates to Cartesian coordinates\n",
    "        x = np.sin(phi) * np.cos(theta)\n",
    "        y = np.sin(phi) * np.sin(theta)\n",
    "        z = np.cos(phi)\n",
    "\n",
    "        # Stack the coordinates to form a 3D point cloud and reshape to (num_points * num_points, 3)\n",
    "        sphere_points = np.stack([x, y, z], axis=-1).reshape(-1, 3)\n",
    "        sphere_points = np.array([sphere_points for i in range(len(src_pcd_tensor))])\n",
    "        sphere_points = torch.tensor(sphere_points, device=cuda, \n",
    "                                     requires_grad=True)\n",
    "    else:\n",
    "        sphere_points = torch.rand(1, num_points**2, 3, device=cuda, \n",
    "                                   dtype=torch.double, requires_grad=True)\n",
    "    \n",
    "    # optimise\n",
    "    optimizer = torch.optim.Adam([sphere_points], lr=learning_rate)\n",
    "    intermediate, losses, assingments = [], [], []\n",
    "    chamferDist = ChamferDistance()\n",
    "    assignments = []\n",
    "\n",
    "    for i in tqdm(range(iterations)):\n",
    "        optimizer.zero_grad()\n",
    "        \n",
    "        if loss_func == \"chamfer\":\n",
    "            nn = chamferDist(\n",
    "                src_pcd_tensor, sphere_points, bidirectional=True, return_nn=True)\n",
    "            loss = torch.sum(nn[1].dists) + torch.sum(nn[0].dists)\n",
    "            assignment = [nn[0].idx[:,:,0].detach().cpu().numpy(), nn[1].idx[:,:,0].detach().cpu().numpy()]\n",
    "        elif loss_func == \"emd\":\n",
    "            loss, assignment = calc_emd(sphere_points, src_pcd_tensor, 0.05, 50)\n",
    "            assignment = assignment.detach().cpu().numpy()\n",
    "        elif loss_func == \"direct\":\n",
    "            loss = calc_direct(sphere_points, src_pcd_tensor)\n",
    "            assignment = None\n",
    "        elif loss_func == \"pair\":\n",
    "            loss, assignment = get_pair_loss_clouds_tensor(src_pcd_tensor, sphere_points, add_pair_loss=True, it=i)\n",
    "        elif loss_func == \"jittery\":\n",
    "            loss = get_jittery_cd_tensor(src_pcd_tensor, sphere_points, k=1, it=i)\n",
    "        elif loss_func == \"self\":\n",
    "            loss = get_self_cd_tensor(src_pcd_tensor, sphere_points)\n",
    "        elif loss_func == \"reverse\":\n",
    "            loss, assignment = calc_reverse_weighted_cd_tensor(src_pcd_tensor, sphere_points, return_assignment=True, k=32)\n",
    "        elif loss_func == \"prob\":\n",
    "            loss, assignment = calc_pairing_probabilty_loss_tensor(src_pcd_tensor, sphere_points, k=64)\n",
    "        elif loss_func == \"balanced\":\n",
    "            loss, assignment = calc_balanced_chamfer_loss_tensor(src_pcd_tensor, sphere_points, return_assignment=True, k=32)\n",
    "        elif loss_func == \"single\":\n",
    "            loss, assignment = calc_balanced_single_chamfer_loss_tensor(src_pcd_tensor, sphere_points, return_assignment=True, k=32)\n",
    "        elif loss_func == \"infocd\":\n",
    "            loss, assignment = calc_cd_like_InfoV2(src_pcd_tensor, sphere_points, return_assignment=True)\n",
    "        else:\n",
    "            print(\"unspecified loss\")\n",
    "            \n",
    "        #print(\"a\", assignment[0].shape)\n",
    "        loss.backward()\n",
    "        optimizer.step()\n",
    "        #print(\"iteration\", i, \"loss\", loss.item())\n",
    "        \n",
    "        if i in stops:\n",
    "            intermediate.append(sphere_points.clone())\n",
    "            losses.append(loss.item())\n",
    "            if measure_consistency:\n",
    "                assignments.append(assignment)\n",
    "            \n",
    "    # calculate final chamfer loss\n",
    "    dist = chamferDist(\n",
    "                src_pcd_tensor, sphere_points, bidirectional=True)\n",
    "    emd_loss, _ = calc_emd(sphere_points, src_pcd_tensor, 0.05, 50)\n",
    "    print(\"final chamfer dist\", dist.item(), \"emd\", emd_loss.item())\n",
    "    \n",
    "    # save assignments for analysis\n",
    "#     if measure_consistency:\n",
    "#         with open(\"sphere/assignments_\" + loss_func + \".pkl\", \"wb\") as f:\n",
    "#             pickle.dump(assingments, f)\n",
    "            \n",
    "    intermediate = torch.stack(intermediate)\n",
    "    if return_assignment:\n",
    "        assignments = assignments\n",
    "        return intermediate, losses, assignments\n",
    "    return intermediate, losses"
   ]
  },
  {
   "cell_type": "code",
   "execution_count": 5,
   "metadata": {
    "scrolled": true
   },
   "outputs": [],
   "source": [
    "def run_morph(cld1_name, loss_func):\n",
    "    cuda = torch.device(\"cuda\")\n",
    "    cld1 = np.array(o3d.io.read_point_cloud(cld1_name).points)\n",
    "    src_pcd_tensor = torch.tensor([cld1], device=cuda)\n",
    "\n",
    "    iterations = 1000\n",
    "    #stops = [0, 10, 50, 100, 150, 500, 999]\n",
    "    stops = [i for i in range(0,iterations,2)]\n",
    "\n",
    "    morphed, losses = morph_sphere(src_pcd_tensor, 64, iterations, 0.01, stops, loss_func=loss_func)\n",
    "    morphed = torch.flatten(morphed, start_dim=1, end_dim=2)\n",
    "    morphed = morphed.cpu().detach().numpy()\n",
    "    #print(morphed.shape)\n",
    "\n",
    "    # save frames\n",
    "    with open(\"sphere/\" + loss_func + \".pkl\", \"wb\") as f:\n",
    "        pickle.dump(morphed, f)\n",
    "\n",
    "    with open(\"sphere/loss_\" + loss_func + \".pkl\", \"wb\") as f:\n",
    "        pickle.dump(losses, f)\n",
    "\n",
    "    # Save the PointCloud to a PCD file\n",
    "    point_cloud = o3d.geometry.PointCloud()\n",
    "    point_cloud.points = o3d.utility.Vector3dVector(morphed[-1])\n",
    "    o3d.io.write_point_cloud(\"sphere/sphere_\" + loss_func + \".pcd\", point_cloud)"
   ]
  },
  {
   "cell_type": "code",
   "execution_count": 6,
   "metadata": {},
   "outputs": [],
   "source": [
    "# cld1_name = \"sphere/chair.pcd\"\n",
    "# loss_func = \"chamfer\"\n",
    "# run_morph(cld1_name, loss_func)"
   ]
  },
  {
   "cell_type": "code",
   "execution_count": null,
   "metadata": {
    "scrolled": false
   },
   "outputs": [
    {
     "name": "stdout",
     "output_type": "stream",
     "text": [
      "balanced\n"
     ]
    }
   ],
   "source": [
    "%autoreload 2\n",
    "\n",
    "# visualise animation\n",
    "cld1_name = \"sphere/plane1.pcd\"\n",
    "visualise = True\n",
    "#loss_funcs = [ \"chamfer\", \"emd\", \"balanced\", \"reverse\", \"single\"]\n",
    "#loss_funcs = [ \"balanced\", \"single\"]\n",
    "loss_funcs = [ \"balanced\"]\n",
    "for loss_func in loss_funcs:\n",
    "    print(loss_func)\n",
    "    run_morph(cld1_name, loss_func)\n",
    "    if visualise:\n",
    "        with open(\"sphere/\" + loss_func + \".pkl\", \"rb\") as f:\n",
    "            morphed = pickle.load(f)\n",
    "        colours = visualise_density(morphed, 'plasma_r')\n",
    "        with open(\"sphere/\" + loss_func + \"_dens.pkl\", \"wb\") as f:\n",
    "            pickle.dump(colours, f)\n",
    "        #create_point_cloud_animation(cloud_list, loss_func)\n",
    "    torch.cuda.empty_cache()\n",
    "    gc.collect()"
   ]
  },
  {
   "cell_type": "code",
   "execution_count": null,
   "metadata": {
    "scrolled": true
   },
   "outputs": [],
   "source": [
    "def view_density(loss_func): \n",
    "    with open(\"sphere/\" + loss_func + \".pkl\", \"rb\") as f:\n",
    "        morphed = pickle.load(f)\n",
    "    with open(\"sphere/\" + loss_func + \"_dens.pkl\", \"rb\") as f:\n",
    "        colours = pickle.load(f)\n",
    "\n",
    "    create_point_cloud_animation(morphed, loss_func, True, colours[:,:,:3])\n",
    "    \n",
    "interact(view_density, loss_func=[ \"balanced\", \"infocd\", \"single\", \"chamfer\", \"reverse\", \"emd\", \"direct\"]); \n"
   ]
  },
  {
   "cell_type": "code",
   "execution_count": null,
   "metadata": {
    "scrolled": true
   },
   "outputs": [],
   "source": [
    "torch.cuda.empty_cache()\n",
    "gc.collect()\n",
    "\n",
    "# visualise animation\n",
    "loss_func = \"emd\"\n",
    "with open(\"sphere/\" + loss_func + \".pkl\", \"rb\") as f:\n",
    "    morphed = pickle.load(f)\n",
    "print(morphed.shape, loss_func)\n",
    "cloud_list = [m for m in morphed]\n",
    "#create_point_cloud_animation(cloud_list, loss_func)\n"
   ]
  },
  {
   "cell_type": "code",
   "execution_count": null,
   "metadata": {},
   "outputs": [],
   "source": [
    "colours = visualise_density(morphed, 'plasma_r')\n",
    "with open(\"sphere/\" + loss_func + \"_dens.pkl\", \"wb\") as f:\n",
    "    pickle.dump(colours, f)"
   ]
  },
  {
   "cell_type": "markdown",
   "metadata": {},
   "source": [
    "### Batch optimisation"
   ]
  },
  {
   "cell_type": "code",
   "execution_count": 6,
   "metadata": {},
   "outputs": [],
   "source": [
    "# batch sphere optimisation (for metrics)\n",
    "\n",
    "def sphere_morph_metrics(loss_func, shapenet_path):\n",
    "    # load shapenet test dataset\n",
    "    folders = os.listdir(shapenet_path)\n",
    "    print(loss_func)\n",
    "    cuda = torch.device(\"cuda\")\n",
    "    chamferDist = ChamferDistance()\n",
    "\n",
    "    iterations = 1001\n",
    "    stops = [i for i in range(0,1001,10)]\n",
    "    chamfer_results = np.zeros(len(stops))\n",
    "    emd_results = np.zeros(len(stops))\n",
    "    count = 0\n",
    "    assignments_folders = []\n",
    "    \n",
    "    for fl in folders:\n",
    "        files = os.listdir(shapenet_path + fl)\n",
    "        clouds = []\n",
    "        for cl in files:\n",
    "            clouds.append(np.array(o3d.io.read_point_cloud(shapenet_path + fl + \"/\" + cl).points))\n",
    "        clouds = np.array(clouds)\n",
    "        clouds = torch.tensor(clouds, device=cuda)\n",
    "        count += len(clouds)\n",
    "        #print(clouds.shape)\n",
    "\n",
    "        # optimise spheres and gather intermediate clouds\n",
    "        \n",
    "        morphed, losses, assignments = morph_sphere(clouds, 64, iterations, 0.01, stops, loss_func=loss_func, \n",
    "                                       return_assignment=True)\n",
    "        assignments_folders.append(assignments)\n",
    "\n",
    "        #calculate chamfer and EMD\n",
    "        print(morphed.shape)\n",
    "\n",
    "        # loop through stops\n",
    "        for i, mr in enumerate(tqdm(morphed)):\n",
    "            nn = chamferDist(clouds, mr, bidirectional=True, return_nn=True)\n",
    "            cd_loss = torch.sum(nn[1].dists) + torch.sum(nn[0].dists)\n",
    "            #cd_assignment = [nn[0].idx[0,:,0].detach().cpu().numpy(), nn[1].idx[0,:,0].detach().cpu().numpy()]\n",
    "            emd_loss, _ = calc_emd(clouds, mr, 0.05, 50)\n",
    "            #emd_assignment = emd_assignment.detach().cpu().numpy()\n",
    "\n",
    "            #print(cd_loss.item(), emd_loss.item())\n",
    "#             cd_assignments_cat.append(cd_assignment)\n",
    "#             emd_assignments_cat.append(emd_assignment)\n",
    "            chamfer_results[i] += cd_loss\n",
    "            emd_results[i] += emd_loss\n",
    "\n",
    "        torch.cuda.empty_cache()\n",
    "        gc.collect()\n",
    "    \n",
    "    print(count, chamfer_results[0])\n",
    "    chamfer_results = chamfer_results/count\n",
    "    emd_results = emd_results/count\n",
    "\n",
    "    # save results\n",
    "    with open(\"sphere/\" + loss_func + \"_metrics.pkl\", \"wb\") as f:\n",
    "        pickle.dump([chamfer_results, emd_results, assignments_folders], f)\n"
   ]
  },
  {
   "cell_type": "code",
   "execution_count": 7,
   "metadata": {},
   "outputs": [],
   "source": [
    "# downsample\n",
    "shapenet_path = \"/home/haritha/documents/experiments/ICCV2023-HyperCD/ShapeNetCompletion/test/complete/\"\n",
    "downsampled_path = \"/home/haritha/documents/experiments/ICCV2023-HyperCD/ShapeNetCompletion/downsample/\"\n",
    "# folders = os.listdir(shapenet_path)\n",
    "# choices = np.random.choice(len(points), 4096)\n",
    "\n",
    "# for fl in tqdm(folders):\n",
    "#     if not os.path.exists(downsampled_path+fl):\n",
    "#         os.mkdir(downsampled_path+fl)\n",
    "        \n",
    "#     files = os.listdir(shapenet_path + fl)\n",
    "#     cloud =  o3d.geometry.PointCloud()\n",
    "#     for cl in files:\n",
    "#         points = np.array(o3d.io.read_point_cloud(shapenet_path + fl + \"/\" + cl).points)\n",
    "#         points = points[choices]\n",
    "#         cloud.points = o3d.utility.Vector3dVector(points)\n",
    "#         o3d.io.write_point_cloud(downsampled_path+fl + \"/\" + cl, cloud)"
   ]
  },
  {
   "cell_type": "code",
   "execution_count": null,
   "metadata": {},
   "outputs": [
    {
     "name": "stdout",
     "output_type": "stream",
     "text": [
      "balanced\n"
     ]
    },
    {
     "data": {
      "application/vnd.jupyter.widget-view+json": {
       "model_id": "d071747c89eb4156bfbf97522fde6b35",
       "version_major": 2,
       "version_minor": 0
      },
      "text/plain": [
       "  0%|          | 0/1001 [00:00<?, ?it/s]"
      ]
     },
     "metadata": {},
     "output_type": "display_data"
    }
   ],
   "source": [
    "loss_func = \"balanced\"\n",
    "loss_func = \"balanced\"\n",
    "\n",
    "sphere_morph_metrics(loss_func, downsampled_path)"
   ]
  },
  {
   "cell_type": "code",
   "execution_count": 2,
   "metadata": {},
   "outputs": [
    {
     "name": "stdout",
     "output_type": "stream",
     "text": [
      "1 101 2 (150, 4096)\n",
      "1 101 2 (150, 4096)\n",
      "1 101 2 (150, 4096)\n",
      "1 101 2 (150, 4096)\n",
      "1 101 2 (150, 4096)\n",
      "1 101 2 (150, 4096)\n",
      "1 101 2 (150, 4096)\n",
      "1 101 2 (150, 4096)\n"
     ]
    }
   ],
   "source": [
    "# helper function to recombine batched output from balancedCD\n",
    "file_prefix = \"sphere/balanced_metrics\"\n",
    "icd_chamfer_list, icd_emd_list, icd_assignment_list = [], [], []\n",
    "\n",
    "for i in range(1,9):\n",
    "    with open(file_prefix + str(i) + \".pkl\", \"rb\") as f:\n",
    "        chamfer, emd, ass = pickle.load(f)\n",
    "        print(len(ass), len(ass[0]), len(ass[0][0]), ass[0][0][0].shape)\n",
    "        icd_chamfer_list.append(chamfer)\n",
    "        icd_emd_list.append(emd)\n",
    "        icd_assignment_list.append(ass[0])\n",
    "\n",
    "icd_assignment_list = np.array(icd_assignment_list)        \n",
    "icd_assignment_list = np.transpose(icd_assignment_list, axes=(1,2,0,3,4))\n",
    "icd_assignment_list = np.reshape(icd_assignment_list, (101, 2, 8*150, 4096))"
   ]
  },
  {
   "cell_type": "code",
   "execution_count": 3,
   "metadata": {},
   "outputs": [
    {
     "ename": "NameError",
     "evalue": "name 'infocd_cd' is not defined",
     "output_type": "error",
     "traceback": [
      "\u001b[0;31m---------------------------------------------------------------------------\u001b[0m",
      "\u001b[0;31mNameError\u001b[0m                                 Traceback (most recent call last)",
      "Input \u001b[0;32mIn [3]\u001b[0m, in \u001b[0;36m<cell line: 3>\u001b[0;34m()\u001b[0m\n\u001b[1;32m      1\u001b[0m balanced_cd \u001b[38;5;241m=\u001b[39m np\u001b[38;5;241m.\u001b[39msum(np\u001b[38;5;241m.\u001b[39marray(icd_chamfer_list), axis\u001b[38;5;241m=\u001b[39m\u001b[38;5;241m0\u001b[39m)\n\u001b[1;32m      2\u001b[0m balanced_emd \u001b[38;5;241m=\u001b[39m np\u001b[38;5;241m.\u001b[39msum(np\u001b[38;5;241m.\u001b[39marray(icd_emd_list), axis\u001b[38;5;241m=\u001b[39m\u001b[38;5;241m0\u001b[39m)\n\u001b[0;32m----> 3\u001b[0m \u001b[38;5;28mprint\u001b[39m(\u001b[43minfocd_cd\u001b[49m\u001b[38;5;241m.\u001b[39mshape)\n",
      "\u001b[0;31mNameError\u001b[0m: name 'infocd_cd' is not defined"
     ]
    }
   ],
   "source": [
    "balanced_cd = np.sum(np.array(icd_chamfer_list), axis=0)\n",
    "balanced_emd = np.sum(np.array(icd_emd_list), axis=0)\n",
    "print(balanced_emd.shape)"
   ]
  },
  {
   "cell_type": "code",
   "execution_count": 7,
   "metadata": {},
   "outputs": [],
   "source": [
    "# create plots\n",
    "loss_funcs = [\"infocd\", \"chamfer\", \"emd\", \"balanced\"]\n",
    "chamfer_list, emd_list = [], []\n",
    "for loss_func in loss_funcs:\n",
    "    if loss_func == \"balanced\":\n",
    "        continue\n",
    "    with open(\"sphere/\" + loss_func + \"_metrics.pkl\", \"rb\") as f:\n",
    "        chamfer, emd, _ = pickle.load(f)\n",
    "        chamfer_list.append(chamfer)\n",
    "        emd_list.append(emd)\n"
   ]
  },
  {
   "cell_type": "code",
   "execution_count": 9,
   "metadata": {},
   "outputs": [],
   "source": [
    "if \"balanced\" in loss_funcs:\n",
    "    chamfer_list.append(balanced_cd)\n",
    "    emd_list.append(balanced_emd)"
   ]
  },
  {
   "cell_type": "code",
   "execution_count": 46,
   "metadata": {},
   "outputs": [
    {
     "name": "stdout",
     "output_type": "stream",
     "text": [
      "EMD infocd 0.7977625020345052 chamfer 0.6761717732747395 emd 0.0029214702049891153 BALANCED 0.48426786581675213\n",
      "CD infocd 0.34422575409088113 chamfer 0.9137516937402139 emd 0.056225187202899096 balanced 0.5907473954542072\n"
     ]
    },
    {
     "data": {
      "image/png": "[encoded data removed]",
      "text/plain": [
       "<Figure size 1152x360 with 2 Axes>"
      ]
     },
     "metadata": {
      "needs_background": "light"
     },
     "output_type": "display_data"
    }
   ],
   "source": [
    "fig, axes = plt.subplots(nrows=1, ncols=2, figsize=(16, 5))\n",
    "plt.rcParams.update({'font.size': 12})\n",
    "plt.rc('xtick', labelsize=14) \n",
    "plt.rc('ytick', labelsize=14) \n",
    "loss_funcs = [\"infoCD\", \"CD\", \"EMD\", \"UniformCD\"]\n",
    "\n",
    "plot_dists(axes[1], chamfer_list, loss_funcs, \"Chamfer Distance\", \"iterations\", log=True)\n",
    "plot_dists(axes[0], emd_list, loss_funcs, \"Earth Mover's Distance\", \"iterations\", log=True)\n",
    "print(\"EMD infocd\", emd_list[0][-1], \"chamfer\", emd_list[1][-1],  \"emd\", emd_list[2][-1], \"BALANCED\", emd_list[3][-1])\n",
    "print(\"CD infocd\", chamfer_list[0][-1], \"chamfer\", chamfer_list[1][-1], \"emd\", chamfer_list[2][-1], \"balanced\", chamfer_list[3][-1])\n"
   ]
  },
  {
   "cell_type": "code",
   "execution_count": 11,
   "metadata": {},
   "outputs": [
    {
     "name": "stdout",
     "output_type": "stream",
     "text": [
      "31.848079427083334\n"
     ]
    }
   ],
   "source": [
    "print(emd_list[1][0])"
   ]
  },
  {
   "cell_type": "code",
   "execution_count": 10,
   "metadata": {},
   "outputs": [
    {
     "name": "stdout",
     "output_type": "stream",
     "text": [
      "8 101 2 (4096,)\n"
     ]
    }
   ],
   "source": [
    "print(len(ass), len(ass[0]), len(ass[0][0]), ass[0][0][0].shape)"
   ]
  },
  {
   "cell_type": "code",
   "execution_count": 12,
   "metadata": {},
   "outputs": [
    {
     "name": "stdout",
     "output_type": "stream",
     "text": [
      "8 101 2 (150, 4096, 1)\n"
     ]
    }
   ],
   "source": [
    "print(len(ass2), len(ass2[0]), len(ass2[0][0]), ass2[0][0][0].shape)"
   ]
  },
  {
   "cell_type": "code",
   "execution_count": 40,
   "metadata": {},
   "outputs": [],
   "source": [
    "# plot losses on same axis\n",
    "def plot_dists(ax, losses, labels, title, xlabel=\"point cloud index\", ylabel=\"distance (log)\", log=True):\n",
    "    x = np.arange(0, len(losses[0]))\n",
    "\n",
    "#     # scale chamfer distance to be comparable with mahalanobis\n",
    "#     max = []\n",
    "\n",
    "#     mahal_dist_max = np.max(mahal_dist_sk)\n",
    "#     chamfer_dist_max = np.max(chamfer_dist)\n",
    "#     chamfer_dist = chamfer_dist / chamfer_dist_max * mahal_dist_max\n",
    "\n",
    "    for i, loss in enumerate(losses):\n",
    "        if log:\n",
    "            ax.plot(x, np.log(loss), label=labels[i])\n",
    "        else:\n",
    "            ax.plot(x, loss, label=labels[i])\n",
    "\n",
    "    ax.set_xlabel(xlabel)\n",
    "    ax.set_ylabel(ylabel)\n",
    "    ax.set_title(title)\n",
    "    ax.legend()"
   ]
  },
  {
   "cell_type": "code",
   "execution_count": null,
   "metadata": {},
   "outputs": [],
   "source": [
    "# load losses\n",
    "# single, not batch\n",
    "loss_types = [\"reverse\", \"chamfer\", \"emd\", \"pair\"]\n",
    "losses = []\n",
    "\n",
    "for loss_func in loss_types:\n",
    "    with open(\"sphere/loss_\" + loss_func + \".pkl\", \"rb\") as f:\n",
    "        losses.append(pickle.load(f))\n",
    "        \n",
    "plot_dists(losses, loss_types, \"loss function comparison\")\n"
   ]
  },
  {
   "cell_type": "markdown",
   "metadata": {},
   "source": [
    "#### consistency"
   ]
  },
  {
   "cell_type": "code",
   "execution_count": 47,
   "metadata": {},
   "outputs": [],
   "source": [
    "# measure conssistency between forward and backward correspondences for chamfer distance\n",
    "# optionally compare against the ideal assignment, as measured by EMD\n",
    "def measure_assignment_consistency(assignment, emd=None):\n",
    "    reverse_assignment = torch.gather(assignment[0], 0, assignment[1])\n",
    "    expected = torch.arange(assignment[0].shape[0], device=torch.device(\"cuda\"))\n",
    "    consistency = torch.sum(torch.eq(expected, reverse_assignment).long())\n",
    "    print(\"consistency\", consistency.item(), len(torch.unique(assignment[0])), len(torch.unique(assignment[1])))\n",
    "    \n",
    "    if emd is not None:\n",
    "        #print(emd[:5], assignment[0][:5], assignment[1][:5])\n",
    "        emd_consistency = torch.sum(torch.eq(emd, assignment[0]).long())\n",
    "        #print(\"emd_consistency\", emd_consistency.item(), len(torch.unique(emd)))\n"
   ]
  },
  {
   "cell_type": "code",
   "execution_count": 48,
   "metadata": {},
   "outputs": [],
   "source": [
    "# measure conssistency between forward and backward correspondences for chamfer distance\n",
    "# measure number of unique assignments\n",
    "# measure rate of change of assignments\n",
    "def measure_batch_assignment_consistency(assignment, loss):\n",
    "    cuda = torch.device(\"cuda\")\n",
    "    # loop through iterations\n",
    "    consistencies = []\n",
    "    uniques = []\n",
    "    changes = []\n",
    "    for i in tqdm(range(len(assignment))):\n",
    "        \n",
    "        # check reverse consistency\n",
    "        class_assignment = torch.tensor(assignment[i], device=cuda)\n",
    "        reverse_assignment = torch.gather(class_assignment[0], 1, class_assignment[1])\n",
    "        #print(\"r\", reverse_assignment.shape)\n",
    "        expected = torch.arange(class_assignment[0].shape[1], device=cuda)\n",
    "        expected = expected.repeat(class_assignment[0].shape[0], 1)\n",
    "        #print(\"e\", expected.shape)\n",
    "        consistency = torch.sum(torch.eq(expected, reverse_assignment).long())/len(class_assignment[0])\n",
    "        consistencies.append(consistency.item())\n",
    "        \n",
    "        # check uniqueness of matches\n",
    "        unique = 0\n",
    "        for j in range(len(class_assignment[0])):\n",
    "            unique += (len(torch.unique(class_assignment[0][j])) +\n",
    "                       len(torch.unique(class_assignment[0][j])))\n",
    "        unique = (unique/len(class_assignment[0]))/2\n",
    "        uniques.append(unique)\n",
    "        \n",
    "        # check rate of change of matches\n",
    "        if i==0:\n",
    "            change = 0\n",
    "        else:\n",
    "            change = (assignment[i] == assignment[i-1]).sum()\n",
    "            change = (change/len(class_assignment[0]))/2\n",
    "        changes.append(change)\n",
    "        \n",
    "        print(\"un\", unique, \"consistency\", consistency.item(), \"change\", change)\n",
    "\n",
    "    \n",
    "    # save results\n",
    "    with open(\"sphere/\" + loss + \"_consistency.pkl\", \"wb\") as f:\n",
    "        pickle.dump([consistencies, uniques, changes], f)\n"
   ]
  },
  {
   "cell_type": "code",
   "execution_count": 40,
   "metadata": {},
   "outputs": [
    {
     "name": "stdout",
     "output_type": "stream",
     "text": [
      "(101, 2, 1200, 4096)\n"
     ]
    }
   ],
   "source": [
    "# preprocess\n",
    "loss = \"infocd\"\n",
    "#ass = np.array(ass)\n",
    "\n",
    "if loss == \"infocd\":\n",
    "    ass = np.transpose(ass, axes=(1,2,0,3,4,5))\n",
    "    ass = np.reshape(ass, (101, 2, 8*150, 4096))\n",
    "    \n",
    "if loss == \"chamfer\":\n",
    "    ass = np.transpose(ass, axes=(1,2,0,3,4))\n",
    "    ass = np.reshape(ass, (101, 2, 8*150, 4096))\n",
    "\n",
    "print(ass.shape)"
   ]
  },
  {
   "cell_type": "code",
   "execution_count": 50,
   "metadata": {
    "scrolled": true
   },
   "outputs": [
    {
     "data": {
      "application/vnd.jupyter.widget-view+json": {
       "model_id": "21a751b181954b2db39f0b6e6e4c59fe",
       "version_major": 2,
       "version_minor": 0
      },
      "text/plain": [
       "  0%|          | 0/101 [00:00<?, ?it/s]"
      ]
     },
     "metadata": {},
     "output_type": "display_data"
    },
    {
     "name": "stdout",
     "output_type": "stream",
     "text": [
      "un 1046.9733333333334 consistency 13.335000038146973 change 0\n",
      "un 193.00333333333333 consistency 12.085833549499512 change 724.8758333333334\n",
      "un 109.6775 consistency 13.46500015258789 change 1334.0291666666667\n",
      "un 85.81416666666667 consistency 17.93083381652832 change 1651.9870833333334\n",
      "un 129.27083333333334 consistency 40.448333740234375 change 1391.8491666666666\n",
      "un 342.91583333333335 consistency 120.91416931152344 change 816.5616666666666\n",
      "un 672.4283333333333 consistency 256.1700134277344 change 492.56916666666666\n",
      "un 1009.5983333333334 consistency 454.3525085449219 change 349.1254166666667\n",
      "un 1301.0291666666667 consistency 720.02001953125 change 376.665\n",
      "un 1535.7991666666667 consistency 1036.0283203125 change 582.35\n",
      "un 1720.12 consistency 1370.038330078125 change 966.6620833333334\n",
      "un 1875.6233333333332 consistency 1635.7891845703125 change 1486.31625\n",
      "un 1992.6725 consistency 1821.427490234375 change 1972.1558333333332\n",
      "un 2070.04 consistency 1943.125 change 2324.858333333333\n",
      "un 2118.8433333333332 consistency 2019.842529296875 change 2553.9641666666666\n",
      "un 2149.3116666666665 consistency 2067.67919921875 change 2694.7766666666666\n",
      "un 2169.0933333333332 consistency 2098.2724609375 change 2781.9883333333332\n",
      "un 2183.34 consistency 2118.97265625 change 2837.9341666666664\n",
      "un 2194.0741666666668 consistency 2133.860107421875 change 2877.778333333333\n",
      "un 2202.6908333333336 consistency 2145.280029296875 change 2907.7141666666666\n",
      "un 2209.3816666666667 consistency 2154.0859375 change 2928.79625\n",
      "un 2215.6316666666667 consistency 2162.010009765625 change 2947.53\n",
      "un 2220.5433333333335 consistency 2168.109130859375 change 2961.61875\n",
      "un 2224.56 consistency 2173.614990234375 change 2973.9166666666665\n",
      "un 2228.0925 consistency 2177.91162109375 change 2985.0404166666667\n",
      "un 2231.6175 consistency 2182.07421875 change 2992.869166666667\n",
      "un 2234.7233333333334 consistency 2185.8076171875 change 3001.81125\n",
      "un 2237.161666666667 consistency 2188.580810546875 change 3009.49375\n",
      "un 2239.7458333333334 consistency 2191.54833984375 change 3016.0445833333333\n",
      "un 2241.98 consistency 2194.245849609375 change 3019.911666666667\n",
      "un 2244.17 consistency 2196.564208984375 change 3025.1991666666668\n",
      "un 2246.4841666666666 consistency 2199.0576171875 change 3030.1908333333336\n",
      "un 2247.9908333333333 consistency 2201.005859375 change 3034.837916666667\n",
      "un 2249.804166666667 consistency 2202.9384765625 change 3038.9904166666665\n",
      "un 2250.955 consistency 2204.419189453125 change 3041.0391666666665\n",
      "un 2252.4816666666666 consistency 2205.8193359375 change 3044.8725\n",
      "un 2253.7916666666665 consistency 2207.8291015625 change 3048.5066666666667\n",
      "un 2255.175 consistency 2209.101806640625 change 3051.01875\n",
      "un 2256.1858333333334 consistency 2210.229248046875 change 3053.2183333333332\n",
      "un 2257.3325 consistency 2211.48095703125 change 3055.01\n",
      "un 2258.2116666666666 consistency 2212.205078125 change 3055.6116666666667\n",
      "un 2258.92 consistency 2213.36328125 change 3058.6341666666667\n",
      "un 2259.758333333333 consistency 2214.10595703125 change 3060.3191666666667\n",
      "un 2260.4283333333333 consistency 2214.993408203125 change 3062.2579166666665\n",
      "un 2261.1375 consistency 2215.751708984375 change 3064.3420833333334\n",
      "un 2262.47 consistency 2216.64501953125 change 3064.7658333333334\n",
      "un 2262.8516666666665 consistency 2217.35595703125 change 3066.8320833333332\n",
      "un 2263.755833333333 consistency 2218.20166015625 change 3068.077083333333\n",
      "un 2264.2066666666665 consistency 2218.760986328125 change 3069.63625\n",
      "un 2264.8308333333334 consistency 2219.532470703125 change 3070.806666666667\n",
      "un 2265.4908333333333 consistency 2219.882568359375 change 3070.880416666667\n",
      "un 2266.0833333333335 consistency 2220.33837890625 change 3071.7254166666667\n",
      "un 2266.4975 consistency 2221.061767578125 change 3072.4620833333333\n",
      "un 2266.8233333333333 consistency 2221.43505859375 change 3073.6625\n",
      "un 2267.2541666666666 consistency 2221.88671875 change 3074.920833333333\n",
      "un 2267.6041666666665 consistency 2222.126708984375 change 3075.8958333333335\n",
      "un 2267.9191666666666 consistency 2222.4326171875 change 3075.6825\n",
      "un 2268.5466666666666 consistency 2223.3525390625 change 3076.942916666667\n",
      "un 2268.765 consistency 2223.375 change 3077.5545833333335\n",
      "un 2269.338333333333 consistency 2223.70166015625 change 3078.315416666667\n",
      "un 2269.4225 consistency 2223.8291015625 change 3078.119166666667\n",
      "un 2269.8133333333335 consistency 2224.33251953125 change 3079.3125\n",
      "un 2270.1875 consistency 2224.479248046875 change 3080.440416666667\n",
      "un 2269.7966666666666 consistency 2224.024169921875 change 3080.0475\n",
      "un 2269.9683333333332 consistency 2224.31494140625 change 3080.8845833333335\n",
      "un 2270.141666666667 consistency 2224.7109375 change 3080.672916666667\n",
      "un 2270.4366666666665 consistency 2224.33349609375 change 3080.528333333333\n",
      "un 2270.81 consistency 2225.369140625 change 3082.1183333333333\n",
      "un 2271.0108333333333 consistency 2225.017578125 change 3081.7395833333335\n",
      "un 2271.6075 consistency 2225.75244140625 change 3083.0520833333335\n",
      "un 2271.6483333333335 consistency 2225.921630859375 change 3083.93\n",
      "un 2271.7733333333335 consistency 2226.0625 change 3083.71125\n",
      "un 2271.971666666667 consistency 2226.36181640625 change 3084.9054166666665\n",
      "un 2272.07 consistency 2226.399169921875 change 3084.744583333333\n",
      "un 2272.65 consistency 2226.5634765625 change 3085.2229166666666\n",
      "un 2272.8966666666665 consistency 2226.82080078125 change 3085.6225\n",
      "un 2273.0716666666667 consistency 2226.72412109375 change 3084.79375\n",
      "un 2273.0266666666666 consistency 2226.94580078125 change 3084.40125\n",
      "un 2273.2991666666667 consistency 2227.254150390625 change 3084.5466666666666\n",
      "un 2273.241666666667 consistency 2226.921630859375 change 3084.62125\n",
      "un 2273.3108333333334 consistency 2226.9208984375 change 3086.2370833333334\n",
      "un 2273.258333333333 consistency 2226.93994140625 change 3085.7175\n",
      "un 2273.4416666666666 consistency 2226.811767578125 change 3085.829166666667\n",
      "un 2273.3866666666668 consistency 2226.964111328125 change 3085.9766666666665\n",
      "un 2273.9975 consistency 2227.3984375 change 3086.7745833333333\n",
      "un 2273.745 consistency 2227.25 change 3086.369166666667\n",
      "un 2274.1016666666665 consistency 2227.519287109375 change 3086.48125\n",
      "un 2273.9283333333333 consistency 2227.58349609375 change 3087.0408333333335\n",
      "un 2274.1325 consistency 2227.55517578125 change 3087.79\n",
      "un 2273.9283333333333 consistency 2227.455078125 change 3087.68125\n",
      "un 2273.7933333333335 consistency 2227.068359375 change 3087.82625\n",
      "un 2273.9258333333332 consistency 2227.33251953125 change 3087.53\n",
      "un 2273.845 consistency 2227.172607421875 change 3087.579583333333\n",
      "un 2274.01 consistency 2226.8701171875 change 3087.215\n",
      "un 2274.0158333333334 consistency 2227.02001953125 change 3087.360416666667\n",
      "un 2273.8866666666668 consistency 2226.98828125 change 3087.6145833333335\n",
      "un 2274.2675 consistency 2227.16162109375 change 3088.0575\n",
      "un 2274.161666666667 consistency 2227.092529296875 change 3088.2479166666667\n",
      "un 2274.2258333333334 consistency 2227.323486328125 change 3088.7595833333335\n",
      "un 2274.070833333333 consistency 2226.985107421875 change 3087.9479166666665\n",
      "un 2274.1966666666667 consistency 2227.027587890625 change 3088.60125\n"
     ]
    }
   ],
   "source": [
    "measure_batch_assignment_consistency(icd_assignment_list, loss=\"UniformCD\")\n",
    "#measure_batch_assignment_consistency(ass, loss=loss)\n"
   ]
  },
  {
   "cell_type": "code",
   "execution_count": 54,
   "metadata": {},
   "outputs": [
    {
     "name": "stdout",
     "output_type": "stream",
     "text": [
      "3631.1358333333333 4064.2108333333335\n"
     ]
    },
    {
     "data": {
      "image/png": "[encoded data removed]",
      "text/plain": [
       "<Figure size 1152x360 with 3 Axes>"
      ]
     },
     "metadata": {
      "needs_background": "light"
     },
     "output_type": "display_data"
    }
   ],
   "source": [
    "# plot consistency\n",
    "\n",
    "loss_funcs = [\"infocd\", \"chamfer\", \"UniformCD\"]\n",
    "unique_list, consistency_list, change_list = [], [], []\n",
    "for loss_func in loss_funcs:\n",
    "    with open(\"sphere/\" + loss_func + \"_consistency.pkl\", \"rb\") as f:\n",
    "        consistency, unique, change = pickle.load(f)\n",
    "        consistency_list.append(consistency)\n",
    "        unique_list.append(unique)\n",
    "        change_list.append(change)\n",
    "print(change_list[0][-1], change_list[1][-1])\n",
    "\n",
    "fig, axes = plt.subplots(nrows=1, ncols=3, figsize=(16, 5))\n",
    "plt.rcParams.update({'font.size': 12})\n",
    "plt.rc('xtick', labelsize=14) \n",
    "plt.rc('ytick', labelsize=14) \n",
    "\n",
    "plot_dists(axes[0], consistency_list, loss_funcs, title=\"reverse consistency\", \n",
    "           ylabel=\"no. of points\", xlabel=\"iterations\", log=False)\n",
    "plot_dists(axes[1], unique_list, loss_funcs, title=\"cloud coverage\", \n",
    "           ylabel=\"\", xlabel=\"iterations\", log=False)\n",
    "plot_dists(axes[2], change_list, loss_funcs, title=\"rate of correspondence change\", \n",
    "           ylabel=\"\", xlabel=\"iterations\", log=False)\n"
   ]
  },
  {
   "cell_type": "code",
   "execution_count": null,
   "metadata": {},
   "outputs": [],
   "source": [
    "# compare correspondences\n",
    "#TODO: include consistency in top5 matches?\n",
    "loss_func = \"emd\"\n",
    "with open(\"sphere/assignments_\" + \"emd\" + \".pkl\", \"rb\") as f:\n",
    "    emd_assignment = pickle.load(f)\n",
    "\n",
    "with open(\"sphere/assignments_\" + loss_func + \".pkl\", \"rb\") as f:\n",
    "    assignment = pickle.load(f)\n",
    "    \n",
    "for i, ass in enumerate(assignment):\n",
    "    #measure_assignment_consistency(ass, emd_assignment[i][0])\n",
    "    measure_assignment_consistency(ass)\n"
   ]
  },
  {
   "cell_type": "code",
   "execution_count": null,
   "metadata": {},
   "outputs": [],
   "source": []
  }
 ],
 "metadata": {
  "accelerator": "GPU",
  "colab": {
   "provenance": []
  },
  "gpuClass": "standard",
  "kernelspec": {
   "display_name": "Python 3 (ipykernel)",
   "language": "python",
   "name": "python3"
  },
  "language_info": {
   "codemirror_mode": {
    "name": "ipython",
    "version": 3
   },
   "file_extension": ".py",
   "mimetype": "text/x-python",
   "name": "python",
   "nbconvert_exporter": "python",
   "pygments_lexer": "ipython3",
   "version": "3.9.7"
  }
 },
 "nbformat": 4,
 "nbformat_minor": 1
}
