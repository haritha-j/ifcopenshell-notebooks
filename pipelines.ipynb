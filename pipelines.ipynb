{
 "cells": [
  {
   "cell_type": "code",
   "execution_count": null,
   "id": "b3c41916",
   "metadata": {},
   "outputs": [],
   "source": [
    "import open3d as o3d\n",
    "import os\n",
    "import numpy as np\n",
    "from tqdm.notebook import tqdm_notebook as tqdm\n",
    "import math\n",
    "import json\n",
    "import random\n",
    "import uuid\n",
    "import ifcopenshell\n",
    "\n",
    "from src.visualisation import *\n",
    "\n",
    "create_guid = lambda: ifcopenshell.guid.compress(uuid.uuid1().hex)\n"
   ]
  },
  {
   "cell_type": "markdown",
   "id": "254db9ec",
   "metadata": {},
   "source": [
    "### Dataset Creation"
   ]
  },
  {
   "cell_type": "code",
   "execution_count": null,
   "id": "c829d9a8",
   "metadata": {},
   "outputs": [],
   "source": [
    "# combine clouds\n",
    "data_path = \"/mnt/f/datasets/export/export/\"\n",
    "max_points = 4096"
   ]
  },
  {
   "cell_type": "code",
   "execution_count": null,
   "id": "4ed33839",
   "metadata": {},
   "outputs": [],
   "source": [
    "classes = os.listdir(data_path)\n",
    "print(classes)"
   ]
  },
  {
   "cell_type": "code",
   "execution_count": null,
   "id": "55d33efb",
   "metadata": {},
   "outputs": [],
   "source": [
    "all_classes = []\n",
    "element_count = 0\n",
    "error_count = 0\n",
    "for i, cl in enumerate(classes):\n",
    "    all_elements = []\n",
    "    class_path = data_path + cl\n",
    "    elements = os.listdir(class_path)\n",
    "    for j, el in tqdm(enumerate(elements)):\n",
    "        try:\n",
    "            element = np.loadtxt(class_path + '/' + el)\n",
    "\n",
    "            # downsample\n",
    "            if (len(element) > 0 and element.ndim == 2 and element.shape[1] == 4):\n",
    "                if len(element)  > max_points:\n",
    "                    #idx = np.random.randint(element.shape[0], size=max_points)\n",
    "                    #element = element[idx :]\n",
    "                    element = np.random.permutation(element)[:max_points]\n",
    "\n",
    "                element = np.delete(element, 3, axis=1) # remove point index\n",
    "                element = np.insert(element, 3, values=[element_count], axis=1) # add element index\n",
    "                #print(element.shape)\n",
    "                element_count += 1\n",
    "                all_elements.append(element)\n",
    "        except Exception as E:\n",
    "            error_count += 1\n",
    "            \n",
    "            \n",
    "    all_elements = np.vstack(all_elements)\n",
    "    all_elements = np.insert(all_elements, 4, values=[i], axis=1) # add class index\n",
    "    all_classes.append(all_elements)\n",
    "    \n",
    "all_classes = np.concatenate(all_classes)\n",
    "print(all_classes.shape)\n",
    "print (\"errors: \", error_count)\n",
    "        \n",
    "        #print(points[0])"
   ]
  },
  {
   "cell_type": "code",
   "execution_count": null,
   "id": "10faefd8",
   "metadata": {},
   "outputs": [],
   "source": [
    "pcd = o3d.t.geometry.PointCloud()\n",
    "points = all_classes[:,0:3]\n",
    "el_index  = [[i] for i in all_classes[:,3]]\n",
    "cl_index  = [[i] for i in all_classes[:,4]]\n",
    "\n",
    "\n",
    "pcd.point[\"positions\"] = o3d.core.Tensor(points)\n",
    "pcd.point[\"elements\"] = o3d.core.Tensor(el_index)\n",
    "pcd.point[\"classes\"] = o3d.core.Tensor(cl_index)\n",
    "\n",
    "o3d.t.io.write_point_cloud(\"water2.pcd\", pcd)\n"
   ]
  },
  {
   "cell_type": "markdown",
   "id": "36616a89",
   "metadata": {},
   "source": [
    "### Pipe parameter detection"
   ]
  },
  {
   "cell_type": "markdown",
   "id": "4e4f2162",
   "metadata": {},
   "source": [
    "#### Generation of synethetic IFC element dataset"
   ]
  },
  {
   "cell_type": "code",
   "execution_count": null,
   "id": "b37d51aa",
   "metadata": {},
   "outputs": [],
   "source": [
    "#density = 1024\n",
    "sample_size = 20\n",
    "config_path = \"config/pipeline.json\"\n",
    "blueprint = 'data/sample.ifc'"
   ]
  },
  {
   "cell_type": "code",
   "execution_count": null,
   "id": "6307e8c2",
   "metadata": {},
   "outputs": [],
   "source": [
    "\"\"\"\n",
    "elbow - modelled as an IfcRevolvedAreaSolid \n",
    "\n",
    "params:\n",
    "position - 3D coordinate\n",
    "axis_direction - 3D vector, axis of revolution (z>=0)\n",
    "axis_position - 3D coordinate\n",
    "angle - angle of revolution (0 -> pi)\n",
    "radius\n",
    "\"\"\"\n"
   ]
  },
  {
   "cell_type": "code",
   "execution_count": null,
   "id": "856094b0",
   "metadata": {},
   "outputs": [],
   "source": [
    "\"\"\"\n",
    "pipe - modelled as an IfcExtrudedAreaSolid\n",
    "\n",
    "params:\n",
    "position - 3D coordinate\n",
    "extrusion_direction - 3D vector (z>=0)\n",
    "length - 3D coordinate\n",
    "radius\n",
    "\"\"\"\n"
   ]
  },
  {
   "cell_type": "code",
   "execution_count": null,
   "id": "848c688d",
   "metadata": {},
   "outputs": [],
   "source": [
    "# create a new blank ifc file\n",
    "def setup_ifc_file(blueprint):\n",
    "\n",
    "    ifc = ifcopenshell.open(blueprint)\n",
    "    ifcNew = ifcopenshell.file(schema=ifc.schema)\n",
    "    \n",
    "    owner_history = ifc.by_type(\"IfcOwnerHistory\")[0]\n",
    "    project = ifc.by_type(\"IfcProject\")[0]\n",
    "    context = ifc.by_type(\"IfcGeometricRepresentationContext\")[0]\n",
    "    floor = ifc.by_type(\"IfcBuildingStorey\")[0]\n",
    "    \n",
    "    ifcNew.add(project) \n",
    "    ifcNew.add(owner_history) \n",
    "    ifcNew.add(context) \n",
    "    ifcNew.add(floor)\n",
    "\n",
    "    return ifcNew"
   ]
  },
  {
   "cell_type": "code",
   "execution_count": null,
   "id": "4646bfe8",
   "metadata": {},
   "outputs": [],
   "source": [
    "def createIfcPipe(r, l, d, p, ifc, ifc_info):\n",
    "    cross_section = Circle_Section(r=r, ifcfile=ifc)\n",
    "    green = ifc.createIfcColourRgb('green', Red=0.0, Green=0.9, Blue=0.0)\n",
    "\n",
    "    beam = CreateBeam(ifc, container=ifc_info['floor'], name=\"pipe\", \n",
    "                      section=cross_section, L=l, position=p,\n",
    "                      direction=d, owner_history=ifc_info[\"owner_history\"],\n",
    "                      context=ifc_info[\"context\"], colour=green)"
   ]
  },
  {
   "cell_type": "code",
   "execution_count": null,
   "id": "61475d83",
   "metadata": {},
   "outputs": [],
   "source": [
    "# generate a synthetic pipe\n",
    "def create_pipe(config,  ifc, ifc_info):\n",
    "    # generate parameters\n",
    "    r = random.uniform(config['radius_range'][0], config['radius_range'][1])\n",
    "    l = random.uniform(config['length_range'][0], config['length_range'][1])\n",
    "    \n",
    "    d = []\n",
    "    for ax in config['extrusion_direction_range']:\n",
    "        d.append(random.uniform(ax[0], ax[1]))\n",
    "    d_np = np.array(d)\n",
    "    d = (d_np/np.linalg.norm(d_np)).tolist()\n",
    "    \n",
    "    p = []\n",
    "    for coord in config['coordinate_range']:\n",
    "        p.append(random.uniform(coord[0], coord[1]))\n",
    "    \n",
    "    # center the element\n",
    "    centerpoint = [(p[i] + (l*d[i])/2) for i in range(3)]\n",
    "    p = [p[i] - centerpoint[i] for i in range(3)]\n",
    "    print('c', p)\n",
    "    \n",
    "    print(r,l,d,p)\n",
    "    \n",
    "    createIfcPipe(r, l, d, p, ifc, ifc_info)\n",
    "    metadata = {'radius':r, \"direction\":d, \"length\":l, \"position\":p}\n",
    "    return metadata\n"
   ]
  },
  {
   "cell_type": "code",
   "execution_count": null,
   "id": "773fce25",
   "metadata": {},
   "outputs": [],
   "source": [
    "def synthetic_dataset(config, sample_size, element_class, output_base, blueprint):\n",
    "    # setup\n",
    "    f = open(config, 'r')\n",
    "    config_data  = json.load(f)\n",
    "    output_dir = os.path.join(output_base, element_class)\n",
    "    #os.makedirs(output_dir)\n",
    "\n",
    "    metadata = {}\n",
    "    for i in range(sample_size):\n",
    "        # generate ifc file\n",
    "        ifc = setup_ifc_file(blueprint)\n",
    "        owner_history = ifc.by_type(\"IfcOwnerHistory\")[0]\n",
    "        project = ifc.by_type(\"IfcProject\")[0]\n",
    "        context = ifc.by_type(\"IfcGeometricRepresentationContext\")[0]\n",
    "        floor = ifc.by_type(\"IfcBuildingStorey\")[0]\n",
    "        \n",
    "        ifc_info = {\"owner_history\": owner_history,\n",
    "            \"project\": project,\n",
    "           \"context\": context, \n",
    "           \"floor\": floor}\n",
    "        \n",
    "        # generate ifc element\n",
    "        if element_class == 'pipe':\n",
    "            e = create_pipe(config_data[element_class], ifc, ifc_info)\n",
    "\n",
    "        metadata[str(i)] = e\n",
    "        ifc.write(os.path.join(output_dir, '%d.ifc' % i))\n",
    "    \n",
    "    with open(os.path.join(output_dir, 'metadata.json'), 'w') as f:\n",
    "        json.dump(metadata, f)\n",
    "        \n",
    "        "
   ]
  },
  {
   "cell_type": "code",
   "execution_count": null,
   "id": "b080190c",
   "metadata": {
    "scrolled": true
   },
   "outputs": [],
   "source": [
    "synthetic_dataset(config_path, sample_size, \"pipe\", 'output', blueprint)"
   ]
  },
  {
   "cell_type": "code",
   "execution_count": null,
   "id": "05969795",
   "metadata": {},
   "outputs": [],
   "source": [
    "d = {}\n",
    "ifcNew = setup_ifc_file('data/sample.ifc',d)\n",
    "print(d)"
   ]
  },
  {
   "cell_type": "code",
   "execution_count": null,
   "id": "b0b27a1e",
   "metadata": {},
   "outputs": [],
   "source": []
  },
  {
   "cell_type": "code",
   "execution_count": null,
   "id": "ab93034e",
   "metadata": {},
   "outputs": [],
   "source": []
  }
 ],
 "metadata": {
  "kernelspec": {
   "display_name": "Python 3 (ipykernel)",
   "language": "python",
   "name": "python3"
  },
  "language_info": {
   "codemirror_mode": {
    "name": "ipython",
    "version": 3
   },
   "file_extension": ".py",
   "mimetype": "text/x-python",
   "name": "python",
   "nbconvert_exporter": "python",
   "pygments_lexer": "ipython3",
   "version": "3.9.7"
  }
 },
 "nbformat": 4,
 "nbformat_minor": 5
}
