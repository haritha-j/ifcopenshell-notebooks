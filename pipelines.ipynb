{
 "cells": [
  {
   "cell_type": "code",
   "execution_count": 1,
   "id": "b3c41916",
   "metadata": {},
   "outputs": [
    {
     "name": "stdout",
     "output_type": "stream",
     "text": [
      "Jupyter environment detected. Enabling Open3D WebVisualizer.\n",
      "[Open3D INFO] WebRTC GUI backend enabled.\n",
      "[Open3D INFO] WebRTCWindowSystem: HTTP handshake server disabled.\n"
     ]
    }
   ],
   "source": [
    "import open3d as o3d\n",
    "import os\n",
    "import numpy as np\n",
    "from tqdm import tqdm\n",
    "import math"
   ]
  },
  {
   "cell_type": "markdown",
   "id": "254db9ec",
   "metadata": {},
   "source": [
    "### Dataset Creation"
   ]
  },
  {
   "cell_type": "code",
   "execution_count": 2,
   "id": "c829d9a8",
   "metadata": {},
   "outputs": [],
   "source": [
    "# combine clouds\n",
    "data_path = \"/mnt/f/datasets/export/export/\"\n",
    "max_points = 4096"
   ]
  },
  {
   "cell_type": "code",
   "execution_count": 3,
   "id": "4ed33839",
   "metadata": {},
   "outputs": [
    {
     "name": "stdout",
     "output_type": "stream",
     "text": [
      "['Angles', 'Channels', 'CircularHollow', 'Conduit', 'Elbows', 'Flanges', 'Ibeams', 'Other', 'Pipes', 'Valves']\n"
     ]
    }
   ],
   "source": [
    "classes = os.listdir(data_path)\n",
    "print(classes)"
   ]
  },
  {
   "cell_type": "code",
   "execution_count": 4,
   "id": "55d33efb",
   "metadata": {},
   "outputs": [
    {
     "name": "stderr",
     "output_type": "stream",
     "text": [
      "211it [06:34,  1.87s/it]\n",
      "94it [05:03,  3.23s/it]\n",
      "113it [1:19:18, 42.11s/it]\n",
      "1361it [29:40,  1.31s/it]\n",
      "707it [11:34,  1.02it/s]\n",
      "204it [02:53,  1.18it/s]\n",
      "116it [26:34, 13.75s/it]\n",
      "553it [1:48:18, 11.75s/it] \n",
      "835it [56:57,  4.09s/it]\n",
      "192it [06:52,  2.15s/it]\n"
     ]
    },
    {
     "name": "stdout",
     "output_type": "stream",
     "text": [
      "(17490596, 5)\n",
      "errors:  0\n"
     ]
    }
   ],
   "source": [
    "all_classes = []\n",
    "element_count = 0\n",
    "error_count = 0\n",
    "for i, cl in enumerate(classes):\n",
    "    all_elements = []\n",
    "    class_path = data_path + cl\n",
    "    elements = os.listdir(class_path)\n",
    "    for j, el in tqdm(enumerate(elements)):\n",
    "        try:\n",
    "            element = np.loadtxt(class_path + '/' + el)\n",
    "\n",
    "            # downsample\n",
    "            if (len(element) > 0 and element.ndim == 2 and element.shape[1] == 4):\n",
    "                if len(element)  > max_points:\n",
    "                    #idx = np.random.randint(element.shape[0], size=max_points)\n",
    "                    #element = element[idx :]\n",
    "                    element = np.random.permutation(element)[:max_points]\n",
    "\n",
    "                element = np.delete(element, 3, axis=1) # remove point index\n",
    "                element = np.insert(element, 3, values=[element_count], axis=1) # add element index\n",
    "                #print(element.shape)\n",
    "                element_count += 1\n",
    "                all_elements.append(element)\n",
    "        except Exception as E:\n",
    "            error_count += 1\n",
    "            \n",
    "            \n",
    "    all_elements = np.vstack(all_elements)\n",
    "    all_elements = np.insert(all_elements, 4, values=[i], axis=1) # add class index\n",
    "    all_classes.append(all_elements)\n",
    "    \n",
    "all_classes = np.concatenate(all_classes)\n",
    "print(all_classes.shape)\n",
    "print (\"errors: \", error_count)\n",
    "        \n",
    "        #print(points[0])"
   ]
  },
  {
   "cell_type": "code",
   "execution_count": 6,
   "id": "10faefd8",
   "metadata": {},
   "outputs": [
    {
     "data": {
      "text/plain": [
       "True"
      ]
     },
     "execution_count": 6,
     "metadata": {},
     "output_type": "execute_result"
    }
   ],
   "source": [
    "pcd = o3d.t.geometry.PointCloud()\n",
    "points = all_classes[:,0:3]\n",
    "el_index  = [[i] for i in all_classes[:,3]]\n",
    "cl_index  = [[i] for i in all_classes[:,4]]\n",
    "\n",
    "\n",
    "pcd.point[\"positions\"] = o3d.core.Tensor(points)\n",
    "pcd.point[\"elements\"] = o3d.core.Tensor(el_index)\n",
    "pcd.point[\"classes\"] = o3d.core.Tensor(cl_index)\n",
    "\n",
    "o3d.t.io.write_point_cloud(\"water2.pcd\", pcd)\n"
   ]
  },
  {
   "cell_type": "markdown",
   "id": "36616a89",
   "metadata": {},
   "source": [
    "### Pipe parameter detection"
   ]
  },
  {
   "cell_type": "markdown",
   "id": "4e4f2162",
   "metadata": {},
   "source": [
    "#### Generation of synethetic IFC element dataset"
   ]
  },
  {
   "cell_type": "code",
   "execution_count": null,
   "id": "6307e8c2",
   "metadata": {},
   "outputs": [],
   "source": [
    "# elbow - modelled as an IfcRevolvedAreaSolid \n",
    "\n",
    "element_class = 'elbow'\n",
    "radius_range = [0.01, 0.9]\n",
    "angle_range = [0, math.pi]\n"
   ]
  },
  {
   "cell_type": "code",
   "execution_count": null,
   "id": "856094b0",
   "metadata": {},
   "outputs": [],
   "source": [
    "# pipe - modelled as an IfcExtrudedAreaSolid\n",
    "\n",
    "element_class = 'pipe'\n",
    "radius_range = [0.01, 0.9]\n",
    "length_range = [0.01, 10.0]\n",
    "extrusion_direction_range = [[-1.0, 1.0], [-1.0, 1.0], [0.0, 1.0]]\n",
    "point_range = [-100.0,100.0]\n",
    "\n"
   ]
  }
 ],
 "metadata": {
  "kernelspec": {
   "display_name": "Python 3 (ipykernel)",
   "language": "python",
   "name": "python3"
  },
  "language_info": {
   "codemirror_mode": {
    "name": "ipython",
    "version": 3
   },
   "file_extension": ".py",
   "mimetype": "text/x-python",
   "name": "python",
   "nbconvert_exporter": "python",
   "pygments_lexer": "ipython3",
   "version": "3.9.7"
  }
 },
 "nbformat": 4,
 "nbformat_minor": 5
}
