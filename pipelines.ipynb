{
 "cells": [
  {
   "cell_type": "code",
   "execution_count": null,
   "id": "b3c41916",
   "metadata": {},
   "outputs": [],
   "source": [
    "import open3d as o3d\n",
    "import os\n",
    "import numpy as np\n",
    "from tqdm.notebook import tqdm_notebook as tqdm\n",
    "import math\n",
    "import json\n",
    "import random\n",
    "import uuid\n",
    "import ifcopenshell\n",
    "from ifcopenshell import template\n",
    "import ifcopenshell.geom\n",
    "\n",
    "from src.visualisation import *\n",
    "from src.ifc import *\n",
    "from src.elements import create_pipe, create_elbow, setup_ifc_file\n",
    "\n",
    "#create_guid = lambda: ifcopenshell.guid.compress(uuid.uuid1().hex)\n"
   ]
  },
  {
   "cell_type": "code",
   "execution_count": null,
   "id": "8b951d7a",
   "metadata": {},
   "outputs": [],
   "source": [
    "random.seed(10)"
   ]
  },
  {
   "cell_type": "markdown",
   "id": "254db9ec",
   "metadata": {},
   "source": [
    "### CLOI Dataset Creation\n",
    "\n",
    "The following section converts CLOI scans into a pcd dataset."
   ]
  },
  {
   "cell_type": "code",
   "execution_count": null,
   "id": "c829d9a8",
   "metadata": {},
   "outputs": [],
   "source": [
    "# combine clouds\n",
    "data_path = \"/mnt/f/datasets/export/export/\"\n",
    "max_points = 4096"
   ]
  },
  {
   "cell_type": "code",
   "execution_count": null,
   "id": "4ed33839",
   "metadata": {},
   "outputs": [],
   "source": [
    "classes = os.listdir(data_path)\n",
    "print(classes)"
   ]
  },
  {
   "cell_type": "code",
   "execution_count": null,
   "id": "55d33efb",
   "metadata": {},
   "outputs": [],
   "source": [
    "all_classes = []\n",
    "element_count = 0\n",
    "error_count = 0\n",
    "for i, cl in enumerate(classes):\n",
    "    all_elements = []\n",
    "    class_path = data_path + cl\n",
    "    elements = os.listdir(class_path)\n",
    "    for j, el in tqdm(enumerate(elements)):\n",
    "        try:\n",
    "            element = np.loadtxt(class_path + '/' + el)\n",
    "\n",
    "            # downsample\n",
    "            if (len(element) > 0 and element.ndim == 2 and element.shape[1] == 4):\n",
    "                if len(element)  > max_points:\n",
    "                    #idx = np.random.randint(element.shape[0], size=max_points)\n",
    "                    #element = element[idx :]\n",
    "                    element = np.random.permutation(element)[:max_points]\n",
    "\n",
    "                element = np.delete(element, 3, axis=1) # remove point index\n",
    "                element = np.insert(element, 3, values=[element_count], axis=1) # add element index\n",
    "                #print(element.shape)\n",
    "                element_count += 1\n",
    "                all_elements.append(element)\n",
    "        except Exception as E:\n",
    "            error_count += 1\n",
    "            \n",
    "            \n",
    "    all_elements = np.vstack(all_elements)\n",
    "    all_elements = np.insert(all_elements, 4, values=[i], axis=1) # add class index\n",
    "    all_classes.append(all_elements)\n",
    "    \n",
    "all_classes = np.concatenate(all_classes)\n",
    "print(all_classes.shape)\n",
    "print (\"errors: \", error_count)\n",
    "        \n",
    "        #print(points[0])"
   ]
  },
  {
   "cell_type": "code",
   "execution_count": null,
   "id": "10faefd8",
   "metadata": {},
   "outputs": [],
   "source": [
    "pcd = o3d.t.geometry.PointCloud()\n",
    "points = all_classes[:,0:3]\n",
    "el_index  = [[i] for i in all_classes[:,3]]\n",
    "cl_index  = [[i] for i in all_classes[:,4]]\n",
    "\n",
    "\n",
    "pcd.point[\"positions\"] = o3d.core.Tensor(points)\n",
    "pcd.point[\"elements\"] = o3d.core.Tensor(el_index)\n",
    "pcd.point[\"classes\"] = o3d.core.Tensor(cl_index)\n",
    "\n",
    "o3d.t.io.write_point_cloud(\"water2.pcd\", pcd)\n"
   ]
  },
  {
   "cell_type": "markdown",
   "id": "36616a89",
   "metadata": {},
   "source": [
    "## Pipe parameter detection"
   ]
  },
  {
   "cell_type": "markdown",
   "id": "4e4f2162",
   "metadata": {},
   "source": [
    "### Generation of synethetic IFC element dataset"
   ]
  },
  {
   "cell_type": "markdown",
   "id": "15067b95",
   "metadata": {},
   "source": [
    "#### dataset creation process\n",
    "1. Generate params for element model\n",
    "2. Generate ifc models\n",
    "4. Convert to obj models using ifcConvert (ifc2obj.py script) \n",
    "3. Convert to partially occluded EXR images using render_depth.py script *./blender -b -P render_depth.py ../../documents/ifc/ifcopenshell-notebooks/output/obj/ output/*\n",
    "4. Covnert to point clouds using process_exr.py script *python process_exr.py output/exr/ output/intrinsics.txt output/*\n",
    "5. Combine multiple views of object to create training and testing datasets\n",
    "\n",
    "\n",
    "##### Step 1 & 2. IFC model generation\n"
   ]
  },
  {
   "cell_type": "code",
   "execution_count": null,
   "id": "b37d51aa",
   "metadata": {},
   "outputs": [],
   "source": [
    "density = 1024\n",
    "sample_size = 16\n",
    "config_path = \"config/pipeline.json\"\n",
    "pcd_path = \"/home/haritha/downloads/blender-2.79-linux-glibc219-x86_64/output/pcd/\"\n",
    "blueprint = 'data/sample.ifc'\n",
    "num_scans = 16"
   ]
  },
  {
   "cell_type": "markdown",
   "id": "1d769f40",
   "metadata": {},
   "source": [
    "**elbow - modelled as an IfcRevolvedAreaSolid**\n",
    "\n",
    "*params:*\n",
    "\n",
    "position - 3D coordinate\n",
    "\n",
    "direction - 3D vector, axis of extrusion (normal to axis of revolution) (z>=0)\n",
    "\n",
    "axis_position - 2D coordinate, relative to position\n",
    "\n",
    "angle - angle of revolution (0 -> pi)\n",
    "\n",
    "radius\n",
    "\n",
    "\n"
   ]
  },
  {
   "cell_type": "markdown",
   "id": "db2340ef",
   "metadata": {},
   "source": [
    "**pipe - modelled as an IfcExtrudedAreaSolid**\n",
    "\n",
    "*params:*\n",
    "    \n",
    "position - 3D coordinate\n",
    "\n",
    "extrusion_direction - 3D vector (z>=0)\n",
    "\n",
    "length - 3D coordinate\n",
    "\n",
    "radius\n",
    "\n"
   ]
  },
  {
   "cell_type": "code",
   "execution_count": null,
   "id": "b080190c",
   "metadata": {
    "scrolled": true
   },
   "outputs": [],
   "source": [
    "synthetic_dataset(config_path, sample_size, \"elbow\", 'output', blueprint, 0)"
   ]
  },
  {
   "cell_type": "markdown",
   "id": "d3985b78",
   "metadata": {},
   "source": [
    "*Use external scripts to convert above IFC dataset into ocluded PCD dataset. (step 3, 4 & 5)*\n",
    "\n",
    "##### Step 6. Test / train dataset creation\n",
    "\n",
    "1. merge multiple views\n",
    "2. sample to standard density\n",
    "3. generate training and testing dataset\n",
    "\n"
   ]
  },
  {
   "cell_type": "code",
   "execution_count": null,
   "id": "17e176e6",
   "metadata": {},
   "outputs": [],
   "source": [
    "create_merged_dataset(pcd_path, 'output', 'tee', num_scans, density, 3, 0.1)"
   ]
  }
 ],
 "metadata": {
  "kernelspec": {
   "display_name": "Python 3 (ipykernel)",
   "language": "python",
   "name": "python3"
  },
  "language_info": {
   "codemirror_mode": {
    "name": "ipython",
    "version": 3
   },
   "file_extension": ".py",
   "mimetype": "text/x-python",
   "name": "python",
   "nbconvert_exporter": "python",
   "pygments_lexer": "ipython3",
   "version": "3.9.7"
  }
 },
 "nbformat": 4,
 "nbformat_minor": 5
}
