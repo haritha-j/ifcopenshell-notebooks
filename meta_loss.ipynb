{
 "cells": [
  {
   "cell_type": "markdown",
   "id": "31a1238f",
   "metadata": {},
   "source": [
    "## Loss learning evaluation"
   ]
  },
  {
   "cell_type": "markdown",
   "id": "238de93a",
   "metadata": {},
   "source": [
    "### setup"
   ]
  },
  {
   "cell_type": "code",
   "execution_count": null,
   "id": "9e368492",
   "metadata": {},
   "outputs": [],
   "source": [
    "import numpy as np\n",
    "import math\n",
    "import random\n",
    "import os\n",
    "import os.path\n",
    "import torch\n",
    "import sys\n",
    "import copy\n",
    "import pickle\n",
    "import importlib\n",
    "import torch.nn as nn\n",
    "import torch\n",
    "import time\n",
    "import functorch\n",
    "import ifcopenshell\n",
    "from numpy.random import default_rng\n",
    "\n",
    "from torch.utils.data import Dataset, DataLoader\n",
    "from torchvision import transforms, utils\n",
    "import matplotlib.pyplot as plt\n",
    "from chamferdist import ChamferDistance\n",
    "from pathlib import Path\n",
    "import open3d as o3d\n",
    "import pytorch3d.transforms as trnsfrm\n",
    "\n",
    "from src.dataset import *\n",
    "from src.elements import *\n",
    "from src.chamfer import get_cloud_chamfer_loss_tensor\n",
    "from src.plots import plot_error_graph, plot_single_parameter_error\n",
    "from src.meta import get_rand_rotations\n",
    "from src.visualisation import vis_ifc_and_cloud\n",
    "from tqdm.notebook import tqdm"
   ]
  },
  {
   "cell_type": "code",
   "execution_count": null,
   "id": "c75c2a05",
   "metadata": {},
   "outputs": [],
   "source": [
    "random.seed = 42\n",
    "rng = default_rng()"
   ]
  },
  {
   "cell_type": "code",
   "execution_count": null,
   "id": "8ab38ecc",
   "metadata": {},
   "outputs": [],
   "source": [
    "path = Path(\"output/\")\n",
    "savepath = Path(\"meta/outputs/\")\n",
    "cuda = torch.device(\"cuda\")"
   ]
  },
  {
   "cell_type": "code",
   "execution_count": null,
   "id": "7f3e4591",
   "metadata": {},
   "outputs": [],
   "source": [
    "train_transforms = transforms.Compose(\n",
    "    [\n",
    "        Normalize(),\n",
    "        #                    RandomNoise(),\n",
    "        ToTensor(),\n",
    "    ]\n",
    ")"
   ]
  },
  {
   "cell_type": "code",
   "execution_count": null,
   "id": "964752a9",
   "metadata": {},
   "outputs": [],
   "source": [
    "# load data and model\n",
    "BASE_DIR = os.path.dirname(os.path.abspath(\"industrial-facility-relationships/\"))\n",
    "BASE_DIR = os.path.join(BASE_DIR, \"pointnet2\")\n",
    "ROOT_DIR = BASE_DIR\n",
    "sys.path.append(os.path.join(ROOT_DIR, \"models\"))\n",
    "\n",
    "\n",
    "path = Path(\"output/\")\n",
    "ext = \".pcd\"\n",
    "\n",
    "cat = \"elbow\"\n",
    "device = torch.device(\"cuda:0\" if torch.cuda.is_available() else \"cpu\")\n",
    "use_normals = False\n",
    "\n",
    "test_ds = PointCloudData(\n",
    "    path, valid=True, folder=\"test\", category=cat, transform=train_transforms\n",
    ")\n",
    "targets = test_ds.targets\n",
    "\n",
    "testDataLoader = torch.utils.data.DataLoader(dataset=test_ds, batch_size=128)\n",
    "test_criterion = nn.MSELoss()\n",
    "\n",
    "model_name = \"pointnet2_meta_ssg\"\n",
    "# model_path = Path(\"pointnet2/log/classification/pointnet2_meta_ssg/\")\n",
    "model = importlib.import_module(model_name)\n",
    "checkpoint_path = Path(\"pointnet2/log/meta/checkpoints/\")\n",
    "\n",
    "\n",
    "fcn_model = importlib.import_module(\"fcn\")\n",
    "fcn_predictor = fcn_model.get_model(3)\n",
    "\n",
    "predictor = model.get_model(normal_channel=False)\n",
    "if device != \"cpu\":\n",
    "    predictor = predictor.cuda()\n",
    "    fcn_predictor = fcn_predictor.cuda()\n",
    "\n",
    "checkpoint = torch.load(checkpoint_path / \"best_model.pth\")\n",
    "fcn_checkpoint = torch.load(checkpoint_path / \"best_model_fcn.pth\")\n",
    "predictor.load_state_dict(checkpoint[\"model_state_dict\"])\n",
    "fcn_predictor.load_state_dict(fcn_checkpoint[\"model_state_dict\"])\n",
    "\n",
    "output_dir = Path(\"meta/\")"
   ]
  },
  {
   "cell_type": "markdown",
   "id": "a8dc8582",
   "metadata": {},
   "source": [
    "### Inference"
   ]
  },
  {
   "cell_type": "code",
   "execution_count": null,
   "id": "bd332046",
   "metadata": {},
   "outputs": [],
   "source": [
    "def model_inference(model, loader, device, calculate_score=False, loss_type=\"chamfer\"):\n",
    "    predictor = model.eval()\n",
    "    predictions_list, pcd_list, transformed_pcd_list, id_list, chamfer_dist_list = (\n",
    "        [],\n",
    "        [],\n",
    "        [],\n",
    "        [],\n",
    "        [],\n",
    "    )\n",
    "    with torch.no_grad():\n",
    "        for j, data in tqdm(enumerate(loader), total=len(loader)):\n",
    "            points, ids = data[\"pointcloud\"].to(device).float(), data[\"id\"].to(device)\n",
    "\n",
    "            # perform rotation\n",
    "            rand_rot = get_rand_rotations(points.shape[0], device=device, scale=0.05)\n",
    "            trans = trnsfrm.Rotate(rand_rot)\n",
    "            points_transformed = trans.transform_points(points)\n",
    "\n",
    "            points = points.transpose(2, 1)\n",
    "            points_transformed = points_transformed.transpose(2, 1)\n",
    "\n",
    "            # get predictions and concatenate to single tensor\n",
    "            pred, _ = predictor(points)\n",
    "            pred_trans, _ = predictor(points_transformed)\n",
    "            pred_combined = torch.cat([pred, pred_trans], 1)\n",
    "            predicted_rotation = fcn_predictor(pred_combined)\n",
    "            rot_mat = trnsfrm.euler_angles_to_matrix(predicted_rotation, convention=\"XYZ\")\n",
    "\n",
    "            # rotate original cloud by predicted rotation\n",
    "            # print(predicted_rotation.shape)\n",
    "#             predicted_rotation = torch.reshape(\n",
    "#                 predicted_rotation, (predicted_rotation.shape[0], 3, 3)\n",
    "#             )\n",
    "            trans = trnsfrm.Rotate(rot_mat)\n",
    "            points_t = points.transpose(2, 1)\n",
    "            points_transformed2 = trans.transform_points(points_t)\n",
    "            points_transformed2 = points_transformed2.transpose(2, 1)\n",
    "\n",
    "            if loss_type == \"chamfer\":\n",
    "                loss = get_cloud_chamfer_loss_tensor(\n",
    "                    points_transformed2,\n",
    "                    points_transformed,\n",
    "                    separate_directions=False,\n",
    "                    reduction=None,\n",
    "                )\n",
    "            else:\n",
    "                loss = torch.sum(\n",
    "                    torch.square(points_transformed2 - points_transformed), dim=(1, 2)\n",
    "                )\n",
    "                loss = loss.mean()\n",
    "            # print(\"chamfer_loss: \", chamfer_loss)\n",
    "\n",
    "            predicted_rotation, points, transformed_points, ids, loss = (\n",
    "                predicted_rotation.to(torch.device(\"cpu\")),\n",
    "                points_transformed2.to(torch.device(\"cpu\")),\n",
    "                points_transformed.to(torch.device(\"cpu\")),\n",
    "                data[\"id\"].to(torch.device(\"cpu\")),\n",
    "                loss.to(torch.device(\"cpu\")),\n",
    "            )\n",
    "\n",
    "            for i, pr in enumerate(predicted_rotation):\n",
    "                predictions_list.append(pr.numpy())\n",
    "                pcd_list.append(points[i].numpy())\n",
    "                transformed_pcd_list.append(transformed_points[i].numpy())\n",
    "                id_list.append(ids[i].numpy())\n",
    "                chamfer_dist_list.append(loss[i].numpy())\n",
    "\n",
    "        return (\n",
    "            predictions_list,\n",
    "            pcd_list,\n",
    "            transformed_pcd_list,\n",
    "            id_list,\n",
    "            chamfer_dist_list,\n",
    "        )"
   ]
  },
  {
   "cell_type": "code",
   "execution_count": null,
   "id": "6e860d76",
   "metadata": {
    "scrolled": true
   },
   "outputs": [],
   "source": [
    "(\n",
    "    predictions_list,\n",
    "    pcd_list,\n",
    "    transformed_pcd_list,\n",
    "    id_list,\n",
    "    chamfer_dist_list,\n",
    ") = model_inference(predictor.eval(), testDataLoader, device, \"direct\")"
   ]
  },
  {
   "cell_type": "code",
   "execution_count": null,
   "id": "c69f0d31",
   "metadata": {},
   "outputs": [],
   "source": [
    "print(len(chamfer_dist_list), chamfer_dist_list[0].shape)"
   ]
  },
  {
   "cell_type": "code",
   "execution_count": null,
   "id": "8a98f086",
   "metadata": {},
   "outputs": [],
   "source": [
    "plot_error_graph(chamfer_dist_list, \"Predicted chamfer loss\", max_val=1000)"
   ]
  },
  {
   "cell_type": "code",
   "execution_count": null,
   "id": "e5316afc",
   "metadata": {},
   "outputs": [],
   "source": [
    "# plot_error_graph(chamfer_dist_list, \"Actual chamfer loss\", max_val=1000)"
   ]
  },
  {
   "cell_type": "markdown",
   "id": "6fc74865",
   "metadata": {},
   "source": [
    "### visualisation"
   ]
  },
  {
   "cell_type": "code",
   "execution_count": null,
   "id": "e5bf718f",
   "metadata": {},
   "outputs": [],
   "source": [
    "print(type(pcd_list[i][0][0].astype(\"float64\")))"
   ]
  },
  {
   "cell_type": "code",
   "execution_count": null,
   "id": "737b11cc",
   "metadata": {},
   "outputs": [],
   "source": [
    "blueprint = \"data/sample.ifc\"\n",
    "ifc = setup_ifc_file(blueprint)\n",
    "limit = 10\n",
    "vis = []\n",
    "\n",
    "for i in range(limit):\n",
    "    vis.append(vis_ifc_and_cloud(ifc, [pcd_list[i].transpose().astype(\"float64\"), transformed_pcd_list[i].transpose().astype(\"float64\")]))\n",
    "\n",
    "vis[0]"
   ]
  },
  {
   "cell_type": "code",
   "execution_count": null,
   "id": "495fe783",
   "metadata": {},
   "outputs": [],
   "source": [
    "chamfer_dist_list_nested = [[i] for i in chamfer_dist_list]\n",
    "predictions_list_nested = [[i] for i in predictions_list]\n",
    "plot_single_parameter_error(\n",
    "    chamfer_dist_list_nested,\n",
    "    predictions_list_nested,\n",
    "    0,\n",
    "    \"dimension\",\n",
    "    \"chamfer distance\",\n",
    ")"
   ]
  },
  {
   "cell_type": "code",
   "execution_count": null,
   "id": "a21646b2",
   "metadata": {},
   "outputs": [],
   "source": [
    "print(chamfer_dist_list[:10])\n",
    "print(predictions_list[:10])"
   ]
  },
  {
   "cell_type": "code",
   "execution_count": null,
   "id": "31a898c2",
   "metadata": {},
   "outputs": [],
   "source": [
    "cld = o3d.geometry.PointCloud()\n",
    "\n",
    "for i, p in enumerate(pcd_list[:10]):\n",
    "    points = o3d.utility.Vector3dVector(p.transpose())\n",
    "    cld.points = points\n",
    "    o3d.io.write_point_cloud(str(savepath / (str(i) + \".ply\")), cld)\n",
    "\n",
    "\n",
    "for i, p in enumerate(transformed_pcd_list[:10]):\n",
    "    points = o3d.utility.Vector3dVector(p.transpose())\n",
    "    cld.points = points\n",
    "    o3d.io.write_point_cloud(str(savepath / (str(i) + \"_t.ply\")), cld)"
   ]
  },
  {
   "cell_type": "code",
   "execution_count": null,
   "id": "e39c477f",
   "metadata": {},
   "outputs": [],
   "source": [
    "rand_euler = np.random.rand(2, 3) * 2 * np.pi\n",
    "print(rand_euler)\n",
    "\n",
    "# scale down the rotation to be closer to the original\n",
    "den = np.random.rand(2, 1)\n",
    "print(den)\n",
    "rand_euler = rand_euler * den * den\n",
    "print(rand_euler)\n",
    "rot_mat = trnsfrm.euler_angles_to_matrix(torch.Tensor(rand_euler), convention=\"XYZ\")\n",
    "# den = np.random.rand(1)"
   ]
  },
  {
   "cell_type": "code",
   "execution_count": null,
   "id": "484822cd",
   "metadata": {},
   "outputs": [],
   "source": [
    "trans = trnsfrm.Rotate(rot_mat)\n",
    "points = torch.Tensor([pcd_list[0].transpose()])\n",
    "print(points.shape, rot_mat.shape)\n",
    "points_transformed = trans.transform_points(points)\n",
    "points = points.detach().numpy()[0]\n",
    "points_transformed = points_transformed.detach().numpy()[0]\n",
    "\n",
    "p = o3d.utility.Vector3dVector(points)\n",
    "cld.points = p\n",
    "o3d.io.write_point_cloud(str(savepath / (\"t_t.ply\")), cld)\n",
    "\n",
    "p = o3d.utility.Vector3dVector(points_transformed)\n",
    "cld.points = p\n",
    "o3d.io.write_point_cloud(str(savepath / (\"t.ply\")), cld)"
   ]
  },
  {
   "cell_type": "code",
   "execution_count": null,
   "id": "8423cbb9",
   "metadata": {},
   "outputs": [],
   "source": []
  }
 ],
 "metadata": {
  "kernelspec": {
   "display_name": "Python 3 (ipykernel)",
   "language": "python",
   "name": "python3"
  },
  "language_info": {
   "codemirror_mode": {
    "name": "ipython",
    "version": 3
   },
   "file_extension": ".py",
   "mimetype": "text/x-python",
   "name": "python",
   "nbconvert_exporter": "python",
   "pygments_lexer": "ipython3",
   "version": "3.9.16"
  }
 },
 "nbformat": 4,
 "nbformat_minor": 5
}
