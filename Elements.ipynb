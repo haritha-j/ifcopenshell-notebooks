{
 "cells": [
  {
   "cell_type": "markdown",
   "metadata": {
    "id": "NpvL68OfBEQC"
   },
   "source": [
    "# Element Parameter Detection"
   ]
  },
  {
   "cell_type": "markdown",
   "metadata": {
    "id": "-z7n_pw4SMWl"
   },
   "source": [
    "## Setup"
   ]
  },
  {
   "cell_type": "code",
   "execution_count": 2,
   "metadata": {
    "id": "TJ47VNF7fmTS",
    "scrolled": true
   },
   "outputs": [
    {
     "name": "stdout",
     "output_type": "stream",
     "text": [
      "Jupyter environment detected. Enabling Open3D WebVisualizer.\n",
      "[Open3D INFO] WebRTC GUI backend enabled.\n",
      "[Open3D INFO] WebRTCWindowSystem: HTTP handshake server disabled.\n"
     ]
    }
   ],
   "source": [
    "import numpy as np\n",
    "import math\n",
    "import random\n",
    "import os\n",
    "import os.path\n",
    "import torch\n",
    "import sys\n",
    "import copy\n",
    "import pickle\n",
    "import importlib\n",
    "import torch.nn as nn\n",
    "import time\n",
    "import functorch\n",
    "\n",
    "from torch.utils.data import Dataset, DataLoader\n",
    "from torchvision import transforms, utils\n",
    "import matplotlib.pyplot as plt\n",
    "from chamferdist import ChamferDistance\n",
    "from pathlib import Path\n",
    "\n",
    "import ifcopenshell\n",
    "import open3d as o3d\n",
    "\n",
    "from src.elements import *\n",
    "from src.ifc import *\n",
    "from src. preparation import *\n",
    "from src.dataset import *\n",
    "from src.pointnet import *\n",
    "from src.visualisation import *\n",
    "from src.geometry import sq_distance\n",
    "from src.icp import icp_finetuning\n",
    "from src.chamfer import *\n",
    "from src.utils import *\n",
    "from src.plots import plot_error_graph, plot_parameter_errors\n",
    "from src.pca import testset_PCA\n",
    "from src.finetune import chamfer_fine_tune\n",
    "from tqdm.notebook import tqdm\n"
   ]
  },
  {
   "cell_type": "code",
   "execution_count": 3,
   "metadata": {
    "id": "vpzTlKjmlr2q",
    "scrolled": true
   },
   "outputs": [],
   "source": [
    "random.seed = 42"
   ]
  },
  {
   "cell_type": "code",
   "execution_count": 4,
   "metadata": {
    "id": "Xyu78RWIQEQJ",
    "scrolled": true
   },
   "outputs": [],
   "source": [
    "#path = Path(\"ModelNet10\")\n",
    "#path = Path('/content/drive/MyDrive/ElementNet/')\n",
    "path = Path('output/')\n",
    "#savepath = '/content/drive/MyDrive/ElementNet/'\n",
    "savepath = 'models/'"
   ]
  },
  {
   "cell_type": "markdown",
   "metadata": {
    "id": "Isb_97zOA8Tl"
   },
   "source": [
    "## Model"
   ]
  },
  {
   "cell_type": "markdown",
   "metadata": {
    "id": "_8W4gOI_P9a9"
   },
   "source": [
    "## Test\n",
    "\n",
    "Analyze results statistically\n",
    "\n",
    "POINTNET++"
   ]
  },
  {
   "cell_type": "code",
   "execution_count": 5,
   "metadata": {
    "id": "4pOl95glmphX",
    "scrolled": true
   },
   "outputs": [],
   "source": [
    "train_transforms = transforms.Compose([\n",
    "                    Normalize(),\n",
    "#                    RandomNoise(),\n",
    "                    ToTensor()\n",
    "                    ])"
   ]
  },
  {
   "cell_type": "code",
   "execution_count": 43,
   "metadata": {
    "scrolled": true
   },
   "outputs": [
    {
     "data": {
      "text/plain": [
       "<All keys matched successfully>"
      ]
     },
     "execution_count": 43,
     "metadata": {},
     "output_type": "execute_result"
    }
   ],
   "source": [
    "# load data and model\n",
    "BASE_DIR = os.path.dirname(os.path.abspath('industrial-facility-relationships/'))\n",
    "BASE_DIR = os.path.join(BASE_DIR, 'pointnet2')\n",
    "ROOT_DIR = BASE_DIR\n",
    "sys.path.append(os.path.join(ROOT_DIR, 'models'))\n",
    "inference = True\n",
    "if inference:\n",
    "    path = Path('output/bp_data/')\n",
    "    ext = \".ply\"\n",
    "#     path = Path('tee_fix/')\n",
    "#     ext = \".pcd\"\n",
    "else:\n",
    "    path = Path('output/')\n",
    "    ext = \".pcd\"\n",
    "\n",
    "cat= 'tee'\n",
    "device = torch.device(\"cuda:0\" if torch.cuda.is_available() else \"cpu\")\n",
    "use_normals = False\n",
    "cat_targets = {\"elbow\":14, \"tee\":19, \"pipe\":11}\n",
    "\n",
    "if inference:\n",
    "    test_ds = PointCloudData(path, valid=True, folder='test', category=cat, transform=train_transforms, inference=True)\n",
    "    targets = cat_targets[cat]\n",
    "else:\n",
    "    test_ds = PointCloudData(path, valid=True, folder='test', category=cat, transform=train_transforms)\n",
    "    targets = test_ds.targets\n",
    "\n",
    "testDataLoader = torch.utils.data.DataLoader(dataset=test_ds, batch_size=32)\n",
    "test_criterion = nn.MSELoss()\n",
    "\n",
    "model_name = \"pointnet2_cls_ssg\"\n",
    "model_path = Path(\"pointnet2/log/classification/pointnet2_cls_ssg/\")\n",
    "model = importlib.import_module(model_name)\n",
    "\n",
    "\n",
    "predictor = model.get_model(targets, normal_channel=use_normals)\n",
    "if device != \"cpu\":\n",
    "    predictor = predictor.cuda()\n",
    "\n",
    "checkpoint = torch.load(model_path/'checkpoints/best_model.pth')\n",
    "#checkpoint = torch.load(model_path/'checkpoints/models/best_model_t_chamfer_0005.pth')\n",
    "predictor.load_state_dict(checkpoint['model_state_dict'])\n"
   ]
  },
  {
   "cell_type": "code",
   "execution_count": 44,
   "metadata": {
    "scrolled": true
   },
   "outputs": [],
   "source": [
    "blueprint = 'data/sample.ifc'\n",
    "temp_dir = \"output/temp/\"\n",
    "target_dir = \"output/tee/test/\"\n",
    "\n",
    "ifcConvert_executable = \"scripts/./IfcConvert\"\n",
    "cloudCompare_executable = \"cloudcompare.CloudCompare\"\n",
    "sample_size = 2048\n",
    "threshold = 2"
   ]
  },
  {
   "cell_type": "code",
   "execution_count": 45,
   "metadata": {
    "scrolled": true
   },
   "outputs": [],
   "source": [
    "def model_inference(model, loader, device, calculate_score=False):\n",
    "    predictor = model.eval()\n",
    "    predictions_list, pcd_list, id_list = [], [], []\n",
    "    with torch.no_grad():\n",
    "        for j, data  in tqdm(enumerate(loader), total=len(loader)):\n",
    "            points, ids = data['pointcloud'].to(device).float(), data['id'].to(device)\n",
    "            points = points.transpose(2, 1)\n",
    "            preds, _ = predictor(points)\n",
    "            preds, points, ids = preds.to(torch.device('cpu')), points.to(torch.device('cpu')), data['id'].to(torch.device('cpu'))\n",
    "            for i, pr in enumerate(preds):\n",
    "                predictions_list.append(pr.numpy())\n",
    "                pcd_list.append(points[i].numpy())\n",
    "                id_list.append(ids[i].numpy())\n",
    "\n",
    "        return (predictions_list, pcd_list, id_list)"
   ]
  },
  {
   "cell_type": "code",
   "execution_count": 46,
   "metadata": {
    "scrolled": true
   },
   "outputs": [
    {
     "data": {
      "application/vnd.jupyter.widget-view+json": {
       "model_id": "9d28e9d5f744498e8457169b51d6ab06",
       "version_major": 2,
       "version_minor": 0
      },
      "text/plain": [
       "  0%|          | 0/28 [00:00<?, ?it/s]"
      ]
     },
     "metadata": {},
     "output_type": "display_data"
    }
   ],
   "source": [
    "if inference:\n",
    "    predictions_list, cloud_list, id_list = model_inference(predictor.eval(), testDataLoader, device)"
   ]
  },
  {
   "cell_type": "code",
   "execution_count": 47,
   "metadata": {
    "scrolled": true
   },
   "outputs": [],
   "source": [
    "def test(model, loader, device, criterion):\n",
    "    losses = []\n",
    "    predictor = model.eval()\n",
    "    cloud_list = []\n",
    "    label_list = []\n",
    "    output_list = []\n",
    "    predictions_list = []\n",
    "    inputs_list = []\n",
    "    id_list = []\n",
    "    parameter_id = 0\n",
    "    tot = 0\n",
    "    count = 0\n",
    "    \n",
    "    for j, data  in tqdm(enumerate(loader), total=len(loader)):\n",
    "        inputs, labels, ids = data['pointcloud'].to(device).float(), data['properties'].to(device), data['id'].to(device)\n",
    "        points, target, ids = data['pointcloud'].to(device).float(), data['properties'].to(device), data['id'].to(device)\n",
    "        points = points.transpose(2, 1)\n",
    "        outputs, _ = predictor(points)\n",
    "        outputs = outputs.to(torch.device('cpu'))\n",
    "        inputs = points.to(torch.device('cpu'))\n",
    "        labels = target.to(torch.device('cpu'))\n",
    "        ids = ids.to(torch.device('cpu'))\n",
    "        #print(data['pointcloud'].size(), labels.size(), outputs.size())\n",
    "\n",
    "        for i in range(outputs.size(0)):\n",
    "            label_list.append(labels[i][parameter_id].item())\n",
    "            id_list.append(ids[i].item())\n",
    "            output_list.append(outputs[i][parameter_id].item())\n",
    "            predictions_list.append(outputs[i].numpy())\n",
    "            inputs_list.append(labels[i].numpy())\n",
    "            cloud_list.append(inputs[i].numpy())\n",
    "            ratio = ((labels[i][parameter_id]-outputs[i][parameter_id])/labels[i][parameter_id]).item()\n",
    "            #print('r', i+count, ids[i].item(), labels[i][parameter_id].item(), outputs[i][parameter_id].item(), ratio)\n",
    "            tot += np.absolute(ratio)\n",
    "            #print('l', labels[i][1].item(), outputs[i][1].item(), ((labels[i][1]-outputs[i][1])/labels[i][1]).item())\n",
    "        \n",
    "        count += outputs.size(0)\n",
    "    print(tot/count)\n",
    "\n",
    "    return predictions_list, inputs_list, label_list, output_list, id_list, cloud_list"
   ]
  },
  {
   "cell_type": "code",
   "execution_count": 48,
   "metadata": {
    "scrolled": true
   },
   "outputs": [],
   "source": [
    "if not inference:\n",
    "    with torch.no_grad():\n",
    "        predictions_list, inputs_list, label_list, output_list, id_list, cloud_list = test(predictor.eval(), testDataLoader, device, test_criterion)\n",
    "\n",
    "    print(len(predictions_list), len(inputs_list))"
   ]
  },
  {
   "cell_type": "code",
   "execution_count": 49,
   "metadata": {
    "scrolled": false
   },
   "outputs": [],
   "source": [
    "# k = 5\n",
    "# j = 4\n",
    "# direction = False\n",
    "# use_direction = True\n",
    "# square_error = True\n",
    "# error_calc(predictions_list, inputs_list, k, j, direction, use_direction, square_error)"
   ]
  },
  {
   "cell_type": "code",
   "execution_count": 50,
   "metadata": {
    "scrolled": true
   },
   "outputs": [],
   "source": [
    "if not inference:\n",
    "    label_list, output_list, id_list = np.array(label_list), np.array(output_list), np.array(id_list)"
   ]
  },
  {
   "cell_type": "code",
   "execution_count": 51,
   "metadata": {
    "scrolled": true
   },
   "outputs": [],
   "source": [
    "# ratio = np.absolute((label_list - output_list)/label_list)\n",
    "# ratio_ind = ratio.argsort()\n",
    "# id_list = id_list[ratio_ind]\n",
    "# print(id_list[-10:-1])\n",
    "\n",
    "# error_threshold = 0.1\n",
    "# correct = ratio[np.where(ratio < error_threshold)]\n",
    "# print(len(ratio), len(correct), len(correct)/len(ratio))\n"
   ]
  },
  {
   "cell_type": "code",
   "execution_count": 52,
   "metadata": {
    "scrolled": false
   },
   "outputs": [],
   "source": [
    "# cloud_id = 2\n",
    "# pcd_id = 24229  \n"
   ]
  },
  {
   "cell_type": "markdown",
   "metadata": {},
   "source": [
    "#### Visually analyse predictions and Fine tune with ICP, calculate chamfer distances"
   ]
  },
  {
   "cell_type": "code",
   "execution_count": 53,
   "metadata": {
    "scrolled": true
   },
   "outputs": [],
   "source": [
    "# scaling up and down is required for icp calculations\n",
    "def chamfer_evaluate(predictions_list, cloud_list, id_list, cat, blueprint,  ifcConvert_executable,\n",
    "                     cloudCompare_executable, temp_dir, target_dir, sample_size,\n",
    "                     threshold, icp_correction = False):\n",
    "\n",
    "    preds_list, pcd_list = [], []\n",
    "    error_count = 0\n",
    "\n",
    "    # get predictions and pcds\n",
    "    for i in tqdm(range(len(predictions_list))):\n",
    "    #for i in tqdm(range(50)):\n",
    "        pcd_id = id_list[i].item()\n",
    "        pcd, preds = cloud_list[i].transpose(1, 0), copy.deepcopy(predictions_list[i])\n",
    "        #print(preds, inputs_list[i])\n",
    "\n",
    "        preds = scale_preds(preds.tolist(), cat)\n",
    "        #pcd, preds = prepare_visualisation(pcd_id, cat, i, cloud_list, predictions_list, path, ext)\n",
    "\n",
    "        try:\n",
    "            if  icp_correction:\n",
    "                # note: preds are updated in place during ICP\n",
    "                _, _ = icp_finetuning(o3d.utility.Vector3dVector(pcd), pcd_id, cat, preds, blueprint, temp_dir, target_dir, \n",
    "                                     ifcConvert_executable, cloudCompare_executable, sample_size, threshold, False)\n",
    "\n",
    "            preds_list.append(preds)\n",
    "            pcd_list.append(pcd)\n",
    "\n",
    "        except Exception as e:\n",
    "            print(\"ICP error\", pcd_id, e)\n",
    "            error_count += 1\n",
    "\n",
    "    # calculate chamfer distances\n",
    "    cuda = torch.device('cuda')    \n",
    "    rescaled_preds = [scale_preds(preds, cat, up=0) for preds in preds_list]\n",
    "    preds_t = torch.tensor(rescaled_preds, requires_grad=True, device=cuda)\n",
    "    cloud_t = torch.tensor(cloud_list, device=cuda)\n",
    "    \n",
    "    chamfer_dists = get_chamfer_loss_tensor(preds_t, cloud_t, cat, reduce=False)\n",
    "    chamfer_dists = chamfer_dists.detach().cpu().numpy()\n",
    "    \n",
    "#     for i, preds in enumerate(tqdm(preds_list)):\n",
    "#         preds = scale_preds(preds, cat, up=0)\n",
    "#         chamfer_distance, _ = get_chamfer_dist_single(pcd_list[i], preds, cat)\n",
    "#         chamfer_dists.append(chamfer_distance)\n",
    "        \n",
    "\n",
    "    \n",
    "    print(\"error_count\", error_count)\n",
    "    return chamfer_dists"
   ]
  },
  {
   "cell_type": "code",
   "execution_count": 54,
   "metadata": {
    "scrolled": true
   },
   "outputs": [
    {
     "data": {
      "application/vnd.jupyter.widget-view+json": {
       "model_id": "feeb1f4c128d4c1c98405516acbbe34b",
       "version_major": 2,
       "version_minor": 0
      },
      "text/plain": [
       "  0%|          | 0/891 [00:00<?, ?it/s]"
      ]
     },
     "metadata": {},
     "output_type": "display_data"
    },
    {
     "name": "stdout",
     "output_type": "stream",
     "text": [
      "error_count 0\n",
      "avg 132.12733 8 300.33795 26.363283 [0.00257429 0.0024787  0.00243555 0.0024233  0.00241301 0.00239182\n",
      " 0.00234552 0.00233929 0.0023253  0.0023221  0.00231294 0.00231158\n",
      " 0.00231047 0.00230314 0.00228212 0.00227544 0.00225906 0.00225757\n",
      " 0.00224559 0.00223746 0.00223674 0.00223504 0.00222861 0.00221759\n",
      " 0.00221129 0.00220604 0.00219018 0.00217703 0.00217172 0.00217145\n",
      " 0.00216957 0.0021604  0.00215833 0.0021565  0.00215188 0.00214991\n",
      " 0.00213102 0.00212995 0.00212644 0.00212003 0.00211633 0.00211424\n",
      " 0.00209987 0.0020897  0.00208816 0.00207097 0.00206276 0.00206147\n",
      " 0.00205764 0.00205424 0.00205036 0.00204371 0.00204281 0.00203771\n",
      " 0.00202321 0.00201152 0.00200328 0.00199639 0.00199543 0.00198666\n",
      " 0.0019798  0.00196304 0.00195806 0.00195745 0.00195515 0.00195367\n",
      " 0.00194949 0.00194879 0.00194396 0.00194237 0.00194054 0.00192819\n",
      " 0.00191913 0.0019118  0.00190868 0.00190854 0.00188805 0.00188582\n",
      " 0.00188373 0.00188296 0.0018823  0.00187855 0.0018689  0.00186088\n",
      " 0.00186009 0.00185047 0.0018468  0.00183445 0.00183292 0.00182859\n",
      " 0.00182465 0.00180903 0.00180506 0.00180486 0.00180367 0.00179735\n",
      " 0.00179712 0.00178913 0.00178676 0.00178576 0.00178571 0.00178549\n",
      " 0.00177667 0.00177334 0.00177258 0.00177084 0.00175751 0.00175705\n",
      " 0.00175642 0.00175235 0.001752   0.00175084 0.00174479 0.00174467\n",
      " 0.00174377 0.00174286 0.0017423  0.00173733 0.00173256 0.00173191\n",
      " 0.0017236  0.00172298 0.0017184  0.0017137  0.00170974 0.00170958\n",
      " 0.00170133 0.00169977 0.00169856 0.00169718 0.00169524 0.00169481\n",
      " 0.0016944  0.00169405 0.00169349 0.00169296 0.00169228 0.0016911\n",
      " 0.00168875 0.00168667 0.00168544 0.00167854 0.00167786 0.00167673\n",
      " 0.00167369 0.00167218 0.00166775 0.00166623 0.00166557 0.00166528\n",
      " 0.00166351 0.00166168 0.00166128 0.00165944 0.00165593 0.00165377\n",
      " 0.00165367 0.00164988 0.00164733 0.00164538 0.0016443  0.00164216\n",
      " 0.00163745 0.00163453 0.00163219 0.00163091 0.00163039 0.00162794\n",
      " 0.00162542 0.00162232 0.00162104 0.00162006 0.00161777 0.00161711\n",
      " 0.00161189 0.00161158 0.00161148 0.0016096  0.00160672 0.00160622\n",
      " 0.00160189 0.0016006  0.00159616 0.00159425 0.00159408 0.00159116\n",
      " 0.00159014 0.0015885  0.00158719 0.00158636 0.00158209 0.00158126\n",
      " 0.00158024 0.00157676 0.00157553 0.00157502 0.00157114 0.00157001\n",
      " 0.00156342 0.00156307 0.00156005 0.00155916 0.00155545 0.00155326\n",
      " 0.0015527  0.00155239 0.00154416 0.00154379 0.00153271 0.00153246\n",
      " 0.00153192 0.00152985 0.00152706 0.00152632 0.00152628 0.00152446\n",
      " 0.0015204  0.00151389 0.00151362 0.00151329 0.00150928 0.0015083\n",
      " 0.00150676 0.00150526 0.00150506 0.00150241 0.00149932 0.00149882\n",
      " 0.00149197 0.00149098 0.00149014 0.0014868  0.00148363 0.00148175\n",
      " 0.00148145 0.0014797  0.00147795 0.00147714 0.00147469 0.00147362\n",
      " 0.00147256 0.00147215 0.00146947 0.00146946 0.00146685 0.00146646\n",
      " 0.00146378 0.00146363 0.00146247 0.00146174 0.00146066 0.00146053\n",
      " 0.00145979 0.00145848 0.00145468 0.00145102 0.00144986 0.00144598\n",
      " 0.00144081 0.00143816 0.00143725 0.00143725 0.00143624 0.00143375\n",
      " 0.00143185 0.00143053 0.0014305  0.00142632 0.00142547 0.00142451\n",
      " 0.00142371 0.00142311 0.00141867 0.00141699 0.00141353 0.00141103\n",
      " 0.00140881 0.00140759 0.00140719 0.00140719 0.00140708 0.00140525\n",
      " 0.00140339 0.00140208 0.00140057 0.00139981 0.00139884 0.00139799\n",
      " 0.00139749 0.00139738 0.00139668 0.0013954  0.00139403 0.00139323\n",
      " 0.00138955 0.00138943 0.00138922 0.00138903 0.00138839 0.00138159\n",
      " 0.00138113 0.00138095 0.00137653 0.00137612 0.00137579 0.00137393\n",
      " 0.00137382 0.00137153 0.00137143 0.00136957 0.00136474 0.00136425\n",
      " 0.00136413 0.00136364 0.0013634  0.00136199 0.00136062 0.0013593\n",
      " 0.00135898 0.00135857 0.00135625 0.00135531 0.00135513 0.00135484\n",
      " 0.00135432 0.00135398 0.00135204 0.00135004 0.0013495  0.00134857\n",
      " 0.00134716 0.00134582 0.00134559 0.00134259 0.00134015 0.00133956\n",
      " 0.00133845 0.00133578 0.00133231 0.00132946 0.00132486 0.00132419\n",
      " 0.00132241 0.00132097 0.00131796 0.00131642 0.00131484 0.00131301\n",
      " 0.00131172 0.0013094  0.00130856 0.00130836 0.00130784 0.00130739\n",
      " 0.00130604 0.00130581 0.00130497 0.00130465 0.00130354 0.00130171\n",
      " 0.00129958 0.00129809 0.00129717 0.0012967  0.00129659 0.00129634\n",
      " 0.00129587 0.00129396 0.00129103 0.00129071 0.00128783 0.00128673\n",
      " 0.00128125 0.00128096 0.0012769  0.00126894 0.00126887 0.00126882\n",
      " 0.00126378 0.00126317 0.00126115 0.00126092 0.00126058 0.00126034\n",
      " 0.00125761 0.00125542 0.00125525 0.00125422 0.00125297 0.00124567\n",
      " 0.0012443  0.00124342 0.00124272 0.00124133 0.00123996 0.00123963\n",
      " 0.00123798 0.00123402 0.00123111 0.00122813 0.00122781 0.00122687\n",
      " 0.00122537 0.00122346 0.0012232  0.00122262 0.00122161 0.00121926\n",
      " 0.00121624 0.00121481 0.00121354 0.00121258 0.00121194 0.00121071\n",
      " 0.00120647 0.00120646 0.00120446 0.00120341 0.00120165 0.00120073\n",
      " 0.00119619 0.00119568 0.00119458 0.00119434 0.00119353 0.0011907\n",
      " 0.00119047 0.00118995 0.0011878  0.0011867  0.00118586 0.00118383\n",
      " 0.00118133 0.00117969 0.00117925 0.00117842 0.00117751 0.00117539\n",
      " 0.00117299 0.0011716  0.00117109 0.00117022 0.00116989 0.00116924\n",
      " 0.00116839 0.00116801 0.00116703 0.00116632 0.00116595 0.00116554\n",
      " 0.0011654  0.0011646  0.00116297 0.00116156 0.00115918 0.00115803\n",
      " 0.00115379 0.00115149 0.00114717 0.00114484 0.00114396 0.00114155\n",
      " 0.00113751 0.00113676 0.00113526 0.00112996 0.00112875 0.00112597\n",
      " 0.00112566 0.00112229 0.00112184 0.00112052 0.00112002 0.00111882\n",
      " 0.00111725 0.00111479 0.00111189 0.00111096 0.00111005 0.00110872\n",
      " 0.00110604 0.00110452 0.00110394 0.00110387 0.00110352 0.00110258\n",
      " 0.00110115 0.00110018 0.00109996 0.00109819 0.00109671 0.00108941\n",
      " 0.00108467 0.00108302 0.00108044 0.00107944 0.00107788 0.00107716\n",
      " 0.00107615 0.00107465 0.00107425 0.00107349 0.00107143 0.0010708\n",
      " 0.00106873 0.00106819 0.00106725 0.00106039 0.00105833 0.0010577\n",
      " 0.00105711 0.00105643 0.00105151 0.00105142 0.00105131 0.00105046\n",
      " 0.00104509 0.00104423 0.00104283 0.00104049 0.00103973 0.00103885\n",
      " 0.00103821 0.00103376 0.00103354 0.00103293 0.0010306  0.00103017\n",
      " 0.00102666 0.00102284 0.00101682 0.00101501 0.00101077 0.00100753\n",
      " 0.00100748 0.00100563 0.00100432 0.00100389 0.00100019 0.00099579\n",
      " 0.00099574 0.00099521 0.00099211 0.00099162 0.00099022 0.00098919\n",
      " 0.00098867 0.00098405 0.00097944 0.00097937 0.00097731 0.00097287\n",
      " 0.00097055 0.00097008 0.00096104 0.00095702 0.00095593 0.00095294\n",
      " 0.00094957 0.00094551 0.00094299 0.00093507 0.00093067 0.00092941\n",
      " 0.00092899 0.00092876 0.00092124 0.00091134 0.00089784 0.00089686\n",
      " 0.0008872  0.0008863  0.00088484 0.00088019 0.00087887 0.00087846\n",
      " 0.000878   0.00087753 0.00087535 0.00087512 0.00087158 0.00086885\n",
      " 0.00086617 0.00086493 0.00086392 0.00086279 0.00086273 0.00086105\n",
      " 0.00086091 0.00084843 0.00084523 0.00084495 0.00084451 0.00083446\n",
      " 0.00083326 0.0008325  0.00082593 0.00081875 0.00081609 0.00081008\n",
      " 0.00080128 0.00079443 0.00079098 0.00079072 0.0007884  0.00077794\n",
      " 0.00077699 0.00077583 0.00077275 0.00076871 0.0007646  0.00076369\n",
      " 0.00076255 0.00076078 0.00075693 0.00075489 0.00075256 0.00075182\n",
      " 0.00075003 0.00074623 0.00074149 0.00074033 0.00074013 0.00073734\n",
      " 0.00073665 0.0007355  0.00073425 0.00073393 0.00072836 0.0007277\n",
      " 0.00072711 0.00072681 0.00072584 0.00072144 0.00071929 0.00071269\n",
      " 0.00071219 0.00070591 0.00070494 0.00070297 0.00070133 0.00069892\n",
      " 0.00069578 0.00069566 0.00069464 0.00069384 0.00069373 0.00068949\n",
      " 0.00068895 0.00068441 0.00068308 0.0006804  0.00067958 0.00067328\n",
      " 0.00067225 0.00067088 0.00066944 0.00066883 0.00066881 0.00066191\n",
      " 0.00065673 0.00064898 0.00064865 0.00064407 0.00063496 0.00063112\n",
      " 0.00062377 0.00062217 0.00060936 0.00060918 0.00060691 0.0006065\n",
      " 0.00060581 0.00060126 0.00059954 0.00059686 0.00059287 0.0005915\n",
      " 0.00058742 0.00058718 0.0005862  0.00058365 0.00058308 0.00057887\n",
      " 0.00057861 0.00057404 0.00057254 0.00057162 0.00057047 0.00056963\n",
      " 0.00056707 0.00056531 0.00056283 0.00055994 0.00055167 0.00054977\n",
      " 0.00054825 0.00054625 0.00054317 0.00053951 0.00053908 0.00053788\n",
      " 0.00053481 0.00053473 0.00053268 0.00053075 0.00053004 0.0005297\n",
      " 0.00052669 0.00052556 0.00052398 0.00052271 0.00052235 0.00052224\n",
      " 0.00052127 0.00051777 0.00051393 0.00051152 0.00050901 0.00050753\n",
      " 0.00050573 0.00050249 0.00050026 0.00049939 0.00049894 0.0004947\n",
      " 0.00049224 0.0004901  0.00048916 0.00048654 0.00048544 0.00048042\n",
      " 0.00047755 0.0004754  0.00047375 0.00047214 0.00047046 0.00047025\n",
      " 0.00046673 0.00046536 0.00046433 0.00046383 0.00046178 0.0004597\n",
      " 0.00045948 0.00045681 0.00045441 0.00044888 0.00044806 0.00044603\n",
      " 0.00044518 0.00044343 0.00044317 0.00044296 0.00044201 0.00043895\n",
      " 0.00043812 0.0004379  0.00043729 0.00043704 0.00043367 0.00043329\n",
      " 0.00043277 0.00043093 0.00042908 0.00042412 0.00041971 0.00041469\n",
      " 0.00041459 0.00041298 0.0004129  0.0004125  0.00041222 0.0004118\n",
      " 0.00041124 0.00040947 0.00040511 0.00040423 0.00040407 0.00040406\n",
      " 0.0004039  0.00040185 0.00040163 0.00040007 0.00039899 0.00039764\n",
      " 0.00039625 0.00039559 0.00039224 0.00039222 0.00039194 0.00039154\n",
      " 0.00039148 0.00038894 0.00038581 0.00038461 0.00038393 0.00038261\n",
      " 0.00038115 0.00038073 0.00038051 0.00038008 0.00037981 0.0003784\n",
      " 0.00037478 0.00037273 0.00037006 0.0003681  0.00036794 0.00036676\n",
      " 0.00036425 0.00036354 0.00036266 0.00036124 0.00036109 0.00036062\n",
      " 0.00036001 0.00035797 0.00035483 0.00035212 0.00035142 0.00034413\n",
      " 0.00034196 0.00034064 0.00033864 0.00033603 0.00033503 0.00033433\n",
      " 0.00033287 0.0003313  0.00033055 0.0003301  0.00032575 0.00032317\n",
      " 0.00032152 0.0003211  0.00031778 0.0003148  0.00031216 0.00031111\n",
      " 0.00031049 0.00031014 0.0003079  0.00030604 0.00030565 0.00030423\n",
      " 0.0003034  0.0002994  0.00029356 0.00029319 0.00029292 0.00028653\n",
      " 0.00028112 0.00028091 0.00027747 0.00027724 0.00027707 0.00027655\n",
      " 0.00027639 0.00027534 0.00027313 0.00027228 0.00027183 0.00027126\n",
      " 0.00026346 0.00026345 0.00025961 0.00025756 0.00025517 0.00025434\n",
      " 0.00025389 0.00025366 0.00025161 0.00025136 0.00025039 0.00024836\n",
      " 0.00024297 0.00023972 0.00023813 0.000233   0.00023183 0.00022628\n",
      " 0.00022597]\n"
     ]
    },
    {
     "data": {
      "image/png": "[encoded data removed]",
      "text/plain": [
       "<Figure size 864x288 with 1 Axes>"
      ]
     },
     "metadata": {
      "needs_background": "light"
     },
     "output_type": "display_data"
    }
   ],
   "source": [
    "dists = chamfer_evaluate(predictions_list, cloud_list, id_list, cat, blueprint,  ifcConvert_executable,\n",
    "                     cloudCompare_executable, temp_dir, target_dir, sample_size, threshold, icp_correction = False)\n",
    "# if inference:\n",
    "#     with open(model_path + 'preds_' + cat + '.pkl', 'wb') as f:\n",
    "#         pickle.dump([predictions_list, id_list, dists], f)\n",
    "    \n",
    "plot_error_graph(dists, \"Binned chamfer loss\", max_val=300)"
   ]
  },
  {
   "cell_type": "code",
   "execution_count": null,
   "metadata": {
    "scrolled": true
   },
   "outputs": [],
   "source": [
    "# scaling up and down is required for icp calculations\n",
    "def _visualise_predictions(predictions_list, cloud_list, id_list, cat, blueprint,  ifcConvert_executable,\n",
    "                     cloudCompare_executable, temp_dir, target_dir, sample_size,\n",
    "                     threshold, icp_correction = False):\n",
    "\n",
    "    preds_list, pcd_list = [], []\n",
    "    viewer_list, ifc_list = [], []\n",
    "    error_count = 0\n",
    "\n",
    "    # get predictions and pcds\n",
    "    #for i in tqdm(range(len(predictions_list))):\n",
    "    for i in tqdm(range(20)):\n",
    "        pcd_id = id_list[i].item()\n",
    "        pcd, preds = cloud_list[i].transpose(1, 0).tolist(), copy.deepcopy(predictions_list[i])\n",
    "        #print(preds, inputs_list[i])\n",
    "\n",
    "        preds = scale_preds(preds.tolist(), cat)\n",
    "        print(preds)\n",
    "        #pcd, preds = prepare_visualisation(pcd_id, cat, i, cloud_list, inputs_list, ext)\n",
    "\n",
    "#         try:\n",
    "        if  icp_correction:\n",
    "            # note: preds are updated in place during ICP\n",
    "            viewer, ifc = icp_finetuning(o3d.utility.Vector3dVector(pcd), pcd_id, cat, preds, blueprint, temp_dir, target_dir, \n",
    "                                 ifcConvert_executable, cloudCompare_executable, sample_size, threshold, True)\n",
    "        else:\n",
    "            #print(preds)\n",
    "            viewer, ifc = visualize_predictions([pcd], cat, [preds], blueprint, visualize=True)\n",
    "\n",
    "\n",
    "        preds_list.append(preds)\n",
    "        pcd_list.append(pcd)\n",
    "        viewer_list.append(viewer)\n",
    "        ifc_list.append(ifc)\n",
    "\n",
    "#         except Exception as e:\n",
    "#             print(\"ICP error\", pcd_id, e)\n",
    "#             error_count += 1\n",
    "\n",
    "\n",
    "    print(\"error_count\", error_count)    \n",
    "    return viewer_list"
   ]
  },
  {
   "cell_type": "code",
   "execution_count": null,
   "metadata": {
    "scrolled": true
   },
   "outputs": [],
   "source": [
    "viewers = _visualise_predictions(predictions_list, cloud_list, id_list, cat, blueprint,  ifcConvert_executable,\n",
    "                     cloudCompare_executable, temp_dir, target_dir, sample_size, threshold, icp_correction = False)"
   ]
  },
  {
   "cell_type": "code",
   "execution_count": null,
   "metadata": {
    "scrolled": false
   },
   "outputs": [],
   "source": [
    "for v in viewers:\n",
    "    print(v)"
   ]
  },
  {
   "cell_type": "code",
   "execution_count": null,
   "metadata": {
    "scrolled": false
   },
   "outputs": [],
   "source": [
    "# icp_correction = False\n",
    "# viewers, ifcs = [], []\n",
    "# preds_list, pcd_list = [], []\n",
    "\n",
    "# for i in range(1,4):\n",
    "#     pcd_id = id_list[i].item()\n",
    "#     #print(pcd_id) \n",
    "        \n",
    "#     #print(\"p\", predictions_list[i], \"in\", inputs_list[i])\n",
    "\n",
    "# #     #pcd, preds = prepare_visualisation(pcd_id, cat, i, cloud_list, predictions_list, path, ext)\n",
    "# #     pcd, preds = cloud_list[i].transpose(1, 0), copy.deepcopy(predictions_list[i])\n",
    "# #     print(pcd.shape)\n",
    "# #     preds = scale_preds(preds.tolist(), cat)\n",
    "# # #     pcd2, input_preds = prepare_visualisation(pcd_id, cat, i, cloud_list, inputs_list, path, ext)\n",
    "# # #     indices_to_replace = [5, 6, 7]\n",
    "# # #     for i in indices_to_replace:\n",
    "# # #         preds[i] = input_preds[i]\n",
    "    \n",
    "# #     #try:\n",
    "# #     if not icp_correction:\n",
    "# #         viewer, ifc = visualize_predictions([pcd], cat, [preds], blueprint, visualize=True)\n",
    "\n",
    "# #     else:\n",
    "# #         viewer, ifc = icp_finetuning(pcd, pcd_id, cat, preds, blueprint, temp_dir, target_dir, \n",
    "# #                              ifcConvert_executable, cloudCompare_executable, sample_size, threshold)\n",
    "\n",
    "# #     viewers.append(viewer) \n",
    "# #     ifcs.append(ifc)\n",
    "# #     preds_list.append(preds)\n",
    "# #     pcd_list.append(pcd)\n",
    "       \n",
    "# # #     except Exception as e:\n",
    "# # #         print(\"ICP error\", pcd_id, e)\n",
    "        \n",
    "#     preds_list.append(inputs_list[i])\n",
    "#     pcd_list.append(cloud_list[i].transpose(1, 0))\n",
    "\n",
    "# cloud = o3d.geometry.PointCloud()\n",
    "# chamfer_dists = []\n",
    "# for i, preds in enumerate(preds_list):\n",
    "#     pcd = pcd_list[i]\n",
    "#     chamfer_distance, cl = get_chamfer_dist_single(pcd, preds, cat)\n",
    "#     chamfer_dists.append(chamfer_distance)\n",
    "    \n",
    "# print(\"chamfer_distance\", sum(chamfer_dists)/len(chamfer_dists))\n",
    "# print(\"chamfer_distance\", chamfer_dists)\n",
    "# cloud.points = o3d.utility.Vector3dVector(np.array(cl))\n",
    "# o3d.io.write_point_cloud(\"generated.pcd\", cloud)\n",
    "# cloud.points = o3d.utility.Vector3dVector(pcd)\n",
    "# o3d.io.write_point_cloud(\"pcd.pcd\", cloud)\n",
    "\n",
    "\n",
    "# #tensor based chamfer dist\n",
    "# preds_tensor = torch.tensor(preds_list).cuda()\n",
    "# pcd_tensor = torch.transpose(torch.tensor(pcd_list).cuda().float(), 1,2)\n",
    "# #print(pcd_tensor.shape)\n",
    "# chamfer_distance = get_chamfer_loss_tensor(preds_tensor, pcd_tensor)\n",
    "# print(\"chamfer\", chamfer_distance)\n",
    "\n",
    "\n",
    "# # for i, cl in enumerate(clouds_tensor.detach().cpu().numpy()):\n",
    "# #     cloud.points = o3d.utility.Vector3dVector(cl)\n",
    "# #     o3d.io.write_point_cloud(\"axis_\"+str(i)+\".pcd\", cloud)\n",
    "# #     cloud.points = pcd_list[i]\n",
    "# #     o3d.io.write_point_cloud(\"pcd_\"+str(i)+\".pcd\", cloud)\n",
    "    \n",
    "# # cloud = generate_elbow_cloud(preds)\n",
    "    \n",
    "# #chamfer_distance = get_chamfer_dist_single(cloud, pcd)\n",
    "# #print(\"chamfer_distance\", chamfer_distance)\n",
    "\n",
    "\n"
   ]
  },
  {
   "cell_type": "code",
   "execution_count": null,
   "metadata": {
    "scrolled": false
   },
   "outputs": [],
   "source": [
    "plot_parameter_errors(inputs_list, predictions_list, cat)"
   ]
  },
  {
   "cell_type": "markdown",
   "metadata": {},
   "source": [
    "#### BP data Visualisation"
   ]
  },
  {
   "cell_type": "code",
   "execution_count": null,
   "metadata": {
    "scrolled": true
   },
   "outputs": [],
   "source": [
    "batch_visualise(model_path, blueprint, path, ext, device, ifc=False)"
   ]
  },
  {
   "cell_type": "code",
   "execution_count": null,
   "metadata": {
    "scrolled": true
   },
   "outputs": [],
   "source": [
    "#merge_clouds(path, 'pipe')"
   ]
  },
  {
   "cell_type": "markdown",
   "metadata": {},
   "source": [
    "### Misc"
   ]
  },
  {
   "cell_type": "code",
   "execution_count": null,
   "metadata": {
    "scrolled": true
   },
   "outputs": [],
   "source": [
    "# PCA\n",
    "#testset_PCA(cloud_list, inputs_list, testDataLoader, cat)"
   ]
  },
  {
   "cell_type": "code",
   "execution_count": null,
   "metadata": {
    "scrolled": true
   },
   "outputs": [],
   "source": [
    "print(torch. __version__)"
   ]
  },
  {
   "cell_type": "code",
   "execution_count": null,
   "metadata": {
    "scrolled": false
   },
   "outputs": [],
   "source": [
    "# preds = inputs_list[:512]\n",
    "# #preds = scale_preds(preds, cat, up=0)\n",
    "# pcd = cloud_list[1].transpose(1, 0)\n",
    "# print(preds)\n",
    "\n",
    "# preds_tensor = torch.tensor(np.array(preds)).cuda().float()\n",
    "# gen_cloud = generate_tee_cloud_tensor(preds_tensor)\n",
    "# print(gen_cloud.shape)\n",
    "# #gen_cloud = generate_pipe_cloud(preds)\n",
    "\n",
    "# points = gen_cloud.detach().cpu().numpy()\n",
    "# #points = np.array(gen_cloud)\n",
    "# cloud = o3d.geometry.PointCloud()\n",
    "# print(type(points), points.shape)\n",
    "# cloud.points = o3d.utility.Vector3dVector(points[0])\n",
    "# #cloud.points = o3d.utility.Vector3dVector(points)\n",
    "# o3d.io.write_point_cloud(\"pipe_gen.pcd\", cloud)\n",
    "\n",
    "# cloud.points = o3d.utility.Vector3dVector(pcd)\n",
    "# o3d.io.write_point_cloud(\"pipe_input.pcd\", cloud)"
   ]
  },
  {
   "cell_type": "code",
   "execution_count": null,
   "metadata": {
    "scrolled": true
   },
   "outputs": [],
   "source": [
    "# chamfer loss\n",
    "#v, loss = chamfer_fine_tune(50, 0.0001, predictions_list[0], cloud_list[0], cat, blueprint)"
   ]
  },
  {
   "cell_type": "code",
   "execution_count": 57,
   "metadata": {
    "scrolled": false
   },
   "outputs": [
    {
     "name": "stdout",
     "output_type": "stream",
     "text": [
      "intial loss tensor([228.1048, 129.3526,  50.2754,  48.3813, 231.7801,  44.4189,  86.3737,\n",
      "        281.5223,  68.0931, 176.0854, 186.8905, 148.0448, 163.1010, 145.0685,\n",
      "         47.7720, 330.5566, 210.5703, 111.1782, 153.7638, 151.6201],\n",
      "       device='cuda:0', grad_fn=<AddBackward0>)\n"
     ]
    },
    {
     "data": {
      "application/vnd.jupyter.widget-view+json": {
       "model_id": "bed03ce6b09b4589877e78781ee84e07",
       "version_major": 2,
       "version_minor": 0
      },
      "text/plain": [
       "  0%|          | 0/100 [00:00<?, ?it/s]"
      ]
     },
     "metadata": {},
     "output_type": "display_data"
    },
    {
     "name": "stdout",
     "output_type": "stream",
     "text": [
      "0 loss 344.8579\n",
      "1 loss 314.96805\n",
      "2 loss 288.2786\n",
      "3 loss 265.0522\n",
      "4 loss 244.95743\n",
      "5 loss 227.6572\n",
      "6 loss 212.88481\n",
      "7 loss 200.23648\n",
      "8 loss 189.55356\n",
      "9 loss 180.66396\n",
      "10 loss 173.38995\n",
      "11 loss 167.27701\n",
      "12 loss 162.00737\n",
      "13 loss 157.51678\n",
      "14 loss 153.44867\n",
      "15 loss 149.85889\n",
      "16 loss 146.6578\n",
      "17 loss 143.67934\n",
      "18 loss 140.9224\n",
      "19 loss 138.14403\n",
      "20 loss 135.36018\n",
      "21 loss 132.53143\n",
      "22 loss 129.54173\n",
      "23 loss 126.541504\n",
      "24 loss 123.57109\n",
      "25 loss 120.59803\n",
      "26 loss 117.83423\n",
      "27 loss 114.86496\n",
      "28 loss 112.16374\n",
      "29 loss 109.59355\n",
      "30 loss 107.00145\n",
      "31 loss 104.685135\n",
      "32 loss 103.5735\n",
      "33 loss 101.55798\n",
      "34 loss 99.38999\n",
      "35 loss 97.24687\n",
      "36 loss 95.61535\n",
      "37 loss 94.41524\n",
      "38 loss 93.556366\n",
      "39 loss 92.640915\n",
      "40 loss 91.45833\n",
      "41 loss 90.18315\n",
      "42 loss 88.91998\n",
      "43 loss 87.847305\n",
      "44 loss 86.96268\n",
      "45 loss 86.13651\n",
      "46 loss 85.25565\n",
      "47 loss 84.3127\n",
      "48 loss 83.42415\n",
      "49 loss 82.613785\n",
      "50 loss 81.73804\n",
      "51 loss 80.918365\n",
      "52 loss 80.17949\n",
      "53 loss 79.5637\n",
      "54 loss 78.92735\n",
      "55 loss 78.41681\n",
      "56 loss 77.85736\n",
      "57 loss 77.38025\n",
      "58 loss 77.07628\n",
      "59 loss 76.59088\n",
      "60 loss 76.10127\n",
      "61 loss 75.75098\n",
      "62 loss 75.352585\n",
      "63 loss 75.06766\n",
      "64 loss 74.792145\n",
      "65 loss 74.648636\n",
      "66 loss 74.54741\n",
      "67 loss 74.49455\n",
      "68 loss 74.16019\n",
      "69 loss 73.7127\n",
      "70 loss 73.4178\n",
      "71 loss 72.957794\n",
      "72 loss 72.60365\n",
      "73 loss 72.43521\n",
      "74 loss 72.33095\n",
      "75 loss 72.35224\n",
      "76 loss 72.55487\n",
      "77 loss 72.703766\n",
      "78 loss 72.67467\n",
      "79 loss 72.600685\n",
      "80 loss 72.25695\n",
      "81 loss 71.92001\n",
      "82 loss 71.61338\n",
      "83 loss 71.310165\n",
      "84 loss 71.15595\n",
      "85 loss 70.963005\n",
      "86 loss 70.72971\n",
      "87 loss 70.5794\n",
      "88 loss 70.484825\n",
      "89 loss 70.428085\n",
      "90 loss 70.35132\n",
      "91 loss 70.25563\n",
      "92 loss 70.35126\n",
      "93 loss 70.62033\n",
      "94 loss 70.684006\n",
      "95 loss 70.611336\n",
      "96 loss 70.603294\n",
      "97 loss 70.58756\n",
      "98 loss 70.51461\n",
      "99 loss 70.47387\n",
      "final loss tensor([104.1094,  70.5185,  15.7207,  21.8408,  10.5865,   7.6333,  22.6098,\n",
      "          9.8220,  20.1457,  35.2689,   9.8348,  66.8909,  90.6933,  97.3468,\n",
      "         17.3756,  87.2516,  62.1001,  18.4256,  71.4583,  23.9384],\n",
      "       device='cuda:0', grad_fn=<AddBackward0>)\n"
     ]
    }
   ],
   "source": [
    "limit = 20\n",
    "#limit = len(predictions_list)\n",
    "\n",
    "#v, modified_preds = chamfer_fine_tune(100, 0.01, predictions_list[:limit], cloud_list[:limit], cat, blueprint, alpha=3, visualise=True)\n",
    "modified_preds = chamfer_fine_tune(100, 0.01, predictions_list[:limit], cloud_list[:limit], cat, blueprint, alpha=3, visualise=False)\n"
   ]
  },
  {
   "cell_type": "code",
   "execution_count": 58,
   "metadata": {
    "scrolled": false
   },
   "outputs": [
    {
     "ename": "NameError",
     "evalue": "name 'v' is not defined",
     "output_type": "error",
     "traceback": [
      "\u001b[0;31m---------------------------------------------------------------------------\u001b[0m",
      "\u001b[0;31mNameError\u001b[0m                                 Traceback (most recent call last)",
      "Input \u001b[0;32mIn [58]\u001b[0m, in \u001b[0;36m<cell line: 1>\u001b[0;34m()\u001b[0m\n\u001b[0;32m----> 1\u001b[0m \u001b[38;5;28mprint\u001b[39m(\u001b[43mv\u001b[49m)\n",
      "\u001b[0;31mNameError\u001b[0m: name 'v' is not defined"
     ]
    }
   ],
   "source": [
    "print(v)"
   ]
  },
  {
   "cell_type": "code",
   "execution_count": null,
   "metadata": {
    "scrolled": true
   },
   "outputs": [],
   "source": []
  },
  {
   "cell_type": "code",
   "execution_count": null,
   "metadata": {
    "scrolled": true
   },
   "outputs": [],
   "source": [
    "plot_parameter_errors(inputs_list, modified_preds, cat)"
   ]
  },
  {
   "cell_type": "code",
   "execution_count": 56,
   "metadata": {
    "scrolled": false
   },
   "outputs": [
    {
     "data": {
      "application/vnd.jupyter.widget-view+json": {
       "model_id": "99d5944706704effb362d6c2eeac03fe",
       "version_major": 2,
       "version_minor": 0
      },
      "text/plain": [
       "  0%|          | 0/891 [00:00<?, ?it/s]"
      ]
     },
     "metadata": {},
     "output_type": "display_data"
    },
    {
     "name": "stdout",
     "output_type": "stream",
     "text": [
      "error_count 0\n",
      "avg 33.810837 8 108.46652 7.6387405 [0.00363311 0.00359211 0.00357381 0.00352137 0.0034991  0.00348007\n",
      " 0.00346481 0.00338977 0.00338644 0.00334303 0.00331662 0.00329557\n",
      " 0.00328685 0.00325943 0.00322523 0.0032156  0.00319883 0.00319593\n",
      " 0.00318751 0.00318073 0.00315637 0.00314872 0.00314203 0.00312796\n",
      " 0.00311093 0.00309839 0.00309786 0.00308914 0.00307956 0.00307854\n",
      " 0.00307123 0.0030712  0.00306588 0.00304875 0.00304429 0.0030431\n",
      " 0.00304022 0.00303694 0.00300581 0.00299001 0.00298979 0.00298896\n",
      " 0.00298178 0.00297972 0.00297247 0.00296732 0.00296108 0.00295738\n",
      " 0.00295653 0.00295652 0.00295214 0.00294897 0.00294357 0.00293421\n",
      " 0.0029325  0.00293007 0.00291413 0.00291191 0.00290964 0.00290846\n",
      " 0.00290053 0.00289499 0.00289498 0.00289235 0.00289175 0.00288838\n",
      " 0.00288753 0.0028826  0.00288259 0.00287924 0.00287138 0.00286863\n",
      " 0.00286345 0.00285852 0.00285661 0.00284933 0.00284822 0.00283399\n",
      " 0.00282932 0.00282005 0.00274614 0.0027155  0.00270841 0.00270335\n",
      " 0.00270093 0.0026893  0.00268719 0.00268002 0.00267381 0.00266806\n",
      " 0.00266039 0.00265842 0.00265631 0.00265009 0.00264859 0.00264413\n",
      " 0.00264266 0.00263982 0.00263901 0.00263298 0.00262732 0.00262052\n",
      " 0.00261114 0.00260996 0.00260611 0.00260308 0.00260103 0.00259993\n",
      " 0.00259215 0.00259137 0.00259038 0.00258998 0.00258151 0.00256135\n",
      " 0.00256129 0.00256011 0.00255784 0.00255116 0.00255042 0.00254862\n",
      " 0.00254639 0.00254324 0.00254104 0.00253372 0.00252986 0.00252637\n",
      " 0.00252531 0.00252511 0.0025251  0.00251542 0.00251529 0.00251298\n",
      " 0.00250938 0.00250865 0.00250608 0.00249906 0.0024985  0.00249571\n",
      " 0.00249111 0.00249097 0.00248117 0.0024772  0.00245364 0.00245307\n",
      " 0.00245066 0.00244316 0.00243247 0.00243217 0.00241837 0.00241695\n",
      " 0.00240802 0.0023967  0.00239633 0.00239314 0.00236808 0.00236485\n",
      " 0.00236281 0.00235884 0.00235618 0.00234952 0.0023484  0.00234402\n",
      " 0.0023396  0.002308   0.00230169 0.00226859 0.0022636  0.00225728\n",
      " 0.00225138 0.00225085 0.00224671 0.00224536 0.0022416  0.0022407\n",
      " 0.0022397  0.00223836 0.00223053 0.0022161  0.00220356 0.00220199\n",
      " 0.002189   0.00217548 0.0021569  0.00214923 0.00213966 0.00213458\n",
      " 0.00213219 0.00212561 0.00212515 0.00212207 0.00211865 0.0021016\n",
      " 0.00209442 0.00208956 0.00208687 0.00207772 0.00206999 0.00205089\n",
      " 0.00204164 0.00203785 0.00201331 0.00200808 0.00200652 0.00200517\n",
      " 0.00197366 0.00197238 0.00194319 0.00190292 0.00188626 0.00188447\n",
      " 0.00188401 0.001882   0.00186679 0.00186383 0.00185464 0.00184968\n",
      " 0.00184638 0.00182533 0.00182241 0.00181716 0.00180901 0.00179428\n",
      " 0.00179371 0.00178558 0.00178552 0.00177571 0.00176249 0.00175906\n",
      " 0.00174066 0.00173554 0.00173267 0.00172347 0.0016925  0.00166167\n",
      " 0.00164244 0.00163844 0.00163696 0.00162573 0.00162421 0.00156913\n",
      " 0.00156911 0.00154263 0.00153434 0.00153395 0.00152623 0.00150479\n",
      " 0.00150473 0.00150344 0.00149818 0.00149561 0.00149367 0.00148669\n",
      " 0.00148422 0.001455   0.00143578 0.00143273 0.00140924 0.00140673\n",
      " 0.00137293 0.00134278 0.00130363 0.00124097 0.00122209 0.00120462\n",
      " 0.00118474 0.00113725 0.00113347 0.00113025 0.00111062 0.00108455\n",
      " 0.0010744  0.00107102 0.00106228 0.00105784 0.00105656 0.00103538\n",
      " 0.0010291  0.00102838 0.00101128 0.00101109 0.00098763 0.00097372\n",
      " 0.00096441 0.00096201 0.000956   0.00095149 0.00093987 0.00091963\n",
      " 0.00090842 0.00089717 0.00088572 0.00086791 0.00085844 0.00085328\n",
      " 0.00084921 0.00084889 0.00084132 0.00084097 0.00083749 0.00083205\n",
      " 0.00083177 0.00083062 0.00082623 0.00082517 0.00081975 0.00081787\n",
      " 0.0008158  0.00081424 0.00080837 0.00080636 0.00080461 0.00080432\n",
      " 0.00080344 0.00080146 0.00080066 0.00079979 0.00079916 0.00079872\n",
      " 0.00079826 0.00079797 0.00079491 0.00079323 0.00079267 0.00079181\n",
      " 0.00079091 0.00078693 0.00078583 0.00078102 0.00077975 0.000775\n",
      " 0.0007701  0.00076969 0.00076921 0.00076826 0.00076715 0.00076639\n",
      " 0.00076512 0.00076437 0.00076277 0.00076233 0.00076159 0.00076156\n",
      " 0.0007594  0.00075854 0.00075738 0.00075651 0.00075397 0.00075363\n",
      " 0.00075356 0.00075207 0.00075158 0.00075081 0.00075042 0.00075005\n",
      " 0.00075002 0.00074758 0.00074679 0.00074612 0.00074584 0.000744\n",
      " 0.00074387 0.00074274 0.00074229 0.00074183 0.00074102 0.00074082\n",
      " 0.0007406  0.00073933 0.00073827 0.00073695 0.00073689 0.00073671\n",
      " 0.00073631 0.00073589 0.00073574 0.00073558 0.00073479 0.00073462\n",
      " 0.0007343  0.00073416 0.00073384 0.00073247 0.00073221 0.00073172\n",
      " 0.00073167 0.00073137 0.00073003 0.00072961 0.00072902 0.00072883\n",
      " 0.00072826 0.00072766 0.00072705 0.00072633 0.00072602 0.00072534\n",
      " 0.00072405 0.00072309 0.00072215 0.00072214 0.00072169 0.00071996\n",
      " 0.00071892 0.00071829 0.00071668 0.00071602 0.00071564 0.00071484\n",
      " 0.00071409 0.00071363 0.00071342 0.00071335 0.00071238 0.00071216\n",
      " 0.00071208 0.0007113  0.00071116 0.00070942 0.00070796 0.00070759\n",
      " 0.00070694 0.00070576 0.00070572 0.00070538 0.00070509 0.00070504\n",
      " 0.00070472 0.00070461 0.00070315 0.00070213 0.00069933 0.00069871\n",
      " 0.00069835 0.0006978  0.00069604 0.00069556 0.00069476 0.00069267\n",
      " 0.00069252 0.00069156 0.00068969 0.00068937 0.00068879 0.00068854\n",
      " 0.00068755 0.00068659 0.00068612 0.00068524 0.00068513 0.00068445\n",
      " 0.00068402 0.00068328 0.00068253 0.00068177 0.00068116 0.00068006\n",
      " 0.00067798 0.0006774  0.00067463 0.00067429 0.00067379 0.00067368\n",
      " 0.00067366 0.00067171 0.00067088 0.00066959 0.00066902 0.00066869\n",
      " 0.0006669  0.00066486 0.00066463 0.00066338 0.00066203 0.00066162\n",
      " 0.00066002 0.00065906 0.00065768 0.00065673 0.00065669 0.00065298\n",
      " 0.00065179 0.00065166 0.00065077 0.00064937 0.0006493  0.00064831\n",
      " 0.00064799 0.00064746 0.00064512 0.00064435 0.00064346 0.00064152\n",
      " 0.0006412  0.00064103 0.00063949 0.00063866 0.00063785 0.0006363\n",
      " 0.00063412 0.00063266 0.00063231 0.00063174 0.00063058 0.0006299\n",
      " 0.00062696 0.00062679 0.00062245 0.00062188 0.00062083 0.00061999\n",
      " 0.00061835 0.0006175  0.00061681 0.00061627 0.00061582 0.00061388\n",
      " 0.00061292 0.00061091 0.00060826 0.00060784 0.00060741 0.00060659\n",
      " 0.00060625 0.00060587 0.00060555 0.00060544 0.0006024  0.00060164\n",
      " 0.00060077 0.00059915 0.00059885 0.00059795 0.00059448 0.00059361\n",
      " 0.00059325 0.00059311 0.00059037 0.00058718 0.00058648 0.00058531\n",
      " 0.00058455 0.00058432 0.00058427 0.00058413 0.00058328 0.00058176\n",
      " 0.00058116 0.00058091 0.00058059 0.00058034 0.0005792  0.00057648\n",
      " 0.00057614 0.00057541 0.00057503 0.00057398 0.00057356 0.00057328\n",
      " 0.00057321 0.00057226 0.00057216 0.00057198 0.00057197 0.0005717\n",
      " 0.00057061 0.00057009 0.00056916 0.00056814 0.00056787 0.00056737\n",
      " 0.00056657 0.00056593 0.00056546 0.00056482 0.00056371 0.00056368\n",
      " 0.00056249 0.00056036 0.00056023 0.0005596  0.00055884 0.00055778\n",
      " 0.00055737 0.00055709 0.00055708 0.00055684 0.00055676 0.0005567\n",
      " 0.00055653 0.00055578 0.00055522 0.00055432 0.00055366 0.0005531\n",
      " 0.00055219 0.00054951 0.00054939 0.00054902 0.00054878 0.00054821\n",
      " 0.00054817 0.00054811 0.0005481  0.00054749 0.00054735 0.00054684\n",
      " 0.00054625 0.00054566 0.0005455  0.00054548 0.00054455 0.00054377\n",
      " 0.00054376 0.00054365 0.00054312 0.00054229 0.00054153 0.00054069\n",
      " 0.00054016 0.00053999 0.00053998 0.00053969 0.00053957 0.00053931\n",
      " 0.00053884 0.00053867 0.00053822 0.00053775 0.0005377  0.00053706\n",
      " 0.00053673 0.00053668 0.00053595 0.00053491 0.00053438 0.00053435\n",
      " 0.00053365 0.00053293 0.00053275 0.0005323  0.0005309  0.00053086\n",
      " 0.00052904 0.00052895 0.00052751 0.00052732 0.00052714 0.00052711\n",
      " 0.00052656 0.00052653 0.00052652 0.00052638 0.00052634 0.00052588\n",
      " 0.00052579 0.0005249  0.00052402 0.00052385 0.00052364 0.00052348\n",
      " 0.0005234  0.00052335 0.00052326 0.00052266 0.00052193 0.00052171\n",
      " 0.00052136 0.0005208  0.00052044 0.00051991 0.00051943 0.00051798\n",
      " 0.00051779 0.00051778 0.00051713 0.00051504 0.00051495 0.0005146\n",
      " 0.00051259 0.00051167 0.00051062 0.00050823 0.00050806 0.00050795\n",
      " 0.00050751 0.00050714 0.00050702 0.000506   0.00050552 0.00050531\n",
      " 0.00050503 0.00050427 0.00050227 0.00050156 0.00050045 0.00050027\n",
      " 0.00049924 0.00049749 0.00049721 0.00049593 0.000495   0.00049492\n",
      " 0.00049391 0.0004912  0.00049102 0.00049012 0.00048996 0.00048381\n",
      " 0.00048357 0.00048261 0.00048197 0.0004815  0.0004755  0.00047208\n",
      " 0.00046901 0.00046798 0.00046772 0.00046253 0.00046184 0.00045576\n",
      " 0.00045359 0.00044242 0.00044233 0.00043905 0.00043895 0.0004378\n",
      " 0.00043627 0.00043623 0.00043584 0.00043462 0.00043424 0.00043379\n",
      " 0.00043367 0.0004329  0.00043289 0.00043152 0.00043101 0.00043031\n",
      " 0.00042647 0.0004217  0.00042062 0.00041782 0.00041679 0.00041571\n",
      " 0.00041302 0.00041133 0.00040882 0.0004067  0.00039951 0.00038968\n",
      " 0.00038286 0.0003802  0.00037892 0.00037697 0.00037575 0.00037308\n",
      " 0.00036822 0.00036717 0.00036608 0.0003638  0.00036118 0.0003606\n",
      " 0.00035916 0.00035889 0.00035864 0.00035661 0.00035634 0.00035629\n",
      " 0.00035545 0.0003548  0.00035466 0.00035433 0.00035295 0.00034896\n",
      " 0.00034858 0.00034766 0.00034668 0.00034589 0.00034516 0.00034459\n",
      " 0.00034436 0.00034396 0.00034389 0.00034371 0.00034347 0.00034287\n",
      " 0.0003425  0.00034237 0.00034235 0.00034225 0.00034209 0.00034181\n",
      " 0.00034135 0.00034108 0.000341   0.00034075 0.00034048 0.00034002\n",
      " 0.00033993 0.00033984 0.00033974 0.00033836 0.0003375  0.00033748\n",
      " 0.00033737 0.00033703 0.00033694 0.00033693 0.00033637 0.0003359\n",
      " 0.00033532 0.00033523 0.00033517 0.00033514 0.000335   0.00033489\n",
      " 0.00033473 0.00033403 0.0003339  0.00033356 0.0003326  0.00033226\n",
      " 0.00033199 0.00033171 0.00033101 0.00033064 0.00032991 0.0003296\n",
      " 0.00032954 0.00032904 0.00032885 0.00032871 0.00032739 0.00032703\n",
      " 0.00032647 0.00032629 0.00032492 0.00032466 0.00032301 0.00032229\n",
      " 0.00032226 0.00032123 0.00032043 0.00031959 0.00031952 0.00031899\n",
      " 0.00031877 0.00031853 0.0003181  0.00031806 0.00031776 0.00031689\n",
      " 0.00031554 0.00031526 0.000315   0.00031424 0.00031267 0.00031215\n",
      " 0.00031018 0.0003091  0.00030835 0.00030622 0.0003059  0.00030397\n",
      " 0.00030358 0.00030213 0.00030196 0.00030049 0.00030006 0.0002991\n",
      " 0.00029718 0.00029675 0.00029363 0.0002929  0.00028903 0.00028872\n",
      " 0.00028802 0.00028767 0.00027639 0.00026261 0.00026115 0.00025684\n",
      " 0.00025586]\n"
     ]
    },
    {
     "data": {
      "image/png": "[encoded data removed]",
      "text/plain": [
       "<Figure size 864x288 with 1 Axes>"
      ]
     },
     "metadata": {
      "needs_background": "light"
     },
     "output_type": "display_data"
    }
   ],
   "source": [
    "dists = chamfer_evaluate(modified_preds, cloud_list[:limit], id_list, cat, blueprint,  ifcConvert_executable,\n",
    "                     cloudCompare_executable, temp_dir, target_dir, sample_size, threshold, icp_correction = False)\n",
    "\n",
    "if inference:\n",
    "    with open(model_path/('preds_finetuned_' + cat + '.pkl'), 'wb') as f:\n",
    "        pickle.dump([modified_preds, id_list, dists], f)\n",
    "\n",
    "plot_error_graph(dists, \"Binned chamfer loss\", max_val=300)"
   ]
  },
  {
   "cell_type": "code",
   "execution_count": null,
   "metadata": {
    "scrolled": true
   },
   "outputs": [],
   "source": [
    "\n",
    "# generate points on surface of tee\n",
    "def generate_tee_cloud(preds):\n",
    "    # read params\n",
    "    r1, l1, r2, l2 = abs(preds[0]), preds[1], preds[2], preds[3]\n",
    "    d1 = get_direction_from_trig(preds, 7)\n",
    "    d2 = get_direction_from_trig(preds, 13)\n",
    "    p2 = [preds[4], preds[5], preds[6]]\n",
    "    p1 = [p2[i] - ((l1*d1[i])/2) for i in range(3)]\n",
    "\n",
    "    # get new coordinate frame of tee\n",
    "    old_z = (0., 0., 1.)\n",
    "    x_axis = vector_normalise(np.cross(d1, old_z))\n",
    "    y_axis = vector_normalise(np.cross(d1, x_axis))\n",
    "\n",
    "    # sample points on main tube\n",
    "    no_of_axis_points = 50    \n",
    "    no_of_ring_points = 40\n",
    "    tube1_points = get_cylinder_points(no_of_axis_points, no_of_ring_points, \n",
    "                                      r1, l1, p1, d1, x_axis, y_axis)\n",
    "\n",
    "    # sample points on secondary tube\n",
    "    x_axis = vector_normalise(np.cross(d2, old_z))\n",
    "    y_axis = vector_normalise(np.cross(d2, x_axis))   \n",
    "    tube2_points = get_cylinder_points(no_of_axis_points, no_of_ring_points, \n",
    "                                      r2, l2, p2, d2, x_axis, y_axis)\n",
    "\n",
    "    # remove points from secondary tube in main tube\n",
    "    tube2_points = np.array(tube2_points)\n",
    "    p1, p2 = np.array(p1), np.array(p2)\n",
    "    p2p1 = p2-p1\n",
    "    p2p1_mag = vector_mag(p2p1)\n",
    "    tube2_points_ref = []\n",
    "\n",
    "    for q in tube2_points:\n",
    "        dist = vector_mag(np.cross((q-p1), (p2p1))) / p2p1_mag\n",
    "        print(dist, r1)\n",
    "        if dist > r1:\n",
    "            print('r', dist)\n",
    "            tube2_points_ref.append(q.tolist())\n",
    "\n",
    "    # remove points from main tube in secondary tube\n",
    "    tube1_points = np.array(tube1_points)\n",
    "    p3 = np.array(p2 + d2)\n",
    "    p2p3 = p2-p3\n",
    "    p2p3_mag = vector_mag(p2p3)\n",
    "    tube1_points_ref = []\n",
    "\n",
    "    for q in tube1_points:\n",
    "        dist = vector_mag(np.cross((q-p3), (p2p3))) / p2p3_mag\n",
    "        cos_theta = np.dot(q-p2, p2p3)\n",
    "        if dist > r2 or cos_theta > 0:\n",
    "            tube1_points_ref.append(q.tolist())\n",
    "\n",
    "    # make sure not all points are deleted if predictions are very wrong\n",
    "    thresh = 50\n",
    "    if len(tube1_points_ref) < thresh and len(tube2_points_ref) < thresh:\n",
    "        return (tube1_points + tube2_points)\n",
    "    elif len(tube2_points_ref) < thresh:\n",
    "        return (tube1_points_ref + tube2_points)\n",
    "    elif len(tube1_points_ref) < thresh:\n",
    "        return (tube1_points + tube2_points_ref)\n",
    "    else:\n",
    "        return (tube1_points_ref + tube2_points_ref)\n"
   ]
  },
  {
   "cell_type": "code",
   "execution_count": null,
   "metadata": {
    "scrolled": true
   },
   "outputs": [],
   "source": [
    "preds = torch.tensor([predictions_list[1]]).cuda()\n",
    "print(predictions_list[1])\n",
    "pcd = generate_tee_cloud_tensor(preds)\n",
    "#tee = generate_tee_cloud(predictions_list[0])\n",
    "tee = pcd[0].cpu().numpy()\n",
    "tee = o3d.utility.Vector3dVector(tee)\n",
    "tee_cloud = o3d.geometry.PointCloud()\n",
    "tee_cloud.points = tee\n",
    "o3d.io.write_point_cloud(\"tee_cl.pcd\", tee_cloud)\n"
   ]
  },
  {
   "cell_type": "code",
   "execution_count": null,
   "metadata": {
    "scrolled": true
   },
   "outputs": [],
   "source": [
    "original = cloud_list[2]\n",
    "points= o3d.utility.Vector3dVector(original.transpose(1,0))\n",
    "tee_cloud.points = points\n",
    "o3d.io.write_point_cloud(\"tee_cl_inp.pcd\", tee_cloud)"
   ]
  },
  {
   "cell_type": "code",
   "execution_count": null,
   "metadata": {
    "scrolled": true
   },
   "outputs": [],
   "source": [
    "# undo normalisation opf the bp tee dataset created for inference, only for comparison with the inferred tee results\n",
    "tee_path = 'tee_fix/tee/test/'\n",
    "metadata_file = open(\"tee_fix/tee/metadata.json\", 'r')\n",
    "metadata = json.load(metadata_file)\n",
    "output_path = 'tee_fix/tee/unnormalised/'\n",
    "\n",
    "files = os.listdir(tee_path)\n",
    "new_points = []\n",
    "for f in tqdm(files):\n",
    "    cloud_data = metadata[f.split(\".\")[0]]\n",
    "    points = np.array(o3d.io.read_point_cloud(tee_path + f).points)\n",
    "    print(\"a\", points[0])\n",
    "    print(cloud_data[\"norm_factor\"], cloud_data[\"mean\"])\n",
    "    points *= cloud_data[\"norm_factor\"]\n",
    "    print(\"b\", points[0])\n",
    "\n",
    "    for i, pnt in enumerate(points):\n",
    "        pnt += cloud_data[\"mean\"]\n",
    "    print(\"c\", points[10])\n",
    "    new_points.append(points)\n",
    "        \n",
    "new_points = o3d.utility.Vector3dVector(np.concatenate(new_points))\n",
    "new_cloud = o3d.geometry.PointCloud()\n",
    "new_cloud.points = new_points\n",
    "o3d.io.write_point_cloud(output_path+\"tee_bp_unnormalised.pcd\", new_cloud)"
   ]
  },
  {
   "cell_type": "markdown",
   "metadata": {},
   "source": [
    "## Mesh deformation"
   ]
  },
  {
   "cell_type": "code",
   "execution_count": null,
   "metadata": {
    "scrolled": true
   },
   "outputs": [],
   "source": []
  }
 ],
 "metadata": {
  "accelerator": "GPU",
  "colab": {
   "provenance": []
  },
  "gpuClass": "standard",
  "kernelspec": {
   "display_name": "Python 3 (ipykernel)",
   "language": "python",
   "name": "python3"
  },
  "language_info": {
   "codemirror_mode": {
    "name": "ipython",
    "version": 3
   },
   "file_extension": ".py",
   "mimetype": "text/x-python",
   "name": "python",
   "nbconvert_exporter": "python",
   "pygments_lexer": "ipython3",
   "version": "3.9.7"
  }
 },
 "nbformat": 4,
 "nbformat_minor": 1
}
