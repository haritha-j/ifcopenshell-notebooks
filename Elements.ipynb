{
 "cells": [
  {
   "cell_type": "markdown",
   "metadata": {
    "id": "NpvL68OfBEQC"
   },
   "source": [
    "# Element Parameter Detection"
   ]
  },
  {
   "cell_type": "markdown",
   "metadata": {
    "id": "-z7n_pw4SMWl"
   },
   "source": [
    "## Setup"
   ]
  },
  {
   "cell_type": "code",
   "execution_count": 1,
   "metadata": {
    "id": "TJ47VNF7fmTS",
    "scrolled": true
   },
   "outputs": [
    {
     "name": "stdout",
     "output_type": "stream",
     "text": [
      "Jupyter environment detected. Enabling Open3D WebVisualizer.\n",
      "[Open3D INFO] WebRTC GUI backend enabled.\n",
      "[Open3D INFO] WebRTCWindowSystem: HTTP handshake server disabled.\n"
     ]
    }
   ],
   "source": [
    "import numpy as np\n",
    "import math\n",
    "import random\n",
    "import os\n",
    "import os.path\n",
    "import torch\n",
    "import sys\n",
    "import copy\n",
    "import pickle\n",
    "import importlib\n",
    "import torch.nn as nn\n",
    "import time\n",
    "import functorch\n",
    "\n",
    "from torch.utils.data import Dataset, DataLoader\n",
    "from torchvision import transforms, utils\n",
    "import matplotlib.pyplot as plt\n",
    "from chamferdist import ChamferDistance\n",
    "from pathlib import Path\n",
    "\n",
    "import ifcopenshell\n",
    "import open3d as o3d\n",
    "\n",
    "from src.elements import *\n",
    "from src.ifc import *\n",
    "from src. preparation import *\n",
    "from src.dataset import *\n",
    "from src.pointnet import *\n",
    "from src.visualisation import *\n",
    "from src.geometry import sq_distance\n",
    "from src.icp import icp_finetuning\n",
    "from src.chamfer import *\n",
    "from src.utils import *\n",
    "from src.plots import plot_error_graph, plot_parameter_errors\n",
    "from src.pca import testset_PCA\n",
    "from src.finetune import chamfer_fine_tune\n",
    "from tqdm.notebook import tqdm\n"
   ]
  },
  {
   "cell_type": "code",
   "execution_count": 2,
   "metadata": {
    "id": "vpzTlKjmlr2q",
    "scrolled": true
   },
   "outputs": [],
   "source": [
    "random.seed = 42"
   ]
  },
  {
   "cell_type": "code",
   "execution_count": 3,
   "metadata": {
    "id": "Xyu78RWIQEQJ",
    "scrolled": true
   },
   "outputs": [],
   "source": [
    "#path = Path(\"ModelNet10\")\n",
    "#path = Path('/content/drive/MyDrive/ElementNet/')\n",
    "path = Path('output/')\n",
    "#savepath = '/content/drive/MyDrive/ElementNet/'\n",
    "savepath = 'models/'\n",
    "cuda = torch.device('cuda')"
   ]
  },
  {
   "cell_type": "markdown",
   "metadata": {
    "id": "Isb_97zOA8Tl"
   },
   "source": [
    "## Model"
   ]
  },
  {
   "cell_type": "markdown",
   "metadata": {
    "id": "_8W4gOI_P9a9"
   },
   "source": [
    "## Test\n",
    "\n",
    "Analyze results statistically\n",
    "\n",
    "POINTNET++"
   ]
  },
  {
   "cell_type": "code",
   "execution_count": 4,
   "metadata": {
    "id": "4pOl95glmphX",
    "scrolled": true
   },
   "outputs": [],
   "source": [
    "train_transforms = transforms.Compose([\n",
    "                    Normalize(),\n",
    "#                    RandomNoise(),\n",
    "                    ToTensor()\n",
    "                    ])"
   ]
  },
  {
   "cell_type": "code",
   "execution_count": 44,
   "metadata": {
    "scrolled": true
   },
   "outputs": [
    {
     "data": {
      "text/plain": [
       "<All keys matched successfully>"
      ]
     },
     "execution_count": 44,
     "metadata": {},
     "output_type": "execute_result"
    }
   ],
   "source": [
    "# load data and model\n",
    "BASE_DIR = os.path.dirname(os.path.abspath('industrial-facility-relationships/'))\n",
    "BASE_DIR = os.path.join(BASE_DIR, 'pointnet2')\n",
    "ROOT_DIR = BASE_DIR\n",
    "sys.path.append(os.path.join(ROOT_DIR, 'models'))\n",
    "\n",
    "inference = True\n",
    "cloi = True\n",
    "\n",
    "if inference:\n",
    "    if cloi:\n",
    "        path = Path('cloi/')\n",
    "        ext = \".pcd\"       \n",
    "    else:    \n",
    "    #     path = Path('output/bp_data/')\n",
    "        path = Path('output/east_ref/')\n",
    "        #path = Path('/mnt/c/data/3D_CAD/east_clouds/')\n",
    "        ext = \".pcd\"\n",
    "    \n",
    "else:\n",
    "    path = Path('output/')\n",
    "    ext = \".pcd\"\n",
    "\n",
    "cat= 'elbow'\n",
    "device = torch.device(\"cuda:0\" if torch.cuda.is_available() else \"cpu\")\n",
    "use_normals = False\n",
    "cat_targets = {\"elbow\":14, \"bend\":14, \"tee\":19, \"pipe\":11, \"flange\":13}\n",
    "\n",
    "if inference:\n",
    "    test_ds = PointCloudData(path, valid=True, folder='test', category=cat, transform=train_transforms, inference=True)\n",
    "    targets = cat_targets[cat]\n",
    "else:\n",
    "    test_ds = PointCloudData(path, valid=True, folder='test', category=cat, transform=train_transforms)\n",
    "    targets = test_ds.targets\n",
    "\n",
    "testDataLoader = torch.utils.data.DataLoader(dataset=test_ds, batch_size=32)\n",
    "test_criterion = nn.MSELoss()\n",
    "\n",
    "model_name = \"pointnet2_cls_ssg\"\n",
    "model_path = Path(\"pointnet2/log/classification/pointnet2_cls_ssg/\")\n",
    "model = importlib.import_module(model_name)\n",
    "\n",
    "\n",
    "predictor = model.get_model(targets, normal_channel=use_normals)\n",
    "if device != \"cpu\":\n",
    "    predictor = predictor.cuda()\n",
    "\n",
    "#checkpoint = torch.load(model_path/'checkpoints/best_model.pth')\n",
    "checkpoint = torch.load(model_path/'checkpoints/models/best_model_e_chamfer_0005.pth')\n",
    "#checkpoint = torch.load(model_path/'checkpoints/models/best_model_t_chamfer_00005_bp.pth')\n",
    "predictor.load_state_dict(checkpoint['model_state_dict'])\n"
   ]
  },
  {
   "cell_type": "code",
   "execution_count": 45,
   "metadata": {
    "scrolled": true
   },
   "outputs": [],
   "source": [
    "blueprint = 'data/sample.ifc'\n",
    "temp_dir = \"output/temp/\"\n",
    "target_dir = \"output/tee/test/\"\n",
    "\n",
    "ifcConvert_executable = \"scripts/./IfcConvert\"\n",
    "cloudCompare_executable = \"cloudcompare.CloudCompare\"\n",
    "sample_size = 2048\n",
    "threshold = 2"
   ]
  },
  {
   "cell_type": "code",
   "execution_count": 46,
   "metadata": {
    "scrolled": true
   },
   "outputs": [],
   "source": [
    "def model_inference(model, loader, device, calculate_score=False):\n",
    "    predictor = model.eval()\n",
    "    predictions_list, pcd_list, id_list = [], [], []\n",
    "    with torch.no_grad():\n",
    "        for j, data  in tqdm(enumerate(loader), total=len(loader)):\n",
    "            points, ids = data['pointcloud'].to(device).float(), data['id'].to(device)\n",
    "            points = points.transpose(2, 1)\n",
    "            preds, _ = predictor(points)\n",
    "            preds, points, ids = preds.to(torch.device('cpu')), points.to(torch.device('cpu')), data['id'].to(torch.device('cpu'))\n",
    "            for i, pr in enumerate(preds):\n",
    "                predictions_list.append(pr.numpy())\n",
    "                pcd_list.append(points[i].numpy())\n",
    "                id_list.append(ids[i].numpy())\n",
    "\n",
    "        return (predictions_list, pcd_list, id_list)"
   ]
  },
  {
   "cell_type": "code",
   "execution_count": 47,
   "metadata": {
    "scrolled": true
   },
   "outputs": [
    {
     "data": {
      "application/vnd.jupyter.widget-view+json": {
       "model_id": "863b9e97e70b4dae9d37f3ffb23f0c34",
       "version_major": 2,
       "version_minor": 0
      },
      "text/plain": [
       "  0%|          | 0/11 [00:00<?, ?it/s]"
      ]
     },
     "metadata": {},
     "output_type": "display_data"
    }
   ],
   "source": [
    "if inference:\n",
    "    predictions_list, cloud_list, id_list = model_inference(predictor.eval(), testDataLoader, device)"
   ]
  },
  {
   "cell_type": "code",
   "execution_count": 48,
   "metadata": {
    "scrolled": true
   },
   "outputs": [],
   "source": [
    "def test(model, loader, device, criterion):\n",
    "    losses = []\n",
    "    predictor = model.eval()\n",
    "    cloud_list = []\n",
    "    label_list = []\n",
    "    output_list = []\n",
    "    predictions_list = []\n",
    "    inputs_list = []\n",
    "    id_list = []\n",
    "    parameter_id = 0\n",
    "    tot = 0\n",
    "    count = 0\n",
    "    \n",
    "    for j, data  in tqdm(enumerate(loader), total=len(loader)):\n",
    "        inputs, labels, ids = data['pointcloud'].to(device).float(), data['properties'].to(device), data['id'].to(device)\n",
    "        points, target, ids = data['pointcloud'].to(device).float(), data['properties'].to(device), data['id'].to(device)\n",
    "        points = points.transpose(2, 1)\n",
    "        outputs, _ = predictor(points)\n",
    "        outputs = outputs.to(torch.device('cpu'))\n",
    "        inputs = points.to(torch.device('cpu'))\n",
    "        labels = target.to(torch.device('cpu'))\n",
    "        ids = ids.to(torch.device('cpu'))\n",
    "        #print(data['pointcloud'].size(), labels.size(), outputs.size())\n",
    "\n",
    "        for i in range(outputs.size(0)):\n",
    "            label_list.append(labels[i][parameter_id].item())\n",
    "            id_list.append(ids[i].item())\n",
    "            output_list.append(outputs[i][parameter_id].item())\n",
    "            predictions_list.append(outputs[i].numpy())\n",
    "            inputs_list.append(labels[i].numpy())\n",
    "            cloud_list.append(inputs[i].numpy())\n",
    "            ratio = ((labels[i][parameter_id]-outputs[i][parameter_id])/labels[i][parameter_id]).item()\n",
    "            #print('r', i+count, ids[i].item(), labels[i][parameter_id].item(), outputs[i][parameter_id].item(), ratio)\n",
    "            tot += np.absolute(ratio)\n",
    "            #print('l', labels[i][1].item(), outputs[i][1].item(), ((labels[i][1]-outputs[i][1])/labels[i][1]).item())\n",
    "        \n",
    "        count += outputs.size(0)\n",
    "    print(tot/count)\n",
    "\n",
    "    return predictions_list, inputs_list, label_list, output_list, id_list, cloud_list"
   ]
  },
  {
   "cell_type": "code",
   "execution_count": 49,
   "metadata": {
    "scrolled": true
   },
   "outputs": [],
   "source": [
    "if not inference:\n",
    "    with torch.no_grad():\n",
    "        predictions_list, inputs_list, label_list, output_list, id_list, cloud_list = test(predictor.eval(), testDataLoader, device, test_criterion)\n",
    "\n",
    "    print(len(predictions_list), len(inputs_list))"
   ]
  },
  {
   "cell_type": "code",
   "execution_count": 50,
   "metadata": {
    "scrolled": true
   },
   "outputs": [],
   "source": [
    "if not inference:\n",
    "    label_list, output_list, id_list = np.array(label_list), np.array(output_list), np.array(id_list)"
   ]
  },
  {
   "cell_type": "markdown",
   "metadata": {},
   "source": [
    "#### Visually analyse predictions and Fine tune with ICP, calculate chamfer distances"
   ]
  },
  {
   "cell_type": "code",
   "execution_count": 51,
   "metadata": {
    "scrolled": true
   },
   "outputs": [],
   "source": [
    "# scaling up and down is required for icp calculations\n",
    "def chamfer_evaluate(predictions_list, cloud_list, id_list, cat, blueprint,  ifcConvert_executable,\n",
    "                     cloudCompare_executable, temp_dir, target_dir, sample_size,\n",
    "                     threshold, icp_correction = False):\n",
    "\n",
    "    preds_list, pcd_list = [], []\n",
    "    error_count = 0\n",
    "\n",
    "    # get predictions and pcds\n",
    "    for i in tqdm(range(len(predictions_list))):\n",
    "    #for i in tqdm(range(50)):\n",
    "        pcd_id = id_list[i]\n",
    "        pcd, preds = cloud_list[i].transpose(1, 0), copy.deepcopy(predictions_list[i])\n",
    "        #print(preds, inputs_list[i])\n",
    "\n",
    "        preds = scale_preds(preds.tolist(), cat)\n",
    "        #pcd, preds = prepare_visualisation(pcd_id, cat, i, cloud_list, predictions_list, path, ext)\n",
    "\n",
    "        try:\n",
    "            if  icp_correction:\n",
    "                # note: preds are updated in place during ICP\n",
    "                _, _ = icp_finetuning(o3d.utility.Vector3dVector(pcd), pcd_id, cat, preds, blueprint, temp_dir, target_dir, \n",
    "                                     ifcConvert_executable, cloudCompare_executable, sample_size, threshold, False)\n",
    "\n",
    "            preds_list.append(preds)\n",
    "            pcd_list.append(pcd)\n",
    "\n",
    "        except Exception as e:\n",
    "            print(\"ICP error\", pcd_id, e)\n",
    "            error_count += 1\n",
    "\n",
    "    # calculate chamfer distances\n",
    "    cuda = torch.device('cuda')    \n",
    "    rescaled_preds = [scale_preds(preds, cat, up=0) for preds in preds_list]\n",
    "    preds_t = torch.tensor(rescaled_preds, requires_grad=True, device=cuda)\n",
    "    cloud_t = torch.tensor(cloud_list, device=cuda)\n",
    "    \n",
    "    chamfer_dists = get_chamfer_loss_tensor(preds_t, cloud_t, cat, reduce=False)\n",
    "    chamfer_dists = chamfer_dists.detach().cpu().numpy()\n",
    "    \n",
    "#     for i, preds in enumerate(tqdm(preds_list)):\n",
    "#         preds = scale_preds(preds, cat, up=0)\n",
    "#         chamfer_distance, _ = get_chamfer_dist_single(pcd_list[i], preds, cat)\n",
    "#         chamfer_dists.append(chamfer_distance)\n",
    "        \n",
    "\n",
    "    \n",
    "    print(\"error_count\", error_count)\n",
    "    return chamfer_dists"
   ]
  },
  {
   "cell_type": "code",
   "execution_count": 52,
   "metadata": {
    "scrolled": true
   },
   "outputs": [
    {
     "data": {
      "application/vnd.jupyter.widget-view+json": {
       "model_id": "bb78cb4fe6674168b8f1e6a23848c9f0",
       "version_major": 2,
       "version_minor": 0
      },
      "text/plain": [
       "  0%|          | 0/345 [00:00<?, ?it/s]"
      ]
     },
     "metadata": {},
     "output_type": "display_data"
    },
    {
     "name": "stdout",
     "output_type": "stream",
     "text": [
      "error_count 0\n",
      "avg 171.93153 3 433.65085 37.845375\n"
     ]
    },
    {
     "data": {
      "image/png": "[encoded data removed]",
      "text/plain": [
       "<Figure size 864x288 with 1 Axes>"
      ]
     },
     "metadata": {
      "needs_background": "light"
     },
     "output_type": "display_data"
    }
   ],
   "source": [
    "dists = chamfer_evaluate(predictions_list, cloud_list, id_list, cat, blueprint,  ifcConvert_executable,\n",
    "                     cloudCompare_executable, temp_dir, target_dir, sample_size, threshold, icp_correction = False)\n",
    "# if inference:\n",
    "#     with open(model_path + 'preds_' + cat + '.pkl', 'wb') as f:\n",
    "#         pickle.dump([predictions_list, id_list, dists], f)\n",
    "    \n",
    "plot_error_graph(dists, \"Binned chamfer loss\", max_val=300)"
   ]
  },
  {
   "cell_type": "code",
   "execution_count": 29,
   "metadata": {
    "scrolled": true
   },
   "outputs": [],
   "source": [
    "# scaling up and down is required for icp calculations\n",
    "def _visualise_predictions(predictions_list, cloud_list, id_list, cat, blueprint,  ifcConvert_executable,\n",
    "                     cloudCompare_executable, temp_dir, target_dir, sample_size,\n",
    "                     threshold, icp_correction = False):\n",
    "\n",
    "    preds_list, pcd_list = [], []\n",
    "    viewer_list, ifc_list = [], []\n",
    "    error_count = 0\n",
    "\n",
    "    # get predictions and pcds\n",
    "    #for i in tqdm(range(len(predictions_list))):\n",
    "    for i in tqdm(range(50)):\n",
    "        pcd_id = id_list[i].item()\n",
    "        pcd, preds = cloud_list[i].transpose(1, 0).tolist(), copy.deepcopy(predictions_list[i])\n",
    "        #print(preds, inputs_list[i])\n",
    "\n",
    "        preds = scale_preds(preds.tolist(), cat)\n",
    "        print(preds)\n",
    "        #pcd, preds = prepare_visualisation(pcd_id, cat, i, cloud_list, inputs_list, ext)\n",
    "\n",
    "#         try:\n",
    "        if  icp_correction:\n",
    "            # note: preds are updated in place during ICP\n",
    "            viewer, ifc = icp_finetuning(o3d.utility.Vector3dVector(pcd), pcd_id, cat, preds, blueprint, temp_dir, target_dir, \n",
    "                                 ifcConvert_executable, cloudCompare_executable, sample_size, threshold, True)\n",
    "        else:\n",
    "            #print(preds)\n",
    "            viewer, ifc = visualize_predictions([pcd], cat, [preds], blueprint, visualize=True)\n",
    "\n",
    "\n",
    "        preds_list.append(preds)\n",
    "        pcd_list.append(pcd)\n",
    "        viewer_list.append(viewer)\n",
    "        ifc_list.append(ifc)\n",
    "\n",
    "#         except Exception as e:\n",
    "#             print(\"ICP error\", pcd_id, e)\n",
    "#             error_count += 1\n",
    "\n",
    "\n",
    "    print(\"error_count\", error_count)    \n",
    "    return viewer_list"
   ]
  },
  {
   "cell_type": "code",
   "execution_count": 30,
   "metadata": {
    "scrolled": true
   },
   "outputs": [
    {
     "data": {
      "application/vnd.jupyter.widget-view+json": {
       "model_id": "4e31eaf969f04285b53b5c4099fd224c",
       "version_major": 2,
       "version_minor": 0
      },
      "text/plain": [
       "  0%|          | 0/50 [00:00<?, ?it/s]"
      ]
     },
     "metadata": {},
     "output_type": "display_data"
    },
    {
     "name": "stdout",
     "output_type": "stream",
     "text": [
      "[175.40223896503448, 1246.2360858917236, 0.028984030708670616, -0.16263094544410706, -0.11660069972276688, -0.11862680315971375, 0.9962579607963562, -0.29660487174987793, 0.6688725352287292, 0.3999951481819153, 0.836162805557251]\n",
      "[-12.077957391738892, 1641.0399675369263, -6.454135291278362e-05, 1.6765901818871498e-05, -0.09731519967317581, 0.016250861808657646, 0.859279990196228, -0.0811065137386322, 0.875777006149292, 0.6247588992118835, 0.6933841109275818]\n"
     ]
    },
    {
     "ename": "RuntimeError",
     "evalue": "Failed to process shape",
     "output_type": "error",
     "traceback": [
      "\u001b[0;31m---------------------------------------------------------------------------\u001b[0m",
      "\u001b[0;31mRuntimeError\u001b[0m                              Traceback (most recent call last)",
      "Input \u001b[0;32mIn [30]\u001b[0m, in \u001b[0;36m<cell line: 1>\u001b[0;34m()\u001b[0m\n\u001b[0;32m----> 1\u001b[0m viewers \u001b[38;5;241m=\u001b[39m \u001b[43m_visualise_predictions\u001b[49m\u001b[43m(\u001b[49m\u001b[43mpredictions_list\u001b[49m\u001b[43m,\u001b[49m\u001b[43m \u001b[49m\u001b[43mcloud_list\u001b[49m\u001b[43m,\u001b[49m\u001b[43m \u001b[49m\u001b[43mid_list\u001b[49m\u001b[43m,\u001b[49m\u001b[43m \u001b[49m\u001b[43mcat\u001b[49m\u001b[43m,\u001b[49m\u001b[43m \u001b[49m\u001b[43mblueprint\u001b[49m\u001b[43m,\u001b[49m\u001b[43m  \u001b[49m\u001b[43mifcConvert_executable\u001b[49m\u001b[43m,\u001b[49m\n\u001b[1;32m      2\u001b[0m \u001b[43m                     \u001b[49m\u001b[43mcloudCompare_executable\u001b[49m\u001b[43m,\u001b[49m\u001b[43m \u001b[49m\u001b[43mtemp_dir\u001b[49m\u001b[43m,\u001b[49m\u001b[43m \u001b[49m\u001b[43mtarget_dir\u001b[49m\u001b[43m,\u001b[49m\u001b[43m \u001b[49m\u001b[43msample_size\u001b[49m\u001b[43m,\u001b[49m\u001b[43m \u001b[49m\u001b[43mthreshold\u001b[49m\u001b[43m,\u001b[49m\u001b[43m \u001b[49m\u001b[43micp_correction\u001b[49m\u001b[43m \u001b[49m\u001b[38;5;241;43m=\u001b[39;49m\u001b[43m \u001b[49m\u001b[38;5;28;43;01mFalse\u001b[39;49;00m\u001b[43m)\u001b[49m\n",
      "Input \u001b[0;32mIn [29]\u001b[0m, in \u001b[0;36m_visualise_predictions\u001b[0;34m(predictions_list, cloud_list, id_list, cat, blueprint, ifcConvert_executable, cloudCompare_executable, temp_dir, target_dir, sample_size, threshold, icp_correction)\u001b[0m\n\u001b[1;32m     24\u001b[0m     viewer, ifc \u001b[38;5;241m=\u001b[39m icp_finetuning(o3d\u001b[38;5;241m.\u001b[39mutility\u001b[38;5;241m.\u001b[39mVector3dVector(pcd), pcd_id, cat, preds, blueprint, temp_dir, target_dir, \n\u001b[1;32m     25\u001b[0m                          ifcConvert_executable, cloudCompare_executable, sample_size, threshold, \u001b[38;5;28;01mTrue\u001b[39;00m)\n\u001b[1;32m     26\u001b[0m \u001b[38;5;28;01melse\u001b[39;00m:\n\u001b[1;32m     27\u001b[0m     \u001b[38;5;66;03m#print(preds)\u001b[39;00m\n\u001b[0;32m---> 28\u001b[0m     viewer, ifc \u001b[38;5;241m=\u001b[39m \u001b[43mvisualize_predictions\u001b[49m\u001b[43m(\u001b[49m\u001b[43m[\u001b[49m\u001b[43mpcd\u001b[49m\u001b[43m]\u001b[49m\u001b[43m,\u001b[49m\u001b[43m \u001b[49m\u001b[43mcat\u001b[49m\u001b[43m,\u001b[49m\u001b[43m \u001b[49m\u001b[43m[\u001b[49m\u001b[43mpreds\u001b[49m\u001b[43m]\u001b[49m\u001b[43m,\u001b[49m\u001b[43m \u001b[49m\u001b[43mblueprint\u001b[49m\u001b[43m,\u001b[49m\u001b[43m \u001b[49m\u001b[43mvisualize\u001b[49m\u001b[38;5;241;43m=\u001b[39;49m\u001b[38;5;28;43;01mTrue\u001b[39;49;00m\u001b[43m)\u001b[49m\n\u001b[1;32m     31\u001b[0m preds_list\u001b[38;5;241m.\u001b[39mappend(preds)\n\u001b[1;32m     32\u001b[0m pcd_list\u001b[38;5;241m.\u001b[39mappend(pcd)\n",
      "File \u001b[0;32m~/documents/industrial-facility-relationships/src/visualisation.py:108\u001b[0m, in \u001b[0;36mvisualize_predictions\u001b[0;34m(clouds, element, preds_list, blueprint, use_directions, visualize, z)\u001b[0m\n\u001b[1;32m    106\u001b[0m \u001b[38;5;66;03m#ifc.write(\"temp.ifc\")\u001b[39;00m\n\u001b[1;32m    107\u001b[0m \u001b[38;5;28;01mif\u001b[39;00m visualize:\n\u001b[0;32m--> 108\u001b[0m     \u001b[38;5;28;01mreturn\u001b[39;00m \u001b[43mvis_ifc_and_cloud\u001b[49m\u001b[43m(\u001b[49m\u001b[43mifc\u001b[49m\u001b[43m,\u001b[49m\u001b[43m \u001b[49m\u001b[43mclouds\u001b[49m\u001b[43m)\u001b[49m, ifc\n\u001b[1;32m    109\u001b[0m \u001b[38;5;28;01melse\u001b[39;00m:\n\u001b[1;32m    110\u001b[0m     \u001b[38;5;28;01mreturn\u001b[39;00m ifc\n",
      "File \u001b[0;32m~/documents/industrial-facility-relationships/src/visualisation.py:17\u001b[0m, in \u001b[0;36mvis_ifc_and_cloud\u001b[0;34m(ifc, clouds)\u001b[0m\n\u001b[1;32m     16\u001b[0m \u001b[38;5;28;01mdef\u001b[39;00m \u001b[38;5;21mvis_ifc_and_cloud\u001b[39m(ifc, clouds):\n\u001b[0;32m---> 17\u001b[0m     viewer \u001b[38;5;241m=\u001b[39m \u001b[43mJupyterIFCRenderer\u001b[49m\u001b[43m(\u001b[49m\u001b[43mifc\u001b[49m\u001b[43m,\u001b[49m\u001b[43m \u001b[49m\u001b[43msize\u001b[49m\u001b[38;5;241;43m=\u001b[39;49m\u001b[43m(\u001b[49m\u001b[38;5;241;43m400\u001b[39;49m\u001b[43m,\u001b[49m\u001b[43m \u001b[49m\u001b[38;5;241;43m300\u001b[39;49m\u001b[43m)\u001b[49m\u001b[43m)\u001b[49m\n\u001b[1;32m     18\u001b[0m     colours \u001b[38;5;241m=\u001b[39m [\u001b[38;5;124m'\u001b[39m\u001b[38;5;124m#ff7070\u001b[39m\u001b[38;5;124m'\u001b[39m, \u001b[38;5;124m'\u001b[39m\u001b[38;5;124m#70ff70\u001b[39m\u001b[38;5;124m'\u001b[39m, \u001b[38;5;124m'\u001b[39m\u001b[38;5;124m#7070ff\u001b[39m\u001b[38;5;124m'\u001b[39m]\n\u001b[1;32m     19\u001b[0m     \u001b[38;5;28;01mfor\u001b[39;00m i, cloud \u001b[38;5;129;01min\u001b[39;00m \u001b[38;5;28menumerate\u001b[39m(clouds):\n",
      "File \u001b[0;32m~/documents/industrial-facility-relationships/utils/JupyterIFCRenderer.py:68\u001b[0m, in \u001b[0;36mJupyterIFCRenderer.__init__\u001b[0;34m(self, model, display_ents, hide_ents, size, compute_normals_mode, default_shape_color, default_edge_color, default_vertex_color, pick_color, background_color)\u001b[0m\n\u001b[1;32m     64\u001b[0m \u001b[38;5;28;01mfor\u001b[39;00m product \u001b[38;5;129;01min\u001b[39;00m to_display:\n\u001b[1;32m     65\u001b[0m     \u001b[38;5;66;03m# some IfcProducts don't have any 3d representation\u001b[39;00m\n\u001b[1;32m     66\u001b[0m     \u001b[38;5;28;01mif\u001b[39;00m (product\u001b[38;5;241m.\u001b[39mRepresentation \u001b[38;5;129;01mis\u001b[39;00m \u001b[38;5;129;01mnot\u001b[39;00m \u001b[38;5;28;01mNone\u001b[39;00m ) :  \n\u001b[0;32m---> 68\u001b[0m         pdct_shape \u001b[38;5;241m=\u001b[39m \u001b[43mifcopenshell\u001b[49m\u001b[38;5;241;43m.\u001b[39;49m\u001b[43mgeom\u001b[49m\u001b[38;5;241;43m.\u001b[39;49m\u001b[43mcreate_shape\u001b[49m\u001b[43m(\u001b[49m\u001b[43msettings\u001b[49m\u001b[43m,\u001b[49m\u001b[43m \u001b[49m\u001b[43minst\u001b[49m\u001b[38;5;241;43m=\u001b[39;49m\u001b[43mproduct\u001b[49m\u001b[43m)\u001b[49m\n\u001b[1;32m     69\u001b[0m         r,g,b,alpha \u001b[38;5;241m=\u001b[39m pdct_shape\u001b[38;5;241m.\u001b[39mstyles[\u001b[38;5;241m0\u001b[39m] \u001b[38;5;66;03m# the shape color\u001b[39;00m\n\u001b[1;32m     70\u001b[0m         \u001b[38;5;66;03m# Styles come as floats 0 <= style <= 1\u001b[39;00m\n",
      "File \u001b[0;32m~/miniconda3/envs/cdbb/lib/python3.9/site-packages/ifcopenshell/geom/main.py:210\u001b[0m, in \u001b[0;36mcreate_shape\u001b[0;34m(settings, inst, repr)\u001b[0m\n\u001b[1;32m    181\u001b[0m \u001b[38;5;28;01mdef\u001b[39;00m \u001b[38;5;21mcreate_shape\u001b[39m(settings, inst, \u001b[38;5;28mrepr\u001b[39m\u001b[38;5;241m=\u001b[39m\u001b[38;5;28;01mNone\u001b[39;00m):\n\u001b[1;32m    182\u001b[0m     \u001b[38;5;124;03m\"\"\"\u001b[39;00m\n\u001b[1;32m    183\u001b[0m \u001b[38;5;124;03m    Return a geometric representation from STEP-based IFCREPRESENTATIONSHAPE\u001b[39;00m\n\u001b[1;32m    184\u001b[0m \u001b[38;5;124;03m    or\u001b[39;00m\n\u001b[0;32m   (...)\u001b[0m\n\u001b[1;32m    206\u001b[0m \u001b[38;5;124;03m                print(\"Shape creation failed\")\u001b[39;00m\n\u001b[1;32m    207\u001b[0m \u001b[38;5;124;03m    \"\"\"\u001b[39;00m\n\u001b[1;32m    208\u001b[0m     \u001b[38;5;28;01mreturn\u001b[39;00m wrap_shape_creation(\n\u001b[1;32m    209\u001b[0m         settings,\n\u001b[0;32m--> 210\u001b[0m         \u001b[43mifcopenshell_wrapper\u001b[49m\u001b[38;5;241;43m.\u001b[39;49m\u001b[43mcreate_shape\u001b[49m\u001b[43m(\u001b[49m\u001b[43msettings\u001b[49m\u001b[43m,\u001b[49m\u001b[43m \u001b[49m\u001b[43minst\u001b[49m\u001b[38;5;241;43m.\u001b[39;49m\u001b[43mwrapped_data\u001b[49m\u001b[43m,\u001b[49m\u001b[43m \u001b[49m\u001b[38;5;28;43mrepr\u001b[39;49m\u001b[38;5;241;43m.\u001b[39;49m\u001b[43mwrapped_data\u001b[49m\u001b[43m \u001b[49m\u001b[38;5;28;43;01mif\u001b[39;49;00m\u001b[43m \u001b[49m\u001b[38;5;28;43mrepr\u001b[39;49m\u001b[43m \u001b[49m\u001b[38;5;129;43;01mis\u001b[39;49;00m\u001b[43m \u001b[49m\u001b[38;5;129;43;01mnot\u001b[39;49;00m\u001b[43m \u001b[49m\u001b[38;5;28;43;01mNone\u001b[39;49;00m\u001b[43m \u001b[49m\u001b[38;5;28;43;01melse\u001b[39;49;00m\u001b[43m \u001b[49m\u001b[38;5;28;43;01mNone\u001b[39;49;00m\u001b[43m)\u001b[49m,\n\u001b[1;32m    211\u001b[0m     )\n",
      "File \u001b[0;32m~/miniconda3/envs/cdbb/lib/python3.9/site-packages/ifcopenshell/ifcopenshell_wrapper.py:1770\u001b[0m, in \u001b[0;36mcreate_shape\u001b[0;34m(settings, instance, representation)\u001b[0m\n\u001b[1;32m   1768\u001b[0m \u001b[38;5;28;01mdef\u001b[39;00m \u001b[38;5;21mcreate_shape\u001b[39m(settings, instance, representation\u001b[38;5;241m=\u001b[39m\u001b[38;5;28;01mNone\u001b[39;00m):\n\u001b[1;32m   1769\u001b[0m     \u001b[38;5;124mr\u001b[39m\u001b[38;5;124;03m\"\"\"create_shape(IteratorSettings settings, entity_instance instance, entity_instance representation=None) -> boost::variant< IfcGeom::Element *,IfcGeom::Representation::Representation * >\"\"\"\u001b[39;00m\n\u001b[0;32m-> 1770\u001b[0m     \u001b[38;5;28;01mreturn\u001b[39;00m \u001b[43m_ifcopenshell_wrapper\u001b[49m\u001b[38;5;241;43m.\u001b[39;49m\u001b[43mcreate_shape\u001b[49m\u001b[43m(\u001b[49m\u001b[43msettings\u001b[49m\u001b[43m,\u001b[49m\u001b[43m \u001b[49m\u001b[43minstance\u001b[49m\u001b[43m,\u001b[49m\u001b[43m \u001b[49m\u001b[43mrepresentation\u001b[49m\u001b[43m)\u001b[49m\n",
      "\u001b[0;31mRuntimeError\u001b[0m: Failed to process shape"
     ]
    }
   ],
   "source": [
    "viewers = _visualise_predictions(predictions_list, cloud_list, id_list, cat, blueprint,  ifcConvert_executable,\n",
    "                     cloudCompare_executable, temp_dir, target_dir, sample_size, threshold, icp_correction = False)"
   ]
  },
  {
   "cell_type": "code",
   "execution_count": null,
   "metadata": {
    "scrolled": false
   },
   "outputs": [],
   "source": [
    "for v in viewers:\n",
    "    print(v)"
   ]
  },
  {
   "cell_type": "code",
   "execution_count": null,
   "metadata": {
    "scrolled": false
   },
   "outputs": [],
   "source": [
    "plot_parameter_errors(inputs_list, predictions_list, cat)"
   ]
  },
  {
   "cell_type": "markdown",
   "metadata": {},
   "source": [
    "#### BP data Visualisation"
   ]
  },
  {
   "cell_type": "code",
   "execution_count": null,
   "metadata": {
    "scrolled": true
   },
   "outputs": [],
   "source": [
    "batch_visualise(model_path, blueprint, path, ext, device, ifc=False)"
   ]
  },
  {
   "cell_type": "code",
   "execution_count": null,
   "metadata": {
    "scrolled": true
   },
   "outputs": [],
   "source": [
    "merge_clouds(path, 'pipe')"
   ]
  },
  {
   "cell_type": "markdown",
   "metadata": {},
   "source": [
    "### fine tuning"
   ]
  },
  {
   "cell_type": "code",
   "execution_count": 13,
   "metadata": {},
   "outputs": [
    {
     "name": "stdout",
     "output_type": "stream",
     "text": [
      "345\n"
     ]
    }
   ],
   "source": [
    "print(len(predictions_list))"
   ]
  },
  {
   "cell_type": "code",
   "execution_count": 53,
   "metadata": {
    "scrolled": false
   },
   "outputs": [
    {
     "name": "stdout",
     "output_type": "stream",
     "text": [
      "elbow\n"
     ]
    },
    {
     "data": {
      "application/vnd.jupyter.widget-view+json": {
       "model_id": "65074658212e4993b465155576e5e916",
       "version_major": 2,
       "version_minor": 0
      },
      "text/plain": [
       "  0%|          | 0/100 [00:00<?, ?it/s]"
      ]
     },
     "metadata": {},
     "output_type": "display_data"
    },
    {
     "name": "stdout",
     "output_type": "stream",
     "text": [
      "0 loss 376.51724\n",
      "1 loss 338.35825\n",
      "2 loss 308.89273\n",
      "3 loss 286.25433\n",
      "4 loss 268.59665\n",
      "5 loss 254.42027\n",
      "6 loss 242.79814\n",
      "7 loss 233.09021\n",
      "8 loss 224.7778\n",
      "9 loss 217.49268\n",
      "10 loss 211.02252\n",
      "11 loss 205.15707\n",
      "12 loss 199.54411\n",
      "13 loss 194.20947\n",
      "14 loss 189.52196\n",
      "15 loss 185.15457\n",
      "16 loss 180.96793\n",
      "17 loss 177.17168\n",
      "18 loss 173.72285\n",
      "19 loss 170.426\n",
      "20 loss 167.40239\n",
      "21 loss 164.11984\n",
      "22 loss 161.30081\n",
      "23 loss 158.57425\n",
      "24 loss 157.56728\n",
      "25 loss 154.85764\n",
      "26 loss 151.03311\n",
      "27 loss 148.73276\n",
      "28 loss 146.59082\n",
      "29 loss 144.53194\n",
      "30 loss 144.93187\n",
      "31 loss 143.03656\n",
      "32 loss 138.94212\n",
      "33 loss 137.29037\n",
      "34 loss 135.6232\n",
      "35 loss 135.08788\n",
      "36 loss 133.31302\n",
      "37 loss 131.9118\n",
      "38 loss 129.50098\n",
      "39 loss 128.50417\n",
      "40 loss 126.8486\n",
      "41 loss 125.64363\n",
      "42 loss 125.386986\n",
      "43 loss 124.04884\n",
      "44 loss 123.23063\n",
      "45 loss 121.262794\n",
      "46 loss 121.632385\n",
      "47 loss 120.745514\n",
      "48 loss 119.07148\n",
      "49 loss 118.29614\n",
      "50 loss 116.18523\n",
      "51 loss 115.28376\n",
      "52 loss 127.50069\n",
      "53 loss 113.634705\n",
      "54 loss 112.64462\n",
      "55 loss 111.64187\n",
      "56 loss 114.81864\n",
      "57 loss 111.13353\n",
      "58 loss 110.291214\n",
      "59 loss 111.97484\n",
      "60 loss 109.062386\n",
      "61 loss 107.26739\n",
      "62 loss 106.50489\n",
      "63 loss 105.77071\n",
      "64 loss 108.04884\n",
      "65 loss 104.8208\n",
      "66 loss 104.147995\n",
      "67 loss 103.22798\n",
      "68 loss 104.80204\n",
      "69 loss 102.96132\n",
      "70 loss 111.64519\n",
      "71 loss 110.60051\n",
      "72 loss 101.37849\n",
      "73 loss 107.242615\n",
      "74 loss 104.01759\n",
      "75 loss 102.59597\n",
      "76 loss 100.57786\n",
      "77 loss 101.228836\n",
      "78 loss 100.06654\n",
      "79 loss 100.83299\n",
      "80 loss 99.65285\n",
      "81 loss 98.43579\n",
      "82 loss 99.53671\n",
      "83 loss 103.302414\n",
      "84 loss 102.03392\n",
      "85 loss 101.8264\n",
      "86 loss 99.206055\n",
      "87 loss 99.85234\n",
      "88 loss 98.78569\n",
      "89 loss 99.063034\n",
      "90 loss 101.34918\n",
      "91 loss 98.052155\n",
      "92 loss 98.759674\n",
      "93 loss 98.54837\n",
      "94 loss 98.64947\n",
      "95 loss 100.775276\n",
      "96 loss 99.49916\n",
      "97 loss 98.31927\n",
      "98 loss 97.25966\n",
      "99 loss 95.95381\n"
     ]
    },
    {
     "data": {
      "application/vnd.jupyter.widget-view+json": {
       "model_id": "7c7e3c2cbac34048a012112618c3fe96",
       "version_major": 2,
       "version_minor": 0
      },
      "text/plain": [
       "  0%|          | 0/345 [00:00<?, ?it/s]"
      ]
     },
     "metadata": {},
     "output_type": "display_data"
    },
    {
     "name": "stdout",
     "output_type": "stream",
     "text": [
      "err 33\n"
     ]
    },
    {
     "data": {
      "application/vnd.jupyter.widget-view+json": {
       "model_id": "5b07d56a80764ebd96b8789effd93cff",
       "version_major": 2,
       "version_minor": 0
      },
      "text/plain": [
       "  0%|          | 0/50 [00:00<?, ?it/s]"
      ]
     },
     "metadata": {},
     "output_type": "display_data"
    },
    {
     "name": "stdout",
     "output_type": "stream",
     "text": [
      "0 loss 745.883\n",
      "1 loss 624.681\n",
      "2 loss 527.9801\n",
      "3 loss 450.99182\n",
      "4 loss 389.35056\n",
      "5 loss 340.71887\n",
      "6 loss 301.6794\n",
      "7 loss 270.52875\n",
      "8 loss 246.56668\n",
      "9 loss 228.80453\n",
      "10 loss 215.9562\n",
      "11 loss 209.3783\n",
      "12 loss 203.09882\n",
      "13 loss 197.94408\n",
      "14 loss 193.49524\n",
      "15 loss 190.92603\n",
      "16 loss 187.59552\n",
      "17 loss 186.00288\n",
      "18 loss 183.34982\n",
      "19 loss 185.16396\n",
      "20 loss 179.70215\n",
      "21 loss 172.3748\n",
      "22 loss 166.74252\n",
      "23 loss 162.50119\n",
      "24 loss 161.00414\n",
      "25 loss 156.5904\n",
      "26 loss 152.8148\n",
      "27 loss 148.2355\n",
      "28 loss 145.85168\n",
      "29 loss 145.6613\n",
      "30 loss 141.92067\n",
      "31 loss 139.7869\n",
      "32 loss 137.86502\n",
      "33 loss 135.48877\n",
      "34 loss 131.7096\n",
      "35 loss 129.50531\n",
      "36 loss 131.72827\n",
      "37 loss 132.71465\n",
      "38 loss 128.5232\n",
      "39 loss 126.454994\n",
      "40 loss 124.12427\n",
      "41 loss 125.07829\n",
      "42 loss 127.4706\n",
      "43 loss 122.25518\n",
      "44 loss 122.10391\n",
      "45 loss 119.416565\n",
      "46 loss 118.58629\n",
      "47 loss 119.40047\n",
      "48 loss 118.507706\n",
      "49 loss 119.92514\n"
     ]
    },
    {
     "data": {
      "application/vnd.jupyter.widget-view+json": {
       "model_id": "ceb84d7343bf42e9a4945106cdc0fb75",
       "version_major": 2,
       "version_minor": 0
      },
      "text/plain": [
       "  0%|          | 0/50 [00:00<?, ?it/s]"
      ]
     },
     "metadata": {},
     "output_type": "display_data"
    },
    {
     "name": "stdout",
     "output_type": "stream",
     "text": [
      "0 loss 733.964\n",
      "1 loss 608.35913\n",
      "2 loss 513.3535\n",
      "3 loss 438.93982\n",
      "4 loss 381.42447\n",
      "5 loss 333.7187\n",
      "6 loss 298.1715\n",
      "7 loss 270.45728\n",
      "8 loss 248.82431\n",
      "9 loss 231.75772\n",
      "10 loss 217.93402\n",
      "11 loss 206.8988\n",
      "12 loss 200.52248\n",
      "13 loss 195.11993\n",
      "14 loss 189.92935\n",
      "15 loss 186.32442\n",
      "16 loss 185.0597\n",
      "17 loss 181.93152\n",
      "18 loss 179.36092\n",
      "19 loss 175.854\n",
      "20 loss 172.27844\n",
      "21 loss 170.16411\n",
      "22 loss 167.75462\n",
      "23 loss 161.82036\n",
      "24 loss 156.33307\n",
      "25 loss 152.73706\n",
      "26 loss 149.82059\n",
      "27 loss 148.94159\n",
      "28 loss 145.44495\n",
      "29 loss 144.9104\n",
      "30 loss 151.70964\n",
      "31 loss 149.81686\n",
      "32 loss 146.71338\n",
      "33 loss 143.53116\n",
      "34 loss 142.72415\n",
      "35 loss 138.09189\n",
      "36 loss 136.96408\n",
      "37 loss 136.3743\n",
      "38 loss 135.09392\n",
      "39 loss 134.95197\n",
      "40 loss 133.0658\n",
      "41 loss 139.46066\n",
      "42 loss 138.17412\n",
      "43 loss 136.07106\n",
      "44 loss 129.759\n",
      "45 loss 128.94662\n",
      "46 loss 127.93285\n",
      "47 loss 132.34805\n",
      "48 loss 135.28642\n",
      "49 loss 130.05934\n"
     ]
    },
    {
     "data": {
      "application/vnd.jupyter.widget-view+json": {
       "model_id": "09eced82d8494e76babfa38aa172a52a",
       "version_major": 2,
       "version_minor": 0
      },
      "text/plain": [
       "  0%|          | 0/50 [00:00<?, ?it/s]"
      ]
     },
     "metadata": {},
     "output_type": "display_data"
    },
    {
     "name": "stdout",
     "output_type": "stream",
     "text": [
      "0 loss 763.38153\n",
      "1 loss 627.5342\n",
      "2 loss 521.11523\n",
      "3 loss 439.71008\n",
      "4 loss 373.8511\n",
      "5 loss 320.59656\n",
      "6 loss 278.3813\n",
      "7 loss 247.60268\n",
      "8 loss 227.19376\n",
      "9 loss 214.68593\n",
      "10 loss 207.38855\n",
      "11 loss 204.01776\n",
      "12 loss 201.38977\n",
      "13 loss 199.17148\n",
      "14 loss 198.93155\n",
      "15 loss 198.64597\n",
      "16 loss 198.04494\n",
      "17 loss 192.4665\n",
      "18 loss 186.48224\n",
      "19 loss 182.04614\n",
      "20 loss 176.08842\n",
      "21 loss 170.82169\n",
      "22 loss 166.2603\n",
      "23 loss 165.6831\n",
      "24 loss 162.67429\n",
      "25 loss 161.57101\n",
      "26 loss 158.4391\n",
      "27 loss 155.99734\n",
      "28 loss 150.9006\n",
      "29 loss 151.99216\n",
      "30 loss 147.62344\n",
      "31 loss 149.1777\n",
      "32 loss 145.60101\n",
      "33 loss 143.26773\n",
      "34 loss 140.60123\n",
      "35 loss 138.94012\n",
      "36 loss 137.22731\n",
      "37 loss 134.41663\n",
      "38 loss 132.22287\n",
      "39 loss 131.77325\n",
      "40 loss 130.61624\n",
      "41 loss 129.09741\n",
      "42 loss 129.81064\n",
      "43 loss 127.20658\n",
      "44 loss 126.80878\n",
      "45 loss 128.47963\n",
      "46 loss 124.23755\n",
      "47 loss 122.78046\n",
      "48 loss 122.17435\n",
      "49 loss 121.57213\n"
     ]
    },
    {
     "data": {
      "application/vnd.jupyter.widget-view+json": {
       "model_id": "0c0f44b6dc35441bb50fdacc19ff1629",
       "version_major": 2,
       "version_minor": 0
      },
      "text/plain": [
       "  0%|          | 0/50 [00:00<?, ?it/s]"
      ]
     },
     "metadata": {},
     "output_type": "display_data"
    },
    {
     "name": "stdout",
     "output_type": "stream",
     "text": [
      "0 loss 741.551\n",
      "1 loss 613.37805\n",
      "2 loss 512.20715\n",
      "3 loss 432.3568\n",
      "4 loss 370.71198\n",
      "5 loss 324.09186\n",
      "6 loss 288.1717\n",
      "7 loss 261.2221\n",
      "8 loss 241.57358\n",
      "9 loss 226.95529\n",
      "10 loss 215.9242\n",
      "11 loss 206.32605\n",
      "12 loss 198.11914\n",
      "13 loss 192.88289\n",
      "14 loss 186.30064\n",
      "15 loss 183.54684\n",
      "16 loss 178.71039\n",
      "17 loss 176.2406\n",
      "18 loss 170.40134\n",
      "19 loss 164.08926\n",
      "20 loss 166.17279\n",
      "21 loss 162.67946\n",
      "22 loss 163.35791\n",
      "23 loss 154.81775\n",
      "24 loss 152.18971\n",
      "25 loss 149.57318\n",
      "26 loss 146.8556\n",
      "27 loss 147.74174\n",
      "28 loss 147.39972\n",
      "29 loss 146.36732\n",
      "30 loss 142.48618\n",
      "31 loss 140.89465\n",
      "32 loss 139.61185\n",
      "33 loss 137.37871\n",
      "34 loss 137.93445\n",
      "35 loss 136.00351\n",
      "36 loss 133.02362\n",
      "37 loss 131.63249\n",
      "38 loss 132.24454\n",
      "39 loss 130.51959\n",
      "40 loss 128.20197\n",
      "41 loss 127.1162\n",
      "42 loss 126.067276\n",
      "43 loss 124.59088\n",
      "44 loss 121.48933\n",
      "45 loss 120.68907\n",
      "46 loss 120.378395\n",
      "47 loss 119.33152\n",
      "48 loss 129.62268\n",
      "49 loss 131.51675\n"
     ]
    },
    {
     "data": {
      "application/vnd.jupyter.widget-view+json": {
       "model_id": "a13ca9674b8f46239ca3dce83854620c",
       "version_major": 2,
       "version_minor": 0
      },
      "text/plain": [
       "  0%|          | 0/50 [00:00<?, ?it/s]"
      ]
     },
     "metadata": {},
     "output_type": "display_data"
    },
    {
     "name": "stdout",
     "output_type": "stream",
     "text": [
      "0 loss 370.56165\n",
      "1 loss 297.49725\n",
      "2 loss 265.03986\n",
      "3 loss 241.3735\n",
      "4 loss 224.1307\n",
      "5 loss 211.6859\n",
      "6 loss 202.17538\n",
      "7 loss 194.94832\n",
      "8 loss 189.78297\n",
      "9 loss 184.3266\n",
      "10 loss 180.0206\n",
      "11 loss 176.7627\n",
      "12 loss 175.1797\n",
      "13 loss 172.24773\n",
      "14 loss 173.53857\n",
      "15 loss 170.90596\n",
      "16 loss 171.16263\n",
      "17 loss 171.30061\n",
      "18 loss 169.19177\n",
      "19 loss 167.50174\n",
      "20 loss 165.51556\n",
      "21 loss 165.2024\n",
      "22 loss 164.86755\n",
      "23 loss 164.64499\n",
      "24 loss 163.31186\n",
      "25 loss 161.23529\n",
      "26 loss 160.19685\n",
      "27 loss 159.42224\n",
      "28 loss 157.48502\n",
      "29 loss 156.32135\n",
      "30 loss 154.9384\n",
      "31 loss 153.46841\n",
      "32 loss 151.99446\n",
      "33 loss 150.2308\n",
      "34 loss 148.85147\n",
      "35 loss 147.297\n",
      "36 loss 149.47194\n",
      "37 loss 148.31242\n",
      "38 loss 149.09076\n",
      "39 loss 146.05934\n",
      "40 loss 148.17769\n",
      "41 loss 146.80515\n",
      "42 loss 150.40378\n",
      "43 loss 148.45206\n",
      "44 loss 145.84787\n",
      "45 loss 145.00644\n",
      "46 loss 143.23248\n",
      "47 loss 142.5072\n",
      "48 loss 140.29056\n",
      "49 loss 137.67728\n"
     ]
    },
    {
     "data": {
      "application/vnd.jupyter.widget-view+json": {
       "model_id": "0360e91844b04b2dbd263bdccd208e45",
       "version_major": 2,
       "version_minor": 0
      },
      "text/plain": [
       "  0%|          | 0/50 [00:00<?, ?it/s]"
      ]
     },
     "metadata": {},
     "output_type": "display_data"
    },
    {
     "name": "stdout",
     "output_type": "stream",
     "text": [
      "0 loss 377.04404\n",
      "1 loss 303.958\n",
      "2 loss 272.0692\n",
      "3 loss 248.70435\n",
      "4 loss 232.1713\n",
      "5 loss 220.41891\n",
      "6 loss 207.73343\n",
      "7 loss 200.349\n",
      "8 loss 193.76\n",
      "9 loss 190.10486\n",
      "10 loss 186.84177\n",
      "11 loss 184.40164\n",
      "12 loss 181.86624\n",
      "13 loss 185.28575\n",
      "14 loss 182.40134\n",
      "15 loss 179.87091\n",
      "16 loss 177.51071\n",
      "17 loss 177.37701\n",
      "18 loss 180.0832\n",
      "19 loss 181.18654\n",
      "20 loss 178.3468\n",
      "21 loss 176.34042\n",
      "22 loss 176.7237\n",
      "23 loss 172.50287\n",
      "24 loss 169.0292\n",
      "25 loss 168.96619\n",
      "26 loss 167.68463\n",
      "27 loss 165.62344\n",
      "28 loss 165.0372\n",
      "29 loss 164.39401\n",
      "30 loss 163.76823\n",
      "31 loss 164.92567\n",
      "32 loss 164.1335\n",
      "33 loss 162.34688\n",
      "34 loss 160.73218\n",
      "35 loss 159.67628\n",
      "36 loss 158.28094\n",
      "37 loss 155.33879\n",
      "38 loss 153.94666\n",
      "39 loss 152.5568\n",
      "40 loss 151.62381\n",
      "41 loss 151.20856\n",
      "42 loss 149.41576\n",
      "43 loss 147.45064\n",
      "44 loss 146.92285\n",
      "45 loss 147.62033\n",
      "46 loss 146.02808\n",
      "47 loss 145.14279\n",
      "48 loss 144.61981\n",
      "49 loss 145.4093\n"
     ]
    },
    {
     "data": {
      "application/vnd.jupyter.widget-view+json": {
       "model_id": "c12eb9bbb29d4f2590122102d146ee05",
       "version_major": 2,
       "version_minor": 0
      },
      "text/plain": [
       "  0%|          | 0/50 [00:00<?, ?it/s]"
      ]
     },
     "metadata": {},
     "output_type": "display_data"
    },
    {
     "name": "stdout",
     "output_type": "stream",
     "text": [
      "0 loss 373.92517\n",
      "1 loss 291.82565\n",
      "2 loss 268.10013\n",
      "3 loss 247.11461\n",
      "4 loss 230.48698\n",
      "5 loss 219.17729\n",
      "6 loss 209.91785\n",
      "7 loss 200.30452\n",
      "8 loss 193.963\n",
      "9 loss 188.9361\n",
      "10 loss 184.62115\n",
      "11 loss 181.37415\n",
      "12 loss 178.90895\n",
      "13 loss 178.48296\n",
      "14 loss 177.24927\n",
      "15 loss 175.90698\n",
      "16 loss 173.893\n",
      "17 loss 172.79948\n",
      "18 loss 172.55408\n",
      "19 loss 170.7751\n",
      "20 loss 169.08237\n",
      "21 loss 167.87372\n",
      "22 loss 170.14902\n",
      "23 loss 168.54662\n",
      "24 loss 166.85057\n",
      "25 loss 165.17694\n",
      "26 loss 163.3461\n",
      "27 loss 162.3581\n",
      "28 loss 160.82574\n",
      "29 loss 160.35364\n",
      "30 loss 158.7139\n",
      "31 loss 157.10526\n",
      "32 loss 157.76918\n",
      "33 loss 158.4872\n",
      "34 loss 158.0776\n",
      "35 loss 154.38583\n",
      "36 loss 152.95279\n",
      "37 loss 152.14026\n",
      "38 loss 151.74661\n",
      "39 loss 151.78989\n",
      "40 loss 150.29752\n",
      "41 loss 148.28084\n",
      "42 loss 146.3342\n",
      "43 loss 145.46283\n",
      "44 loss 146.20035\n",
      "45 loss 145.78561\n",
      "46 loss 145.5488\n",
      "47 loss 144.71762\n",
      "48 loss 144.78113\n",
      "49 loss 143.59534\n"
     ]
    },
    {
     "data": {
      "application/vnd.jupyter.widget-view+json": {
       "model_id": "ba9d261709e546349807ae3e4508bb58",
       "version_major": 2,
       "version_minor": 0
      },
      "text/plain": [
       "  0%|          | 0/50 [00:00<?, ?it/s]"
      ]
     },
     "metadata": {},
     "output_type": "display_data"
    },
    {
     "name": "stdout",
     "output_type": "stream",
     "text": [
      "0 loss 368.2434\n",
      "1 loss 292.63226\n",
      "2 loss 276.15677\n",
      "3 loss 250.07095\n",
      "4 loss 230.86076\n",
      "5 loss 217.35641\n",
      "6 loss 204.47981\n",
      "7 loss 198.28467\n",
      "8 loss 193.35048\n",
      "9 loss 190.96568\n",
      "10 loss 190.23994\n",
      "11 loss 185.90443\n",
      "12 loss 182.73926\n",
      "13 loss 178.31436\n",
      "14 loss 177.52432\n",
      "15 loss 173.3724\n",
      "16 loss 170.56667\n",
      "17 loss 169.58492\n",
      "18 loss 168.73932\n",
      "19 loss 167.75955\n",
      "20 loss 169.98703\n",
      "21 loss 167.10031\n",
      "22 loss 165.69302\n",
      "23 loss 164.51895\n",
      "24 loss 162.99469\n",
      "25 loss 161.14171\n",
      "26 loss 157.93674\n",
      "27 loss 156.51602\n",
      "28 loss 155.34123\n",
      "29 loss 155.77322\n",
      "30 loss 154.32858\n",
      "31 loss 152.71603\n",
      "32 loss 151.71886\n",
      "33 loss 151.75848\n",
      "34 loss 151.77478\n",
      "35 loss 150.5932\n",
      "36 loss 152.41518\n",
      "37 loss 150.83096\n",
      "38 loss 148.7066\n",
      "39 loss 148.74762\n",
      "40 loss 147.6113\n",
      "41 loss 148.18442\n",
      "42 loss 145.91096\n",
      "43 loss 144.2762\n",
      "44 loss 143.72289\n",
      "45 loss 142.80663\n",
      "46 loss 142.01788\n",
      "47 loss 140.34158\n",
      "48 loss 142.18773\n",
      "49 loss 141.39635\n",
      "8\n",
      "check 33 33\n",
      "error cloud (2000, 3)\n"
     ]
    }
   ],
   "source": [
    "#limit = 100\n",
    "limit = len(predictions_list)\n",
    "torch.autograd.set_detect_anomaly(False)\n",
    "print(cat)\n",
    "if cat == 'bend':\n",
    "    cat = 'elbow'\n",
    "modified_preds = chamfer_fine_tune(100, 0.01, predictions_list[:limit], cloud_list[:limit], cat, blueprint, alpha=3, visualise=False, elbow_fix=True)\n",
    "#cl_v, v, modified_preds = chamfer_fine_tune(100, 0.01, predictions_list[:limit], cloud_list[:limit], cat, blueprint, alpha=3, visualise=True)\n",
    "\n",
    "       "
   ]
  },
  {
   "cell_type": "code",
   "execution_count": 16,
   "metadata": {
    "scrolled": true
   },
   "outputs": [
    {
     "ename": "NameError",
     "evalue": "name 'cl_v' is not defined",
     "output_type": "error",
     "traceback": [
      "\u001b[0;31m---------------------------------------------------------------------------\u001b[0m",
      "\u001b[0;31mNameError\u001b[0m                                 Traceback (most recent call last)",
      "Input \u001b[0;32mIn [16]\u001b[0m, in \u001b[0;36m<cell line: 1>\u001b[0;34m()\u001b[0m\n\u001b[0;32m----> 1\u001b[0m \u001b[38;5;28mprint\u001b[39m(\u001b[38;5;28mlen\u001b[39m(\u001b[43mcl_v\u001b[49m), \u001b[38;5;28mlen\u001b[39m(v))\n",
      "\u001b[0;31mNameError\u001b[0m: name 'cl_v' is not defined"
     ]
    }
   ],
   "source": [
    "print(len(cl_v), len(v))"
   ]
  },
  {
   "cell_type": "code",
   "execution_count": null,
   "metadata": {
    "scrolled": true
   },
   "outputs": [],
   "source": [
    "print(cl_v)"
   ]
  },
  {
   "cell_type": "code",
   "execution_count": null,
   "metadata": {
    "scrolled": true
   },
   "outputs": [],
   "source": [
    "#print(modified_preds[0], len(id_list))"
   ]
  },
  {
   "cell_type": "code",
   "execution_count": 17,
   "metadata": {
    "scrolled": true
   },
   "outputs": [
    {
     "ename": "NameError",
     "evalue": "name 'inputs_list' is not defined",
     "output_type": "error",
     "traceback": [
      "\u001b[0;31m---------------------------------------------------------------------------\u001b[0m",
      "\u001b[0;31mNameError\u001b[0m                                 Traceback (most recent call last)",
      "Input \u001b[0;32mIn [17]\u001b[0m, in \u001b[0;36m<cell line: 1>\u001b[0;34m()\u001b[0m\n\u001b[0;32m----> 1\u001b[0m plot_parameter_errors(\u001b[43minputs_list\u001b[49m, modified_preds, cat)\n",
      "\u001b[0;31mNameError\u001b[0m: name 'inputs_list' is not defined"
     ]
    }
   ],
   "source": [
    "plot_parameter_errors(inputs_list, modified_preds, cat)"
   ]
  },
  {
   "cell_type": "code",
   "execution_count": 55,
   "metadata": {
    "scrolled": true
   },
   "outputs": [
    {
     "data": {
      "application/vnd.jupyter.widget-view+json": {
       "model_id": "0c3e81ac39c34157adec41cc5144cdaa",
       "version_major": 2,
       "version_minor": 0
      },
      "text/plain": [
       "  0%|          | 0/345 [00:00<?, ?it/s]"
      ]
     },
     "metadata": {},
     "output_type": "display_data"
    },
    {
     "name": "stdout",
     "output_type": "stream",
     "text": [
      "error_count 0\n",
      "avg 57.547607 3 247.00229 2.1553402\n"
     ]
    },
    {
     "data": {
      "image/png": "[encoded data removed]",
      "text/plain": [
       "<Figure size 864x288 with 1 Axes>"
      ]
     },
     "metadata": {
      "needs_background": "light"
     },
     "output_type": "display_data"
    }
   ],
   "source": [
    "dists = chamfer_evaluate(modified_preds, cloud_list[:limit], id_list, cat, blueprint,  ifcConvert_executable,\n",
    "                     cloudCompare_executable, temp_dir, target_dir, sample_size, threshold, icp_correction = False)\n",
    "\n",
    "if inference:\n",
    "    with open(model_path/('preds_finetuned_' + 'elbow' + '.pkl'), 'wb') as f:\n",
    "        pickle.dump([modified_preds, id_list, dists], f)\n",
    "\n",
    "plot_error_graph(dists, \"Binned chamfer loss\", max_val=300)"
   ]
  },
  {
   "cell_type": "code",
   "execution_count": null,
   "metadata": {},
   "outputs": [],
   "source": [
    "node_dict = get_features_from_params(path)"
   ]
  },
  {
   "cell_type": "code",
   "execution_count": null,
   "metadata": {
    "scrolled": true
   },
   "outputs": [],
   "source": [
    "preds = torch.tensor([predictions_list[1]]).cuda()\n",
    "print(predictions_list[1])\n",
    "pcd = generate_tee_cloud_tensor(preds)\n",
    "#tee = generate_tee_cloud(predictions_list[0])\n",
    "tee = pcd[0].cpu().numpy()\n",
    "tee = o3d.utility.Vector3dVector(tee)\n",
    "tee_cloud = o3d.geometry.PointCloud()\n",
    "tee_cloud.points = tee\n",
    "o3d.io.write_point_cloud(\"tee_cl.pcd\", tee_cloud)\n"
   ]
  },
  {
   "cell_type": "code",
   "execution_count": null,
   "metadata": {
    "scrolled": true
   },
   "outputs": [],
   "source": [
    "original = cloud_list[2]\n",
    "points= o3d.utility.Vector3dVector(original.transpose(1,0))\n",
    "tee_cloud.points = points\n",
    "o3d.io.write_point_cloud(\"tee_cl_inp.pcd\", tee_cloud)"
   ]
  },
  {
   "cell_type": "code",
   "execution_count": null,
   "metadata": {
    "scrolled": true
   },
   "outputs": [],
   "source": [
    "# undo normalisation opf the bp tee dataset created for inference, only for comparison with the inferred tee results\n",
    "tee_path = 'tee_fix/tee/test/'\n",
    "metadata_file = open(\"tee_fix/tee/metadata.json\", 'r')\n",
    "metadata = json.load(metadata_file)\n",
    "output_path = 'tee_fix/tee/unnormalised/'\n",
    "\n",
    "files = os.listdir(tee_path)\n",
    "new_points = []\n",
    "for f in tqdm(files):\n",
    "    cloud_data = metadata[f.split(\".\")[0]]\n",
    "    points = np.array(o3d.io.read_point_cloud(tee_path + f).points)\n",
    "    print(\"a\", points[0])\n",
    "    print(cloud_data[\"norm_factor\"], cloud_data[\"mean\"])\n",
    "    points *= cloud_data[\"norm_factor\"]\n",
    "    print(\"b\", points[0])\n",
    "\n",
    "    for i, pnt in enumerate(points):\n",
    "        pnt += cloud_data[\"mean\"]\n",
    "    print(\"c\", points[10])\n",
    "    new_points.append(points)\n",
    "        \n",
    "new_points = o3d.utility.Vector3dVector(np.concatenate(new_points))\n",
    "new_cloud = o3d.geometry.PointCloud()\n",
    "new_cloud.points = new_points\n",
    "o3d.io.write_point_cloud(output_path+\"tee_bp_unnormalised.pcd\", new_cloud)"
   ]
  },
  {
   "cell_type": "markdown",
   "metadata": {},
   "source": [
    "## Mesh deformation"
   ]
  },
  {
   "cell_type": "code",
   "execution_count": null,
   "metadata": {},
   "outputs": [],
   "source": [
    "pr = [0.5,1.0, 0.2, 10., 10., 10., math.sin(0.75), math.cos(0.75), math.sin(0.75), math.cos(0.75), math.sin(0.75), math.cos(0.75)]\n",
    "\n",
    "pr_tensor = torch.tensor([pr]).cuda()\n",
    "pcd = generate_flange_cloud_tensor(pr_tensor)\n",
    "pcd = pcd[0].cpu().numpy()\n",
    "\n",
    "#pcd = generate_flange_cloud(pr)\n",
    "\n",
    "print(len(pcd))\n",
    "new_points = o3d.utility.Vector3dVector(pcd)\n",
    "new_cloud = o3d.geometry.PointCloud()\n",
    "new_cloud.points = new_points\n",
    "o3d.io.write_point_cloud(\"sample_flange.pcd\", new_cloud)\n",
    "\n"
   ]
  },
  {
   "cell_type": "code",
   "execution_count": null,
   "metadata": {},
   "outputs": [],
   "source": []
  }
 ],
 "metadata": {
  "accelerator": "GPU",
  "colab": {
   "provenance": []
  },
  "gpuClass": "standard",
  "kernelspec": {
   "display_name": "Python 3 (ipykernel)",
   "language": "python",
   "name": "python3"
  },
  "language_info": {
   "codemirror_mode": {
    "name": "ipython",
    "version": 3
   },
   "file_extension": ".py",
   "mimetype": "text/x-python",
   "name": "python",
   "nbconvert_exporter": "python",
   "pygments_lexer": "ipython3",
   "version": "3.9.7"
  }
 },
 "nbformat": 4,
 "nbformat_minor": 1
}
