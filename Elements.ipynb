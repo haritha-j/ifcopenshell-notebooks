{
 "cells": [
  {
   "cell_type": "markdown",
   "metadata": {
    "id": "NpvL68OfBEQC"
   },
   "source": [
    "# Element Parameter Detection"
   ]
  },
  {
   "cell_type": "markdown",
   "metadata": {
    "id": "-z7n_pw4SMWl"
   },
   "source": [
    "## Setup"
   ]
  },
  {
   "cell_type": "code",
   "execution_count": null,
   "metadata": {
    "id": "TJ47VNF7fmTS",
    "scrolled": true
   },
   "outputs": [],
   "source": [
    "%load_ext autoreload\n",
    "\n",
    "import numpy as np\n",
    "import math\n",
    "import random\n",
    "import os\n",
    "import os.path\n",
    "import torch\n",
    "import sys\n",
    "import copy\n",
    "import pickle\n",
    "import importlib\n",
    "import torch.nn as nn\n",
    "import time\n",
    "import functorch\n",
    "from numpy.random import default_rng\n",
    "from tqdm.notebook import tqdm\n",
    "\n",
    "from torch.utils.data import Dataset, DataLoader\n",
    "from torchvision import transforms, utils\n",
    "import matplotlib.pyplot as plt\n",
    "from chamferdist import ChamferDistance\n",
    "from pathlib import Path\n",
    "\n",
    "import ifcopenshell\n",
    "import open3d as o3d\n",
    "\n",
    "from src.elements import *\n",
    "from src.ifc import *\n",
    "from src.preparation import *\n",
    "from src.dataset import *\n",
    "from src.pointnet import *\n",
    "from src.visualisation import *\n",
    "from src.geometry import sq_distance, get_oriented_bbox_from_points\n",
    "from src.icp import icp_finetuning\n",
    "from src.chamfer import *\n",
    "from src.utils import *\n",
    "from src.plots import plot_error_graph, plot_parameter_errors\n",
    "from src.pca import testset_PCA\n",
    "from src.finetune import chamfer_fine_tune, mahalanobis_fine_tune\n",
    "from src.cloud import add_noise"
   ]
  },
  {
   "cell_type": "code",
   "execution_count": null,
   "metadata": {
    "id": "vpzTlKjmlr2q",
    "scrolled": true
   },
   "outputs": [],
   "source": [
    "random.seed = 42\n",
    "rng = default_rng()"
   ]
  },
  {
   "cell_type": "code",
   "execution_count": null,
   "metadata": {
    "id": "Xyu78RWIQEQJ",
    "scrolled": true
   },
   "outputs": [],
   "source": [
    "# path = Path(\"ModelNet10\")\n",
    "# path = Path('/content/drive/MyDrive/ElementNet/')\n",
    "path = Path(\"output/\")\n",
    "# savepath = '/content/drive/MyDrive/ElementNet/'\n",
    "savepath = \"models/\"\n",
    "cuda = torch.device(\"cuda\")\n",
    "\n",
    "noise = False"
   ]
  },
  {
   "cell_type": "markdown",
   "metadata": {
    "id": "Isb_97zOA8Tl"
   },
   "source": [
    "## Model"
   ]
  },
  {
   "cell_type": "markdown",
   "metadata": {
    "id": "_8W4gOI_P9a9"
   },
   "source": [
    "## Test\n",
    "\n",
    "Analyze results statistically\n",
    "\n",
    "POINTNET++"
   ]
  },
  {
   "cell_type": "code",
   "execution_count": null,
   "metadata": {
    "id": "4pOl95glmphX",
    "scrolled": true
   },
   "outputs": [],
   "source": [
    "train_transforms = transforms.Compose(\n",
    "    [\n",
    "        Normalize(),\n",
    "        #                    RandomNoise(),\n",
    "        ToTensor(),\n",
    "    ]\n",
    ")"
   ]
  },
  {
   "cell_type": "code",
   "execution_count": null,
   "metadata": {
    "scrolled": true
   },
   "outputs": [],
   "source": [
    "# load data and model\n",
    "BASE_DIR = os.path.dirname(os.path.abspath(\"industrial-facility-relationships/\"))\n",
    "BASE_DIR = os.path.join(BASE_DIR, \"pointnet2\")\n",
    "ROOT_DIR = BASE_DIR\n",
    "sys.path.append(os.path.join(ROOT_DIR, \"models\"))\n",
    "\n",
    "inference = False\n",
    "cloi = False\n",
    "\n",
    "if inference:\n",
    "    if cloi:\n",
    "        path = Path(\"cloi/\")\n",
    "        ext = \".pcd\"\n",
    "    else:\n",
    "        #     path = Path('output/bp_data/')\n",
    "        # path = Path('output/east_ref/')\n",
    "        path = Path(\"occluded/west/\")\n",
    "        # path = Path('output/')\n",
    "\n",
    "        # path = Path('/mnt/c/data/3D_CAD/east_clouds/')\n",
    "        ext = \".pcd\"\n",
    "\n",
    "else:\n",
    "    if not noise:\n",
    "        # path = Path(\"occluded/\")\n",
    "        path = Path(\"output/\")\n",
    "    else:\n",
    "        path = Path(\"output/noisy/\")\n",
    "    ext = \".pcd\"\n",
    "\n",
    "cat = \"elbow\"\n",
    "device = torch.device(\"cuda:0\" if torch.cuda.is_available() else \"cpu\")\n",
    "use_normals = False\n",
    "cat_targets = {\"elbow\": 14, \"bend\": 14, \"tee\": 19, \"pipe\": 11, \"flange\": 13}\n",
    "\n",
    "if inference:\n",
    "    test_ds = PointCloudData(\n",
    "        path,\n",
    "        valid=True,\n",
    "        folder=\"test\",\n",
    "        category=cat,\n",
    "        transform=train_transforms,\n",
    "        inference=True,\n",
    "    )\n",
    "    targets = cat_targets[cat]\n",
    "else:\n",
    "    test_ds = PointCloudData(\n",
    "        path, valid=True, folder=\"test\", category=cat, transform=train_transforms\n",
    "    )\n",
    "    targets = test_ds.targets\n",
    "\n",
    "testDataLoader = torch.utils.data.DataLoader(dataset=test_ds, batch_size=128)\n",
    "test_criterion = nn.MSELoss()\n",
    "\n",
    "model_name = \"pointnet2_cls_ssg\"\n",
    "model_path = Path(\"pointnet2/log/classification/pointnet2_cls_ssg/\")\n",
    "model = importlib.import_module(model_name)\n",
    "\n",
    "\n",
    "predictor = model.get_model(targets, normal_channel=use_normals)\n",
    "if device != \"cpu\":\n",
    "    predictor = predictor.cuda()\n",
    "\n",
    "# checkpoint = torch.load(model_path/'checkpoints/best_model.pth')\n",
    "checkpoint = torch.load(model_path / \"checkpoints/models/best_model_e_chamfer_0005.pth\")\n",
    "# checkpoint = torch.load(model_path/'checkpoints/models/best_model_t_chamfer_00005_bp.pth')\n",
    "predictor.load_state_dict(checkpoint[\"model_state_dict\"])"
   ]
  },
  {
   "cell_type": "code",
   "execution_count": null,
   "metadata": {
    "scrolled": true
   },
   "outputs": [],
   "source": [
    "blueprint = \"data/sample.ifc\"\n",
    "temp_dir = \"output/temp/\"\n",
    "target_dir = \"output/tee/test/\"\n",
    "\n",
    "ifcConvert_executable = \"scripts/./IfcConvert\"\n",
    "cloudCompare_executable = \"cloudcompare.CloudCompare\"\n",
    "sample_size = 2048\n",
    "threshold = 2"
   ]
  },
  {
   "cell_type": "code",
   "execution_count": null,
   "metadata": {
    "scrolled": true
   },
   "outputs": [],
   "source": [
    "def model_inference(model, loader, device, calculate_score=False):\n",
    "    predictor = model.eval()\n",
    "    predictions_list, pcd_list, id_list = [], [], []\n",
    "    with torch.no_grad():\n",
    "        for j, data in tqdm(enumerate(loader), total=len(loader)):\n",
    "            points, ids = data[\"pointcloud\"].to(device).float(), data[\"id\"].to(device)\n",
    "            points = points.transpose(2, 1)\n",
    "            preds, _ = predictor(points)\n",
    "            preds, points, ids = (\n",
    "                preds.to(torch.device(\"cpu\")),\n",
    "                points.to(torch.device(\"cpu\")),\n",
    "                data[\"id\"].to(torch.device(\"cpu\")),\n",
    "            )\n",
    "            for i, pr in enumerate(preds):\n",
    "                predictions_list.append(pr.numpy())\n",
    "                pcd_list.append(points[i].numpy())\n",
    "                id_list.append(ids[i].numpy())\n",
    "\n",
    "        return (predictions_list, pcd_list, id_list)"
   ]
  },
  {
   "cell_type": "code",
   "execution_count": null,
   "metadata": {
    "scrolled": true
   },
   "outputs": [],
   "source": [
    "if inference:\n",
    "    predictions_list, cloud_list, id_list = model_inference(\n",
    "        predictor.eval(), testDataLoader, device\n",
    "    )"
   ]
  },
  {
   "cell_type": "code",
   "execution_count": null,
   "metadata": {
    "scrolled": true
   },
   "outputs": [],
   "source": [
    "def test(model, loader, device, criterion):\n",
    "    losses = []\n",
    "    predictor = model.eval()\n",
    "    cloud_list = []\n",
    "    label_list = []\n",
    "    output_list = []\n",
    "    predictions_list = []\n",
    "    inputs_list = []\n",
    "    id_list = []\n",
    "    parameter_id = 0\n",
    "    tot = 0\n",
    "    count = 0\n",
    "\n",
    "    for j, data in tqdm(enumerate(loader), total=len(loader)):\n",
    "        inputs, labels, ids = (\n",
    "            data[\"pointcloud\"].to(device).float(),\n",
    "            data[\"properties\"].to(device),\n",
    "            data[\"id\"].to(device),\n",
    "        )\n",
    "        points, target, ids = (\n",
    "            data[\"pointcloud\"].to(device).float(),\n",
    "            data[\"properties\"].to(device),\n",
    "            data[\"id\"].to(device),\n",
    "        )\n",
    "        points = points.transpose(2, 1)\n",
    "        outputs, _ = predictor(points)\n",
    "        outputs = outputs.to(torch.device(\"cpu\"))\n",
    "        inputs = points.to(torch.device(\"cpu\"))\n",
    "        labels = target.to(torch.device(\"cpu\"))\n",
    "        ids = ids.to(torch.device(\"cpu\"))\n",
    "        # print(data['pointcloud'].size(), labels.size(), outputs.size())\n",
    "\n",
    "        for i in range(outputs.size(0)):\n",
    "            label_list.append(labels[i][parameter_id].item())\n",
    "            id_list.append(ids[i].item())\n",
    "            output_list.append(outputs[i][parameter_id].item())\n",
    "            predictions_list.append(outputs[i].numpy())\n",
    "            inputs_list.append(labels[i].numpy())\n",
    "            cloud_list.append(inputs[i].numpy())\n",
    "            ratio = (\n",
    "                (labels[i][parameter_id] - outputs[i][parameter_id])\n",
    "                / labels[i][parameter_id]\n",
    "            ).item()\n",
    "            # print('r', i+count, ids[i].item(), labels[i][parameter_id].item(), outputs[i][parameter_id].item(), ratio)\n",
    "            tot += np.absolute(ratio)\n",
    "            # print('l', labels[i][1].item(), outputs[i][1].item(), ((labels[i][1]-outputs[i][1])/labels[i][1]).item())\n",
    "\n",
    "        count += outputs.size(0)\n",
    "    print(tot / count)\n",
    "\n",
    "    return predictions_list, inputs_list, label_list, output_list, id_list, cloud_list"
   ]
  },
  {
   "cell_type": "code",
   "execution_count": null,
   "metadata": {
    "scrolled": true
   },
   "outputs": [],
   "source": [
    "if not inference:\n",
    "    with torch.no_grad():\n",
    "        (\n",
    "            predictions_list,\n",
    "            inputs_list,\n",
    "            label_list,\n",
    "            output_list,\n",
    "            id_list,\n",
    "            cloud_list,\n",
    "        ) = test(predictor.eval(), testDataLoader, device, test_criterion)\n",
    "\n",
    "    print(len(predictions_list), len(inputs_list))"
   ]
  },
  {
   "cell_type": "code",
   "execution_count": null,
   "metadata": {
    "scrolled": true
   },
   "outputs": [],
   "source": [
    "if not inference:\n",
    "    label_list, output_list, id_list = (\n",
    "        np.array(label_list),\n",
    "        np.array(output_list),\n",
    "        np.array(id_list),\n",
    "    )"
   ]
  },
  {
   "cell_type": "code",
   "execution_count": null,
   "metadata": {},
   "outputs": [],
   "source": [
    "print(id_list[:10])"
   ]
  },
  {
   "cell_type": "code",
   "execution_count": null,
   "metadata": {},
   "outputs": [],
   "source": [
    "# fix negative radii, result of training on noisy data. TODO: figure out why?\n",
    "for i in range(len(predictions_list)):\n",
    "    predictions_list[i][0] = abs(predictions_list[i][0])"
   ]
  },
  {
   "cell_type": "code",
   "execution_count": null,
   "metadata": {},
   "outputs": [],
   "source": [
    "print(predictions_list[0])"
   ]
  },
  {
   "cell_type": "markdown",
   "metadata": {},
   "source": [
    "#### Visually analyse predictions and Fine tune with ICP, calculate chamfer distances"
   ]
  },
  {
   "cell_type": "code",
   "execution_count": null,
   "metadata": {
    "scrolled": true
   },
   "outputs": [],
   "source": [
    "# evaluate chamfer distance for set of results\n",
    "def chamfer_evaluate(predictions_list, cloud_list, cat):\n",
    "    cuda = torch.device(\"cuda\")\n",
    "    preds_t = torch.tensor(\n",
    "        predictions_list, requires_grad=True, device=cuda, dtype=torch.float\n",
    "    )\n",
    "    cloud_t = torch.tensor(cloud_list, device=cuda, dtype=torch.float)\n",
    "\n",
    "    chamfer_dists = get_chamfer_loss_tensor(preds_t, cloud_t, cat, reduce=False)\n",
    "    chamfer_dists = chamfer_dists.detach().cpu().numpy()\n",
    "\n",
    "    return chamfer_dists\n",
    "\n",
    "\n",
    "# # scaling up and down is required for icp calculations\n",
    "# def chamfer_evaluate_with_icp(predictions_list, cloud_list, id_list, cat, blueprint,  ifcConvert_executable,\n",
    "#                      cloudCompare_executable, temp_dir, target_dir, sample_size,\n",
    "#                      threshold, icp_correction = False):\n",
    "\n",
    "#     preds_list, pcd_list = [], []\n",
    "#     error_count = 0\n",
    "\n",
    "#     # get predictions and pcds\n",
    "#     for i in tqdm(range(len(predictions_list))):\n",
    "#     #for i in tqdm(range(50)):\n",
    "#         pcd_id = id_list[i]\n",
    "#         pcd, preds = cloud_list[i].transpose(1, 0), copy.deepcopy(predictions_list[i])\n",
    "#         #print(preds, inputs_list[i])\n",
    "\n",
    "#         preds = scale_preds(preds.tolist(), cat)\n",
    "#         #pcd, preds = prepare_visualisation(pcd_id, cat, i, cloud_list, predictions_list, path, ext)\n",
    "\n",
    "#         try:\n",
    "#             if  icp_correction:\n",
    "#                 # note: preds are updated in place during ICP\n",
    "#                 _, _ = icp_finetuning(o3d.utility.Vector3dVector(pcd), pcd_id, cat, preds, blueprint, temp_dir, target_dir,\n",
    "#                                      ifcConvert_executable, cloudCompare_executable, sample_size, threshold, False)\n",
    "\n",
    "#             preds_list.append(preds)\n",
    "#             pcd_list.append(pcd)\n",
    "\n",
    "#         except Exception as e:\n",
    "#             print(\"ICP error\", pcd_id, e)\n",
    "#             error_count += 1\n",
    "\n",
    "#     # calculate chamfer distances\n",
    "#     cuda = torch.device('cuda')\n",
    "#     rescaled_preds = [scale_preds(preds, cat, up=0) for preds in preds_list]\n",
    "#     preds_t = torch.tensor(rescaled_preds, requires_grad=True, device=cuda)\n",
    "#     cloud_t = torch.tensor(cloud_list, device=cuda)\n",
    "\n",
    "#     chamfer_dists = get_chamfer_loss_tensor(preds_t, cloud_t, cat, reduce=False)\n",
    "#     chamfer_dists = chamfer_dists.detach().cpu().numpy()\n",
    "\n",
    "#     print(\"error_count\", error_count)\n",
    "#     return chamfer_dists"
   ]
  },
  {
   "cell_type": "code",
   "execution_count": null,
   "metadata": {
    "scrolled": true
   },
   "outputs": [],
   "source": [
    "# dists = chamfer_evaluate(predictions_list, cloud_list, id_list, cat, blueprint,  ifcConvert_executable,\n",
    "#                      cloudCompare_executable, temp_dir, target_dir, sample_size, threshold, icp_correction = False)\n",
    "dists = chamfer_evaluate(predictions_list, cloud_list, cat)\n",
    "# if inference:\n",
    "#     with open(model_path + 'preds_' + cat + '.pkl', 'wb') as f:\n",
    "#         pickle.dump([predictions_list, id_list, dists], f)\n",
    "\n",
    "plot_error_graph(dists, \"Binned chamfer loss\", max_val=300)"
   ]
  },
  {
   "cell_type": "code",
   "execution_count": null,
   "metadata": {
    "scrolled": true
   },
   "outputs": [],
   "source": [
    "# scaling up and down is required for icp calculations\n",
    "def _visualise_predictions(\n",
    "    predictions_list,\n",
    "    cloud_list,\n",
    "    id_list,\n",
    "    cat,\n",
    "    blueprint,\n",
    "    ifcConvert_executable,\n",
    "    cloudCompare_executable,\n",
    "    temp_dir,\n",
    "    target_dir,\n",
    "    sample_size,\n",
    "    threshold,\n",
    "    icp_correction=False,\n",
    "):\n",
    "    preds_list, pcd_list = [], []\n",
    "    viewer_list, ifc_list = [], []\n",
    "    error_count = 0\n",
    "\n",
    "    # get predictions and pcds\n",
    "    # for i in tqdm(range(len(predictions_list))):\n",
    "    for i in tqdm(range(50)):\n",
    "        pcd_id = id_list[i].item()\n",
    "        pcd, preds = cloud_list[i].transpose(1, 0).tolist(), copy.deepcopy(\n",
    "            predictions_list[i]\n",
    "        )\n",
    "        # print(preds, inputs_list[i])\n",
    "\n",
    "        preds = scale_preds(preds.tolist(), cat)\n",
    "        # print(preds)\n",
    "        # pcd, preds = prepare_visualisation(pcd_id, cat, i, cloud_list, inputs_list, ext)\n",
    "\n",
    "        #         try:\n",
    "        if icp_correction:\n",
    "            # note: preds are updated in place during ICP\n",
    "            viewer, ifc = icp_finetuning(\n",
    "                o3d.utility.Vector3dVector(pcd),\n",
    "                pcd_id,\n",
    "                cat,\n",
    "                preds,\n",
    "                blueprint,\n",
    "                temp_dir,\n",
    "                target_dir,\n",
    "                ifcConvert_executable,\n",
    "                cloudCompare_executable,\n",
    "                sample_size,\n",
    "                threshold,\n",
    "                True,\n",
    "            )\n",
    "        else:\n",
    "            # print(type(preds[0]))\n",
    "            # print(\"lp\", preds)\n",
    "            viewer, ifc = visualize_predictions(\n",
    "                [pcd], cat, [preds], blueprint, visualize=True\n",
    "            )\n",
    "\n",
    "        preds_list.append(preds)\n",
    "        pcd_list.append(pcd)\n",
    "        viewer_list.append(viewer)\n",
    "        ifc_list.append(ifc)\n",
    "\n",
    "    #         except Exception as e:\n",
    "    #             print(\"ICP error\", pcd_id, e)\n",
    "    #             error_count += 1\n",
    "\n",
    "    print(\"error_count\", error_count)\n",
    "    return viewer_list"
   ]
  },
  {
   "cell_type": "code",
   "execution_count": null,
   "metadata": {
    "scrolled": true
   },
   "outputs": [],
   "source": [
    "# viewers = _visualise_predictions(predictions_list, cloud_list, id_list, cat, blueprint,  ifcConvert_executable,\n",
    "#                      cloudCompare_executable, temp_dir, target_dir, sample_size, threshold, icp_correction = False)"
   ]
  },
  {
   "cell_type": "code",
   "execution_count": null,
   "metadata": {
    "scrolled": true
   },
   "outputs": [],
   "source": [
    "# for v in viewers:\n",
    "#     print(v)"
   ]
  },
  {
   "cell_type": "code",
   "execution_count": null,
   "metadata": {
    "scrolled": true
   },
   "outputs": [],
   "source": [
    "# plot_parameter_errors(inputs_list, predictions_list, cat)"
   ]
  },
  {
   "cell_type": "markdown",
   "metadata": {},
   "source": [
    "#### BP data Visualisation"
   ]
  },
  {
   "cell_type": "code",
   "execution_count": null,
   "metadata": {
    "scrolled": true
   },
   "outputs": [],
   "source": [
    "# batch_visualise(model_path, blueprint, path, ext, device, ifc=False)"
   ]
  },
  {
   "cell_type": "code",
   "execution_count": null,
   "metadata": {
    "scrolled": true
   },
   "outputs": [],
   "source": [
    "# merge_clouds(path, 'pipe')"
   ]
  },
  {
   "cell_type": "markdown",
   "metadata": {},
   "source": [
    "### fine tuning"
   ]
  },
  {
   "cell_type": "code",
   "execution_count": null,
   "metadata": {},
   "outputs": [],
   "source": [
    "print(len(predictions_list))\n",
    "vis = 1"
   ]
  },
  {
   "cell_type": "code",
   "execution_count": null,
   "metadata": {},
   "outputs": [],
   "source": [
    "# load gmm parameters\n",
    "gmm_path = Path(\"gaussians_full.pkl\")\n",
    "with open(gmm_path, \"rb\") as f:\n",
    "    means, covs, gmm_ids = pickle.load(f)\n",
    "    # means, covs = torch.tensor(means).cuda(), torch.tensor(covs).cuda()\n",
    "\n",
    "# sort gmms by predictions id\n",
    "sorted_means = []\n",
    "sorted_covs = []\n",
    "\n",
    "for i in range(len(id_list)):\n",
    "    idx = gmm_ids.index(id_list[i])\n",
    "    sorted_means.append(means[idx])\n",
    "    sorted_covs.append(covs[idx])\n",
    "\n",
    "means, covs = torch.tensor(np.array(sorted_means)).cuda(), torch.tensor(np.array(sorted_covs)).cuda()\n",
    "print(means.shape, covs.shape)"
   ]
  },
  {
   "cell_type": "code",
   "execution_count": null,
   "metadata": {},
   "outputs": [],
   "source": [
    "%autoreload 2\n",
    "# optimise using mahalanobis distance\n",
    "print(cat)\n",
    "\n",
    "if cat == \"elbow\":\n",
    "    elbow_fix = False\n",
    "else:\n",
    "    elbow_fix = True\n",
    "\n",
    "limit = 64\n",
    "cl_v, v, mahal_modified_preds = mahalanobis_fine_tune(\n",
    "    100,\n",
    "    0.01,\n",
    "    predictions_list[:limit],\n",
    "    cloud_list[:limit],\n",
    "    means[:limit],\n",
    "    covs[:limit],\n",
    "    cat,\n",
    "    blueprint,\n",
    "    alpha=3,\n",
    "    visualise=True,\n",
    "    elbow_fix=elbow_fix,\n",
    "    robust=None,\n",
    "    delta=0.0001,\n",
    "    chamfer=1000000\n",
    ")\n",
    "\n",
    "if cat == \"elbow\":\n",
    "    mahal_modified_preds = mahal_modified_preds[0]"
   ]
  },
  {
   "cell_type": "code",
   "execution_count": null,
   "metadata": {
    "scrolled": true
   },
   "outputs": [],
   "source": [
    "%autoreload 2\n",
    "\n",
    "# non-robust\n",
    "# torch.autograd.set_detect_anomaly(False)\n",
    "print(cat)\n",
    "if cat == \"bend\":\n",
    "    cat = \"elbow\"\n",
    "\n",
    "if cat == \"elbow\":\n",
    "    elbow_fix = False\n",
    "else:\n",
    "    elbow_fix = True\n",
    "\n",
    "if vis:\n",
    "    limit = 64\n",
    "    cl_v_c, v_c, modified_preds = chamfer_fine_tune(\n",
    "        100,\n",
    "        0.01,\n",
    "        predictions_list[:limit],\n",
    "        cloud_list[:limit],\n",
    "        cat,\n",
    "        blueprint,\n",
    "        alpha=3,\n",
    "        visualise=True,\n",
    "        elbow_fix=elbow_fix,\n",
    "        robust=None,\n",
    "        delta=0.0001,\n",
    "    )\n",
    "else:\n",
    "    limit = len(predictions_list)\n",
    "    modified_preds = chamfer_fine_tune(\n",
    "        100,\n",
    "        0.01,\n",
    "        predictions_list[:limit],\n",
    "        cloud_list[:limit],\n",
    "        cat,\n",
    "        blueprint,\n",
    "        alpha=3,\n",
    "        visualise=False,\n",
    "        elbow_fix=elbow_fix,\n",
    "        robust=None,\n",
    "        delta=0.0001,\n",
    "    )\n",
    "    \n",
    "if cat == \"elbow\":\n",
    "    modified_preds = modified_preds[0]"
   ]
  },
  {
   "cell_type": "code",
   "execution_count": null,
   "metadata": {
    "scrolled": true
   },
   "outputs": [],
   "source": [
    "# # robust\n",
    "# #torch.autograd.set_detect_anomaly(False)\n",
    "# print(cat)\n",
    "# if cat == 'bend':\n",
    "#     cat = 'elbow'\n",
    "\n",
    "# if cat == \"elbow\":\n",
    "#     elbow_fix = False\n",
    "# else:\n",
    "#     elbow_fix = True\n",
    "\n",
    "# if vis:\n",
    "#     limit = 50\n",
    "#     cl_v, v, modified_preds = chamfer_fine_tune(100, 0.01, predictions_list[:limit],\n",
    "#                                                 cloud_list[:limit], cat, blueprint,\n",
    "#                                                 alpha=1, visualise=True, elbow_fix=elbow_fix,\n",
    "#                                                robust=\"winsor\", delta=0.05,\n",
    "#                                                 bidirectional_robust=False)\n",
    "# else:\n",
    "#     limit = len(predictions_list)\n",
    "#     modified_preds = chamfer_fine_tune(100, 0.01, predictions_list[:limit],\n",
    "#                                        cloud_list[:limit], cat, blueprint, alpha=1,\n",
    "#                                        visualise=False, elbow_fix=elbow_fix,\n",
    "#                                        robust=\"winsor\", delta=0.02,\n",
    "#                                       bidirectional_robust=False)"
   ]
  },
  {
   "cell_type": "code",
   "execution_count": null,
   "metadata": {
    "scrolled": false
   },
   "outputs": [],
   "source": [
    "if vis:\n",
    "    for i in range(0,10,2):\n",
    "        print(v[i], v[i+1], v_c[i+1])"
   ]
  },
  {
   "cell_type": "code",
   "execution_count": null,
   "metadata": {
    "scrolled": false
   },
   "outputs": [],
   "source": [
    "if vis:\n",
    "    print(v)"
   ]
  },
  {
   "cell_type": "code",
   "execution_count": null,
   "metadata": {
    "scrolled": true
   },
   "outputs": [],
   "source": [
    "# dists = chamfer_evaluate(modified_preds, cloud_list[:limit], id_list, cat, blueprint,  ifcConvert_executable,\n",
    "#                      cloudCompare_executable, temp_dir, target_dir, sample_size, threshold, icp_correction = False)\n",
    "dists = chamfer_evaluate(modified_preds, cloud_list[:limit], cat)\n",
    "\n",
    "if inference:\n",
    "    with open(path / (\"preds_finetuned_\" + \"pipe\" + \".pkl\"), \"wb\") as f:\n",
    "        pickle.dump([modified_preds, id_list, dists], f)\n",
    "\n",
    "plot_error_graph(dists, \"Fitting Error\", max_val=100)"
   ]
  },
  {
   "cell_type": "code",
   "execution_count": null,
   "metadata": {},
   "outputs": [],
   "source": [
    "# robust\n",
    "plot_parameter_errors(inputs_list, modified_preds, cat)"
   ]
  },
  {
   "cell_type": "code",
   "execution_count": null,
   "metadata": {
    "scrolled": true
   },
   "outputs": [],
   "source": [
    "# non robust\n",
    "plot_parameter_errors(inputs_list, modified_preds, cat)"
   ]
  },
  {
   "cell_type": "code",
   "execution_count": null,
   "metadata": {
    "scrolled": true
   },
   "outputs": [],
   "source": [
    "for i in range(0, len(v), 2):\n",
    "    print(v[i], v[i + 1], dists[i])"
   ]
  },
  {
   "cell_type": "code",
   "execution_count": null,
   "metadata": {},
   "outputs": [],
   "source": [
    "node_dict = get_features_from_params(path)"
   ]
  },
  {
   "cell_type": "code",
   "execution_count": null,
   "metadata": {
    "scrolled": true
   },
   "outputs": [],
   "source": [
    "preds = torch.tensor([predictions_list[1]]).cuda()\n",
    "print(predictions_list[1])\n",
    "pcd = generate_tee_cloud_tensor(preds)\n",
    "# tee = generate_tee_cloud(predictions_list[0])\n",
    "tee = pcd[0].cpu().numpy()\n",
    "tee = o3d.utility.Vector3dVector(tee)\n",
    "tee_cloud = o3d.geometry.PointCloud()\n",
    "tee_cloud.points = tee\n",
    "o3d.io.write_point_cloud(\"tee_cl.pcd\", tee_cloud)"
   ]
  },
  {
   "cell_type": "code",
   "execution_count": null,
   "metadata": {
    "scrolled": true
   },
   "outputs": [],
   "source": [
    "original = cloud_list[2]\n",
    "points = o3d.utility.Vector3dVector(original.transpose(1, 0))\n",
    "tee_cloud.points = points\n",
    "o3d.io.write_point_cloud(\"tee_cl_inp.pcd\", tee_cloud)"
   ]
  },
  {
   "cell_type": "code",
   "execution_count": null,
   "metadata": {
    "scrolled": true
   },
   "outputs": [],
   "source": [
    "# undo normalisation opf the bp tee dataset created for inference, only for comparison with the inferred tee results\n",
    "tee_path = \"tee_fix/tee/test/\"\n",
    "metadata_file = open(\"tee_fix/tee/metadata.json\", \"r\")\n",
    "metadata = json.load(metadata_file)\n",
    "output_path = \"tee_fix/tee/unnormalised/\"\n",
    "\n",
    "files = os.listdir(tee_path)\n",
    "new_points = []\n",
    "for f in tqdm(files):\n",
    "    cloud_data = metadata[f.split(\".\")[0]]\n",
    "    points = np.array(o3d.io.read_point_cloud(tee_path + f).points)\n",
    "    print(\"a\", points[0])\n",
    "    print(cloud_data[\"norm_factor\"], cloud_data[\"mean\"])\n",
    "    points *= cloud_data[\"norm_factor\"]\n",
    "    print(\"b\", points[0])\n",
    "\n",
    "    for i, pnt in enumerate(points):\n",
    "        pnt += cloud_data[\"mean\"]\n",
    "    print(\"c\", points[10])\n",
    "    new_points.append(points)\n",
    "\n",
    "new_points = o3d.utility.Vector3dVector(np.concatenate(new_points))\n",
    "new_cloud = o3d.geometry.PointCloud()\n",
    "new_cloud.points = new_points\n",
    "o3d.io.write_point_cloud(output_path + \"tee_bp_unnormalised.pcd\", new_cloud)"
   ]
  },
  {
   "cell_type": "markdown",
   "metadata": {},
   "source": [
    "## RANSAC benchmarking"
   ]
  },
  {
   "cell_type": "code",
   "execution_count": null,
   "metadata": {},
   "outputs": [],
   "source": [
    "noise = False\n",
    "noise_size = 256\n",
    "benchmark_file = \"ransac/benchmark.pkl\"\n",
    "data_path = \"ransac/build/output/\"\n",
    "save_path = \"ransac/build/input/\"\n",
    "no_lines = 3 if cat == \"tee\" else 2\n",
    "params_file = \"ransac/build/\" + cat + \"_params.txt\"\n",
    "cloud = o3d.geometry.PointCloud()"
   ]
  },
  {
   "cell_type": "markdown",
   "metadata": {},
   "source": [
    "#### Create dataset"
   ]
  },
  {
   "cell_type": "code",
   "execution_count": null,
   "metadata": {},
   "outputs": [],
   "source": [
    "# use dataloader to generate a batch of examples with noise\n",
    "with torch.no_grad():\n",
    "    predictor = predictor.eval()\n",
    "    cloud_list = []\n",
    "    predictions_list = []\n",
    "    labels_list = []\n",
    "\n",
    "    for j, data in tqdm(enumerate(testDataLoader), total=1):\n",
    "        if j == 10:\n",
    "            break\n",
    "\n",
    "        #         # introduce noise\n",
    "        #         if noise:\n",
    "        #             noisy_clouds = []\n",
    "        #             dataset = data['pointcloud'].numpy()\n",
    "        #             for cl in dataset:\n",
    "        #                 noisy_clouds.append(add_noise(cl, noise_size, rng))\n",
    "        #             points = torch.Tensor(np.array(noisy_clouds)).to(device).float()\n",
    "        #         else:\n",
    "        points = data[\"pointcloud\"].to(device).float()\n",
    "\n",
    "        # get predictions\n",
    "        labels = data[\"properties\"].to(torch.device(\"cpu\"))\n",
    "        points = points.transpose(2, 1)\n",
    "        outputs, _ = predictor(points)\n",
    "        outputs = outputs.to(torch.device(\"cpu\"))\n",
    "        points = points.to(torch.device(\"cpu\"))\n",
    "\n",
    "        for i in range(outputs.size(0)):\n",
    "            predictions_list.append(outputs[i].numpy())\n",
    "            labels_list.append(labels[i].numpy())\n",
    "            cloud_list.append(points[i].numpy())\n",
    "\n",
    "predictions_list = np.array(predictions_list)\n",
    "cloud_list = np.array(cloud_list).transpose((0, 2, 1))\n",
    "label_list = np.array(labels_list)\n",
    "\n",
    "# save data\n",
    "for i, cl in enumerate(cloud_list):\n",
    "    pnts = o3d.utility.Vector3dVector(cl)\n",
    "    cloud.points = pnts\n",
    "    o3d.io.write_point_cloud(save_path + str(i) + \".pcd\", cloud)\n",
    "with open(benchmark_file, \"wb\") as f:\n",
    "    pickle.dump([predictions_list, labels_list, cloud_list], f)"
   ]
  },
  {
   "cell_type": "code",
   "execution_count": null,
   "metadata": {},
   "outputs": [],
   "source": [
    "with open(benchmark_file, \"rb\") as f:\n",
    "    predictions_list, labels_list, cloud_list = pickle.load(f)"
   ]
  },
  {
   "cell_type": "code",
   "execution_count": null,
   "metadata": {},
   "outputs": [],
   "source": [
    "print(len(predictions_list), predictions_list[0].shape, labels_list[0].shape)"
   ]
  },
  {
   "cell_type": "markdown",
   "metadata": {},
   "source": [
    "#### check RANSAC results"
   ]
  },
  {
   "cell_type": "code",
   "execution_count": null,
   "metadata": {},
   "outputs": [],
   "source": [
    "# load  parameters\n",
    "files = os.listdir(data_path)\n",
    "# print(files)\n",
    "\n",
    "ransac_f = open(params_file, \"r\")\n",
    "ransac_params = ransac_f.readlines()\n",
    "ransac_params = [x.strip() for x in ransac_params]\n",
    "# print(ransac_params)"
   ]
  },
  {
   "cell_type": "code",
   "execution_count": null,
   "metadata": {
    "scrolled": true
   },
   "outputs": [],
   "source": [
    "# find params of cylinder, given set of points and ransac outputs (point on axis, axis, r)\n",
    "def cylinder_parameters_from_ransac(points, params):\n",
    "    axis = np.array([params[3], params[4], params[5]])\n",
    "    axis_a = np.array([params[0], params[1], params[2]])\n",
    "    r = params[6]\n",
    "\n",
    "    # find projection of each point on cylinder axis\n",
    "    dists = []\n",
    "    for i, p in enumerate(points):\n",
    "        t = np.dot(axis, axis_a - p) / np.dot(axis, axis)\n",
    "        dists.append(t)\n",
    "\n",
    "    # find center, length of cylinder\n",
    "    min_dist, max_dist = min(dists), max(dists)\n",
    "    center = (2 * axis_a - (min_dist + max_dist) * axis) / 2\n",
    "    l = max_dist - min_dist\n",
    "\n",
    "    #     # debugging\n",
    "    #     min_p = np.array([min(points[:,0]), min(points[:,1]), min(points[:,2])])\n",
    "    #     max_p = np.array([max(points[:,0]), max(points[:,1]), max(points[:,2])])\n",
    "    #     center_p = (min_p + max_p)/2\n",
    "    #     print(\"c\", center, \"c2\", center_p, \"min\", min_p, \"max\", max_p, axis_a)\n",
    "\n",
    "    return (axis, r, center, l)\n",
    "\n",
    "\n",
    "# iterate through testset results, compute error\n",
    "sorted_labels_list, sorted_preds_list, sorted_ransac_list, sorted_points_list = (\n",
    "    [],\n",
    "    [],\n",
    "    [],\n",
    "    [],\n",
    ")\n",
    "\n",
    "for i in range(0, len(ransac_params), no_lines):\n",
    "    f_name = ransac_params[i]\n",
    "    idx = int(f_name.split(\".\")[0])\n",
    "    points = np.array(o3d.io.read_point_cloud(save_path + f_name).points)\n",
    "\n",
    "    if ransac_params[i + 1] != \"\":\n",
    "        # load inliers\n",
    "        primary_inliers = np.array(\n",
    "            o3d.io.read_point_cloud(data_path + \"primary_\" + f_name).points\n",
    "        )\n",
    "\n",
    "        # convert to model prediction format (axis, radius and position)\n",
    "        primary_params = [float(j) for j in ransac_params[i + 1].split(\",\")[:-1]]\n",
    "        p_axis, p_r, p_center, p_l = cylinder_parameters_from_ransac(\n",
    "            primary_inliers, primary_params\n",
    "        )\n",
    "        # print(len(primary_inliers))\n",
    "    else:\n",
    "        # get parameters from MOBB instead\n",
    "        p_axis, p_l, p_lengths, p_center = get_oriented_bbox_from_points(points)\n",
    "        p_l *= 2\n",
    "        p_lengths = np.sort(p_lengths)\n",
    "        p_r = (p_lengths[0] + p_lengths[1]) / 2\n",
    "        # p_r, p_l, p_center, p_axis = 0.5, 1, [0., 0.,0.], [1.0, 0.,0.]\n",
    "        # print(\"p\", p_axis)\n",
    "\n",
    "    param_array = [p_r, p_l, p_center[0], p_center[1], p_center[2]]\n",
    "    for i in range(3):\n",
    "        param_array.append(math.sin(p_axis[i]))\n",
    "        param_array.append(math.cos(p_axis[i]))\n",
    "    param_array = np.array(param_array)\n",
    "\n",
    "    if cat == \"tee\":\n",
    "        # load inliers\n",
    "        if ransac_params[i + 1] != \"\":\n",
    "            secondary_inliers = np.array(\n",
    "                o3d.io.read_point_cloud(data_path + \"secondary_\" + f_name).points\n",
    "            )\n",
    "            # print(len(secondary_inliers))\n",
    "        else:\n",
    "            # TODO: take axis perpendicular to primary axis as secondary axis\n",
    "            pass\n",
    "\n",
    "        # convert to model prediction format (axis, radius and position)\n",
    "        secondary_params = [float(j) for j in ransac_params[i + 2].split(\",\")[:-1]]\n",
    "        s_axis, s_r, s_center, s_l = cylinder_parameters_from_ransac(\n",
    "            secondary_inliers, secondary_params\n",
    "        )\n",
    "\n",
    "    sorted_ransac_list.append(param_array)\n",
    "    sorted_preds_list.append(predictions_list[idx])\n",
    "    sorted_labels_list.append(labels_list[idx])\n",
    "    sorted_points_list.append(points)\n",
    "    # print(\"id\", idx, labels_list[idx])\n",
    "    # print(param_array)"
   ]
  },
  {
   "cell_type": "code",
   "execution_count": null,
   "metadata": {},
   "outputs": [],
   "source": [
    "plot_parameter_errors(sorted_labels_list, sorted_preds_list, cat)"
   ]
  },
  {
   "cell_type": "code",
   "execution_count": null,
   "metadata": {},
   "outputs": [],
   "source": [
    "plot_parameter_errors(sorted_labels_list, sorted_ransac_list, cat)"
   ]
  },
  {
   "cell_type": "code",
   "execution_count": null,
   "metadata": {},
   "outputs": [],
   "source": [
    "# visualize predictions\n",
    "vis = []\n",
    "error_count = 0\n",
    "for i, pr in enumerate(tqdm(sorted_ransac_list[:100])):\n",
    "    try:\n",
    "        pr = scale_preds(pr.tolist(), cat)\n",
    "        v, _ = visualize_predictions([sorted_points_list[i]], cat, [pr], blueprint)\n",
    "        vis.append(v)\n",
    "    except:\n",
    "        error_count += 1\n",
    "\n",
    "print(error_count)"
   ]
  },
  {
   "cell_type": "code",
   "execution_count": null,
   "metadata": {
    "scrolled": true
   },
   "outputs": [],
   "source": [
    "vis"
   ]
  },
  {
   "cell_type": "code",
   "execution_count": null,
   "metadata": {},
   "outputs": [],
   "source": [
    "inverted_points_list = [points.transpose((1, 0)) for points in sorted_points_list]\n",
    "\n",
    "dists = chamfer_evaluate(sorted_preds_list, inverted_points_list, cat)\n",
    "plot_error_graph(dists, \"Binned chamfer loss\", max_val=300)"
   ]
  },
  {
   "cell_type": "code",
   "execution_count": null,
   "metadata": {},
   "outputs": [],
   "source": [
    "dists = chamfer_evaluate(sorted_ransac_list, inverted_points_list, cat)\n",
    "plot_error_graph(dists, \"Binned chamfer loss\", max_val=300)"
   ]
  }
 ],
 "metadata": {
  "accelerator": "GPU",
  "colab": {
   "provenance": []
  },
  "gpuClass": "standard",
  "kernelspec": {
   "display_name": "Python 3 (ipykernel)",
   "language": "python",
   "name": "python3"
  },
  "language_info": {
   "codemirror_mode": {
    "name": "ipython",
    "version": 3
   },
   "file_extension": ".py",
   "mimetype": "text/x-python",
   "name": "python",
   "nbconvert_exporter": "python",
   "pygments_lexer": "ipython3",
   "version": "3.9.7"
  }
 },
 "nbformat": 4,
 "nbformat_minor": 1
}
