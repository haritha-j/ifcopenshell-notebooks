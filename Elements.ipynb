{
 "cells": [
  {
   "cell_type": "markdown",
   "metadata": {
    "id": "NpvL68OfBEQC"
   },
   "source": [
    "# Element Parameter Detection"
   ]
  },
  {
   "cell_type": "markdown",
   "metadata": {
    "id": "-z7n_pw4SMWl"
   },
   "source": [
    "## Setup"
   ]
  },
  {
   "cell_type": "code",
   "execution_count": null,
   "metadata": {
    "id": "TJ47VNF7fmTS"
   },
   "outputs": [],
   "source": [
    "import numpy as np\n",
    "import math\n",
    "import random\n",
    "import os\n",
    "import torch\n",
    "import sys\n",
    "import copy\n",
    "\n",
    "import importlib\n",
    "import torch.nn as nn\n",
    "from tqdm.notebook import tqdm_notebook as tqdm\n",
    "\n",
    "from torch.utils.data import Dataset, DataLoader\n",
    "from torchvision import transforms, utils\n",
    "import matplotlib.pyplot as plt\n",
    "from chamferdist import ChamferDistance\n",
    "\n",
    "import ifcopenshell\n",
    "from path import Path\n",
    "import open3d as o3d\n",
    "\n",
    "from src.elements import *\n",
    "from src.ifc import *\n",
    "from src. preparation import *\n",
    "from src.dataset import *\n",
    "from src.pointnet import *\n",
    "from src.visualisation import *\n",
    "from src.geometry import sq_distance\n",
    "from src.icp import icp_finetuning\n",
    "from src.chamfer import generate_elbow_cloud, get_chamfer_dist_single"
   ]
  },
  {
   "cell_type": "code",
   "execution_count": null,
   "metadata": {
    "id": "vpzTlKjmlr2q"
   },
   "outputs": [],
   "source": [
    "random.seed = 42"
   ]
  },
  {
   "cell_type": "code",
   "execution_count": null,
   "metadata": {
    "id": "Xyu78RWIQEQJ"
   },
   "outputs": [],
   "source": [
    "#path = Path(\"ModelNet10\")\n",
    "#path = Path('/content/drive/MyDrive/ElementNet/')\n",
    "path = Path('output/')\n",
    "#savepath = '/content/drive/MyDrive/ElementNet/'\n",
    "savepath = 'models/'"
   ]
  },
  {
   "cell_type": "markdown",
   "metadata": {
    "id": "mMIT1MeNSSO8"
   },
   "source": [
    "## Dataset"
   ]
  },
  {
   "cell_type": "markdown",
   "metadata": {
    "id": "WOEaUDwzZY3v"
   },
   "source": [
    "Transforms for training."
   ]
  },
  {
   "cell_type": "code",
   "execution_count": null,
   "metadata": {
    "id": "4pOl95glmphX"
   },
   "outputs": [],
   "source": [
    "train_transforms = transforms.Compose([\n",
    "                    Normalize(),\n",
    "#                    RandomNoise(),\n",
    "                    ToTensor()\n",
    "                    ])"
   ]
  },
  {
   "cell_type": "code",
   "execution_count": null,
   "metadata": {
    "id": "xpDsEx00mZrx"
   },
   "outputs": [],
   "source": [
    "# cat= 'tee'\n",
    "# train_ds = PointCloudData(path, category=cat, transform=train_transforms)\n",
    "# valid_ds = PointCloudData(path, valid=True, folder='test', category=cat, transform=train_transforms)\n",
    "\n",
    "# print('Train dataset size: ', len(train_ds))\n",
    "# print('Valid dataset size: ', len(valid_ds))\n",
    "# #print('Number of classes: ', len(train_ds.classes))\n",
    "# print('Sample pointcloud shape: ', train_ds[0]['pointcloud'])\n",
    "# print('Sample pointcloud label: ', train_ds[0]['properties'])\n",
    "# print('Sample pointcloud label: ', train_ds[0]['properties'])\n",
    "# #print('Class: ', inv_classes[train_ds[0]['category']])\n",
    "\n",
    "# train_loader = DataLoader(dataset=train_ds, batch_size=32, shuffle=True)\n",
    "# valid_loader = DataLoader(dataset=valid_ds, batch_size=64)"
   ]
  },
  {
   "cell_type": "markdown",
   "metadata": {
    "id": "Isb_97zOA8Tl"
   },
   "source": [
    "## Model"
   ]
  },
  {
   "cell_type": "markdown",
   "metadata": {
    "id": "2mLBRcfwP2Sq"
   },
   "source": [
    "## Training loop"
   ]
  },
  {
   "cell_type": "code",
   "execution_count": null,
   "metadata": {
    "colab": {
     "base_uri": "https://localhost:8080/"
    },
    "id": "nvmmwhcePvt2",
    "outputId": "6474c32e-0bdf-4187-e9a3-7be891a6e864"
   },
   "outputs": [],
   "source": [
    "# device = torch.device(\"cuda:0\" if torch.cuda.is_available() else \"cpu\")\n",
    "# print(device)\n",
    "\n",
    "# input_size = 2048\n",
    "# targets = train_ds.targets\n",
    "# pointnet = PointNet(outputs=targets, input_size=input_size)\n",
    "# pointnet.to(device);\n",
    "# #pointnet = pointnet.double()\n",
    "\n",
    "# optimizer = torch.optim.Adam(pointnet.parameters(), lr=0.005)\n",
    "# criterion = torch.nn.SmoothL1Loss()\n",
    "\n",
    "# #train(pointnet, savepath, optimizer, criterion, device, targets, train_loader, valid_loader, epochs=50, save=True)"
   ]
  },
  {
   "cell_type": "markdown",
   "metadata": {
    "id": "_8W4gOI_P9a9"
   },
   "source": [
    "## Test\n",
    "\n",
    "Analyze results statistically\n",
    "\n",
    "POINTNET++"
   ]
  },
  {
   "cell_type": "code",
   "execution_count": null,
   "metadata": {},
   "outputs": [],
   "source": [
    "# load data and model\n",
    "BASE_DIR = os.path.dirname(os.path.abspath('industrial-facility-relationships/'))\n",
    "BASE_DIR = os.path.join(BASE_DIR, 'pointnet2')\n",
    "ROOT_DIR = BASE_DIR\n",
    "sys.path.append(os.path.join(ROOT_DIR, 'models'))\n",
    "path = Path('output/')\n",
    "cat= 'elbow'\n",
    "device = torch.device(\"cuda:0\" if torch.cuda.is_available() else \"cpu\")\n",
    "use_normals = False\n",
    "\n",
    "test_ds = PointCloudData(path, valid=True, folder='test', category=cat, transform=train_transforms)\n",
    "targets = test_ds.targets\n",
    "testDataLoader = torch.utils.data.DataLoader(dataset=test_ds, batch_size=64)\n",
    "test_criterion = nn.MSELoss()\n",
    "\n",
    "model_name = \"pointnet2_cls_ssg\"\n",
    "model_path = \"pointnet2/log/classification/pointnet2_cls_ssg/\"\n",
    "model = importlib.import_module(model_name)\n",
    "\n",
    "\n",
    "predictor = model.get_model(targets, normal_channel=use_normals)\n",
    "if device != \"cpu\":\n",
    "    predictor = predictor.cuda()\n",
    "\n",
    "    \n",
    "checkpoint = torch.load(model_path + '/checkpoints/best_model.pth')\n",
    "predictor.load_state_dict(checkpoint['model_state_dict'])\n"
   ]
  },
  {
   "cell_type": "code",
   "execution_count": null,
   "metadata": {},
   "outputs": [],
   "source": [
    "def test(model, loader, device, criterion):\n",
    "    losses = []\n",
    "    predictor = model.eval()\n",
    "    cloud_list = []\n",
    "    label_list = []\n",
    "    output_list = []\n",
    "    predictions_list = []\n",
    "    inputs_list = []\n",
    "    id_list = []\n",
    "    parameter_id = 0\n",
    "    tot = 0\n",
    "    count = 0\n",
    "    \n",
    "    for j, data  in tqdm(enumerate(loader), total=len(loader)):\n",
    "        inputs, labels, ids = data['pointcloud'].to(device).float(), data['properties'].to(device), data['id'].to(device)\n",
    "\n",
    "        points, target, ids = data['pointcloud'].to(device).float(), data['properties'].to(device), data['id'].to(device)\n",
    "        points = points.transpose(2, 1)\n",
    "        outputs, _ = predictor(points)\n",
    "        outputs = outputs.to(torch.device('cpu'))\n",
    "        inputs = points.to(torch.device('cpu'))\n",
    "        labels = target.to(torch.device('cpu'))\n",
    "        ids = ids.to(torch.device('cpu'))\n",
    "        print(data['pointcloud'].size(), labels.size(), outputs.size())\n",
    "\n",
    "        for i in range(outputs.size(0)):\n",
    "            label_list.append(labels[i][parameter_id].item())\n",
    "            id_list.append(ids[i].item())\n",
    "            output_list.append(outputs[i][parameter_id].item())\n",
    "            predictions_list.append(outputs[i].numpy())\n",
    "            inputs_list.append(labels[i].numpy())\n",
    "            cloud_list.append(inputs[i].numpy())\n",
    "            ratio = ((labels[i][parameter_id]-outputs[i][parameter_id])/labels[i][parameter_id]).item()\n",
    "            print('r', i+count, ids[i].item(), labels[i][parameter_id].item(), outputs[i][parameter_id].item(), ratio)\n",
    "            tot += np.absolute(ratio)\n",
    "            #print('l', labels[i][1].item(), outputs[i][1].item(), ((labels[i][1]-outputs[i][1])/labels[i][1]).item())\n",
    "        \n",
    "        count += outputs.size(0)\n",
    "    print(tot/count)        \n",
    "\n",
    "    return predictions_list, inputs_list, label_list, output_list, id_list, cloud_list"
   ]
  },
  {
   "cell_type": "code",
   "execution_count": null,
   "metadata": {},
   "outputs": [],
   "source": [
    "with torch.no_grad():\n",
    "    predictions_list, inputs_list, label_list, output_list, id_list, cloud_list = test(predictor.eval(), testDataLoader, device, test_criterion)\n",
    "    \n",
    "print(len(predictions_list), len(inputs_list))"
   ]
  },
  {
   "cell_type": "markdown",
   "metadata": {},
   "source": [
    "ORIGINAL POINTNET"
   ]
  },
  {
   "cell_type": "code",
   "execution_count": null,
   "metadata": {
    "id": "pU70YWA7P-I_"
   },
   "outputs": [],
   "source": [
    "# pointnet = PointNet(targets, input_size)\n",
    "# #pointnet.load_state_dict(torch.load(savepath +'save_24.pth'))\n",
    "# pointnet.load_state_dict(torch.load(savepath +'save_49.pth', map_location=torch.device('cpu')))\n",
    "# pointnet.to(device);\n",
    "\n",
    "# pointnet.eval();"
   ]
  },
  {
   "cell_type": "code",
   "execution_count": null,
   "metadata": {
    "colab": {
     "base_uri": "https://localhost:8080/"
    },
    "id": "z3m81wB8ZgQz",
    "outputId": "0cd835ae-1ab9-4457-9ce9-2429c087d9f5"
   },
   "outputs": [],
   "source": [
    "# # check regression\n",
    "# cloud_list = []\n",
    "# label_list = []\n",
    "# output_list = []\n",
    "# predictions_list = []\n",
    "# inputs_list = []\n",
    "# id_list = []\n",
    "# parameter_id = 10\n",
    "# with torch.no_grad():\n",
    "#     tot = 0\n",
    "#     count = 0\n",
    "#     for data in valid_loader:\n",
    "#         inputs, labels, ids = data['pointcloud'].to(device).float(), data['properties'].to(device), data['id'].to(device)\n",
    "#         outputs, __, __ = pointnet(inputs.transpose(1,2))\n",
    "#         outputs = outputs.to(torch.device('cpu'))\n",
    "#         inputs = inputs.to(torch.device('cpu'))\n",
    "#         labels = labels.to(torch.device('cpu'))\n",
    "#         ids = ids.to(torch.device('cpu'))\n",
    "#         print(data['pointcloud'].size(), labels.size(), outputs.size())\n",
    "\n",
    "#         for i in range(outputs.size(0)):\n",
    "#             label_list.append(labels[i][parameter_id].item())\n",
    "#             id_list.append(ids[i].item())\n",
    "#             output_list.append(outputs[i][parameter_id].item())\n",
    "#             predictions_list.append(outputs[i].numpy())\n",
    "#             inputs_list.append(labels[i].numpy())\n",
    "#             cloud_list.append(inputs[i].numpy())\n",
    "#             ratio = ((labels[i][parameter_id]-outputs[i][parameter_id])/labels[i][parameter_id]).item()\n",
    "#             print('r', i+count, ids[i].item(), labels[i][parameter_id].item(), outputs[i][parameter_id].item(), ratio)\n",
    "#             tot += np.absolute(ratio)\n",
    "#             #print('l', labels[i][1].item(), outputs[i][1].item(), ((labels[i][1]-outputs[i][1])/labels[i][1]).item())\n",
    "        \n",
    "#         count += outputs.size(0)\n",
    "#     print(tot/count)"
   ]
  },
  {
   "cell_type": "code",
   "execution_count": null,
   "metadata": {},
   "outputs": [],
   "source": [
    "# calculate direction / position error\n",
    "def error_calc(predictions_list, inputs_list, k, j, direction = True, use_direction = False, square_error=True):\n",
    "\n",
    "    total_error = 0\n",
    "    for i, pr in enumerate(predictions_list):\n",
    "        if direction:\n",
    "            if use_direction:\n",
    "                pred = get_direction_from_trig(pr, k) \n",
    "                y = get_direction_from_trig(inputs_list[i], k)\n",
    "            else:\n",
    "                pred = get_direction_from_position(pr, k, j)\n",
    "                y = get_direction_from_position(inputs_list[i], k, j)\n",
    "            \n",
    "        else:\n",
    "            pred = [pr[k], pr[k+1], pr[k+2]]\n",
    "            y = [inputs_list[i][k], inputs_list[i][k+1], inputs_list[i][k+2]]\n",
    "        if square_error:\n",
    "            total_error += sq_distance(pred[0], pred[1], pred[2], \n",
    "                                      y[0], y[1], y[2])\n",
    "        else:\n",
    "            #angle error\n",
    "            total_error += math.degrees(math.acos(np.dot(pred, y)))\n",
    "            #print('mag', math.degrees(math.acos(np.dot(pred, y))))\n",
    "    print(total_error/len(predictions_list), len(predictions_list))\n"
   ]
  },
  {
   "cell_type": "code",
   "execution_count": null,
   "metadata": {
    "scrolled": true
   },
   "outputs": [],
   "source": [
    "k = 5\n",
    "j = 4\n",
    "direction = False\n",
    "use_direction = True\n",
    "square_error = True\n",
    "error_calc(predictions_list, inputs_list, k, j, direction, use_direction, square_error)"
   ]
  },
  {
   "cell_type": "code",
   "execution_count": null,
   "metadata": {},
   "outputs": [],
   "source": [
    "label_list, output_list, id_list = np.array(label_list), np.array(output_list), np.array(id_list)"
   ]
  },
  {
   "cell_type": "code",
   "execution_count": null,
   "metadata": {},
   "outputs": [],
   "source": [
    "# ratio = np.absolute((label_list - output_list)/label_list)\n",
    "# ratio_ind = ratio.argsort()\n",
    "# id_list = id_list[ratio_ind]\n",
    "# print(id_list[-10:-1])\n",
    "\n",
    "# error_threshold = 0.1\n",
    "# correct = ratio[np.where(ratio < error_threshold)]\n",
    "# print(len(ratio), len(correct), len(correct)/len(ratio))\n"
   ]
  },
  {
   "cell_type": "code",
   "execution_count": null,
   "metadata": {
    "scrolled": true
   },
   "outputs": [],
   "source": [
    "cloud_id = 2\n",
    "pcd_id = 24229  \n"
   ]
  },
  {
   "cell_type": "code",
   "execution_count": null,
   "metadata": {},
   "outputs": [],
   "source": [
    "#plot error graph\n",
    "fig = plt.figure(figsize=(12,4))\n",
    "ratio_neg = (label_list - output_list)/label_list\n",
    "n, bins, _ = plt.hist(ratio_neg, bins=np.arange(-2,2,0.02))\n",
    "mid = 0.5*(bins[1:] + bins[:-1])\n",
    "plt.errorbar(mid, n, yerr=0.01, fmt='none')"
   ]
  },
  {
   "cell_type": "markdown",
   "metadata": {},
   "source": [
    "#### Visually analyse predictions and Fine tune with ICP"
   ]
  },
  {
   "cell_type": "code",
   "execution_count": null,
   "metadata": {
    "id": "kJvOTn3Bt1mR"
   },
   "outputs": [],
   "source": [
    "def prepare_visualisation(pcd_id, cat, cloud_id, predictions_list):\n",
    "    scale_factor = 1000\n",
    "    pcd_path = \"output/\" + cat + \"/test/\" + str(pcd_id) + \".pcd\"\n",
    "\n",
    "    # load pcd and 'un-normalise'\n",
    "    pcd_temp = o3d.io.read_point_cloud(pcd_path).points\n",
    "    norm_pcd_temp = np.mean(pcd_temp, axis=0)\n",
    "    pcd_temp -= norm_pcd_temp\n",
    "    norm_factor = np.max(np.linalg.norm((pcd_temp), axis=1))\n",
    "    points = (cloud_list[cloud_id].transpose(1, 0))*norm_factor + norm_pcd_temp\n",
    "    pcd = o3d.utility.Vector3dVector(points)\n",
    "    print(\"norm\", norm_factor)\n",
    "\n",
    "    preds = predictions_list[cloud_id].tolist()\n",
    "\n",
    "    # scale predictions when necessary\n",
    "    if cat == 'pipe':\n",
    "        scalable_targets = [0,1]\n",
    "    elif cat == 'elbow':  \n",
    "        scalable_targets = [0,1,2]\n",
    "    elif cat == 'tee':\n",
    "        scalable_targets = [0,1,2,3]\n",
    "\n",
    "    for j in scalable_targets:\n",
    "        preds[j] = preds[j]*scale_factor*norm_factor\n",
    "    \n",
    "    preds = [float(pred) for pred in preds]\n",
    "    return pcd, preds\n"
   ]
  },
  {
   "cell_type": "code",
   "execution_count": null,
   "metadata": {
    "scrolled": true
   },
   "outputs": [],
   "source": [
    "blueprint = 'data/sample.ifc'\n",
    "temp_dir = \"output/temp/\"\n",
    "target_dir = \"output/tee/test/\"\n",
    "\n",
    "ifcConvert_executable = \"scripts/./IfcConvert\"\n",
    "cloudCompare_executable = \"cloudcompare.CloudCompare\"\n",
    "sample_size = 2048\n",
    "threshold = 2\n",
    "\n",
    "icp_correction = True\n",
    "viewers, ifcs = [], []\n",
    "\n",
    "for i in range(1,2):\n",
    "    pcd_id = id_list[i].item()\n",
    "    print(pcd_id) \n",
    "        \n",
    "    pcd, preds = prepare_visualisation(pcd_id, cat, i, inputs_list)\n",
    "    print(preds)\n",
    "    \n",
    "#     pcd2, input_preds = prepare_visualisation(pcd_id, cat, i, inputs_list)\n",
    "#     indices_to_replace = [5, 6, 7]\n",
    "#     for i in indices_to_replace:\n",
    "#         preds[i] = input_preds[i]\n",
    "    \n",
    "    #try:\n",
    "    if not icp_correction:\n",
    "        viewer, ifc = visualize_predictions([pcd], cat, [preds], blueprint, visualize=True)\n",
    "\n",
    "    else:\n",
    "        viewer, ifc = icp_finetuning(pcd, pcd_id, cat, preds, blueprint, temp_dir, target_dir, \n",
    "                             ifcConvert_executable, cloudCompare_executable, sample_size, threshold)\n",
    "\n",
    "    viewers.append(viewer) \n",
    "    ifcs.append(ifc)\n",
    "\n",
    "    cloud = generate_elbow_cloud(preds)\n",
    "    chamfer_distance = get_chamfer_dist_single(cloud, pcd)\n",
    "    print(\"chamfer_distance\", chamfer_distance)\n",
    "#     o3d.io.write_point_cloud(\"axis.pcd\", cloud)\n",
    "#     cloud.points = pcd\n",
    "#     o3d.io.write_point_cloud(\"pcd.pcd\", cloud)\n",
    "\n",
    "#     except:\n",
    "#         print(\"ICP error\", pcd_id)\n",
    "\n"
   ]
  },
  {
   "cell_type": "code",
   "execution_count": null,
   "metadata": {
    "scrolled": false
   },
   "outputs": [],
   "source": [
    "for v in viewers:\n",
    "    print(v)"
   ]
  },
  {
   "cell_type": "code",
   "execution_count": null,
   "metadata": {},
   "outputs": [],
   "source": [
    "# measures the point to point distance between predicted ifc and cloud (and vice-versa)\n",
    "def confidence_metric(pcd, preds):\n",
    "    "
   ]
  },
  {
   "cell_type": "code",
   "execution_count": null,
   "metadata": {},
   "outputs": [],
   "source": [
    "# threshold = 0.02\n",
    "# trans_init  = np.identity(4)\n",
    "\n",
    "# source_dir = \"output/predicted_ifc/\"\n",
    "# target_dir = \"output/tee/test/\"\n",
    "# output_dir = \"output/transformed/\"\n",
    "\n",
    "# source_files = os.listdir(source_dir)\n",
    "# failed_count = 0\n",
    "\n",
    "# for f in source_files:\n",
    "#     if f.split('.')[-1] == 'pcd':\n",
    "#         source = o3d.io.read_point_cloud(os.path.join(source_dir, f))\n",
    "#         try:\n",
    "#             target = o3d.io.read_point_cloud(os.path.join(target_dir, f))\n",
    "#             save_path = os.path.join(output_dir, f)\n",
    "#             icp(source, target, threshold, trans_init, save_path)\n",
    "#         except:\n",
    "#             failed_count += 1\n"
   ]
  },
  {
   "cell_type": "markdown",
   "metadata": {},
   "source": [
    "## Mesh deformation"
   ]
  },
  {
   "cell_type": "code",
   "execution_count": null,
   "metadata": {},
   "outputs": [],
   "source": [
    "print(torch. __version__)"
   ]
  },
  {
   "cell_type": "code",
   "execution_count": null,
   "metadata": {},
   "outputs": [],
   "source": []
  }
 ],
 "metadata": {
  "accelerator": "GPU",
  "colab": {
   "provenance": []
  },
  "gpuClass": "standard",
  "kernelspec": {
   "display_name": "Python 3 (ipykernel)",
   "language": "python",
   "name": "python3"
  },
  "language_info": {
   "codemirror_mode": {
    "name": "ipython",
    "version": 3
   },
   "file_extension": ".py",
   "mimetype": "text/x-python",
   "name": "python",
   "nbconvert_exporter": "python",
   "pygments_lexer": "ipython3",
   "version": "3.9.7"
  }
 },
 "nbformat": 4,
 "nbformat_minor": 1
}
