{
 "cells": [
  {
   "cell_type": "markdown",
   "metadata": {
    "id": "NpvL68OfBEQC"
   },
   "source": [
    "# Element Parameter Detection"
   ]
  },
  {
   "cell_type": "markdown",
   "metadata": {
    "id": "-z7n_pw4SMWl"
   },
   "source": [
    "## Setup"
   ]
  },
  {
   "cell_type": "code",
   "execution_count": 1,
   "metadata": {
    "id": "TJ47VNF7fmTS"
   },
   "outputs": [
    {
     "name": "stdout",
     "output_type": "stream",
     "text": [
      "Jupyter environment detected. Enabling Open3D WebVisualizer.\n",
      "[Open3D INFO] WebRTC GUI backend enabled.\n",
      "[Open3D INFO] WebRTCWindowSystem: HTTP handshake server disabled.\n"
     ]
    }
   ],
   "source": [
    "import numpy as np\n",
    "import math\n",
    "import random\n",
    "import os\n",
    "import os.path\n",
    "import torch\n",
    "import sys\n",
    "import copy\n",
    "import pickle\n",
    "import importlib\n",
    "import torch.nn as nn\n",
    "import time\n",
    "import functorch\n",
    "\n",
    "from torch.utils.data import Dataset, DataLoader\n",
    "from torchvision import transforms, utils\n",
    "import matplotlib.pyplot as plt\n",
    "from chamferdist import ChamferDistance\n",
    "from pathlib import Path\n",
    "\n",
    "import ifcopenshell\n",
    "import open3d as o3d\n",
    "\n",
    "from src.elements import *\n",
    "from src.ifc import *\n",
    "from src. preparation import *\n",
    "from src.dataset import *\n",
    "from src.pointnet import *\n",
    "from src.visualisation import *\n",
    "from src.geometry import sq_distance\n",
    "from src.icp import icp_finetuning\n",
    "from src.chamfer import *\n",
    "from src.utils import *\n",
    "from src.plots import plot_error_graph, plot_parameter_errors\n",
    "from src.pca import testset_PCA\n",
    "from src.finetune import chamfer_fine_tune\n",
    "from tqdm.notebook import tqdm\n"
   ]
  },
  {
   "cell_type": "code",
   "execution_count": 2,
   "metadata": {
    "id": "vpzTlKjmlr2q"
   },
   "outputs": [],
   "source": [
    "random.seed = 42"
   ]
  },
  {
   "cell_type": "code",
   "execution_count": 3,
   "metadata": {
    "id": "Xyu78RWIQEQJ"
   },
   "outputs": [],
   "source": [
    "#path = Path(\"ModelNet10\")\n",
    "#path = Path('/content/drive/MyDrive/ElementNet/')\n",
    "path = Path('output/')\n",
    "#savepath = '/content/drive/MyDrive/ElementNet/'\n",
    "savepath = 'models/'"
   ]
  },
  {
   "cell_type": "markdown",
   "metadata": {
    "id": "Isb_97zOA8Tl"
   },
   "source": [
    "## Model"
   ]
  },
  {
   "cell_type": "markdown",
   "metadata": {
    "id": "_8W4gOI_P9a9"
   },
   "source": [
    "## Test\n",
    "\n",
    "Analyze results statistically\n",
    "\n",
    "POINTNET++"
   ]
  },
  {
   "cell_type": "code",
   "execution_count": 4,
   "metadata": {
    "id": "4pOl95glmphX"
   },
   "outputs": [],
   "source": [
    "train_transforms = transforms.Compose([\n",
    "                    Normalize(),\n",
    "#                    RandomNoise(),\n",
    "                    ToTensor()\n",
    "                    ])"
   ]
  },
  {
   "cell_type": "code",
   "execution_count": 5,
   "metadata": {},
   "outputs": [
    {
     "data": {
      "text/plain": [
       "<All keys matched successfully>"
      ]
     },
     "execution_count": 5,
     "metadata": {},
     "output_type": "execute_result"
    }
   ],
   "source": [
    "# load data and model\n",
    "BASE_DIR = os.path.dirname(os.path.abspath('industrial-facility-relationships/'))\n",
    "BASE_DIR = os.path.join(BASE_DIR, 'pointnet2')\n",
    "ROOT_DIR = BASE_DIR\n",
    "sys.path.append(os.path.join(ROOT_DIR, 'models'))\n",
    "inference = True\n",
    "if inference:\n",
    "    path = Path('output/bp_data/')\n",
    "    ext = \".ply\"\n",
    "#     path = Path('tee_fix/')\n",
    "#     ext = \".pcd\"\n",
    "else:\n",
    "    path = Path('output2/')\n",
    "    ext = \".pcd\"\n",
    "\n",
    "cat= 'tee'\n",
    "device = torch.device(\"cuda:0\" if torch.cuda.is_available() else \"cpu\")\n",
    "use_normals = False\n",
    "cat_targets = {\"elbow\":14, \"tee\":19, \"pipe\":11}\n",
    "\n",
    "if inference:\n",
    "    test_ds = PointCloudData(path, valid=True, folder='test', category=cat, transform=train_transforms, inference=True)\n",
    "    targets = cat_targets[cat]\n",
    "else:\n",
    "    test_ds = PointCloudData(path, valid=True, folder='test', category=cat, transform=train_transforms)\n",
    "    targets = test_ds.targets\n",
    "\n",
    "testDataLoader = torch.utils.data.DataLoader(dataset=test_ds, batch_size=32)\n",
    "test_criterion = nn.MSELoss()\n",
    "\n",
    "model_name = \"pointnet2_cls_ssg\"\n",
    "model_path = Path(\"pointnet2/log/classification/pointnet2_cls_ssg/\")\n",
    "model = importlib.import_module(model_name)\n",
    "\n",
    "\n",
    "predictor = model.get_model(targets, normal_channel=use_normals)\n",
    "if device != \"cpu\":\n",
    "    predictor = predictor.cuda()\n",
    "\n",
    "checkpoint = torch.load(model_path/'checkpoints/best_model.pth')\n",
    "#checkpoint = torch.load(model_path'/checkpoints/models/best_model_t_chamfer_0005_bp.pth')\n",
    "predictor.load_state_dict(checkpoint['model_state_dict'])\n"
   ]
  },
  {
   "cell_type": "code",
   "execution_count": 6,
   "metadata": {
    "scrolled": false
   },
   "outputs": [],
   "source": [
    "blueprint = 'data/sample.ifc'\n",
    "temp_dir = \"output/temp/\"\n",
    "target_dir = \"output/tee/test/\"\n",
    "\n",
    "ifcConvert_executable = \"scripts/./IfcConvert\"\n",
    "cloudCompare_executable = \"cloudcompare.CloudCompare\"\n",
    "sample_size = 2048\n",
    "threshold = 2"
   ]
  },
  {
   "cell_type": "code",
   "execution_count": 7,
   "metadata": {},
   "outputs": [
    {
     "name": "stdout",
     "output_type": "stream",
     "text": [
      "pipe 8954\n"
     ]
    }
   ],
   "source": [
    "batch_visualise(model_path, blueprint, path, ext, device, ifc=False)"
   ]
  },
  {
   "cell_type": "code",
   "execution_count": 8,
   "metadata": {},
   "outputs": [],
   "source": [
    "def model_inference(model, loader, device, calculate_score=False):\n",
    "    predictor = model.eval()\n",
    "    predictions_list, pcd_list, id_list = [], [], []\n",
    "    with torch.no_grad():\n",
    "        for j, data  in tqdm(enumerate(loader), total=len(loader)):\n",
    "            points, ids = data['pointcloud'].to(device).float(), data['id'].to(device)\n",
    "            points = points.transpose(2, 1)\n",
    "            preds, _ = predictor(points)\n",
    "            preds, points, ids = preds.to(torch.device('cpu')), points.to(torch.device('cpu')), data['id'].to(torch.device('cpu'))\n",
    "            for i, pr in enumerate(preds):\n",
    "                predictions_list.append(pr.numpy())\n",
    "                pcd_list.append(points[i].numpy())\n",
    "                id_list.append(ids[i].numpy())\n",
    "\n",
    "        return (predictions_list, pcd_list, id_list)"
   ]
  },
  {
   "cell_type": "code",
   "execution_count": 9,
   "metadata": {
    "scrolled": false
   },
   "outputs": [
    {
     "data": {
      "application/vnd.jupyter.widget-view+json": {
       "model_id": "1123aceb154540189e1577c1c40ef2bc",
       "version_major": 2,
       "version_minor": 0
      },
      "text/plain": [
       "  0%|          | 0/28 [00:00<?, ?it/s]"
      ]
     },
     "metadata": {},
     "output_type": "display_data"
    }
   ],
   "source": [
    "if inference:\n",
    "    predictions_list, cloud_list, id_list = model_inference(predictor.eval(), testDataLoader, device)"
   ]
  },
  {
   "cell_type": "code",
   "execution_count": 13,
   "metadata": {},
   "outputs": [
    {
     "name": "stdout",
     "output_type": "stream",
     "text": [
      "872\n"
     ]
    }
   ],
   "source": [
    "print(np.max(np.hstack(id_list)))"
   ]
  },
  {
   "cell_type": "code",
   "execution_count": 51,
   "metadata": {},
   "outputs": [],
   "source": [
    "def test(model, loader, device, criterion):\n",
    "    losses = []\n",
    "    predictor = model.eval()\n",
    "    cloud_list = []\n",
    "    label_list = []\n",
    "    output_list = []\n",
    "    predictions_list = []\n",
    "    inputs_list = []\n",
    "    id_list = []\n",
    "    parameter_id = 0\n",
    "    tot = 0\n",
    "    count = 0\n",
    "    \n",
    "    for j, data  in tqdm(enumerate(loader), total=len(loader)):\n",
    "        inputs, labels, ids = data['pointcloud'].to(device).float(), data['properties'].to(device), data['id'].to(device)\n",
    "        points, target, ids = data['pointcloud'].to(device).float(), data['properties'].to(device), data['id'].to(device)\n",
    "        points = points.transpose(2, 1)\n",
    "        outputs, _ = predictor(points)\n",
    "        outputs = outputs.to(torch.device('cpu'))\n",
    "        inputs = points.to(torch.device('cpu'))\n",
    "        labels = target.to(torch.device('cpu'))\n",
    "        ids = ids.to(torch.device('cpu'))\n",
    "        #print(data['pointcloud'].size(), labels.size(), outputs.size())\n",
    "\n",
    "        for i in range(outputs.size(0)):\n",
    "            label_list.append(labels[i][parameter_id].item())\n",
    "            id_list.append(ids[i].item())\n",
    "            output_list.append(outputs[i][parameter_id].item())\n",
    "            predictions_list.append(outputs[i].numpy())\n",
    "            inputs_list.append(labels[i].numpy())\n",
    "            cloud_list.append(inputs[i].numpy())\n",
    "            ratio = ((labels[i][parameter_id]-outputs[i][parameter_id])/labels[i][parameter_id]).item()\n",
    "            #print('r', i+count, ids[i].item(), labels[i][parameter_id].item(), outputs[i][parameter_id].item(), ratio)\n",
    "            tot += np.absolute(ratio)\n",
    "            #print('l', labels[i][1].item(), outputs[i][1].item(), ((labels[i][1]-outputs[i][1])/labels[i][1]).item())\n",
    "        \n",
    "        count += outputs.size(0)\n",
    "    print(tot/count)\n",
    "\n",
    "    return predictions_list, inputs_list, label_list, output_list, id_list, cloud_list"
   ]
  },
  {
   "cell_type": "code",
   "execution_count": 52,
   "metadata": {},
   "outputs": [],
   "source": [
    "if not inference:\n",
    "    with torch.no_grad():\n",
    "        predictions_list, inputs_list, label_list, output_list, id_list, cloud_list = test(predictor.eval(), testDataLoader, device, test_criterion)\n",
    "\n",
    "    print(len(predictions_list), len(inputs_list))"
   ]
  },
  {
   "cell_type": "code",
   "execution_count": 53,
   "metadata": {
    "scrolled": true
   },
   "outputs": [],
   "source": [
    "# k = 5\n",
    "# j = 4\n",
    "# direction = False\n",
    "# use_direction = True\n",
    "# square_error = True\n",
    "# error_calc(predictions_list, inputs_list, k, j, direction, use_direction, square_error)"
   ]
  },
  {
   "cell_type": "code",
   "execution_count": 54,
   "metadata": {},
   "outputs": [],
   "source": [
    "if not inference:\n",
    "    label_list, output_list, id_list = np.array(label_list), np.array(output_list), np.array(id_list)"
   ]
  },
  {
   "cell_type": "code",
   "execution_count": 55,
   "metadata": {},
   "outputs": [],
   "source": [
    "# ratio = np.absolute((label_list - output_list)/label_list)\n",
    "# ratio_ind = ratio.argsort()\n",
    "# id_list = id_list[ratio_ind]\n",
    "# print(id_list[-10:-1])\n",
    "\n",
    "# error_threshold = 0.1\n",
    "# correct = ratio[np.where(ratio < error_threshold)]\n",
    "# print(len(ratio), len(correct), len(correct)/len(ratio))\n"
   ]
  },
  {
   "cell_type": "code",
   "execution_count": 56,
   "metadata": {
    "scrolled": true
   },
   "outputs": [],
   "source": [
    "# cloud_id = 2\n",
    "# pcd_id = 24229  \n"
   ]
  },
  {
   "cell_type": "markdown",
   "metadata": {},
   "source": [
    "#### Visually analyse predictions and Fine tune with ICP, calculate chamfer distances"
   ]
  },
  {
   "cell_type": "code",
   "execution_count": 12,
   "metadata": {},
   "outputs": [],
   "source": [
    "# scaling up and down is required for icp calculations\n",
    "def chamfer_evaluate(predictions_list, cloud_list, id_list, cat, blueprint,  ifcConvert_executable,\n",
    "                     cloudCompare_executable, temp_dir, target_dir, sample_size,\n",
    "                     threshold, icp_correction = False):\n",
    "\n",
    "    preds_list, pcd_list = [], []\n",
    "    error_count = 0\n",
    "\n",
    "    # get predictions and pcds\n",
    "    for i in tqdm(range(len(predictions_list))):\n",
    "    #for i in tqdm(range(50)):\n",
    "        pcd_id = id_list[i].item()\n",
    "        pcd, preds = cloud_list[i].transpose(1, 0), copy.deepcopy(predictions_list[i])\n",
    "        #print(preds, inputs_list[i])\n",
    "\n",
    "        preds = scale_preds(preds.tolist(), cat)\n",
    "        #pcd, preds = prepare_visualisation(pcd_id, cat, i, cloud_list, predictions_list, path, ext)\n",
    "\n",
    "        try:\n",
    "            if  icp_correction:\n",
    "                # note: preds are updated in place during ICP\n",
    "                _, _ = icp_finetuning(o3d.utility.Vector3dVector(pcd), pcd_id, cat, preds, blueprint, temp_dir, target_dir, \n",
    "                                     ifcConvert_executable, cloudCompare_executable, sample_size, threshold, False)\n",
    "\n",
    "            preds_list.append(preds)\n",
    "            pcd_list.append(pcd)\n",
    "\n",
    "        except Exception as e:\n",
    "            print(\"ICP error\", pcd_id, e)\n",
    "            error_count += 1\n",
    "\n",
    "    # calculate chamfer distances\n",
    "    cuda = torch.device('cuda')    \n",
    "    rescaled_preds = [scale_preds(preds, cat, up=0) for preds in preds_list]\n",
    "    preds_t = torch.tensor(rescaled_preds, requires_grad=True, device=cuda)\n",
    "    cloud_t = torch.tensor(cloud_list, device=cuda)\n",
    "    \n",
    "    chamfer_dists = get_chamfer_loss_tensor(preds_t, cloud_t, cat, reduce=False)\n",
    "    chamfer_dists = chamfer_dists.detach().cpu().numpy()\n",
    "    \n",
    "#     for i, preds in enumerate(tqdm(preds_list)):\n",
    "#         preds = scale_preds(preds, cat, up=0)\n",
    "#         chamfer_distance, _ = get_chamfer_dist_single(pcd_list[i], preds, cat)\n",
    "#         chamfer_dists.append(chamfer_distance)\n",
    "        \n",
    "\n",
    "    \n",
    "    print(\"error_count\", error_count)\n",
    "    return chamfer_dists"
   ]
  },
  {
   "cell_type": "code",
   "execution_count": 38,
   "metadata": {
    "scrolled": true
   },
   "outputs": [
    {
     "data": {
      "application/vnd.jupyter.widget-view+json": {
       "model_id": "acf4a417895544ce94baf0bee8dde0a5",
       "version_major": 2,
       "version_minor": 0
      },
      "text/plain": [
       "  0%|          | 0/873 [00:00<?, ?it/s]"
      ]
     },
     "metadata": {},
     "output_type": "display_data"
    },
    {
     "name": "stdout",
     "output_type": "stream",
     "text": [
      "error_count 0\n",
      "avg 115.37839 8 368.8437 17.483156 [0.00369574 0.00369493 0.00365537 0.00357646 0.00351285 0.0034865\n",
      " 0.00347754 0.00345866 0.00345631 0.00345248 0.00337501 0.00331554\n",
      " 0.00328776 0.0032252  0.00322291 0.00320778 0.0032031  0.00317383\n",
      " 0.00311357 0.00306092 0.00303471 0.00300364 0.00298581 0.00298092\n",
      " 0.0029639  0.00293727 0.0029254  0.00292456 0.00292183 0.00290918\n",
      " 0.00287071 0.00283392 0.00283346 0.00282564 0.0028082  0.00278157\n",
      " 0.00276053 0.00273873 0.00273693 0.00273174 0.00271133 0.00270885\n",
      " 0.00270639 0.00269544 0.00268075 0.00267174 0.00266326 0.00265986\n",
      " 0.00264715 0.00264593 0.00260982 0.00260021 0.00259973 0.00259961\n",
      " 0.00258776 0.00258693 0.00258535 0.0025761  0.00257086 0.00255568\n",
      " 0.00254996 0.00254312 0.00254035 0.00253952 0.00252073 0.00251444\n",
      " 0.00251029 0.00250949 0.00250767 0.00250148 0.00249076 0.00248225\n",
      " 0.00248147 0.00247299 0.00245872 0.0024509  0.00244629 0.00244116\n",
      " 0.00243869 0.00243551 0.00243421 0.0024179  0.00240598 0.00240549\n",
      " 0.00240543 0.00240302 0.0023892  0.00238551 0.00237646 0.00237009\n",
      " 0.0023677  0.00235324 0.00235103 0.00234648 0.00234267 0.00233259\n",
      " 0.00232955 0.00231633 0.00231528 0.00230716 0.00230451 0.0022896\n",
      " 0.00227782 0.00227371 0.00226814 0.00226526 0.00226325 0.00225937\n",
      " 0.002244   0.00224025 0.00223151 0.00222887 0.00222779 0.00222546\n",
      " 0.00222391 0.00222174 0.00222029 0.0022105  0.00220407 0.00220365\n",
      " 0.00219494 0.00218713 0.0021819  0.0021679  0.00216692 0.00215923\n",
      " 0.00215635 0.0021535  0.00215108 0.00214362 0.00213058 0.00213056\n",
      " 0.00212945 0.00212799 0.00212017 0.00211487 0.00211395 0.00211381\n",
      " 0.0021102  0.00210964 0.00210933 0.00208699 0.00208244 0.00206934\n",
      " 0.00206505 0.00206281 0.0020627  0.00205631 0.00203801 0.00203702\n",
      " 0.00202833 0.00201861 0.00201627 0.00201306 0.00200206 0.00199303\n",
      " 0.00198929 0.00198714 0.00198126 0.00197568 0.00197023 0.00196718\n",
      " 0.00194001 0.0019362  0.00193006 0.00191641 0.00191554 0.00189058\n",
      " 0.00188977 0.00188906 0.00188796 0.00187406 0.0018627  0.00185731\n",
      " 0.00184735 0.00184423 0.00183798 0.00183695 0.00183614 0.00182941\n",
      " 0.00182744 0.00182513 0.00182132 0.00181497 0.00180939 0.00180464\n",
      " 0.00180018 0.00179544 0.00178566 0.00178139 0.00178079 0.00177547\n",
      " 0.00177294 0.00177255 0.00175831 0.00175679 0.00175368 0.00175304\n",
      " 0.00174897 0.00174592 0.00173597 0.00172856 0.00172681 0.00172364\n",
      " 0.0017218  0.00171819 0.00171221 0.00171146 0.00170033 0.00169516\n",
      " 0.00168963 0.00168702 0.00168475 0.00168377 0.00168339 0.00168302\n",
      " 0.00168284 0.00168195 0.0016789  0.00166735 0.00165096 0.00164978\n",
      " 0.00164747 0.0016471  0.00163843 0.00163504 0.00163426 0.00162889\n",
      " 0.00162248 0.00162238 0.00161235 0.00159574 0.00159487 0.0015947\n",
      " 0.00159298 0.00158703 0.0015814  0.00157861 0.00157446 0.00157382\n",
      " 0.00157365 0.00156861 0.00156572 0.00156395 0.00156177 0.00155162\n",
      " 0.00154997 0.0015439  0.00154368 0.00153785 0.00153698 0.00153198\n",
      " 0.00152181 0.00151502 0.00151255 0.00151246 0.00150681 0.00150314\n",
      " 0.00150263 0.00150236 0.00149468 0.00148985 0.00148858 0.00148535\n",
      " 0.00148141 0.00148117 0.00148025 0.00147709 0.00147541 0.00147396\n",
      " 0.00146871 0.00146493 0.00145819 0.00145494 0.00145237 0.00144565\n",
      " 0.0014405  0.00143558 0.00143516 0.00141295 0.00140476 0.00140324\n",
      " 0.00139904 0.00139812 0.00139672 0.00139053 0.00138843 0.00138754\n",
      " 0.00138206 0.00137969 0.00137485 0.00137452 0.00137445 0.00137394\n",
      " 0.00137385 0.0013717  0.00136491 0.00136348 0.00135003 0.00134518\n",
      " 0.00134335 0.00133461 0.00131891 0.00131145 0.00130841 0.00130254\n",
      " 0.00128971 0.00128955 0.00128745 0.00128569 0.00128359 0.00127362\n",
      " 0.00127328 0.00127233 0.00127042 0.0012698  0.00126718 0.00126604\n",
      " 0.00126484 0.00126467 0.00125008 0.00124184 0.00124123 0.00123566\n",
      " 0.00123517 0.00123173 0.00123067 0.00122861 0.00121746 0.00121656\n",
      " 0.00121024 0.00121015 0.00120988 0.00119893 0.0011975  0.00119675\n",
      " 0.001185   0.00118205 0.00116665 0.00116551 0.00115976 0.00115711\n",
      " 0.00115101 0.00115083 0.00114274 0.0011418  0.00113963 0.00113823\n",
      " 0.00113516 0.00112766 0.00112765 0.00112735 0.0011268  0.00112503\n",
      " 0.0011168  0.00110779 0.00109742 0.00109455 0.00109431 0.00108001\n",
      " 0.00107633 0.00107197 0.00106775 0.00106011 0.00104888 0.00104566\n",
      " 0.00104393 0.00104095 0.00104009 0.00103476 0.00103412 0.00102835\n",
      " 0.00102597 0.00102393 0.00102053 0.00101711 0.00101338 0.00101301\n",
      " 0.00101141 0.00101032 0.00100289 0.00100288 0.00100188 0.0009985\n",
      " 0.00099584 0.00099374 0.00099125 0.00098685 0.00098659 0.00098107\n",
      " 0.00097899 0.00097747 0.000977   0.00097219 0.00097087 0.0009695\n",
      " 0.00096852 0.00096643 0.00096439 0.00096414 0.00096413 0.00095618\n",
      " 0.00095413 0.000954   0.00095206 0.00094985 0.00094469 0.00094035\n",
      " 0.00093906 0.00093669 0.00093623 0.00093567 0.00093376 0.00093171\n",
      " 0.00092688 0.00092653 0.00092535 0.00092132 0.00091945 0.00091909\n",
      " 0.00091258 0.00091096 0.00091068 0.00090948 0.0009081  0.00090733\n",
      " 0.00090722 0.00090704 0.00089808 0.0008968  0.00089528 0.00089254\n",
      " 0.00088995 0.00088951 0.0008892  0.00088831 0.00088689 0.00087862\n",
      " 0.00087619 0.00086628 0.00086235 0.0008615  0.00085993 0.00085711\n",
      " 0.00085538 0.00085203 0.00084725 0.00084513 0.00084297 0.00083902\n",
      " 0.00083613 0.0008353  0.0008333  0.00083313 0.00082828 0.00082808\n",
      " 0.0008274  0.00082212 0.00082075 0.00081823 0.00081778 0.00081572\n",
      " 0.00081556 0.00081394 0.00080779 0.00080548 0.00079986 0.00079926\n",
      " 0.00079729 0.00079301 0.00079261 0.00079174 0.00078911 0.00078574\n",
      " 0.00078393 0.00078374 0.00077892 0.00077869 0.00077825 0.00077772\n",
      " 0.00077726 0.00077715 0.00077706 0.00077629 0.00077269 0.00077064\n",
      " 0.00077042 0.00076989 0.00076932 0.00076852 0.00076842 0.00076833\n",
      " 0.00076638 0.00076295 0.0007615  0.00075357 0.00075353 0.00074964\n",
      " 0.00074819 0.00074439 0.00074418 0.0007389  0.00073869 0.00073865\n",
      " 0.00073821 0.00073513 0.00073065 0.0007297  0.00072702 0.00072008\n",
      " 0.0007192  0.00071832 0.00070548 0.00070486 0.00070405 0.00070277\n",
      " 0.00070068 0.00069923 0.00069917 0.00069885 0.00069193 0.00069104\n",
      " 0.00069009 0.00068872 0.00068648 0.00068289 0.00068241 0.00067987\n",
      " 0.00067978 0.00067742 0.00067698 0.00067695 0.00067618 0.0006687\n",
      " 0.00066362 0.00066117 0.0006602  0.00065864 0.00065592 0.00065465\n",
      " 0.00064882 0.00064328 0.00064235 0.00064024 0.00063976 0.0006397\n",
      " 0.00063848 0.00063803 0.00063636 0.00063615 0.00063514 0.00063297\n",
      " 0.00063194 0.00063134 0.00063131 0.00063066 0.00062902 0.00062826\n",
      " 0.00062339 0.00062281 0.00062273 0.00062265 0.00062185 0.000619\n",
      " 0.00061836 0.00061727 0.00061678 0.00061304 0.00061242 0.00061231\n",
      " 0.00060951 0.00060875 0.00060712 0.0006063  0.00060608 0.00060583\n",
      " 0.0006058  0.0006053  0.00060497 0.00060437 0.00060428 0.00060388\n",
      " 0.00060312 0.0006031  0.00059766 0.00059682 0.00059377 0.00059211\n",
      " 0.00058933 0.00058738 0.00058701 0.00058616 0.00058457 0.0005841\n",
      " 0.00058397 0.00058347 0.0005834  0.00058094 0.00057991 0.0005779\n",
      " 0.00057569 0.00057547 0.00057524 0.00057333 0.00057104 0.00056813\n",
      " 0.00056783 0.00056776 0.00056766 0.000565   0.00055942 0.00055759\n",
      " 0.00055733 0.00055701 0.0005562  0.00055478 0.00055136 0.00054908\n",
      " 0.00054876 0.00054712 0.00054563 0.0005453  0.00054476 0.00054016\n",
      " 0.0005385  0.00053819 0.00053635 0.00053611 0.00053596 0.00053474\n",
      " 0.00053452 0.00053397 0.00053351 0.00053311 0.00053308 0.00052989\n",
      " 0.00052654 0.00052408 0.00052401 0.00052139 0.00051988 0.00051793\n",
      " 0.0005178  0.00051754 0.00051715 0.00051477 0.00051453 0.00051441\n",
      " 0.00051377 0.00051257 0.00051204 0.00051097 0.00050866 0.00050726\n",
      " 0.00050678 0.00050542 0.0005053  0.00050292 0.00050211 0.00050133\n",
      " 0.00049949 0.00049627 0.0004958  0.00049384 0.00049321 0.00049279\n",
      " 0.00048958 0.00048655 0.00048419 0.00048164 0.00048162 0.00048139\n",
      " 0.00047804 0.00047721 0.00047695 0.00047682 0.00047579 0.00047486\n",
      " 0.00047483 0.00047442 0.00047433 0.00047265 0.00047258 0.00047202\n",
      " 0.0004712  0.00047005 0.00046996 0.00046993 0.00046312 0.00046275\n",
      " 0.00046244 0.00046224 0.00046187 0.0004615  0.0004613  0.0004612\n",
      " 0.0004604  0.00045976 0.0004591  0.00045755 0.00045726 0.00045711\n",
      " 0.00045548 0.0004537  0.00045365 0.00045266 0.00045123 0.00044906\n",
      " 0.0004476  0.00044734 0.00044671 0.00044615 0.00044434 0.00044164\n",
      " 0.0004403  0.00044025 0.00043654 0.00043583 0.00043445 0.00043427\n",
      " 0.00043399 0.00043235 0.00043184 0.00042989 0.00042308 0.00042194\n",
      " 0.00042109 0.00041941 0.00041625 0.00041594 0.00041489 0.00041311\n",
      " 0.00040939 0.00040676 0.00040343 0.00040257 0.00040104 0.00039966\n",
      " 0.00039793 0.00039388 0.00039075 0.0003898  0.00038845 0.00038746\n",
      " 0.00038719 0.00038593 0.0003829  0.00038148 0.00038103 0.00038077\n",
      " 0.00037955 0.00037831 0.00037749 0.00037691 0.00037643 0.00037626\n",
      " 0.00037595 0.00037298 0.00037233 0.00037189 0.00036893 0.00036885\n",
      " 0.00036452 0.00036373 0.00036075 0.0003599  0.00035968 0.00035928\n",
      " 0.00035485 0.00035465 0.00035336 0.00035306 0.00035275 0.00035058\n",
      " 0.00034927 0.00034777 0.00034418 0.00034382 0.00034232 0.00034172\n",
      " 0.00034079 0.00034078 0.00034066 0.00033892 0.0003388  0.00033847\n",
      " 0.00033827 0.00033805 0.00033718 0.00033524 0.00033201 0.00032944\n",
      " 0.00032501 0.00032452 0.00032219 0.00031999 0.0003181  0.000317\n",
      " 0.00031666 0.00031658 0.00031639 0.00031614 0.00031487 0.00031121\n",
      " 0.00031074 0.00030952 0.00030902 0.00030545 0.00030544 0.00030263\n",
      " 0.000301   0.00030018 0.00029826 0.00029808 0.00029508 0.00029472\n",
      " 0.00029467 0.00029467 0.00029341 0.00029283 0.00029255 0.00028885\n",
      " 0.00028822 0.00028644 0.00028566 0.00028527 0.00028501 0.00028251\n",
      " 0.00028162 0.00027956 0.00027759 0.00027421 0.00027413 0.00027245\n",
      " 0.00027056 0.00026763 0.00026715 0.0002665  0.00025939 0.00025835\n",
      " 0.00025582 0.00025567 0.00025298 0.00024789 0.00024674 0.00024521\n",
      " 0.00024295 0.0002422  0.00024042 0.00024032 0.00024007 0.00023697\n",
      " 0.000236   0.00023295 0.00022717 0.00021904 0.00021554 0.0002148\n",
      " 0.000208   0.00020629 0.00020423 0.00020052 0.00019707 0.0001907\n",
      " 0.00017518]\n"
     ]
    },
    {
     "data": {
      "image/png": "[encoded data removed]",
      "text/plain": [
       "<Figure size 864x288 with 1 Axes>"
      ]
     },
     "metadata": {
      "needs_background": "light"
     },
     "output_type": "display_data"
    }
   ],
   "source": [
    "dists = chamfer_evaluate(predictions_list, cloud_list, id_list, cat, blueprint,  ifcConvert_executable,\n",
    "                     cloudCompare_executable, temp_dir, target_dir, sample_size, threshold, icp_correction = False)\n",
    "# if inference:\n",
    "#     with open(model_path + 'preds_' + cat + '.pkl', 'wb') as f:\n",
    "#         pickle.dump([predictions_list, id_list, dists], f)\n",
    "    \n",
    "plot_error_graph(dists, \"chamfer loss\")"
   ]
  },
  {
   "cell_type": "code",
   "execution_count": 62,
   "metadata": {},
   "outputs": [],
   "source": [
    "# scaling up and down is required for icp calculations\n",
    "def _visualise_predictions(predictions_list, cloud_list, id_list, cat, blueprint,  ifcConvert_executable,\n",
    "                     cloudCompare_executable, temp_dir, target_dir, sample_size,\n",
    "                     threshold, icp_correction = False):\n",
    "\n",
    "    preds_list, pcd_list = [], []\n",
    "    viewer_list, ifc_list = [], []\n",
    "    error_count = 0\n",
    "\n",
    "    # get predictions and pcds\n",
    "    #for i in tqdm(range(len(predictions_list))):\n",
    "    for i in tqdm(range(20)):\n",
    "        pcd_id = id_list[i].item()\n",
    "        pcd, preds = cloud_list[i].transpose(1, 0).tolist(), copy.deepcopy(predictions_list[i])\n",
    "        #print(preds, inputs_list[i])\n",
    "\n",
    "        preds = scale_preds(preds.tolist(), cat)\n",
    "        print(preds)\n",
    "        #pcd, preds = prepare_visualisation(pcd_id, cat, i, cloud_list, inputs_list, ext)\n",
    "\n",
    "#         try:\n",
    "        if  icp_correction:\n",
    "            # note: preds are updated in place during ICP\n",
    "            viewer, ifc = icp_finetuning(o3d.utility.Vector3dVector(pcd), pcd_id, cat, preds, blueprint, temp_dir, target_dir, \n",
    "                                 ifcConvert_executable, cloudCompare_executable, sample_size, threshold, True)\n",
    "        else:\n",
    "            #print(preds)\n",
    "            viewer, ifc = visualize_predictions([pcd], cat, [preds], blueprint, visualize=True)\n",
    "\n",
    "\n",
    "        preds_list.append(preds)\n",
    "        pcd_list.append(pcd)\n",
    "        viewer_list.append(viewer)\n",
    "        ifc_list.append(ifc)\n",
    "\n",
    "#         except Exception as e:\n",
    "#             print(\"ICP error\", pcd_id, e)\n",
    "#             error_count += 1\n",
    "\n",
    "\n",
    "    print(\"error_count\", error_count)    \n",
    "    return viewer_list"
   ]
  },
  {
   "cell_type": "code",
   "execution_count": 63,
   "metadata": {},
   "outputs": [
    {
     "data": {
      "application/vnd.jupyter.widget-view+json": {
       "model_id": "d1bb7b817b0e4b8889c5b4779ebff323",
       "version_major": 2,
       "version_minor": 0
      },
      "text/plain": [
       "  0%|          | 0/20 [00:00<?, ?it/s]"
      ]
     },
     "metadata": {},
     "output_type": "display_data"
    },
    {
     "name": "stdout",
     "output_type": "stream",
     "text": [
      "[404.64770793914795, 1268.538236618042, 321.3639557361603, 723.7441539764404, 0.058742865920066833, -0.053719498217105865, 0.14230217039585114, -0.15611180663108826, 0.8816319704055786, 0.05143629387021065, 0.9260274171829224, 0.6388445496559143, 0.6916926503181458, -0.56488436460495, 0.7896255850791931, 0.016496621072292328, 0.9073066115379333, 0.13381005823612213, 0.8201855421066284]\n",
      "[345.72938084602356, 1567.918300628662, 301.9225001335144, 730.3755283355713, 0.039540812373161316, -0.08097883313894272, 0.01993338018655777, -0.041515275835990906, 0.9807680249214172, -0.5307862162590027, 0.5109050869941711, 0.060004740953445435, 1.0100102424621582, 0.03552084043622017, 0.9739677906036377, 0.002033319789916277, 1.0017802715301514, -0.7921959161758423, 0.5412901639938354]\n",
      "[237.07446455955505, 1678.7033081054688, 202.10114121437073, 838.3263349533081, -0.03282646834850311, -0.021662015467882156, 0.16493424773216248, 0.41590601205825806, 0.7538986802101135, -0.35496944189071655, 0.7456005215644836, 0.09296458959579468, 1.0025745630264282, 0.10829274356365204, 0.9766392111778259, 0.016215283423662186, 0.9881925582885742, -0.7994681596755981, 0.5519486665725708]\n",
      "[470.068097114563, 1413.9716625213623, 445.21579146385193, 858.2277297973633, -0.009981073439121246, 0.006719011347740889, -0.003668110817670822, 0.0114460289478302, 0.9669171571731567, -0.20851457118988037, 0.5742950439453125, 0.15953320264816284, 0.9908827543258667, -0.5104737281799316, 0.8234817981719971, -0.012677809223532677, 0.9619680047035217, 0.5953093767166138, 0.7499391436576843]\n",
      "[392.2596573829651, 1275.3437757492065, 368.31212043762207, 729.9944162368774, -0.09839985519647598, 0.12354332953691483, 0.2256694883108139, -0.053357064723968506, 0.960870623588562, 0.7601393461227417, 0.5470037460327148, 0.10140126943588257, 0.9872647523880005, -0.007715982384979725, 0.9721858501434326, 0.03287329897284508, 1.0025889873504639, -0.8035866022109985, 0.5418764352798462]\n",
      "[390.1534676551819, 1280.5238962173462, 366.88071489334106, 712.8938436508179, 0.05626508593559265, -0.26083067059516907, 0.06687775254249573, 0.05293098837137222, 0.9346545338630676, -0.01127436850219965, 0.9133855104446411, 0.738953173160553, 0.6359253525733948, -0.4687584638595581, 0.795537531375885, 0.42735379934310913, 0.8281762003898621, 0.03549961373209953, 0.8807322382926941]\n",
      "[404.8319458961487, 1488.5114431381226, 346.7678427696228, 864.2570376396179, -0.005275223404169083, -0.09034822136163712, -0.09238269925117493, -0.03434104472398758, 0.9141463041305542, 0.008151671849191189, 0.88114994764328, 0.6390829682350159, 0.6600875854492188, 0.10003490000963211, 0.9572772979736328, 0.5792081952095032, 0.6892052888870239, 0.27227333188056946, 0.8340113162994385]\n",
      "[318.70514154434204, 1461.6734981536865, 226.76995396614075, 661.5215539932251, -0.14893463253974915, 0.05390738695859909, -0.11289982497692108, -0.010689247399568558, 0.5101016759872437, 0.09634997695684433, 0.9604151248931885, 0.02668219804763794, 1.0301551818847656, -0.04857317730784416, 0.9732729196548462, 0.0023867213167250156, 0.9499537944793701, 0.7133176326751709, 0.5857151746749878]\n",
      "[303.3122718334198, 1585.071325302124, 236.18099093437195, 964.3442630767822, -0.042772047221660614, -0.08079090714454651, -0.1626220941543579, 0.1895635724067688, 0.5146056413650513, -0.04422612488269806, 0.9746816158294678, 0.0757271945476532, 1.014575719833374, -0.027663372457027435, 1.002289891242981, 0.020602263510227203, 0.9790166616439819, 0.8189785480499268, 0.5343979597091675]\n",
      "[305.2472770214081, 1535.2469682693481, 253.7836730480194, 867.3546314239502, -0.01171146146953106, 0.09847946465015411, -0.15492352843284607, 0.060715556144714355, 0.9741171598434448, 0.16847942769527435, 0.5124812722206116, 0.08131414651870728, 1.009724497795105, 0.0032348381355404854, 0.9750900268554688, -0.02317933551967144, 0.9972808361053467, 0.8142355680465698, 0.5361266136169434]\n",
      "[356.2094271183014, 1427.5473356246948, 311.5589916706085, 795.2632904052734, -0.0612139031291008, 0.10291345417499542, 0.18785236775875092, 0.45968323945999146, 0.6279820203781128, 0.050048474222421646, 0.8816812634468079, 0.14387542009353638, 0.9438908100128174, 0.03556881099939346, 0.9607533812522888, -0.01934169791638851, 0.9408655166625977, -0.6992888450622559, 0.5850448608398438]\n",
      "[375.0951588153839, 1401.9743204116821, 350.6009578704834, 855.7106256484985, -0.10220754146575928, -0.03930305317044258, 0.1072147786617279, 0.20410257577896118, 0.5768659114837646, 0.03929167985916138, 0.9529854655265808, 0.13100874423980713, 0.9633831977844238, 0.05269746854901314, 0.9485453367233276, 0.6698495745658875, 0.6652846336364746, -0.09055189788341522, 0.8841116428375244]\n",
      "[470.0850248336792, 1253.8201808929443, 446.69538736343384, 765.243411064148, -0.005831312388181686, -0.11877475678920746, -0.15110880136489868, -0.022444777190685272, 0.9670505523681641, 0.289575457572937, 0.5430690050125122, 0.11125713586807251, 0.9824123382568359, 0.028608541935682297, 0.9700154662132263, -0.009453607723116875, 0.9885382652282715, 0.7886215448379517, 0.5539644956588745]\n",
      "[346.16637229919434, 1420.1842546463013, 261.10780239105225, 698.2219219207764, -0.1423763632774353, 0.05897564813494682, -0.04586709290742874, -0.07366097718477249, 0.5271117687225342, 0.09754332900047302, 0.9473834037780762, 0.03651878237724304, 1.017660140991211, 0.0020760493353009224, 0.9862761497497559, -0.012818915769457817, 0.9782187938690186, 0.7809207439422607, 0.5426988005638123]\n",
      "[234.92947220802307, 1685.395359992981, 192.07559525966644, 797.9822754859924, -0.0778510794043541, -0.010092860087752342, 0.09114497900009155, -0.0019451770931482315, 0.9279907941818237, 0.6334089040756226, 0.5710986852645874, 0.1060636043548584, 0.9719088077545166, 0.0013344576582312584, 0.9683112502098083, 0.023668060079216957, 0.9878350496292114, -0.8073775768280029, 0.5462268590927124]\n",
      "[355.3048372268677, 1475.6176471710205, 329.8528790473938, 779.8523306846619, -0.12888216972351074, 0.032082878053188324, -0.09799596667289734, -0.7955092191696167, 0.5291240215301514, -0.057664405554533005, 0.9417293667793274, 0.04111471772193909, 1.0105162858963013, 0.019460435956716537, 0.9954045414924622, -0.0006387918256223202, 0.9797815680503845, 0.80782151222229, 0.5298038125038147]\n",
      "[429.0647804737091, 1471.624493598938, 389.0797793865204, 813.7588500976562, 0.032766468822956085, -0.17413082718849182, -0.013955730944871902, -0.06930283457040787, 0.9491984248161316, 0.04355355724692345, 0.932836651802063, 0.7866864204406738, 0.5988121032714844, 0.13844922184944153, 0.9406182765960693, 0.7358264327049255, 0.6348146796226501, 0.10139672458171844, 0.914997398853302]\n",
      "[306.1929941177368, 1482.6672077178955, 208.781898021698, 695.5347061157227, 0.16323524713516235, -0.011432424187660217, -0.1103978306055069, 0.8167359828948975, 0.5144996643066406, 0.03412051871418953, 0.9598978757858276, 0.048615723848342896, 1.0089912414550781, -0.07332653552293777, 0.9820529222488403, -0.04987284913659096, 0.9684543609619141, 0.7641013860702515, 0.5479273200035095]\n",
      "[342.17169880867004, 1499.3975162506104, 317.92572140693665, 800.3725409507751, 0.07144303619861603, -0.13262540102005005, -0.03456912189722061, -0.45326995849609375, 0.5080699920654297, -0.05812262371182442, 0.9720891118049622, 0.04883936047554016, 1.0235137939453125, -0.005718483589589596, 1.0029586553573608, -0.002417501527816057, 0.9837332963943481, 0.8194626569747925, 0.5309479236602783]\n",
      "[387.5811696052551, 1485.4886531829834, 349.65676069259644, 754.7411918640137, -0.11142460256814957, -0.04092029854655266, -0.14459116756916046, 0.10162876546382904, 0.9333030581474304, 0.18489928543567657, 0.5670856237411499, 0.09854787588119507, 0.9823445677757263, -0.03540685400366783, 0.966320276260376, 0.04958462342619896, 0.9880155324935913, 0.7711609601974487, 0.5495774745941162]\n",
      "error_count 0\n"
     ]
    }
   ],
   "source": [
    "viewers = _visualise_predictions(predictions_list, cloud_list, id_list, cat, blueprint,  ifcConvert_executable,\n",
    "                     cloudCompare_executable, temp_dir, target_dir, sample_size, threshold, icp_correction = False)"
   ]
  },
  {
   "cell_type": "code",
   "execution_count": 65,
   "metadata": {
    "scrolled": true
   },
   "outputs": [
    {
     "data": {
      "application/vnd.jupyter.widget-view+json": {
       "model_id": "8f0210d4aa1c460aa20e03ff092c9a44",
       "version_major": 2,
       "version_minor": 0
      },
      "text/plain": [
       "HBox(children=(VBox(children=(HBox(children=(VBox(children=(Checkbox(value=True, description='Axes', layout=La…"
      ]
     },
     "metadata": {},
     "output_type": "display_data"
    },
    {
     "name": "stdout",
     "output_type": "stream",
     "text": [
      "\n"
     ]
    },
    {
     "data": {
      "application/vnd.jupyter.widget-view+json": {
       "model_id": "f94e100ce79b402bb9b042d7b7a9a949",
       "version_major": 2,
       "version_minor": 0
      },
      "text/plain": [
       "HBox(children=(VBox(children=(HBox(children=(VBox(children=(Checkbox(value=True, description='Axes', layout=La…"
      ]
     },
     "metadata": {},
     "output_type": "display_data"
    },
    {
     "name": "stdout",
     "output_type": "stream",
     "text": [
      "\n"
     ]
    },
    {
     "data": {
      "application/vnd.jupyter.widget-view+json": {
       "model_id": "78798001f1af4fcf948db95fb45bfeb8",
       "version_major": 2,
       "version_minor": 0
      },
      "text/plain": [
       "HBox(children=(VBox(children=(HBox(children=(VBox(children=(Checkbox(value=True, description='Axes', layout=La…"
      ]
     },
     "metadata": {},
     "output_type": "display_data"
    },
    {
     "name": "stdout",
     "output_type": "stream",
     "text": [
      "\n"
     ]
    },
    {
     "data": {
      "application/vnd.jupyter.widget-view+json": {
       "model_id": "5ec4f2e7c14d4f909e3da230bc612f1a",
       "version_major": 2,
       "version_minor": 0
      },
      "text/plain": [
       "HBox(children=(VBox(children=(HBox(children=(VBox(children=(Checkbox(value=True, description='Axes', layout=La…"
      ]
     },
     "metadata": {},
     "output_type": "display_data"
    },
    {
     "name": "stdout",
     "output_type": "stream",
     "text": [
      "\n"
     ]
    },
    {
     "data": {
      "application/vnd.jupyter.widget-view+json": {
       "model_id": "ce942d78a89d4ff8b735f4094242766c",
       "version_major": 2,
       "version_minor": 0
      },
      "text/plain": [
       "HBox(children=(VBox(children=(HBox(children=(VBox(children=(Checkbox(value=True, description='Axes', layout=La…"
      ]
     },
     "metadata": {},
     "output_type": "display_data"
    },
    {
     "name": "stdout",
     "output_type": "stream",
     "text": [
      "\n"
     ]
    },
    {
     "data": {
      "application/vnd.jupyter.widget-view+json": {
       "model_id": "3ab92290901e47b9add5862464584b39",
       "version_major": 2,
       "version_minor": 0
      },
      "text/plain": [
       "HBox(children=(VBox(children=(HBox(children=(VBox(children=(Checkbox(value=True, description='Axes', layout=La…"
      ]
     },
     "metadata": {},
     "output_type": "display_data"
    },
    {
     "name": "stdout",
     "output_type": "stream",
     "text": [
      "\n"
     ]
    },
    {
     "data": {
      "application/vnd.jupyter.widget-view+json": {
       "model_id": "9241227e07fb4921a07dfd207caa29f9",
       "version_major": 2,
       "version_minor": 0
      },
      "text/plain": [
       "HBox(children=(VBox(children=(HBox(children=(VBox(children=(Checkbox(value=True, description='Axes', layout=La…"
      ]
     },
     "metadata": {},
     "output_type": "display_data"
    },
    {
     "name": "stdout",
     "output_type": "stream",
     "text": [
      "\n"
     ]
    },
    {
     "data": {
      "application/vnd.jupyter.widget-view+json": {
       "model_id": "1d3ab5b04ca14d3b8e01d5c0ac8732a0",
       "version_major": 2,
       "version_minor": 0
      },
      "text/plain": [
       "HBox(children=(VBox(children=(HBox(children=(VBox(children=(Checkbox(value=True, description='Axes', layout=La…"
      ]
     },
     "metadata": {},
     "output_type": "display_data"
    },
    {
     "name": "stdout",
     "output_type": "stream",
     "text": [
      "\n"
     ]
    },
    {
     "data": {
      "application/vnd.jupyter.widget-view+json": {
       "model_id": "7b967d8f2ef444729f16180b5dec3489",
       "version_major": 2,
       "version_minor": 0
      },
      "text/plain": [
       "HBox(children=(VBox(children=(HBox(children=(VBox(children=(Checkbox(value=True, description='Axes', layout=La…"
      ]
     },
     "metadata": {},
     "output_type": "display_data"
    },
    {
     "name": "stdout",
     "output_type": "stream",
     "text": [
      "\n"
     ]
    },
    {
     "data": {
      "application/vnd.jupyter.widget-view+json": {
       "model_id": "515a6a4ef6ba41258a61c1167c686911",
       "version_major": 2,
       "version_minor": 0
      },
      "text/plain": [
       "HBox(children=(VBox(children=(HBox(children=(VBox(children=(Checkbox(value=True, description='Axes', layout=La…"
      ]
     },
     "metadata": {},
     "output_type": "display_data"
    },
    {
     "name": "stdout",
     "output_type": "stream",
     "text": [
      "\n"
     ]
    },
    {
     "data": {
      "application/vnd.jupyter.widget-view+json": {
       "model_id": "8da50f95b1eb45be8c865905be5f0736",
       "version_major": 2,
       "version_minor": 0
      },
      "text/plain": [
       "HBox(children=(VBox(children=(HBox(children=(VBox(children=(Checkbox(value=True, description='Axes', layout=La…"
      ]
     },
     "metadata": {},
     "output_type": "display_data"
    },
    {
     "name": "stdout",
     "output_type": "stream",
     "text": [
      "\n"
     ]
    },
    {
     "data": {
      "application/vnd.jupyter.widget-view+json": {
       "model_id": "4b79ec27550c47d6a2124a85889bd2bc",
       "version_major": 2,
       "version_minor": 0
      },
      "text/plain": [
       "HBox(children=(VBox(children=(HBox(children=(VBox(children=(Checkbox(value=True, description='Axes', layout=La…"
      ]
     },
     "metadata": {},
     "output_type": "display_data"
    },
    {
     "name": "stdout",
     "output_type": "stream",
     "text": [
      "\n"
     ]
    },
    {
     "data": {
      "application/vnd.jupyter.widget-view+json": {
       "model_id": "9efd2ff4933545a4bcbaa7b33c9a22a0",
       "version_major": 2,
       "version_minor": 0
      },
      "text/plain": [
       "HBox(children=(VBox(children=(HBox(children=(VBox(children=(Checkbox(value=True, description='Axes', layout=La…"
      ]
     },
     "metadata": {},
     "output_type": "display_data"
    },
    {
     "name": "stdout",
     "output_type": "stream",
     "text": [
      "\n"
     ]
    },
    {
     "data": {
      "application/vnd.jupyter.widget-view+json": {
       "model_id": "c269f55502574339b058feba741c353b",
       "version_major": 2,
       "version_minor": 0
      },
      "text/plain": [
       "HBox(children=(VBox(children=(HBox(children=(VBox(children=(Checkbox(value=True, description='Axes', layout=La…"
      ]
     },
     "metadata": {},
     "output_type": "display_data"
    },
    {
     "name": "stdout",
     "output_type": "stream",
     "text": [
      "\n"
     ]
    },
    {
     "data": {
      "application/vnd.jupyter.widget-view+json": {
       "model_id": "c0cc9bd2929d42b9808094f18b881353",
       "version_major": 2,
       "version_minor": 0
      },
      "text/plain": [
       "HBox(children=(VBox(children=(HBox(children=(VBox(children=(Checkbox(value=True, description='Axes', layout=La…"
      ]
     },
     "metadata": {},
     "output_type": "display_data"
    },
    {
     "name": "stdout",
     "output_type": "stream",
     "text": [
      "\n"
     ]
    },
    {
     "data": {
      "application/vnd.jupyter.widget-view+json": {
       "model_id": "2f72ddbc2f9c4cea8557b3d183b1fd44",
       "version_major": 2,
       "version_minor": 0
      },
      "text/plain": [
       "HBox(children=(VBox(children=(HBox(children=(VBox(children=(Checkbox(value=True, description='Axes', layout=La…"
      ]
     },
     "metadata": {},
     "output_type": "display_data"
    },
    {
     "name": "stdout",
     "output_type": "stream",
     "text": [
      "\n"
     ]
    },
    {
     "data": {
      "application/vnd.jupyter.widget-view+json": {
       "model_id": "4b83c8d555464b82a1a99cefa681effc",
       "version_major": 2,
       "version_minor": 0
      },
      "text/plain": [
       "HBox(children=(VBox(children=(HBox(children=(VBox(children=(Checkbox(value=True, description='Axes', layout=La…"
      ]
     },
     "metadata": {},
     "output_type": "display_data"
    },
    {
     "name": "stdout",
     "output_type": "stream",
     "text": [
      "\n"
     ]
    },
    {
     "data": {
      "application/vnd.jupyter.widget-view+json": {
       "model_id": "f1f4a378be9745748aa8f15ad34ee7b1",
       "version_major": 2,
       "version_minor": 0
      },
      "text/plain": [
       "HBox(children=(VBox(children=(HBox(children=(VBox(children=(Checkbox(value=True, description='Axes', layout=La…"
      ]
     },
     "metadata": {},
     "output_type": "display_data"
    },
    {
     "name": "stdout",
     "output_type": "stream",
     "text": [
      "\n"
     ]
    },
    {
     "data": {
      "application/vnd.jupyter.widget-view+json": {
       "model_id": "068392e8a9544cee947c47156b494f0d",
       "version_major": 2,
       "version_minor": 0
      },
      "text/plain": [
       "HBox(children=(VBox(children=(HBox(children=(VBox(children=(Checkbox(value=True, description='Axes', layout=La…"
      ]
     },
     "metadata": {},
     "output_type": "display_data"
    },
    {
     "name": "stdout",
     "output_type": "stream",
     "text": [
      "\n"
     ]
    },
    {
     "data": {
      "application/vnd.jupyter.widget-view+json": {
       "model_id": "0259ae17cae44c4c825f429f7b81b838",
       "version_major": 2,
       "version_minor": 0
      },
      "text/plain": [
       "HBox(children=(VBox(children=(HBox(children=(VBox(children=(Checkbox(value=True, description='Axes', layout=La…"
      ]
     },
     "metadata": {},
     "output_type": "display_data"
    },
    {
     "name": "stdout",
     "output_type": "stream",
     "text": [
      "\n"
     ]
    }
   ],
   "source": [
    "for v in viewers:\n",
    "    print(v)"
   ]
  },
  {
   "cell_type": "code",
   "execution_count": null,
   "metadata": {
    "scrolled": true
   },
   "outputs": [],
   "source": [
    "# icp_correction = False\n",
    "# viewers, ifcs = [], []\n",
    "# preds_list, pcd_list = [], []\n",
    "\n",
    "# for i in range(1,4):\n",
    "#     pcd_id = id_list[i].item()\n",
    "#     #print(pcd_id) \n",
    "        \n",
    "#     #print(\"p\", predictions_list[i], \"in\", inputs_list[i])\n",
    "\n",
    "# #     #pcd, preds = prepare_visualisation(pcd_id, cat, i, cloud_list, predictions_list, path, ext)\n",
    "# #     pcd, preds = cloud_list[i].transpose(1, 0), copy.deepcopy(predictions_list[i])\n",
    "# #     print(pcd.shape)\n",
    "# #     preds = scale_preds(preds.tolist(), cat)\n",
    "# # #     pcd2, input_preds = prepare_visualisation(pcd_id, cat, i, cloud_list, inputs_list, path, ext)\n",
    "# # #     indices_to_replace = [5, 6, 7]\n",
    "# # #     for i in indices_to_replace:\n",
    "# # #         preds[i] = input_preds[i]\n",
    "    \n",
    "# #     #try:\n",
    "# #     if not icp_correction:\n",
    "# #         viewer, ifc = visualize_predictions([pcd], cat, [preds], blueprint, visualize=True)\n",
    "\n",
    "# #     else:\n",
    "# #         viewer, ifc = icp_finetuning(pcd, pcd_id, cat, preds, blueprint, temp_dir, target_dir, \n",
    "# #                              ifcConvert_executable, cloudCompare_executable, sample_size, threshold)\n",
    "\n",
    "# #     viewers.append(viewer) \n",
    "# #     ifcs.append(ifc)\n",
    "# #     preds_list.append(preds)\n",
    "# #     pcd_list.append(pcd)\n",
    "       \n",
    "# # #     except Exception as e:\n",
    "# # #         print(\"ICP error\", pcd_id, e)\n",
    "        \n",
    "#     preds_list.append(inputs_list[i])\n",
    "#     pcd_list.append(cloud_list[i].transpose(1, 0))\n",
    "\n",
    "# cloud = o3d.geometry.PointCloud()\n",
    "# chamfer_dists = []\n",
    "# for i, preds in enumerate(preds_list):\n",
    "#     pcd = pcd_list[i]\n",
    "#     chamfer_distance, cl = get_chamfer_dist_single(pcd, preds, cat)\n",
    "#     chamfer_dists.append(chamfer_distance)\n",
    "    \n",
    "# print(\"chamfer_distance\", sum(chamfer_dists)/len(chamfer_dists))\n",
    "# print(\"chamfer_distance\", chamfer_dists)\n",
    "# cloud.points = o3d.utility.Vector3dVector(np.array(cl))\n",
    "# o3d.io.write_point_cloud(\"generated.pcd\", cloud)\n",
    "# cloud.points = o3d.utility.Vector3dVector(pcd)\n",
    "# o3d.io.write_point_cloud(\"pcd.pcd\", cloud)\n",
    "\n",
    "\n",
    "# #tensor based chamfer dist\n",
    "# preds_tensor = torch.tensor(preds_list).cuda()\n",
    "# pcd_tensor = torch.transpose(torch.tensor(pcd_list).cuda().float(), 1,2)\n",
    "# #print(pcd_tensor.shape)\n",
    "# chamfer_distance = get_chamfer_loss_tensor(preds_tensor, pcd_tensor)\n",
    "# print(\"chamfer\", chamfer_distance)\n",
    "\n",
    "\n",
    "# # for i, cl in enumerate(clouds_tensor.detach().cpu().numpy()):\n",
    "# #     cloud.points = o3d.utility.Vector3dVector(cl)\n",
    "# #     o3d.io.write_point_cloud(\"axis_\"+str(i)+\".pcd\", cloud)\n",
    "# #     cloud.points = pcd_list[i]\n",
    "# #     o3d.io.write_point_cloud(\"pcd_\"+str(i)+\".pcd\", cloud)\n",
    "    \n",
    "# # cloud = generate_elbow_cloud(preds)\n",
    "    \n",
    "# #chamfer_distance = get_chamfer_dist_single(cloud, pcd)\n",
    "# #print(\"chamfer_distance\", chamfer_distance)\n",
    "\n",
    "\n"
   ]
  },
  {
   "cell_type": "code",
   "execution_count": null,
   "metadata": {
    "scrolled": true
   },
   "outputs": [],
   "source": [
    "plot_parameter_errors(inputs_list, predictions_list, cat)"
   ]
  },
  {
   "cell_type": "markdown",
   "metadata": {},
   "source": [
    "#### BP data Visualisation"
   ]
  },
  {
   "cell_type": "code",
   "execution_count": 14,
   "metadata": {},
   "outputs": [
    {
     "name": "stdout",
     "output_type": "stream",
     "text": [
      "tee 873\n",
      "elbow 8438\n",
      "\u001b[1;33m[Open3D WARNING] Read PCD failed: unable to open file: tee_fix/elbow/test/5199.pcd\u001b[0;m\n"
     ]
    },
    {
     "name": "stderr",
     "output_type": "stream",
     "text": [
      "/home/haritha/miniconda3/envs/cdbb/lib/python3.9/site-packages/numpy/core/fromnumeric.py:3474: RuntimeWarning: Mean of empty slice.\n",
      "  return _methods._mean(a, axis=axis, dtype=dtype,\n"
     ]
    },
    {
     "ename": "ValueError",
     "evalue": "zero-size array to reduction operation maximum which has no identity",
     "output_type": "error",
     "traceback": [
      "\u001b[0;31m---------------------------------------------------------------------------\u001b[0m",
      "\u001b[0;31mValueError\u001b[0m                                Traceback (most recent call last)",
      "Input \u001b[0;32mIn [14]\u001b[0m, in \u001b[0;36m<cell line: 1>\u001b[0;34m()\u001b[0m\n\u001b[0;32m----> 1\u001b[0m \u001b[43mbatch_visualise\u001b[49m\u001b[43m(\u001b[49m\u001b[43mmodel_path\u001b[49m\u001b[43m,\u001b[49m\u001b[43m \u001b[49m\u001b[43mblueprint\u001b[49m\u001b[43m,\u001b[49m\u001b[43m \u001b[49m\u001b[43mpath\u001b[49m\u001b[43m,\u001b[49m\u001b[43m \u001b[49m\u001b[43mext\u001b[49m\u001b[43m,\u001b[49m\u001b[43m \u001b[49m\u001b[43mdevice\u001b[49m\u001b[43m,\u001b[49m\u001b[43m \u001b[49m\u001b[43mifc\u001b[49m\u001b[38;5;241;43m=\u001b[39;49m\u001b[38;5;28;43;01mFalse\u001b[39;49;00m\u001b[43m)\u001b[49m\n",
      "File \u001b[0;32m~/documents/industrial-facility-relationships/src/utils.py:123\u001b[0m, in \u001b[0;36mbatch_visualise\u001b[0;34m(preds_dir, blueprint, path, ext, device, ifc)\u001b[0m\n\u001b[1;32m    121\u001b[0m \u001b[38;5;28;01mfor\u001b[39;00m i \u001b[38;5;129;01min\u001b[39;00m \u001b[38;5;28mrange\u001b[39m(\u001b[38;5;28mlen\u001b[39m(preds)):\n\u001b[1;32m    122\u001b[0m     pcd_id \u001b[38;5;241m=\u001b[39m ids[i]\u001b[38;5;241m.\u001b[39mitem()\n\u001b[0;32m--> 123\u001b[0m     original_pred \u001b[38;5;241m=\u001b[39m \u001b[43mundo_normalisation\u001b[49m\u001b[43m(\u001b[49m\u001b[43mpcd_id\u001b[49m\u001b[43m,\u001b[49m\u001b[43m \u001b[49m\u001b[43mcat\u001b[49m\u001b[43m,\u001b[49m\u001b[43m \u001b[49m\u001b[43mpreds\u001b[49m\u001b[43m[\u001b[49m\u001b[43mi\u001b[49m\u001b[43m]\u001b[49m\u001b[43m,\u001b[49m\u001b[43m \u001b[49m\u001b[43mpath\u001b[49m\u001b[43m,\u001b[49m\u001b[43m \u001b[49m\u001b[43mext\u001b[49m\u001b[43m,\u001b[49m\u001b[43m \u001b[49m\u001b[43mscale_up\u001b[49m\u001b[38;5;241;43m=\u001b[39;49m\u001b[43mifc\u001b[49m\u001b[43m)\u001b[49m\n\u001b[1;32m    125\u001b[0m     \u001b[38;5;66;03m# tees require an additional level of normalisation since the dataset was \u001b[39;00m\n\u001b[1;32m    126\u001b[0m     \u001b[38;5;66;03m# resampled to avoid issues with capped ends\u001b[39;00m\n\u001b[1;32m    127\u001b[0m     \u001b[38;5;28;01mif\u001b[39;00m cat \u001b[38;5;241m==\u001b[39m \u001b[38;5;124m'\u001b[39m\u001b[38;5;124mtee\u001b[39m\u001b[38;5;124m'\u001b[39m:\n",
      "File \u001b[0;32m~/documents/industrial-facility-relationships/src/utils.py:87\u001b[0m, in \u001b[0;36mundo_normalisation\u001b[0;34m(pcd_id, cat, preds, path, ext, scale_up)\u001b[0m\n\u001b[1;32m     85\u001b[0m norm_pcd_temp \u001b[38;5;241m=\u001b[39m np\u001b[38;5;241m.\u001b[39mmean(pcd_temp, axis\u001b[38;5;241m=\u001b[39m\u001b[38;5;241m0\u001b[39m)\n\u001b[1;32m     86\u001b[0m pcd_temp \u001b[38;5;241m-\u001b[39m\u001b[38;5;241m=\u001b[39m norm_pcd_temp\n\u001b[0;32m---> 87\u001b[0m norm_factor \u001b[38;5;241m=\u001b[39m \u001b[43mnp\u001b[49m\u001b[38;5;241;43m.\u001b[39;49m\u001b[43mmax\u001b[49m\u001b[43m(\u001b[49m\u001b[43mnp\u001b[49m\u001b[38;5;241;43m.\u001b[39;49m\u001b[43mlinalg\u001b[49m\u001b[38;5;241;43m.\u001b[39;49m\u001b[43mnorm\u001b[49m\u001b[43m(\u001b[49m\u001b[43m(\u001b[49m\u001b[43mpcd_temp\u001b[49m\u001b[43m)\u001b[49m\u001b[43m,\u001b[49m\u001b[43m \u001b[49m\u001b[43maxis\u001b[49m\u001b[38;5;241;43m=\u001b[39;49m\u001b[38;5;241;43m1\u001b[39;49m\u001b[43m)\u001b[49m\u001b[43m)\u001b[49m\n\u001b[1;32m     89\u001b[0m \u001b[38;5;66;03m# scale and translate predictions\u001b[39;00m\n\u001b[1;32m     90\u001b[0m up \u001b[38;5;241m=\u001b[39m \u001b[38;5;241m1\u001b[39m \u001b[38;5;28;01mif\u001b[39;00m scale_up \u001b[38;5;28;01melse\u001b[39;00m \u001b[38;5;241m2\u001b[39m\n",
      "File \u001b[0;32m<__array_function__ internals>:180\u001b[0m, in \u001b[0;36mamax\u001b[0;34m(*args, **kwargs)\u001b[0m\n",
      "File \u001b[0;32m~/miniconda3/envs/cdbb/lib/python3.9/site-packages/numpy/core/fromnumeric.py:2791\u001b[0m, in \u001b[0;36mamax\u001b[0;34m(a, axis, out, keepdims, initial, where)\u001b[0m\n\u001b[1;32m   2675\u001b[0m \u001b[38;5;129m@array_function_dispatch\u001b[39m(_amax_dispatcher)\n\u001b[1;32m   2676\u001b[0m \u001b[38;5;28;01mdef\u001b[39;00m \u001b[38;5;21mamax\u001b[39m(a, axis\u001b[38;5;241m=\u001b[39m\u001b[38;5;28;01mNone\u001b[39;00m, out\u001b[38;5;241m=\u001b[39m\u001b[38;5;28;01mNone\u001b[39;00m, keepdims\u001b[38;5;241m=\u001b[39mnp\u001b[38;5;241m.\u001b[39m_NoValue, initial\u001b[38;5;241m=\u001b[39mnp\u001b[38;5;241m.\u001b[39m_NoValue,\n\u001b[1;32m   2677\u001b[0m          where\u001b[38;5;241m=\u001b[39mnp\u001b[38;5;241m.\u001b[39m_NoValue):\n\u001b[1;32m   2678\u001b[0m     \u001b[38;5;124;03m\"\"\"\u001b[39;00m\n\u001b[1;32m   2679\u001b[0m \u001b[38;5;124;03m    Return the maximum of an array or maximum along an axis.\u001b[39;00m\n\u001b[1;32m   2680\u001b[0m \n\u001b[0;32m   (...)\u001b[0m\n\u001b[1;32m   2789\u001b[0m \u001b[38;5;124;03m    5\u001b[39;00m\n\u001b[1;32m   2790\u001b[0m \u001b[38;5;124;03m    \"\"\"\u001b[39;00m\n\u001b[0;32m-> 2791\u001b[0m     \u001b[38;5;28;01mreturn\u001b[39;00m \u001b[43m_wrapreduction\u001b[49m\u001b[43m(\u001b[49m\u001b[43ma\u001b[49m\u001b[43m,\u001b[49m\u001b[43m \u001b[49m\u001b[43mnp\u001b[49m\u001b[38;5;241;43m.\u001b[39;49m\u001b[43mmaximum\u001b[49m\u001b[43m,\u001b[49m\u001b[43m \u001b[49m\u001b[38;5;124;43m'\u001b[39;49m\u001b[38;5;124;43mmax\u001b[39;49m\u001b[38;5;124;43m'\u001b[39;49m\u001b[43m,\u001b[49m\u001b[43m \u001b[49m\u001b[43maxis\u001b[49m\u001b[43m,\u001b[49m\u001b[43m \u001b[49m\u001b[38;5;28;43;01mNone\u001b[39;49;00m\u001b[43m,\u001b[49m\u001b[43m \u001b[49m\u001b[43mout\u001b[49m\u001b[43m,\u001b[49m\n\u001b[1;32m   2792\u001b[0m \u001b[43m                          \u001b[49m\u001b[43mkeepdims\u001b[49m\u001b[38;5;241;43m=\u001b[39;49m\u001b[43mkeepdims\u001b[49m\u001b[43m,\u001b[49m\u001b[43m \u001b[49m\u001b[43minitial\u001b[49m\u001b[38;5;241;43m=\u001b[39;49m\u001b[43minitial\u001b[49m\u001b[43m,\u001b[49m\u001b[43m \u001b[49m\u001b[43mwhere\u001b[49m\u001b[38;5;241;43m=\u001b[39;49m\u001b[43mwhere\u001b[49m\u001b[43m)\u001b[49m\n",
      "File \u001b[0;32m~/miniconda3/envs/cdbb/lib/python3.9/site-packages/numpy/core/fromnumeric.py:86\u001b[0m, in \u001b[0;36m_wrapreduction\u001b[0;34m(obj, ufunc, method, axis, dtype, out, **kwargs)\u001b[0m\n\u001b[1;32m     83\u001b[0m         \u001b[38;5;28;01melse\u001b[39;00m:\n\u001b[1;32m     84\u001b[0m             \u001b[38;5;28;01mreturn\u001b[39;00m reduction(axis\u001b[38;5;241m=\u001b[39maxis, out\u001b[38;5;241m=\u001b[39mout, \u001b[38;5;241m*\u001b[39m\u001b[38;5;241m*\u001b[39mpasskwargs)\n\u001b[0;32m---> 86\u001b[0m \u001b[38;5;28;01mreturn\u001b[39;00m \u001b[43mufunc\u001b[49m\u001b[38;5;241;43m.\u001b[39;49m\u001b[43mreduce\u001b[49m\u001b[43m(\u001b[49m\u001b[43mobj\u001b[49m\u001b[43m,\u001b[49m\u001b[43m \u001b[49m\u001b[43maxis\u001b[49m\u001b[43m,\u001b[49m\u001b[43m \u001b[49m\u001b[43mdtype\u001b[49m\u001b[43m,\u001b[49m\u001b[43m \u001b[49m\u001b[43mout\u001b[49m\u001b[43m,\u001b[49m\u001b[43m \u001b[49m\u001b[38;5;241;43m*\u001b[39;49m\u001b[38;5;241;43m*\u001b[39;49m\u001b[43mpasskwargs\u001b[49m\u001b[43m)\u001b[49m\n",
      "\u001b[0;31mValueError\u001b[0m: zero-size array to reduction operation maximum which has no identity"
     ]
    }
   ],
   "source": [
    "batch_visualise(model_path, blueprint, path, ext, device, ifc=False)"
   ]
  },
  {
   "cell_type": "code",
   "execution_count": null,
   "metadata": {},
   "outputs": [],
   "source": [
    "#merge_clouds(path, 'pipe')"
   ]
  },
  {
   "cell_type": "markdown",
   "metadata": {},
   "source": [
    "### Misc"
   ]
  },
  {
   "cell_type": "code",
   "execution_count": null,
   "metadata": {},
   "outputs": [],
   "source": [
    "# PCA\n",
    "#testset_PCA(cloud_list, inputs_list, testDataLoader, cat)"
   ]
  },
  {
   "cell_type": "code",
   "execution_count": null,
   "metadata": {},
   "outputs": [],
   "source": [
    "print(torch. __version__)"
   ]
  },
  {
   "cell_type": "code",
   "execution_count": null,
   "metadata": {
    "scrolled": true
   },
   "outputs": [],
   "source": [
    "# preds = inputs_list[:512]\n",
    "# #preds = scale_preds(preds, cat, up=0)\n",
    "# pcd = cloud_list[1].transpose(1, 0)\n",
    "# print(preds)\n",
    "\n",
    "# preds_tensor = torch.tensor(np.array(preds)).cuda().float()\n",
    "# gen_cloud = generate_tee_cloud_tensor(preds_tensor)\n",
    "# print(gen_cloud.shape)\n",
    "# #gen_cloud = generate_pipe_cloud(preds)\n",
    "\n",
    "# points = gen_cloud.detach().cpu().numpy()\n",
    "# #points = np.array(gen_cloud)\n",
    "# cloud = o3d.geometry.PointCloud()\n",
    "# print(type(points), points.shape)\n",
    "# cloud.points = o3d.utility.Vector3dVector(points[0])\n",
    "# #cloud.points = o3d.utility.Vector3dVector(points)\n",
    "# o3d.io.write_point_cloud(\"pipe_gen.pcd\", cloud)\n",
    "\n",
    "# cloud.points = o3d.utility.Vector3dVector(pcd)\n",
    "# o3d.io.write_point_cloud(\"pipe_input.pcd\", cloud)"
   ]
  },
  {
   "cell_type": "code",
   "execution_count": null,
   "metadata": {},
   "outputs": [],
   "source": [
    "# chamfer loss\n",
    "#v, loss = chamfer_fine_tune(50, 0.0001, predictions_list[0], cloud_list[0], cat, blueprint)"
   ]
  },
  {
   "cell_type": "code",
   "execution_count": 10,
   "metadata": {
    "scrolled": true
   },
   "outputs": [
    {
     "name": "stderr",
     "output_type": "stream",
     "text": [
      "/home/haritha/documents/industrial-facility-relationships/src/finetune.py:55: UserWarning: Creating a tensor from a list of numpy.ndarrays is extremely slow. Please consider converting the list to a single numpy.ndarray with numpy.array() before converting to a tensor. (Triggered internally at ../torch/csrc/utils/tensor_new.cpp:230.)\n",
      "  preds_t = torch.tensor(preds, requires_grad=True, device=cuda)\n"
     ]
    },
    {
     "name": "stdout",
     "output_type": "stream",
     "text": [
      "intial loss tensor([ 72.7457, 285.3601,  91.1770, 229.5777,  26.7113,  54.5800,  72.9304,\n",
      "        229.7910, 261.9828, 219.5352,  47.5388, 178.9522,  54.6421,  64.9285,\n",
      "         40.4096,  27.9463,  60.7795,  33.5723,  32.7785, 166.6932,  45.6096,\n",
      "         48.8996, 193.3366,  48.8056, 369.1729, 153.0797, 101.0171, 152.3039,\n",
      "         50.2219,  29.4532,  48.8366, 206.5753,  42.9186, 210.0446, 344.2191,\n",
      "         78.4833,  53.2858, 184.7378,  49.0704,  27.7535, 211.6326, 140.3829,\n",
      "         77.6469, 135.4090,  69.8411, 183.0575, 345.2131, 327.9049,  77.4715,\n",
      "        211.2093, 288.6176, 222.7681, 126.3871, 172.8012,  65.1585, 146.1870,\n",
      "         58.8506, 328.9963,  19.5966,  34.1905,  46.5577,  73.9320, 153.6878,\n",
      "         25.4832, 114.6561, 283.5219, 233.3473, 116.6568, 155.5612,  46.2783,\n",
      "         28.1922,  26.1088, 177.3545,  72.1232,  62.6319,  30.8497, 156.9270,\n",
      "        118.9725,  52.0671, 217.9892,  58.2799,  61.9297, 284.7921, 274.5149,\n",
      "        217.3253,  39.1457, 161.6779,  50.7496, 166.9256, 232.9464, 161.1482,\n",
      "        267.7322,  42.5796, 196.5864,  67.6933, 233.8597, 162.8388, 163.5824,\n",
      "        187.8826,  29.1124,  92.1624,  80.4277, 257.9752, 147.1240,  35.4585,\n",
      "         51.2234,  57.9379,  31.9256,  31.6919,  17.7343,  38.0101, 264.4368,\n",
      "        164.6005,  49.8117,  40.4787, 119.0439, 192.0202,  33.7855,  45.6424,\n",
      "        190.0620, 102.7969, 146.3381, 159.3375,  32.0379,  50.4717,  35.9705,\n",
      "         40.5331,  95.3082, 154.9214,  33.8645, 237.4052,  30.9504, 117.2727,\n",
      "        148.2945,  36.7739,  52.1709,  62.7717,  67.1563, 259.0023, 157.5455,\n",
      "         64.1670, 154.0735,  84.6171, 214.3699,  43.9760, 139.2027, 202.6263,\n",
      "        105.2926, 267.1418, 127.2484, 189.9579, 275.6121, 167.7229,  65.0749,\n",
      "         30.9147,  76.1844,  83.5123, 174.2408, 100.1409, 199.0242, 176.0294,\n",
      "        233.0819,  57.3631, 251.2078, 171.1563,  30.0869, 257.9802,  61.2903,\n",
      "        161.3895,  23.2388,  71.9415, 282.0074,  91.7869,  42.4336,  30.9112,\n",
      "         31.0374, 173.2276, 185.1248,  96.1535, 125.9385, 111.2674,  69.7608,\n",
      "        203.8688, 278.4572, 184.6423,  84.3859,  53.9268,  82.9608,  92.1833,\n",
      "         49.2797,  70.1198,  50.1688,  21.8799, 208.1521,  78.7608, 219.8142,\n",
      "        116.8874,  36.5848, 279.1094,  51.6644, 176.5398, 253.9786,  32.3776,\n",
      "         19.5165,  73.6091, 144.5122, 279.7453,  43.5872,  50.2890, 203.4623,\n",
      "         46.1807,  62.3313,  53.3683,  78.7925,  79.2731,  50.8999,  64.8556,\n",
      "         77.2167, 116.0893, 189.9489,  36.3519,  53.9391, 263.7279, 149.0059,\n",
      "        125.5793,  21.7059, 138.7541, 177.8470, 367.3372,  46.5202, 144.5665,\n",
      "         67.8373, 249.5696,  39.0380,  39.3278,  52.0738,  29.8592, 121.3887,\n",
      "        116.0865, 129.3205, 168.6339,  84.3875, 110.4586, 120.4486,  39.0766,\n",
      "        279.8553,  73.5265,  72.6763,  78.1521, 108.5967, 172.9063, 224.9533,\n",
      "        283.0785, 129.5030,  61.7314, 361.5283, 194.5404,  70.9962,  69.8459,\n",
      "        110.4504,  54.1032,  58.8878, 142.3159, 100.1328,  40.3073,  60.5917,\n",
      "         85.2429, 131.5225,  33.2241, 204.3816,  33.9227,  48.2097,  65.2426,\n",
      "         62.7238, 210.6857, 140.2014,  96.3632, 112.5702, 119.9875, 134.0256,\n",
      "         67.8899, 409.0042, 298.9172,  59.8588, 137.4232, 202.7551, 187.1111,\n",
      "         55.3457, 223.8649,  60.7619, 218.6387, 196.7911,  43.2399,  46.7512,\n",
      "         72.0447,  48.4578, 310.9679,  37.1495,  79.2394, 158.7587,  89.5885,\n",
      "         41.5396,  52.0714, 169.7021,  41.3648, 183.2890,  21.7309,  79.1849,\n",
      "         93.3969,  48.5510,  32.5845, 115.5983,  45.0791, 191.9191, 254.4941,\n",
      "         19.5029,  65.6741,  35.4556, 178.7782,  60.0243,  53.3194, 107.5982,\n",
      "        169.9666, 331.1497,  74.4445, 364.7580,  21.1814,  58.2141, 123.5437,\n",
      "        205.3141, 177.6613,  54.5506,  54.0525,  36.4968, 294.4819, 122.6395,\n",
      "         52.3447, 153.0979, 155.3784,  40.1052, 261.2488, 332.7662,  62.2199,\n",
      "        163.3600,  29.3756,  79.7738,  51.1847, 316.4523,  89.2232, 112.8284,\n",
      "        276.1105, 161.3113, 165.3518,  60.7190, 161.8241,  80.9201,  67.1524,\n",
      "        204.1919,  35.6075, 207.4189, 133.9301,  29.8891, 126.9436,  42.7445,\n",
      "        412.1353,  41.2921, 138.6683,  93.5166,  50.8660, 108.6541,  38.7536,\n",
      "         43.0676, 375.3976, 148.7231,  32.9599,  31.7108, 174.5918, 287.4901,\n",
      "        154.4114, 364.0380, 214.7610,  22.1887, 275.5257, 194.1025,  75.2504,\n",
      "        307.1327, 254.3711,  37.1340,  46.3555, 205.6760,  49.8389,  28.4775,\n",
      "        142.1788, 101.3853, 166.8463,  86.0238,  47.6782, 201.5068,  34.8926,\n",
      "         67.6822, 180.1838, 228.5151,  56.5472, 130.3511,  48.3124, 176.8760,\n",
      "         58.8159,  49.9412, 309.2803,  91.8449, 239.8467, 153.4226,  62.9026,\n",
      "        175.0028, 371.8718,  98.9427,  84.4016, 323.7361,  22.9777, 119.8110,\n",
      "        172.9224,  19.0354,  36.8707, 263.2990,  23.5069, 276.1286, 127.3293,\n",
      "         62.6365,  30.8960, 277.1109,  94.0966,  46.4493, 251.2218, 203.7833,\n",
      "         77.7581,  51.0922,  43.3702, 362.6746, 212.1525, 147.5870,  63.5554,\n",
      "        199.2722, 264.0840,  19.1317,  55.6359,  70.8710,  90.6030,  39.1748,\n",
      "         38.5760, 263.8339,  29.3368,  76.6112, 241.7098, 259.1875,  69.2822,\n",
      "         69.4500, 149.8473, 160.7860,  48.9038, 135.2008,  27.6434, 236.1228,\n",
      "         91.4300, 163.0972, 185.9174, 354.8972, 301.1591,  95.0616, 108.4567,\n",
      "         95.3445,  26.3411, 164.4617,  48.4975, 120.9196, 133.8972,  63.1583,\n",
      "        323.6492,  38.0989,  88.7675,  41.2252, 199.7582,  42.7449,  27.1847,\n",
      "        116.1711,  69.7537,  50.7085, 216.0899,  44.2919,  92.5189, 170.6112,\n",
      "         37.3751,  44.5860,  75.9826,  57.8823,  52.8623,  62.2452,  54.0080,\n",
      "        181.6929,  49.5330,  60.7105, 239.4312,  69.4373, 200.2751, 119.2153,\n",
      "         30.8533,  46.1660,  42.7148, 215.0511,  65.9852,  54.6664, 222.1023,\n",
      "         55.4718,  53.3703, 244.3013, 245.7412,  33.3131, 115.0315, 211.8808,\n",
      "         56.8009,  49.7376, 197.4849,  51.3333,  27.4206,  81.5163, 187.4691,\n",
      "        169.9563,  96.2171,  60.9312,  44.5872,  38.2901,  73.7234,  37.3097,\n",
      "        152.9341, 217.8535, 214.9991, 167.3745,  69.2872,  94.4181,  34.3286,\n",
      "         97.5866, 113.2835, 158.5384,  37.7091,  46.0942,  58.6487, 164.6385,\n",
      "         35.1012,  95.6652,  32.1618,  58.4701, 101.3661, 127.4240,  32.3954,\n",
      "         59.5927,  29.7133, 238.5762, 130.0349, 263.3791,  49.5191,  98.5166,\n",
      "         59.6742,  54.0753,  53.5214,  64.7976, 262.8559, 164.7645, 240.4468,\n",
      "        207.5837,  95.1001,  53.3296, 105.6310, 164.5925,  83.2742,  98.1457,\n",
      "        191.4269, 339.4708,  59.9697, 151.6003,  54.7081, 152.9462,  63.8750,\n",
      "        156.4791, 141.1766,  35.4508, 164.0420, 134.7510, 152.0825,  48.4067,\n",
      "        262.2532,  51.8562,  86.4909,  93.0592,  32.9948, 196.1800,  53.5164,\n",
      "         51.4361,  40.8253,  56.0754,  71.8248, 202.0346, 170.7659,  59.8234,\n",
      "        123.9887,  82.2118,  42.2072,  33.0038,  18.5995,  50.6002, 170.9583,\n",
      "         48.8220,  98.3803,  99.5724,  76.2290, 152.5588,  87.4422,  40.5834,\n",
      "         57.9669,  41.4677, 171.6309, 372.8922,  56.6159, 158.6298,  22.2672,\n",
      "        251.2107,  26.2262,  38.2059, 171.4454,  45.2032,  45.2343,  26.1849,\n",
      "         96.6130, 165.8587, 219.1277, 213.4059,  30.4960, 143.3267,  62.2413,\n",
      "         58.0901, 344.6924, 189.5507, 100.7459,  63.8626,  99.0112,  43.5880,\n",
      "         84.9137,  27.7611,  49.4311, 137.5616,  64.8300,  59.2897,  61.0408,\n",
      "        105.3673,  90.5462,  28.9739, 284.6605,  52.0171,  45.7856,  49.2851,\n",
      "         57.4353, 474.8045,  30.3517,  34.4876,  60.4779, 180.7164, 117.9927,\n",
      "         59.2039, 107.0053, 195.5217, 221.9554, 184.1582, 150.8131,  22.8117,\n",
      "         96.7423, 205.2737, 119.3402,  46.9859,  65.9844, 122.1286, 163.7015,\n",
      "         56.6637, 142.3730,  75.6057,  34.7281, 155.7011,  54.4149, 229.9257,\n",
      "         38.0497, 128.9374, 107.0349, 272.2527, 130.8389,  54.4399, 175.1075,\n",
      "        212.9537,  52.6516,  63.9103, 180.7808,  57.4311,  23.9820,  33.5608,\n",
      "         52.9437,  22.7291, 117.0644,  26.4698,  99.6134,  35.0292, 338.3459,\n",
      "        212.8628, 134.3640,  78.8866, 251.6347,  92.9005, 254.9631, 148.3769,\n",
      "        150.7834,  63.0900, 175.4126,  45.5783,  64.2987, 196.7267, 174.4087,\n",
      "        160.0075, 224.8174,  58.3188,  78.0240,  24.4991,  70.5265,  43.6909,\n",
      "         43.1156, 182.7922, 135.7044,  82.0123,  53.6933,  33.9147, 140.5541,\n",
      "         68.2323,  72.6408,  43.6062,  47.5657,  85.6478,  61.2912,  47.1612,\n",
      "         99.4158,  34.6358, 293.7440, 128.8536, 151.7165,  51.4313,  29.2150,\n",
      "         72.4202, 104.4590,  37.6627,  77.6277, 251.1885, 322.1113,  59.2383,\n",
      "        113.2993, 126.7226,  89.0676, 200.5614,  75.4617,  99.0132, 181.8826,\n",
      "        397.5432,  47.1598,  26.3422,  52.6294, 218.2821, 283.3732, 126.6446,\n",
      "         54.5097, 192.1033,  95.6751, 221.6795, 151.8575, 177.7700, 197.2123,\n",
      "         52.7650, 149.2918,  92.7879, 168.7165,  44.8284, 108.8826, 131.3076,\n",
      "        165.4168, 183.9285,  40.0860, 155.5822,  58.5287,  38.5511, 248.6476,\n",
      "        243.6463, 288.8902,  72.0408,  84.0361,  53.6833, 188.1538, 164.0374,\n",
      "         64.4343,  68.9055,  76.2372,  64.9466, 179.9640,  41.9939, 104.5670,\n",
      "         45.3177,  96.4686, 239.1207, 135.6130,  44.2012,  86.5211,  79.9954,\n",
      "         43.0661,  93.8986,  31.8713,  50.5785,  58.4473,  94.5266, 241.1941,\n",
      "        328.8280, 301.0684, 124.3688,  62.8877,  81.4829, 198.3312,  33.3023,\n",
      "        231.3872,  66.0953,  85.8045,  65.3287, 213.7857,  46.1970,  31.6095,\n",
      "         56.9465,  71.7842, 257.2835,  34.5023,  82.4283, 216.7604,  65.2296,\n",
      "         73.2805,  49.6320, 101.9961, 202.0895, 250.5793, 100.2498, 206.0337,\n",
      "         64.1555,  77.8713, 133.0422,  32.5047,  39.0957, 110.7870, 230.5093,\n",
      "         91.8614,  22.9756,  64.0399,  37.9843, 238.7245, 170.6967,  29.9664,\n",
      "         52.3029,  63.8086, 127.7393, 196.3829, 252.2776,  72.6558,  59.5535,\n",
      "        213.7121,  92.7082,  60.0807,  27.0861,  97.9833], device='cuda:0',\n",
      "       grad_fn=<AddBackward0>)\n"
     ]
    },
    {
     "data": {
      "application/vnd.jupyter.widget-view+json": {
       "model_id": "e635ffb48ada4f309b1425b8b4ae95ef",
       "version_major": 2,
       "version_minor": 0
      },
      "text/plain": [
       "  0%|          | 0/100 [00:00<?, ?it/s]"
      ]
     },
     "metadata": {},
     "output_type": "display_data"
    },
    {
     "name": "stdout",
     "output_type": "stream",
     "text": [
      "0 loss 280.4175\n",
      "1 loss 250.20285\n",
      "2 loss 224.82056\n",
      "3 loss 203.34135\n",
      "4 loss 184.84064\n",
      "5 loss 168.76752\n",
      "6 loss 154.78462\n",
      "7 loss 142.60893\n",
      "8 loss 132.05493\n",
      "9 loss 122.857376\n",
      "10 loss 114.896164\n",
      "11 loss 108.05939\n",
      "12 loss 102.176926\n",
      "13 loss 97.13708\n",
      "14 loss 92.85265\n",
      "15 loss 89.236496\n",
      "16 loss 86.13509\n",
      "17 loss 83.45091\n",
      "18 loss 81.09401\n",
      "19 loss 79.028854\n",
      "20 loss 77.19163\n",
      "21 loss 75.51023\n",
      "22 loss 73.925934\n",
      "23 loss 72.40219\n",
      "24 loss 70.89303\n",
      "25 loss 69.380325\n",
      "26 loss 67.87675\n",
      "27 loss 66.400635\n",
      "28 loss 64.9159\n",
      "29 loss 63.439472\n",
      "30 loss 61.997314\n",
      "31 loss 60.570946\n",
      "32 loss 59.21238\n",
      "33 loss 57.882507\n",
      "34 loss 56.595455\n",
      "35 loss 55.39809\n",
      "36 loss 54.262234\n",
      "37 loss 53.17237\n",
      "38 loss 52.12706\n",
      "39 loss 51.168327\n",
      "40 loss 50.2687\n",
      "41 loss 49.451458\n",
      "42 loss 48.64978\n",
      "43 loss 47.860336\n",
      "44 loss 47.11779\n",
      "45 loss 46.448105\n",
      "46 loss 45.802803\n",
      "47 loss 45.186844\n",
      "48 loss 44.61208\n",
      "49 loss 44.053215\n",
      "50 loss 43.523422\n",
      "51 loss 43.053715\n",
      "52 loss 42.562588\n",
      "53 loss 42.110214\n",
      "54 loss 41.71486\n",
      "55 loss 41.32937\n",
      "56 loss 40.9305\n",
      "57 loss 40.57707\n",
      "58 loss 40.239624\n",
      "59 loss 39.92374\n",
      "60 loss 39.613487\n",
      "61 loss 39.324074\n",
      "62 loss 39.04063\n",
      "63 loss 38.786774\n",
      "64 loss 38.525085\n",
      "65 loss 38.286606\n",
      "66 loss 38.05991\n",
      "67 loss 37.845848\n",
      "68 loss 37.623726\n",
      "69 loss 37.42\n",
      "70 loss 37.224182\n",
      "71 loss 37.062134\n",
      "72 loss 36.883186\n",
      "73 loss 36.748966\n",
      "74 loss 36.584816\n",
      "75 loss 36.432648\n",
      "76 loss 36.282417\n",
      "77 loss 36.15075\n",
      "78 loss 36.021683\n",
      "79 loss 35.90255\n",
      "80 loss 35.78077\n",
      "81 loss 35.666286\n",
      "82 loss 35.565075\n",
      "83 loss 35.472927\n",
      "84 loss 35.38588\n",
      "85 loss 35.314964\n",
      "86 loss 35.234886\n",
      "87 loss 35.15582\n",
      "88 loss 35.08046\n",
      "89 loss 35.001003\n",
      "90 loss 34.925926\n",
      "91 loss 34.8748\n",
      "92 loss 34.80336\n",
      "93 loss 34.741127\n",
      "94 loss 34.678413\n",
      "95 loss 34.628067\n",
      "96 loss 34.59166\n",
      "97 loss 34.54853\n",
      "98 loss 34.50534\n",
      "99 loss 34.45492\n",
      "final loss tensor([ 25.8620,  32.7723,  13.8002,  29.3263,  20.6538,  25.3164,  33.0728,\n",
      "         25.3789,  20.4034,  17.6843,  26.2144,  17.1543,  21.7836,  29.7961,\n",
      "         15.6876,  15.9816,  40.8164,  22.7308,  22.4699,  31.4055,  34.6303,\n",
      "         17.5387,  23.0965,  25.4787,  36.1657,  18.0049,  16.9899,  18.6105,\n",
      "         17.3760,  21.1655,  25.4114,  40.6061,  19.9866,  14.6047,  29.6748,\n",
      "         37.0070,  31.3095,  34.7068,  24.5462,  16.7220,  25.2179,  14.0823,\n",
      "         22.3406,  27.0984,  47.1731,  31.3051,  45.3290,  24.6842,  23.5066,\n",
      "         34.9703,  21.5458,  20.1696,  32.3805,  21.9319,  39.3344,  34.8984,\n",
      "         15.2329,  25.8454,  16.4029,  14.8031,  20.4246,  37.5013,  44.9657,\n",
      "         18.0102,  26.4918,  38.7288,  50.4560,  21.3806,  48.1780,  16.0778,\n",
      "         21.9776,  15.1139,  36.9319,  24.1584,  35.5135,  17.9999,  17.8488,\n",
      "         25.8812,  21.3549,  21.8808,  38.9005,  20.5098,  23.1039,  18.8454,\n",
      "         20.6863,  20.0172,  34.4541,  23.7176,  19.2445,  26.4005,  24.5939,\n",
      "         20.7613,  26.1874,  22.3615,  33.3670,  16.3577,  14.4836,  26.9259,\n",
      "         27.2221,  14.1818,  24.2270,  27.8764,  40.1258,  43.4068,  19.7959,\n",
      "         22.3066,  23.0273,  23.2577,  15.3855,  10.4303,  15.3492,  21.8195,\n",
      "         66.1983,  32.3775,  20.9666,  16.1594,  49.9384,  19.4535,  16.3705,\n",
      "         27.8928,  23.7253,  16.7971,  17.2452,   8.7277,  12.6835,  10.3135,\n",
      "         23.3052,  20.0571,  23.7239,  22.4619,  18.6419,  15.9775,  15.5925,\n",
      "         66.7632,  16.0196,  23.8172,  15.1140,  16.0102,  29.5113,  28.8224,\n",
      "         28.9605,  20.5560,  20.8510,  26.5595,  17.1996,  21.7125,  21.2508,\n",
      "         29.2686,  26.8235,  19.5399,  20.5886,  38.3504,  17.4453,  23.8007,\n",
      "         16.2312,  15.8823,  67.4485,  16.6484,  21.0685,  32.2742,  31.3760,\n",
      "         20.9149,  26.8541,  15.5447,  43.9357,  18.0938,  27.4876,  22.5111,\n",
      "         30.3086,  14.6018,  12.2137,  26.4144,  10.4433,  23.8373,  17.5795,\n",
      "         16.4739,  44.1627,  37.9477,  68.8816,  27.5120,  20.2129,  10.6951,\n",
      "         17.4567, 102.4892,  21.5219,  22.4628,  28.1586,  18.7599,  20.5409,\n",
      "         30.5187,  21.8661,  25.8694,  16.2675,  15.7646,  11.0364,  41.9575,\n",
      "         34.4713,  20.8716,  31.2387,  25.4629,  27.8459,  27.0648,  21.6284,\n",
      "         15.4623,  14.9229,  22.6558,  57.4672,  21.3945,  24.2806,  22.4067,\n",
      "         24.6030,  15.4601,  24.3085,  23.7866,  37.8696,  19.7816,  17.2840,\n",
      "         18.1149,  36.8036,  18.4420,  25.0645,  18.7572,  29.9715,  31.4000,\n",
      "         16.1046,  15.3641,  28.9500,  20.6799,  96.6655,  23.5125,  25.9839,\n",
      "         39.5422,  21.0159,  19.2459,  26.7141,  31.4314,  17.9470,  31.4558,\n",
      "         29.9380,  28.4639,  19.6524,  23.3828,  33.9569,  22.8121,  24.3105,\n",
      "         32.2510,  18.2337,  30.7077,  21.0563,  15.9098,   9.9073,  20.7327,\n",
      "         25.3049,  27.1192,  22.0897,  23.4654,  33.8795,  22.0801,  25.8969,\n",
      "         33.4578,  29.1813,  34.6745,  23.4151,  15.6796,  26.2931,  29.9092,\n",
      "         25.0489,  18.1792,  23.3286,  31.4470,  26.0144,  25.4318,  22.8615,\n",
      "         16.9007,  13.4839,  23.3277,  12.0400,  14.0049,  26.9556,  17.9749,\n",
      "         47.6030,  97.6466,  18.5584,  36.6651,  25.0944,  33.1830,  47.9460,\n",
      "         22.3130,  17.2102,  30.0281,  32.8206,  54.7778,  24.7363,  26.1339,\n",
      "         24.2546,  23.4219,  30.3572,  19.8019,  34.0561,  21.4282,  28.6156,\n",
      "         24.3362,  23.2577,  20.3874,  11.6436,  21.0375,  15.9398,  23.6119,\n",
      "         15.3460,  21.8011,  19.3203,  13.2131,  25.2914,  22.7513,  54.6989,\n",
      "         14.5206,  24.9850,  17.7751,  20.5518,  33.3575,  32.9644,  22.2672,\n",
      "         43.1205,  21.9917,  29.1306,  22.8667,  15.3906,  31.7514,  24.3342,\n",
      "         16.8331,  26.3767,  13.6494,  13.7873,  23.0958,  35.2512,  18.0415,\n",
      "         28.7467,  16.8373,  43.1336,  20.7049,  24.7859,  48.8969,  29.4933,\n",
      "         43.2199,  17.7570,  23.3506,  41.2073,  73.8381,  36.2132,  20.2503,\n",
      "         41.0105,  29.1275,  14.8565,  25.9391,  20.2842,  41.6118,  28.7340,\n",
      "         22.9361,  21.5129,  30.9076,  31.1976,  19.9139,  19.8930,  13.4084,\n",
      "         35.7407,  26.1055,  15.0383,  25.3462,  21.3261,  22.1506,  27.2619,\n",
      "         20.2098,  91.5712,  39.3947,  19.4980,  23.6193,  31.6225,  45.5038,\n",
      "         29.0247,  12.5547,  29.3602,  17.4476,  40.7674,  20.5971,  32.8621,\n",
      "         26.4407,  37.9365,  23.3321,  28.4253,  21.4459,  12.0526,  22.0202,\n",
      "         21.7710,  23.0813,  28.8886,  30.9223,  22.8716,  24.3264,  23.1362,\n",
      "         44.8612,  37.7938,  68.2282,  19.5728,  26.6338,  22.7576,  23.0497,\n",
      "         21.7501,  22.2944,  31.3284,  32.2882,  55.0453,  22.7080,  20.3361,\n",
      "         22.9955,  32.5423,  33.3962,  16.1089,  81.2334,  16.4623,  25.8655,\n",
      "         66.7224,  12.4650,  22.1642, 103.6932,   9.4538,  22.1735,  21.5043,\n",
      "         17.5767,  20.7047,  16.8152,  40.9973,   5.7888,  19.4838,  17.4700,\n",
      "         17.7878,  22.8797,  17.4487,  33.5792,  26.7118,  16.3803,  39.7634,\n",
      "         13.3429,  29.6930,  11.4165,  24.9703,  24.6203,  30.9432,  20.1888,\n",
      "         24.3498, 106.9057,  13.9870,  15.2969,  35.0988,  28.0712,  20.7280,\n",
      "         31.2077,  16.2048,  33.3256,  26.5368,  42.5591,  19.0981,  44.4450,\n",
      "         41.1655,  17.0094,  19.2872,  33.0399,  25.2195,  12.1276,  15.4148,\n",
      "         25.0717,  15.4015,  37.7105,  37.0397,  20.5315,  19.7567,  33.7210,\n",
      "         53.4998,  16.6519,  18.3219,  27.8599,  45.0034,  26.7766,  16.4628,\n",
      "         17.9853,  26.8438,  30.6322,  28.9841,  25.7184,  24.3854,  20.3071,\n",
      "         17.4173,  16.6064,  19.3366,  19.0146,  18.2576,  20.3050,  14.7691,\n",
      "         57.5209,  24.4467,  23.8916,  13.7232,  30.7479,  43.6511,  31.8489,\n",
      "         17.8106,  33.3603,  17.6411,  20.9578,  23.5708,  40.1388,  29.3383,\n",
      "         32.6458,  27.8284,  26.4993,  27.4849,  15.9940,  31.3911,  23.8666,\n",
      "         20.3951,  42.0421,  24.4682,  21.3841,  18.3475,  17.1335,  26.3407,\n",
      "         26.8562,  30.2157,  40.1022,  27.2910,  28.1122,  34.7427,  15.8836,\n",
      "         19.4894,  17.3394,  36.0858,  21.9412,  18.6402,  24.4426,  22.5434,\n",
      "         16.6941,  22.5121,  25.0505,  21.6248,  16.7270,  14.2606,  24.4591,\n",
      "         24.6127,  23.2994,  15.4482,  38.0863,  29.0811,  22.0958,  20.6099,\n",
      "         23.7418,  23.9426,  16.5635,  24.9709,  18.3300,  17.2852,  21.2787,\n",
      "         40.9397,  30.6867,  16.7568,  29.6648,  74.6444,  19.1911,  21.4744,\n",
      "         20.6532,  17.1434,  17.4248,  14.4581,  82.2005,  18.6340,  15.9210,\n",
      "         60.5930,  29.8850,  28.6191,  73.1110,  29.6689,  24.5118,  24.4928,\n",
      "         12.2469,  19.5705,  26.3794,  52.6627,  28.3075,  19.7799,  13.1772,\n",
      "         32.6935,  35.1932,  21.9566,  17.7787,  24.3048,  35.5399,  19.0162,\n",
      "         22.3396,  17.7822,  15.9663,  10.3593,  71.5861,  23.7007,  30.5517,\n",
      "         15.7574,  14.9968,  26.0181,  26.8423,  15.6410,  26.7982,  20.1252,\n",
      "         32.7224,  24.4699,  14.4416,  30.3285,  43.6769,  33.3120,  24.6357,\n",
      "         31.9934,  16.5641,  27.4215,  18.8558,  31.1797,  36.1598,  14.6058,\n",
      "         55.6078,  10.2869,  23.2523,  20.7970,  26.6281,  16.1790,  18.1741,\n",
      "         50.3997,  22.6931,  20.5917,  61.1165,  18.5353,  14.2865,  20.1327,\n",
      "         21.4255,  36.5231,  28.9527,  26.7013,   9.0637,  14.9595,  25.0317,\n",
      "         20.1314,  19.1493,  22.4927,  15.6044,  32.4735,  21.4096,   8.6228,\n",
      "         50.9696,  29.4740,  15.2880,  37.2688,  18.3976,  19.5307,  17.4468,\n",
      "         31.5193,  29.9660,  21.7643,  21.5046,  28.7472,  20.3075,  33.9080,\n",
      "         21.0287,  32.2652,  16.1624,  33.2286,  26.4239,  19.8339,  16.2956,\n",
      "         34.6542,  17.5758,  22.0942,  15.0072,  30.2914,  22.1456,  27.4812,\n",
      "         27.2034,  29.1703,   9.1265,  17.8166,  15.6914,  28.3847,  33.3947,\n",
      "         24.1160,  11.6497,  21.0587,  34.2460,  25.6689,  23.6455,  29.4973,\n",
      "         32.6538,  20.7540,  25.4585,  16.5451,  38.1179,  15.0727,  22.7003,\n",
      "         18.0089,  15.5238,  14.9955,  14.1987,  28.3937,  18.8500,  35.1014,\n",
      "         52.1683,  26.9566,  26.6095,  77.7846,  18.0673,  88.0681,  26.1308,\n",
      "         45.7740,  42.1052,  54.4337,  20.6546,  20.7577,  16.8850,  28.6420,\n",
      "         17.4964,  29.3715,  44.5411,  29.2737,  16.6308,  36.7406,  24.6257,\n",
      "         29.7905,  48.3222,  11.4021,  23.8888,  38.7854,  14.4632,  36.5617,\n",
      "         16.6092,  17.9918,  20.8571,  17.7950,  15.8421,  37.8319,  15.7223,\n",
      "         26.5932,  23.0688,  74.4111,  15.5485,  65.7234,  32.9231,  19.5176,\n",
      "         42.9538,  24.0835,  23.2347,  25.4612,  31.8554,  38.3766,  30.0437,\n",
      "         22.7352,  28.0114,  25.2886,  38.0112,  39.0070,  24.4247,  14.7257,\n",
      "         31.9781,  18.3737,  18.5655,  19.8762,  46.8052,  39.7634,  14.3752,\n",
      "         19.7253,  18.3486,  16.3240,  56.2331,  29.2627,  24.7183,  31.5933,\n",
      "         29.8813,  13.5564,  17.3183,  28.3976,  16.3260,  17.5875,  28.8261,\n",
      "         14.7982,  30.4823,  21.3879,  39.5094,  27.9304,  17.2212,  21.6603,\n",
      "         30.9897,  38.9787,  22.6107,  63.5517,  21.3496,  33.9539,  11.8299,\n",
      "         41.2477,  22.5876,  43.4355,  17.9163,  17.4156,  18.4312,  31.4271,\n",
      "         23.9265,  47.2665,  23.3921,  15.4314,  24.3245,  10.3579,  36.5511,\n",
      "         10.9568,  67.0901,   6.4844,  20.5144,  20.4252,  32.8642,  34.4832,\n",
      "         18.5053,  80.8222,  15.6707,  34.8100,  21.8608,  13.9855,  18.0862,\n",
      "         23.6205,  39.3057,  27.5564,  24.5156,  17.0663,  17.9162,  15.9456,\n",
      "         21.6949,  28.0009,  26.6672,  24.4228,  22.0362,  25.1366,  25.7006,\n",
      "         31.8454,  20.8494,  20.0411,  37.8633,  22.7263,  30.0022,  18.4045,\n",
      "         23.9059,  30.8611,  15.2566,  17.7907,  16.4400,  28.1784,  24.5881,\n",
      "         12.5874,  15.5294,  27.8832,  23.1009,  48.8584,  25.4307,  20.3541,\n",
      "         29.5358,  19.6304,  21.7689,  34.0756,  23.3349,  17.3566,  20.7801,\n",
      "         15.6401,  21.4672,  27.0248,  19.3153,  19.0316], device='cuda:0',\n",
      "       grad_fn=<AddBackward0>)\n"
     ]
    }
   ],
   "source": [
    "#imit = 50\n",
    "limit = len(predictions_list)\n",
    "\n",
    "#v, modified_preds = chamfer_fine_tune(100, 0.01, predictions_list[:limit], cloud_list[:limit], cat, blueprint, alpha=3, visualise=True)\n",
    "modified_preds = chamfer_fine_tune(100, 0.01, predictions_list[:limit], cloud_list[:limit], cat, blueprint, alpha=3, visualise=False)\n"
   ]
  },
  {
   "cell_type": "code",
   "execution_count": 10,
   "metadata": {
    "scrolled": true
   },
   "outputs": [
    {
     "name": "stderr",
     "output_type": "stream",
     "text": [
      "/home/haritha/miniconda3/envs/cdbb/lib/python3.9/site-packages/jupyter_client/session.py:716: UserWarning: Message serialization failed with:\n",
      "Out of range float values are not JSON compliant\n",
      "Supporting this message is deprecated in jupyter-client 7, please make sure your message is JSON-compliant\n",
      "  content = self.pack(content)\n"
     ]
    },
    {
     "data": {
      "application/vnd.jupyter.widget-view+json": {
       "model_id": "b6f48553794047be8b9840fa733f6110",
       "version_major": 2,
       "version_minor": 0
      },
      "text/plain": [
       "HBox(children=(VBox(children=(HBox(children=(VBox(children=(Checkbox(value=True, description='Axes', layout=La…"
      ]
     },
     "metadata": {},
     "output_type": "display_data"
    },
    {
     "data": {
      "application/vnd.jupyter.widget-view+json": {
       "model_id": "956b80adfc0c46a39645b6eee173f11f",
       "version_major": 2,
       "version_minor": 0
      },
      "text/plain": [
       "HBox(children=(VBox(children=(HBox(children=(VBox(children=(Checkbox(value=True, description='Axes', layout=La…"
      ]
     },
     "metadata": {},
     "output_type": "display_data"
    },
    {
     "data": {
      "application/vnd.jupyter.widget-view+json": {
       "model_id": "21f25054b74f413081e9928258df3bdc",
       "version_major": 2,
       "version_minor": 0
      },
      "text/plain": [
       "HBox(children=(VBox(children=(HBox(children=(VBox(children=(Checkbox(value=True, description='Axes', layout=La…"
      ]
     },
     "metadata": {},
     "output_type": "display_data"
    },
    {
     "data": {
      "application/vnd.jupyter.widget-view+json": {
       "model_id": "9913a2fd755844cf9f5d526479c6db7b",
       "version_major": 2,
       "version_minor": 0
      },
      "text/plain": [
       "HBox(children=(VBox(children=(HBox(children=(VBox(children=(Checkbox(value=True, description='Axes', layout=La…"
      ]
     },
     "metadata": {},
     "output_type": "display_data"
    },
    {
     "data": {
      "application/vnd.jupyter.widget-view+json": {
       "model_id": "170ab3cbcd394012afe8634b2fd0986e",
       "version_major": 2,
       "version_minor": 0
      },
      "text/plain": [
       "HBox(children=(VBox(children=(HBox(children=(VBox(children=(Checkbox(value=True, description='Axes', layout=La…"
      ]
     },
     "metadata": {},
     "output_type": "display_data"
    },
    {
     "data": {
      "application/vnd.jupyter.widget-view+json": {
       "model_id": "591025b453974c56adc9b7aef7bcd0bc",
       "version_major": 2,
       "version_minor": 0
      },
      "text/plain": [
       "HBox(children=(VBox(children=(HBox(children=(VBox(children=(Checkbox(value=True, description='Axes', layout=La…"
      ]
     },
     "metadata": {},
     "output_type": "display_data"
    },
    {
     "data": {
      "application/vnd.jupyter.widget-view+json": {
       "model_id": "022f0fef5ce64a73919f7028ee65ba83",
       "version_major": 2,
       "version_minor": 0
      },
      "text/plain": [
       "HBox(children=(VBox(children=(HBox(children=(VBox(children=(Checkbox(value=True, description='Axes', layout=La…"
      ]
     },
     "metadata": {},
     "output_type": "display_data"
    },
    {
     "data": {
      "application/vnd.jupyter.widget-view+json": {
       "model_id": "7dc032e2b9ad47a7bbb992ba31dcca8c",
       "version_major": 2,
       "version_minor": 0
      },
      "text/plain": [
       "HBox(children=(VBox(children=(HBox(children=(VBox(children=(Checkbox(value=True, description='Axes', layout=La…"
      ]
     },
     "metadata": {},
     "output_type": "display_data"
    },
    {
     "data": {
      "application/vnd.jupyter.widget-view+json": {
       "model_id": "fc2a49453dc14e6b8f0bd0767c5d0dc0",
       "version_major": 2,
       "version_minor": 0
      },
      "text/plain": [
       "HBox(children=(VBox(children=(HBox(children=(VBox(children=(Checkbox(value=True, description='Axes', layout=La…"
      ]
     },
     "metadata": {},
     "output_type": "display_data"
    },
    {
     "data": {
      "application/vnd.jupyter.widget-view+json": {
       "model_id": "7dc9f48e8260481e8bab16a786158227",
       "version_major": 2,
       "version_minor": 0
      },
      "text/plain": [
       "HBox(children=(VBox(children=(HBox(children=(VBox(children=(Checkbox(value=True, description='Axes', layout=La…"
      ]
     },
     "metadata": {},
     "output_type": "display_data"
    },
    {
     "data": {
      "application/vnd.jupyter.widget-view+json": {
       "model_id": "84bf4532874e49c6b843eca3146d3021",
       "version_major": 2,
       "version_minor": 0
      },
      "text/plain": [
       "HBox(children=(VBox(children=(HBox(children=(VBox(children=(Checkbox(value=True, description='Axes', layout=La…"
      ]
     },
     "metadata": {},
     "output_type": "display_data"
    },
    {
     "data": {
      "application/vnd.jupyter.widget-view+json": {
       "model_id": "027b9deaf63440a596c5822cdd9f72b2",
       "version_major": 2,
       "version_minor": 0
      },
      "text/plain": [
       "HBox(children=(VBox(children=(HBox(children=(VBox(children=(Checkbox(value=True, description='Axes', layout=La…"
      ]
     },
     "metadata": {},
     "output_type": "display_data"
    },
    {
     "data": {
      "application/vnd.jupyter.widget-view+json": {
       "model_id": "6a6be48d98074e6da1e01ea10a9dcb44",
       "version_major": 2,
       "version_minor": 0
      },
      "text/plain": [
       "HBox(children=(VBox(children=(HBox(children=(VBox(children=(Checkbox(value=True, description='Axes', layout=La…"
      ]
     },
     "metadata": {},
     "output_type": "display_data"
    },
    {
     "data": {
      "application/vnd.jupyter.widget-view+json": {
       "model_id": "7b6eae4be0a740728575545fbe4318b0",
       "version_major": 2,
       "version_minor": 0
      },
      "text/plain": [
       "HBox(children=(VBox(children=(HBox(children=(VBox(children=(Checkbox(value=True, description='Axes', layout=La…"
      ]
     },
     "metadata": {},
     "output_type": "display_data"
    },
    {
     "data": {
      "application/vnd.jupyter.widget-view+json": {
       "model_id": "07847f822ecf407c87b941a6531927eb",
       "version_major": 2,
       "version_minor": 0
      },
      "text/plain": [
       "HBox(children=(VBox(children=(HBox(children=(VBox(children=(Checkbox(value=True, description='Axes', layout=La…"
      ]
     },
     "metadata": {},
     "output_type": "display_data"
    },
    {
     "data": {
      "application/vnd.jupyter.widget-view+json": {
       "model_id": "2b09c856b4384e568cc486d4c9aece2c",
       "version_major": 2,
       "version_minor": 0
      },
      "text/plain": [
       "HBox(children=(VBox(children=(HBox(children=(VBox(children=(Checkbox(value=True, description='Axes', layout=La…"
      ]
     },
     "metadata": {},
     "output_type": "display_data"
    },
    {
     "data": {
      "application/vnd.jupyter.widget-view+json": {
       "model_id": "4b4e0d90f9b5444bb5a8317f0d1bbed8",
       "version_major": 2,
       "version_minor": 0
      },
      "text/plain": [
       "HBox(children=(VBox(children=(HBox(children=(VBox(children=(Checkbox(value=True, description='Axes', layout=La…"
      ]
     },
     "metadata": {},
     "output_type": "display_data"
    },
    {
     "data": {
      "application/vnd.jupyter.widget-view+json": {
       "model_id": "8b01ca451256414b832f8369843d62ce",
       "version_major": 2,
       "version_minor": 0
      },
      "text/plain": [
       "HBox(children=(VBox(children=(HBox(children=(VBox(children=(Checkbox(value=True, description='Axes', layout=La…"
      ]
     },
     "metadata": {},
     "output_type": "display_data"
    },
    {
     "data": {
      "application/vnd.jupyter.widget-view+json": {
       "model_id": "6c6ee709965c4edf96c86e8ca688129b",
       "version_major": 2,
       "version_minor": 0
      },
      "text/plain": [
       "HBox(children=(VBox(children=(HBox(children=(VBox(children=(Checkbox(value=True, description='Axes', layout=La…"
      ]
     },
     "metadata": {},
     "output_type": "display_data"
    },
    {
     "data": {
      "application/vnd.jupyter.widget-view+json": {
       "model_id": "79633dfb4bfa4ba2b806a8b4bec9718a",
       "version_major": 2,
       "version_minor": 0
      },
      "text/plain": [
       "HBox(children=(VBox(children=(HBox(children=(VBox(children=(Checkbox(value=True, description='Axes', layout=La…"
      ]
     },
     "metadata": {},
     "output_type": "display_data"
    },
    {
     "data": {
      "application/vnd.jupyter.widget-view+json": {
       "model_id": "c657107045a24af6ab3eca4f6cdacffe",
       "version_major": 2,
       "version_minor": 0
      },
      "text/plain": [
       "HBox(children=(VBox(children=(HBox(children=(VBox(children=(Checkbox(value=True, description='Axes', layout=La…"
      ]
     },
     "metadata": {},
     "output_type": "display_data"
    },
    {
     "data": {
      "application/vnd.jupyter.widget-view+json": {
       "model_id": "d2fdab206b6448b084c7af2b8ec8ea39",
       "version_major": 2,
       "version_minor": 0
      },
      "text/plain": [
       "HBox(children=(VBox(children=(HBox(children=(VBox(children=(Checkbox(value=True, description='Axes', layout=La…"
      ]
     },
     "metadata": {},
     "output_type": "display_data"
    },
    {
     "data": {
      "application/vnd.jupyter.widget-view+json": {
       "model_id": "7dd8cb6e2bbc4dfc945cfd00b5fa7c20",
       "version_major": 2,
       "version_minor": 0
      },
      "text/plain": [
       "HBox(children=(VBox(children=(HBox(children=(VBox(children=(Checkbox(value=True, description='Axes', layout=La…"
      ]
     },
     "metadata": {},
     "output_type": "display_data"
    },
    {
     "data": {
      "application/vnd.jupyter.widget-view+json": {
       "model_id": "b82fc544f2154d2da113f3b2ec5de722",
       "version_major": 2,
       "version_minor": 0
      },
      "text/plain": [
       "HBox(children=(VBox(children=(HBox(children=(VBox(children=(Checkbox(value=True, description='Axes', layout=La…"
      ]
     },
     "metadata": {},
     "output_type": "display_data"
    },
    {
     "data": {
      "application/vnd.jupyter.widget-view+json": {
       "model_id": "7e453ed4766a472790a0497e372bc216",
       "version_major": 2,
       "version_minor": 0
      },
      "text/plain": [
       "HBox(children=(VBox(children=(HBox(children=(VBox(children=(Checkbox(value=True, description='Axes', layout=La…"
      ]
     },
     "metadata": {},
     "output_type": "display_data"
    },
    {
     "data": {
      "application/vnd.jupyter.widget-view+json": {
       "model_id": "aca5d8328abe470cb7ac8fdfcac62112",
       "version_major": 2,
       "version_minor": 0
      },
      "text/plain": [
       "HBox(children=(VBox(children=(HBox(children=(VBox(children=(Checkbox(value=True, description='Axes', layout=La…"
      ]
     },
     "metadata": {},
     "output_type": "display_data"
    },
    {
     "data": {
      "application/vnd.jupyter.widget-view+json": {
       "model_id": "434a98efff814f129688641dfc66b40a",
       "version_major": 2,
       "version_minor": 0
      },
      "text/plain": [
       "HBox(children=(VBox(children=(HBox(children=(VBox(children=(Checkbox(value=True, description='Axes', layout=La…"
      ]
     },
     "metadata": {},
     "output_type": "display_data"
    },
    {
     "data": {
      "application/vnd.jupyter.widget-view+json": {
       "model_id": "9c402332de68405ea10afb07904bd51d",
       "version_major": 2,
       "version_minor": 0
      },
      "text/plain": [
       "HBox(children=(VBox(children=(HBox(children=(VBox(children=(Checkbox(value=True, description='Axes', layout=La…"
      ]
     },
     "metadata": {},
     "output_type": "display_data"
    },
    {
     "data": {
      "application/vnd.jupyter.widget-view+json": {
       "model_id": "639330019f9f4e87aaf1db015129d272",
       "version_major": 2,
       "version_minor": 0
      },
      "text/plain": [
       "HBox(children=(VBox(children=(HBox(children=(VBox(children=(Checkbox(value=True, description='Axes', layout=La…"
      ]
     },
     "metadata": {},
     "output_type": "display_data"
    },
    {
     "data": {
      "application/vnd.jupyter.widget-view+json": {
       "model_id": "9865568d2c314c1ebb9a934cda8e50e0",
       "version_major": 2,
       "version_minor": 0
      },
      "text/plain": [
       "HBox(children=(VBox(children=(HBox(children=(VBox(children=(Checkbox(value=True, description='Axes', layout=La…"
      ]
     },
     "metadata": {},
     "output_type": "display_data"
    },
    {
     "data": {
      "application/vnd.jupyter.widget-view+json": {
       "model_id": "5dbf8e2935554f868586d341c88b130e",
       "version_major": 2,
       "version_minor": 0
      },
      "text/plain": [
       "HBox(children=(VBox(children=(HBox(children=(VBox(children=(Checkbox(value=True, description='Axes', layout=La…"
      ]
     },
     "metadata": {},
     "output_type": "display_data"
    },
    {
     "data": {
      "application/vnd.jupyter.widget-view+json": {
       "model_id": "4ed66955bc434ce2bed2a44f0c8dea29",
       "version_major": 2,
       "version_minor": 0
      },
      "text/plain": [
       "HBox(children=(VBox(children=(HBox(children=(VBox(children=(Checkbox(value=True, description='Axes', layout=La…"
      ]
     },
     "metadata": {},
     "output_type": "display_data"
    },
    {
     "data": {
      "application/vnd.jupyter.widget-view+json": {
       "model_id": "330e8e669be94a8eb7ee9ee7c8d771db",
       "version_major": 2,
       "version_minor": 0
      },
      "text/plain": [
       "HBox(children=(VBox(children=(HBox(children=(VBox(children=(Checkbox(value=True, description='Axes', layout=La…"
      ]
     },
     "metadata": {},
     "output_type": "display_data"
    },
    {
     "data": {
      "application/vnd.jupyter.widget-view+json": {
       "model_id": "c94121d2cd1a44e08b294d16ab6704e6",
       "version_major": 2,
       "version_minor": 0
      },
      "text/plain": [
       "HBox(children=(VBox(children=(HBox(children=(VBox(children=(Checkbox(value=True, description='Axes', layout=La…"
      ]
     },
     "metadata": {},
     "output_type": "display_data"
    },
    {
     "data": {
      "application/vnd.jupyter.widget-view+json": {
       "model_id": "8529b9b55d1d497daa4a33e0f798b52c",
       "version_major": 2,
       "version_minor": 0
      },
      "text/plain": [
       "HBox(children=(VBox(children=(HBox(children=(VBox(children=(Checkbox(value=True, description='Axes', layout=La…"
      ]
     },
     "metadata": {},
     "output_type": "display_data"
    },
    {
     "data": {
      "application/vnd.jupyter.widget-view+json": {
       "model_id": "fb56410a774842beb78c5523b5c36b7b",
       "version_major": 2,
       "version_minor": 0
      },
      "text/plain": [
       "HBox(children=(VBox(children=(HBox(children=(VBox(children=(Checkbox(value=True, description='Axes', layout=La…"
      ]
     },
     "metadata": {},
     "output_type": "display_data"
    },
    {
     "data": {
      "application/vnd.jupyter.widget-view+json": {
       "model_id": "483b695fc02d49d0b89311dfd661e9af",
       "version_major": 2,
       "version_minor": 0
      },
      "text/plain": [
       "HBox(children=(VBox(children=(HBox(children=(VBox(children=(Checkbox(value=True, description='Axes', layout=La…"
      ]
     },
     "metadata": {},
     "output_type": "display_data"
    },
    {
     "data": {
      "application/vnd.jupyter.widget-view+json": {
       "model_id": "daf52dcf673740e3b0df678854de4c3c",
       "version_major": 2,
       "version_minor": 0
      },
      "text/plain": [
       "HBox(children=(VBox(children=(HBox(children=(VBox(children=(Checkbox(value=True, description='Axes', layout=La…"
      ]
     },
     "metadata": {},
     "output_type": "display_data"
    },
    {
     "data": {
      "application/vnd.jupyter.widget-view+json": {
       "model_id": "b7ac25612c594f69a366a7b86c0d1156",
       "version_major": 2,
       "version_minor": 0
      },
      "text/plain": [
       "HBox(children=(VBox(children=(HBox(children=(VBox(children=(Checkbox(value=True, description='Axes', layout=La…"
      ]
     },
     "metadata": {},
     "output_type": "display_data"
    },
    {
     "data": {
      "application/vnd.jupyter.widget-view+json": {
       "model_id": "f330742357a2454595f851f595f2df25",
       "version_major": 2,
       "version_minor": 0
      },
      "text/plain": [
       "HBox(children=(VBox(children=(HBox(children=(VBox(children=(Checkbox(value=True, description='Axes', layout=La…"
      ]
     },
     "metadata": {},
     "output_type": "display_data"
    },
    {
     "data": {
      "application/vnd.jupyter.widget-view+json": {
       "model_id": "4a9b98686ecb448caf0a84a2b20ef15f",
       "version_major": 2,
       "version_minor": 0
      },
      "text/plain": [
       "HBox(children=(VBox(children=(HBox(children=(VBox(children=(Checkbox(value=True, description='Axes', layout=La…"
      ]
     },
     "metadata": {},
     "output_type": "display_data"
    },
    {
     "data": {
      "application/vnd.jupyter.widget-view+json": {
       "model_id": "22ca3b1596c3455fb9b990a66096282c",
       "version_major": 2,
       "version_minor": 0
      },
      "text/plain": [
       "HBox(children=(VBox(children=(HBox(children=(VBox(children=(Checkbox(value=True, description='Axes', layout=La…"
      ]
     },
     "metadata": {},
     "output_type": "display_data"
    },
    {
     "data": {
      "application/vnd.jupyter.widget-view+json": {
       "model_id": "08a5e8dbbf544570b377941f1587d145",
       "version_major": 2,
       "version_minor": 0
      },
      "text/plain": [
       "HBox(children=(VBox(children=(HBox(children=(VBox(children=(Checkbox(value=True, description='Axes', layout=La…"
      ]
     },
     "metadata": {},
     "output_type": "display_data"
    },
    {
     "data": {
      "application/vnd.jupyter.widget-view+json": {
       "model_id": "d562521deb934a9bb9f474f4f0bdbb62",
       "version_major": 2,
       "version_minor": 0
      },
      "text/plain": [
       "HBox(children=(VBox(children=(HBox(children=(VBox(children=(Checkbox(value=True, description='Axes', layout=La…"
      ]
     },
     "metadata": {},
     "output_type": "display_data"
    },
    {
     "data": {
      "application/vnd.jupyter.widget-view+json": {
       "model_id": "28c7c4d4f43844e48ce2f63373033ec1",
       "version_major": 2,
       "version_minor": 0
      },
      "text/plain": [
       "HBox(children=(VBox(children=(HBox(children=(VBox(children=(Checkbox(value=True, description='Axes', layout=La…"
      ]
     },
     "metadata": {},
     "output_type": "display_data"
    },
    {
     "data": {
      "application/vnd.jupyter.widget-view+json": {
       "model_id": "59ea3a10d53444389ede1eebaf9e5316",
       "version_major": 2,
       "version_minor": 0
      },
      "text/plain": [
       "HBox(children=(VBox(children=(HBox(children=(VBox(children=(Checkbox(value=True, description='Axes', layout=La…"
      ]
     },
     "metadata": {},
     "output_type": "display_data"
    },
    {
     "data": {
      "application/vnd.jupyter.widget-view+json": {
       "model_id": "a94170cc6d674502b22d6383c4328745",
       "version_major": 2,
       "version_minor": 0
      },
      "text/plain": [
       "HBox(children=(VBox(children=(HBox(children=(VBox(children=(Checkbox(value=True, description='Axes', layout=La…"
      ]
     },
     "metadata": {},
     "output_type": "display_data"
    },
    {
     "data": {
      "application/vnd.jupyter.widget-view+json": {
       "model_id": "cbbaba50d2344d0b81600bb24da6f4f5",
       "version_major": 2,
       "version_minor": 0
      },
      "text/plain": [
       "HBox(children=(VBox(children=(HBox(children=(VBox(children=(Checkbox(value=True, description='Axes', layout=La…"
      ]
     },
     "metadata": {},
     "output_type": "display_data"
    },
    {
     "data": {
      "application/vnd.jupyter.widget-view+json": {
       "model_id": "7c2edfc1d67f407693b8912118b70668",
       "version_major": 2,
       "version_minor": 0
      },
      "text/plain": [
       "HBox(children=(VBox(children=(HBox(children=(VBox(children=(Checkbox(value=True, description='Axes', layout=La…"
      ]
     },
     "metadata": {},
     "output_type": "display_data"
    },
    {
     "data": {
      "application/vnd.jupyter.widget-view+json": {
       "model_id": "5378a923e9d747f8a62ab4cbd9c46f78",
       "version_major": 2,
       "version_minor": 0
      },
      "text/plain": [
       "HBox(children=(VBox(children=(HBox(children=(VBox(children=(Checkbox(value=True, description='Axes', layout=La…"
      ]
     },
     "metadata": {},
     "output_type": "display_data"
    },
    {
     "data": {
      "application/vnd.jupyter.widget-view+json": {
       "model_id": "fab0ed1494704b6caebdf7ff5fa489d2",
       "version_major": 2,
       "version_minor": 0
      },
      "text/plain": [
       "HBox(children=(VBox(children=(HBox(children=(VBox(children=(Checkbox(value=True, description='Axes', layout=La…"
      ]
     },
     "metadata": {},
     "output_type": "display_data"
    },
    {
     "data": {
      "application/vnd.jupyter.widget-view+json": {
       "model_id": "8c14d27026514cd2acb4a7232ac35063",
       "version_major": 2,
       "version_minor": 0
      },
      "text/plain": [
       "HBox(children=(VBox(children=(HBox(children=(VBox(children=(Checkbox(value=True, description='Axes', layout=La…"
      ]
     },
     "metadata": {},
     "output_type": "display_data"
    },
    {
     "data": {
      "application/vnd.jupyter.widget-view+json": {
       "model_id": "0d9d2b685737497187e88545f3647e65",
       "version_major": 2,
       "version_minor": 0
      },
      "text/plain": [
       "HBox(children=(VBox(children=(HBox(children=(VBox(children=(Checkbox(value=True, description='Axes', layout=La…"
      ]
     },
     "metadata": {},
     "output_type": "display_data"
    },
    {
     "data": {
      "application/vnd.jupyter.widget-view+json": {
       "model_id": "faf2a8813e2b43e7bda28b6ad3fa3c14",
       "version_major": 2,
       "version_minor": 0
      },
      "text/plain": [
       "HBox(children=(VBox(children=(HBox(children=(VBox(children=(Checkbox(value=True, description='Axes', layout=La…"
      ]
     },
     "metadata": {},
     "output_type": "display_data"
    },
    {
     "data": {
      "application/vnd.jupyter.widget-view+json": {
       "model_id": "1ab948a7e30544788de4dce18457a7b0",
       "version_major": 2,
       "version_minor": 0
      },
      "text/plain": [
       "HBox(children=(VBox(children=(HBox(children=(VBox(children=(Checkbox(value=True, description='Axes', layout=La…"
      ]
     },
     "metadata": {},
     "output_type": "display_data"
    },
    {
     "data": {
      "application/vnd.jupyter.widget-view+json": {
       "model_id": "740cca01506247658ea6837d40737011",
       "version_major": 2,
       "version_minor": 0
      },
      "text/plain": [
       "HBox(children=(VBox(children=(HBox(children=(VBox(children=(Checkbox(value=True, description='Axes', layout=La…"
      ]
     },
     "metadata": {},
     "output_type": "display_data"
    },
    {
     "data": {
      "application/vnd.jupyter.widget-view+json": {
       "model_id": "850a0f37ba824727b86735bbbabfac4e",
       "version_major": 2,
       "version_minor": 0
      },
      "text/plain": [
       "HBox(children=(VBox(children=(HBox(children=(VBox(children=(Checkbox(value=True, description='Axes', layout=La…"
      ]
     },
     "metadata": {},
     "output_type": "display_data"
    },
    {
     "data": {
      "application/vnd.jupyter.widget-view+json": {
       "model_id": "542c7a9e8efd4bca9f4895c19f379a71",
       "version_major": 2,
       "version_minor": 0
      },
      "text/plain": [
       "HBox(children=(VBox(children=(HBox(children=(VBox(children=(Checkbox(value=True, description='Axes', layout=La…"
      ]
     },
     "metadata": {},
     "output_type": "display_data"
    },
    {
     "data": {
      "application/vnd.jupyter.widget-view+json": {
       "model_id": "2af45e5e87cd4a79bab1fbcb76297f6e",
       "version_major": 2,
       "version_minor": 0
      },
      "text/plain": [
       "HBox(children=(VBox(children=(HBox(children=(VBox(children=(Checkbox(value=True, description='Axes', layout=La…"
      ]
     },
     "metadata": {},
     "output_type": "display_data"
    },
    {
     "data": {
      "application/vnd.jupyter.widget-view+json": {
       "model_id": "ab01475173844cd8b5e8c2ef60390a13",
       "version_major": 2,
       "version_minor": 0
      },
      "text/plain": [
       "HBox(children=(VBox(children=(HBox(children=(VBox(children=(Checkbox(value=True, description='Axes', layout=La…"
      ]
     },
     "metadata": {},
     "output_type": "display_data"
    },
    {
     "data": {
      "application/vnd.jupyter.widget-view+json": {
       "model_id": "7a709d02e75a411dbf4a2f411bddb89b",
       "version_major": 2,
       "version_minor": 0
      },
      "text/plain": [
       "HBox(children=(VBox(children=(HBox(children=(VBox(children=(Checkbox(value=True, description='Axes', layout=La…"
      ]
     },
     "metadata": {},
     "output_type": "display_data"
    },
    {
     "data": {
      "application/vnd.jupyter.widget-view+json": {
       "model_id": "a6d0c774853947238550d9a4ece3f14f",
       "version_major": 2,
       "version_minor": 0
      },
      "text/plain": [
       "HBox(children=(VBox(children=(HBox(children=(VBox(children=(Checkbox(value=True, description='Axes', layout=La…"
      ]
     },
     "metadata": {},
     "output_type": "display_data"
    },
    {
     "data": {
      "application/vnd.jupyter.widget-view+json": {
       "model_id": "d8e267e505fb4a7d8fdd0013a43c0de0",
       "version_major": 2,
       "version_minor": 0
      },
      "text/plain": [
       "HBox(children=(VBox(children=(HBox(children=(VBox(children=(Checkbox(value=True, description='Axes', layout=La…"
      ]
     },
     "metadata": {},
     "output_type": "display_data"
    },
    {
     "data": {
      "application/vnd.jupyter.widget-view+json": {
       "model_id": "4331c6b77e9e499a8521426e1b6e9a4e",
       "version_major": 2,
       "version_minor": 0
      },
      "text/plain": [
       "HBox(children=(VBox(children=(HBox(children=(VBox(children=(Checkbox(value=True, description='Axes', layout=La…"
      ]
     },
     "metadata": {},
     "output_type": "display_data"
    },
    {
     "data": {
      "application/vnd.jupyter.widget-view+json": {
       "model_id": "353e3c2a8e86469c945a81fa1e44eeac",
       "version_major": 2,
       "version_minor": 0
      },
      "text/plain": [
       "HBox(children=(VBox(children=(HBox(children=(VBox(children=(Checkbox(value=True, description='Axes', layout=La…"
      ]
     },
     "metadata": {},
     "output_type": "display_data"
    },
    {
     "data": {
      "application/vnd.jupyter.widget-view+json": {
       "model_id": "7d308ad49d1a46ecaa961c415ee14ea5",
       "version_major": 2,
       "version_minor": 0
      },
      "text/plain": [
       "HBox(children=(VBox(children=(HBox(children=(VBox(children=(Checkbox(value=True, description='Axes', layout=La…"
      ]
     },
     "metadata": {},
     "output_type": "display_data"
    },
    {
     "data": {
      "application/vnd.jupyter.widget-view+json": {
       "model_id": "6aec914febbd49dc9e4e15e915e481f4",
       "version_major": 2,
       "version_minor": 0
      },
      "text/plain": [
       "HBox(children=(VBox(children=(HBox(children=(VBox(children=(Checkbox(value=True, description='Axes', layout=La…"
      ]
     },
     "metadata": {},
     "output_type": "display_data"
    },
    {
     "data": {
      "application/vnd.jupyter.widget-view+json": {
       "model_id": "c2eae7a7a92b4f2f937e23bfc9af9b39",
       "version_major": 2,
       "version_minor": 0
      },
      "text/plain": [
       "HBox(children=(VBox(children=(HBox(children=(VBox(children=(Checkbox(value=True, description='Axes', layout=La…"
      ]
     },
     "metadata": {},
     "output_type": "display_data"
    },
    {
     "data": {
      "application/vnd.jupyter.widget-view+json": {
       "model_id": "770ca1a1f7ed43f9ab30cb2420780c8e",
       "version_major": 2,
       "version_minor": 0
      },
      "text/plain": [
       "HBox(children=(VBox(children=(HBox(children=(VBox(children=(Checkbox(value=True, description='Axes', layout=La…"
      ]
     },
     "metadata": {},
     "output_type": "display_data"
    },
    {
     "data": {
      "application/vnd.jupyter.widget-view+json": {
       "model_id": "3a0ff4546ebc4bf9a84c6d00be45768a",
       "version_major": 2,
       "version_minor": 0
      },
      "text/plain": [
       "HBox(children=(VBox(children=(HBox(children=(VBox(children=(Checkbox(value=True, description='Axes', layout=La…"
      ]
     },
     "metadata": {},
     "output_type": "display_data"
    },
    {
     "data": {
      "application/vnd.jupyter.widget-view+json": {
       "model_id": "75fefa93718a47b8bb99bfb5e4c47b02",
       "version_major": 2,
       "version_minor": 0
      },
      "text/plain": [
       "HBox(children=(VBox(children=(HBox(children=(VBox(children=(Checkbox(value=True, description='Axes', layout=La…"
      ]
     },
     "metadata": {},
     "output_type": "display_data"
    },
    {
     "data": {
      "application/vnd.jupyter.widget-view+json": {
       "model_id": "af190644aeeb4a1eb273aae71593a0f5",
       "version_major": 2,
       "version_minor": 0
      },
      "text/plain": [
       "HBox(children=(VBox(children=(HBox(children=(VBox(children=(Checkbox(value=True, description='Axes', layout=La…"
      ]
     },
     "metadata": {},
     "output_type": "display_data"
    },
    {
     "data": {
      "application/vnd.jupyter.widget-view+json": {
       "model_id": "e6be889712134b00b5bb46dd7275c6c7",
       "version_major": 2,
       "version_minor": 0
      },
      "text/plain": [
       "HBox(children=(VBox(children=(HBox(children=(VBox(children=(Checkbox(value=True, description='Axes', layout=La…"
      ]
     },
     "metadata": {},
     "output_type": "display_data"
    },
    {
     "data": {
      "application/vnd.jupyter.widget-view+json": {
       "model_id": "3ba71e911f244477864512a8f7b75e04",
       "version_major": 2,
       "version_minor": 0
      },
      "text/plain": [
       "HBox(children=(VBox(children=(HBox(children=(VBox(children=(Checkbox(value=True, description='Axes', layout=La…"
      ]
     },
     "metadata": {},
     "output_type": "display_data"
    },
    {
     "data": {
      "application/vnd.jupyter.widget-view+json": {
       "model_id": "2d16ed34c72849a2abd4660a3367ca64",
       "version_major": 2,
       "version_minor": 0
      },
      "text/plain": [
       "HBox(children=(VBox(children=(HBox(children=(VBox(children=(Checkbox(value=True, description='Axes', layout=La…"
      ]
     },
     "metadata": {},
     "output_type": "display_data"
    },
    {
     "data": {
      "application/vnd.jupyter.widget-view+json": {
       "model_id": "0c9f36cccc914130a0c3e23f6e9d1b81",
       "version_major": 2,
       "version_minor": 0
      },
      "text/plain": [
       "HBox(children=(VBox(children=(HBox(children=(VBox(children=(Checkbox(value=True, description='Axes', layout=La…"
      ]
     },
     "metadata": {},
     "output_type": "display_data"
    },
    {
     "data": {
      "application/vnd.jupyter.widget-view+json": {
       "model_id": "58731b16f0e04a77b4c13c251bc004b4",
       "version_major": 2,
       "version_minor": 0
      },
      "text/plain": [
       "HBox(children=(VBox(children=(HBox(children=(VBox(children=(Checkbox(value=True, description='Axes', layout=La…"
      ]
     },
     "metadata": {},
     "output_type": "display_data"
    },
    {
     "data": {
      "application/vnd.jupyter.widget-view+json": {
       "model_id": "3d327cb9af5946c6b22882ef65203d8c",
       "version_major": 2,
       "version_minor": 0
      },
      "text/plain": [
       "HBox(children=(VBox(children=(HBox(children=(VBox(children=(Checkbox(value=True, description='Axes', layout=La…"
      ]
     },
     "metadata": {},
     "output_type": "display_data"
    },
    {
     "data": {
      "application/vnd.jupyter.widget-view+json": {
       "model_id": "dbab850da87e48c59bd1537278dde1a1",
       "version_major": 2,
       "version_minor": 0
      },
      "text/plain": [
       "HBox(children=(VBox(children=(HBox(children=(VBox(children=(Checkbox(value=True, description='Axes', layout=La…"
      ]
     },
     "metadata": {},
     "output_type": "display_data"
    },
    {
     "data": {
      "application/vnd.jupyter.widget-view+json": {
       "model_id": "1b1a8ab7d46d4614af8bb61bb4aadb3d",
       "version_major": 2,
       "version_minor": 0
      },
      "text/plain": [
       "HBox(children=(VBox(children=(HBox(children=(VBox(children=(Checkbox(value=True, description='Axes', layout=La…"
      ]
     },
     "metadata": {},
     "output_type": "display_data"
    },
    {
     "data": {
      "application/vnd.jupyter.widget-view+json": {
       "model_id": "a99a5086802b4a1b98ed603ab02f997e",
       "version_major": 2,
       "version_minor": 0
      },
      "text/plain": [
       "HBox(children=(VBox(children=(HBox(children=(VBox(children=(Checkbox(value=True, description='Axes', layout=La…"
      ]
     },
     "metadata": {},
     "output_type": "display_data"
    },
    {
     "data": {
      "application/vnd.jupyter.widget-view+json": {
       "model_id": "3f57aaccfba8422faded997d270cde47",
       "version_major": 2,
       "version_minor": 0
      },
      "text/plain": [
       "HBox(children=(VBox(children=(HBox(children=(VBox(children=(Checkbox(value=True, description='Axes', layout=La…"
      ]
     },
     "metadata": {},
     "output_type": "display_data"
    },
    {
     "data": {
      "application/vnd.jupyter.widget-view+json": {
       "model_id": "a69c6be77e524eb0b1f4b7dc94aa4cfe",
       "version_major": 2,
       "version_minor": 0
      },
      "text/plain": [
       "HBox(children=(VBox(children=(HBox(children=(VBox(children=(Checkbox(value=True, description='Axes', layout=La…"
      ]
     },
     "metadata": {},
     "output_type": "display_data"
    },
    {
     "data": {
      "application/vnd.jupyter.widget-view+json": {
       "model_id": "5fee3231ba634e11aa03175bc835b315",
       "version_major": 2,
       "version_minor": 0
      },
      "text/plain": [
       "HBox(children=(VBox(children=(HBox(children=(VBox(children=(Checkbox(value=True, description='Axes', layout=La…"
      ]
     },
     "metadata": {},
     "output_type": "display_data"
    },
    {
     "data": {
      "application/vnd.jupyter.widget-view+json": {
       "model_id": "95a83959e15547ea96db9fcd5d73fc08",
       "version_major": 2,
       "version_minor": 0
      },
      "text/plain": [
       "HBox(children=(VBox(children=(HBox(children=(VBox(children=(Checkbox(value=True, description='Axes', layout=La…"
      ]
     },
     "metadata": {},
     "output_type": "display_data"
    },
    {
     "data": {
      "application/vnd.jupyter.widget-view+json": {
       "model_id": "84b3801d4cb14d9d9c42cdc2c8505099",
       "version_major": 2,
       "version_minor": 0
      },
      "text/plain": [
       "HBox(children=(VBox(children=(HBox(children=(VBox(children=(Checkbox(value=True, description='Axes', layout=La…"
      ]
     },
     "metadata": {},
     "output_type": "display_data"
    },
    {
     "data": {
      "application/vnd.jupyter.widget-view+json": {
       "model_id": "87665c5b614549428f1ca3cffdc144f6",
       "version_major": 2,
       "version_minor": 0
      },
      "text/plain": [
       "HBox(children=(VBox(children=(HBox(children=(VBox(children=(Checkbox(value=True, description='Axes', layout=La…"
      ]
     },
     "metadata": {},
     "output_type": "display_data"
    },
    {
     "data": {
      "application/vnd.jupyter.widget-view+json": {
       "model_id": "7258b9ac92d0431696f2599ce0da7748",
       "version_major": 2,
       "version_minor": 0
      },
      "text/plain": [
       "HBox(children=(VBox(children=(HBox(children=(VBox(children=(Checkbox(value=True, description='Axes', layout=La…"
      ]
     },
     "metadata": {},
     "output_type": "display_data"
    },
    {
     "data": {
      "application/vnd.jupyter.widget-view+json": {
       "model_id": "423e4a0a17f94fcfa52240595780792c",
       "version_major": 2,
       "version_minor": 0
      },
      "text/plain": [
       "HBox(children=(VBox(children=(HBox(children=(VBox(children=(Checkbox(value=True, description='Axes', layout=La…"
      ]
     },
     "metadata": {},
     "output_type": "display_data"
    },
    {
     "data": {
      "application/vnd.jupyter.widget-view+json": {
       "model_id": "34fab93a41f14c8386e00c919d28bd81",
       "version_major": 2,
       "version_minor": 0
      },
      "text/plain": [
       "HBox(children=(VBox(children=(HBox(children=(VBox(children=(Checkbox(value=True, description='Axes', layout=La…"
      ]
     },
     "metadata": {},
     "output_type": "display_data"
    },
    {
     "data": {
      "application/vnd.jupyter.widget-view+json": {
       "model_id": "e050567a67a246d29915f16e9a0d623c",
       "version_major": 2,
       "version_minor": 0
      },
      "text/plain": [
       "HBox(children=(VBox(children=(HBox(children=(VBox(children=(Checkbox(value=True, description='Axes', layout=La…"
      ]
     },
     "metadata": {},
     "output_type": "display_data"
    },
    {
     "data": {
      "application/vnd.jupyter.widget-view+json": {
       "model_id": "6706df7a62454d1480ba059bba22f0af",
       "version_major": 2,
       "version_minor": 0
      },
      "text/plain": [
       "HBox(children=(VBox(children=(HBox(children=(VBox(children=(Checkbox(value=True, description='Axes', layout=La…"
      ]
     },
     "metadata": {},
     "output_type": "display_data"
    },
    {
     "data": {
      "application/vnd.jupyter.widget-view+json": {
       "model_id": "50077143fdc34d438f467f0cc3abbbf8",
       "version_major": 2,
       "version_minor": 0
      },
      "text/plain": [
       "HBox(children=(VBox(children=(HBox(children=(VBox(children=(Checkbox(value=True, description='Axes', layout=La…"
      ]
     },
     "metadata": {},
     "output_type": "display_data"
    },
    {
     "data": {
      "application/vnd.jupyter.widget-view+json": {
       "model_id": "83d4c9c2556346ebbf1e55a105eeef32",
       "version_major": 2,
       "version_minor": 0
      },
      "text/plain": [
       "HBox(children=(VBox(children=(HBox(children=(VBox(children=(Checkbox(value=True, description='Axes', layout=La…"
      ]
     },
     "metadata": {},
     "output_type": "display_data"
    },
    {
     "data": {
      "application/vnd.jupyter.widget-view+json": {
       "model_id": "7e6aee16ac114514a8a99f8a072a13e1",
       "version_major": 2,
       "version_minor": 0
      },
      "text/plain": [
       "HBox(children=(VBox(children=(HBox(children=(VBox(children=(Checkbox(value=True, description='Axes', layout=La…"
      ]
     },
     "metadata": {},
     "output_type": "display_data"
    },
    {
     "data": {
      "application/vnd.jupyter.widget-view+json": {
       "model_id": "1b82616290a2409bacaee9ec667b236c",
       "version_major": 2,
       "version_minor": 0
      },
      "text/plain": [
       "HBox(children=(VBox(children=(HBox(children=(VBox(children=(Checkbox(value=True, description='Axes', layout=La…"
      ]
     },
     "metadata": {},
     "output_type": "display_data"
    },
    {
     "data": {
      "application/vnd.jupyter.widget-view+json": {
       "model_id": "b8a5ea01bcaa4bc1ab97b2752a36e13f",
       "version_major": 2,
       "version_minor": 0
      },
      "text/plain": [
       "HBox(children=(VBox(children=(HBox(children=(VBox(children=(Checkbox(value=True, description='Axes', layout=La…"
      ]
     },
     "metadata": {},
     "output_type": "display_data"
    },
    {
     "data": {
      "application/vnd.jupyter.widget-view+json": {
       "model_id": "e66e712137584c9e8c110cefefb6f21c",
       "version_major": 2,
       "version_minor": 0
      },
      "text/plain": [
       "HBox(children=(VBox(children=(HBox(children=(VBox(children=(Checkbox(value=True, description='Axes', layout=La…"
      ]
     },
     "metadata": {},
     "output_type": "display_data"
    },
    {
     "data": {
      "application/vnd.jupyter.widget-view+json": {
       "model_id": "267a0d77a1794321a9019488593d52e8",
       "version_major": 2,
       "version_minor": 0
      },
      "text/plain": [
       "HBox(children=(VBox(children=(HBox(children=(VBox(children=(Checkbox(value=True, description='Axes', layout=La…"
      ]
     },
     "metadata": {},
     "output_type": "display_data"
    },
    {
     "data": {
      "application/vnd.jupyter.widget-view+json": {
       "model_id": "08263ccfa3e44e3bb18c43bfe2df8029",
       "version_major": 2,
       "version_minor": 0
      },
      "text/plain": [
       "HBox(children=(VBox(children=(HBox(children=(VBox(children=(Checkbox(value=True, description='Axes', layout=La…"
      ]
     },
     "metadata": {},
     "output_type": "display_data"
    },
    {
     "name": "stdout",
     "output_type": "stream",
     "text": [
      "[, , , , , , , , , , , , , , , , , , , , , , , , , , , , , , , , , , , , , , , , , , , , , , , , , , , , , , , , , , , , , , , , , , , , , , , , , , , , , , , , , , , , , , , , , , , , , , , , , , , ]\n"
     ]
    }
   ],
   "source": [
    "print(v)"
   ]
  },
  {
   "cell_type": "code",
   "execution_count": null,
   "metadata": {},
   "outputs": [],
   "source": []
  },
  {
   "cell_type": "code",
   "execution_count": null,
   "metadata": {
    "scrolled": false
   },
   "outputs": [],
   "source": [
    "plot_parameter_errors(inputs_list, modified_preds, cat)"
   ]
  },
  {
   "cell_type": "code",
   "execution_count": 13,
   "metadata": {},
   "outputs": [
    {
     "data": {
      "application/vnd.jupyter.widget-view+json": {
       "model_id": "d3764924ec434c559965e4fd338acc1e",
       "version_major": 2,
       "version_minor": 0
      },
      "text/plain": [
       "  0%|          | 0/873 [00:00<?, ?it/s]"
      ]
     },
     "metadata": {},
     "output_type": "display_data"
    },
    {
     "name": "stdout",
     "output_type": "stream",
     "text": [
      "error_count 0\n",
      "avg 25.845222 8 81.23336 5.7887554 [0.00363361 0.00361522 0.00347934 0.00333888 0.00332844 0.00330281\n",
      " 0.00327029 0.00320208 0.00308111 0.00305188 0.003017   0.00300097\n",
      " 0.00298635 0.00298453 0.00296108 0.00293984 0.0028427  0.00273377\n",
      " 0.00271035 0.00257294 0.00257053 0.00251534 0.00248736 0.00246221\n",
      " 0.00245024 0.00244671 0.00243484 0.00239307 0.00235563 0.00233351\n",
      " 0.00227989 0.00225692 0.0022544  0.00223377 0.00218718 0.00218546\n",
      " 0.00216148 0.00215503 0.00214465 0.00212931 0.00211425 0.00211008\n",
      " 0.00209362 0.00204749 0.00203541 0.00202759 0.00201302 0.00201134\n",
      " 0.00200666 0.00199234 0.00198805 0.00197542 0.00196526 0.00195369\n",
      " 0.00195254 0.00194289 0.00194161 0.00193325 0.00192939 0.0019288\n",
      " 0.00192135 0.00190369 0.00188339 0.00188056 0.00187678 0.00186132\n",
      " 0.00184503 0.00184322 0.00184135 0.00183442 0.00183383 0.00183125\n",
      " 0.00182574 0.00182355 0.00181633 0.00179543 0.00179485 0.00179379\n",
      " 0.00177864 0.00177864 0.00176874 0.00176727 0.00176214 0.00175945\n",
      " 0.00175816 0.0017448  0.00174353 0.00174004 0.00173489 0.00173236\n",
      " 0.00171661 0.00171543 0.00170503 0.00170362 0.00170026 0.00169742\n",
      " 0.00169692 0.00169393 0.00169364 0.00169224 0.00169053 0.00168681\n",
      " 0.00167745 0.00166705 0.0016568  0.00165534 0.00165198 0.00164624\n",
      " 0.00164342 0.00164005 0.00163542 0.00163495 0.0016337  0.00161983\n",
      " 0.00161771 0.00161745 0.00161414 0.0015987  0.00158972 0.00158854\n",
      " 0.0015768  0.00157421 0.0015701  0.00156999 0.00156424 0.00156102\n",
      " 0.00155707 0.00155406 0.00155245 0.00155101 0.0015501  0.00154903\n",
      " 0.00154245 0.00154192 0.00154115 0.00153184 0.00152422 0.00152335\n",
      " 0.00151891 0.00151878 0.00151672 0.00151544 0.00150836 0.00150202\n",
      " 0.00149659 0.00149383 0.00149376 0.00149252 0.00149222 0.0014921\n",
      " 0.00149067 0.00149006 0.00148633 0.00148429 0.00147936 0.00147789\n",
      " 0.00147451 0.00147267 0.00147003 0.00146994 0.00146808 0.00146592\n",
      " 0.00146369 0.00146239 0.00146062 0.00146026 0.00145563 0.00145255\n",
      " 0.00144839 0.00144826 0.00144427 0.00144364 0.00144324 0.0014426\n",
      " 0.00143108 0.0014304  0.00142491 0.00142462 0.00142446 0.00142026\n",
      " 0.00141449 0.00141318 0.00140987 0.00140703 0.00140664 0.00140594\n",
      " 0.00140575 0.00140478 0.00140454 0.00140414 0.00140346 0.00140133\n",
      " 0.00140049 0.00140029 0.00139732 0.00139594 0.00139548 0.00139468\n",
      " 0.00138618 0.00138411 0.00138317 0.00138251 0.00138043 0.00137537\n",
      " 0.00137357 0.00137263 0.00137019 0.00136659 0.00136512 0.00136349\n",
      " 0.00135789 0.00135661 0.00135572 0.00135495 0.00135156 0.00134387\n",
      " 0.00134317 0.00134201 0.00134064 0.00134039 0.00133914 0.00133785\n",
      " 0.00133677 0.00133661 0.00133279 0.00133255 0.00132818 0.00132737\n",
      " 0.00132711 0.00132692 0.00132115 0.00132006 0.00131943 0.00131925\n",
      " 0.00131839 0.0013138  0.0013133  0.00131232 0.00131178 0.00130943\n",
      " 0.0013092  0.00130893 0.00130529 0.0013048  0.00130303 0.00130289\n",
      " 0.00130081 0.00129829 0.00129647 0.00129542 0.00129507 0.00129495\n",
      " 0.0012922  0.0012894  0.00128924 0.00128588 0.00128585 0.00128529\n",
      " 0.00128117 0.00128014 0.00127999 0.0012732  0.00127148 0.00127024\n",
      " 0.00127006 0.00126966 0.00126621 0.00126044 0.00125955 0.00125747\n",
      " 0.00125564 0.00125296 0.00125249 0.00124934 0.00124766 0.00124723\n",
      " 0.00124692 0.00124619 0.00124556 0.00124478 0.00123261 0.00123062\n",
      " 0.00122953 0.00122941 0.00122925 0.00122658 0.00122074 0.00121944\n",
      " 0.00121766 0.00121682 0.00121306 0.00121213 0.00121062 0.00120883\n",
      " 0.00120578 0.00120573 0.00120441 0.00120129 0.0012012  0.00120073\n",
      " 0.00120067 0.00119983 0.0011987  0.00119773 0.00119493 0.00119483\n",
      " 0.00119436 0.00119284 0.00119134 0.00119109 0.00119025 0.00118953\n",
      " 0.00118802 0.001187   0.00118533 0.00118499 0.00118271 0.00118195\n",
      " 0.00118153 0.00118091 0.00117996 0.00117984 0.00117823 0.00117611\n",
      " 0.00117258 0.00117137 0.00116898 0.00116884 0.00116771 0.0011638\n",
      " 0.00116363 0.00116227 0.00116027 0.00115838 0.00115768 0.00115715\n",
      " 0.00115698 0.00115682 0.00115608 0.0011504  0.0011496  0.00114818\n",
      " 0.00113967 0.00113897 0.00113889 0.00113877 0.00113758 0.00113753\n",
      " 0.00113666 0.00113521 0.00113375 0.00113241 0.0011319  0.0011313\n",
      " 0.00113117 0.00112808 0.00112801 0.00112437 0.00112248 0.00112147\n",
      " 0.00112115 0.00112052 0.00112045 0.00111968 0.00111759 0.00111696\n",
      " 0.00111694 0.00110868 0.00110647 0.00110566 0.00110414 0.00110196\n",
      " 0.00110152 0.00110128 0.00110094 0.00110051 0.0011001  0.00109984\n",
      " 0.00109797 0.0010966  0.00109643 0.00109557 0.00109455 0.00109448\n",
      " 0.00109407 0.00109351 0.00109333 0.00109253 0.00109244 0.00109077\n",
      " 0.00108918 0.00108857 0.00108848 0.00108813 0.00108805 0.00108742\n",
      " 0.00108733 0.00108717 0.00108608 0.00108492 0.00108369 0.00108062\n",
      " 0.00107872 0.00107727 0.00107096 0.00107024 0.00106932 0.00106868\n",
      " 0.00106856 0.00106756 0.00106625 0.00106535 0.00106462 0.00106399\n",
      " 0.00106198 0.00106125 0.00106118 0.0010609  0.00106014 0.00105767\n",
      " 0.00105656 0.0010565  0.00105617 0.00105433 0.00105173 0.00105146\n",
      " 0.00104962 0.00104767 0.00104737 0.00104634 0.00104593 0.00104449\n",
      " 0.00104378 0.00104366 0.0010435  0.00104346 0.00104245 0.00104219\n",
      " 0.00104033 0.00104033 0.00104008 0.0010393  0.00103489 0.00103345\n",
      " 0.00103332 0.00103312 0.00103309 0.00103244 0.00103188 0.00103103\n",
      " 0.00103002 0.0010286  0.00102594 0.00102342 0.00102306 0.00102284\n",
      " 0.00102261 0.0010204  0.00101796 0.00101768 0.00101696 0.00101676\n",
      " 0.00101656 0.00101574 0.0010154  0.00101507 0.00101341 0.00101139\n",
      " 0.00101035 0.00100838 0.00100698 0.00100693 0.00100611 0.00100509\n",
      " 0.00100477 0.00100473 0.00100226 0.00100024 0.00099931 0.00099926\n",
      " 0.00099807 0.00099779 0.00099724 0.00099602 0.00099183 0.00099142\n",
      " 0.00099081 0.00099059 0.00098836 0.00098828 0.00098808 0.00098765\n",
      " 0.00098569 0.00098498 0.0009837  0.00098307 0.00098213 0.00098144\n",
      " 0.00098103 0.00097874 0.00097808 0.00097785 0.000976   0.00097517\n",
      " 0.00097439 0.00097383 0.00097373 0.00097353 0.00097289 0.00097121\n",
      " 0.00097042 0.00096888 0.00096745 0.00096729 0.00096375 0.00096269\n",
      " 0.00096228 0.00096191 0.0009619  0.00096056 0.00096024 0.00095929\n",
      " 0.00095849 0.00095837 0.00095766 0.00095699 0.00095669 0.00095652\n",
      " 0.00095636 0.00095522 0.00095498 0.00095393 0.00095181 0.00095056\n",
      " 0.00094674 0.0009424  0.00094197 0.00094186 0.00094102 0.00094062\n",
      " 0.00094005 0.00093785 0.00093745 0.00093553 0.0009336  0.00093295\n",
      " 0.00093268 0.0009326  0.00093026 0.0009295  0.00092866 0.0009285\n",
      " 0.00092834 0.00092738 0.00092718 0.00092614 0.00092613 0.00092531\n",
      " 0.00092502 0.00092389 0.00092386 0.00092383 0.00092189 0.00092132\n",
      " 0.00092108 0.00092094 0.00091948 0.00091929 0.00091881 0.00091838\n",
      " 0.00091762 0.00091741 0.00091363 0.0009136  0.00091265 0.00091228\n",
      " 0.00091194 0.00091045 0.00090964 0.00090837 0.00090835 0.00090825\n",
      " 0.00090732 0.00090581 0.00090413 0.000904   0.00090305 0.00090219\n",
      " 0.00090054 0.00090049 0.00090021 0.00089717 0.00089645 0.00089538\n",
      " 0.00089401 0.00089076 0.00088982 0.00088907 0.00088718 0.00088575\n",
      " 0.00088548 0.00088484 0.00088476 0.00088373 0.00088232 0.00087906\n",
      " 0.00087808 0.0008755  0.0008754  0.00087403 0.00087362 0.00087303\n",
      " 0.00087216 0.00087177 0.00087152 0.00087016 0.00086493 0.00086421\n",
      " 0.00086398 0.00086273 0.00086088 0.00086081 0.00085843 0.00085656\n",
      " 0.00085427 0.00085129 0.0008506  0.00085053 0.00084343 0.00084317\n",
      " 0.00084296 0.00083914 0.00083902 0.00083386 0.00083379 0.00083351\n",
      " 0.00083246 0.00083044 0.00083013 0.00082909 0.00082775 0.00082492\n",
      " 0.00082444 0.00082324 0.00082293 0.00082186 0.00082074 0.00082069\n",
      " 0.00081991 0.00081955 0.00081667 0.0008156  0.00081317 0.00081294\n",
      " 0.00081029 0.00080934 0.000809   0.00080816 0.000807   0.0008056\n",
      " 0.00080555 0.00080537 0.00080515 0.00080478 0.00080449 0.00080402\n",
      " 0.00080278 0.0008014  0.0008014  0.00079838 0.00079695 0.00079667\n",
      " 0.00079598 0.00079579 0.00079566 0.00079541 0.00079525 0.00079509\n",
      " 0.00079428 0.00079103 0.0007891  0.0007867  0.00078634 0.00078621\n",
      " 0.00078617 0.00078452 0.00078262 0.00078144 0.00078085 0.00078049\n",
      " 0.00078044 0.0007804  0.00078034 0.00077942 0.00077908 0.00077901\n",
      " 0.00077724 0.00077637 0.0007756  0.00077465 0.00077318 0.00077312\n",
      " 0.00077139 0.00077031 0.00076982 0.00076935 0.00076732 0.00076683\n",
      " 0.00076639 0.00076338 0.00076084 0.00075997 0.00075598 0.00075528\n",
      " 0.00075314 0.00075295 0.00075215 0.00075134 0.00074954 0.00074821\n",
      " 0.00074798 0.00074674 0.00074485 0.00074469 0.0007439  0.00074294\n",
      " 0.00074281 0.00074092 0.00074089 0.00074007 0.00073689 0.00073639\n",
      " 0.00073637 0.00073537 0.00073371 0.0007327  0.00073226 0.00073169\n",
      " 0.00073027 0.00073018 0.00072891 0.00072765 0.00072603 0.00072485\n",
      " 0.00072369 0.00072295 0.00072282 0.00072056 0.00072037 0.00071917\n",
      " 0.00071656 0.00071614 0.00071542 0.00071486 0.00071468 0.00071418\n",
      " 0.00071326 0.00071299 0.00071216 0.00071165 0.00071048 0.00071042\n",
      " 0.00070863 0.00070516 0.00070484 0.00070327 0.00070188 0.00070172\n",
      " 0.00070136 0.00070096 0.00069963 0.00069959 0.00069799 0.00069746\n",
      " 0.00069549 0.00069532 0.00069464 0.00069439 0.00069163 0.00069154\n",
      " 0.00069101 0.00069025 0.00068951 0.00068892 0.00068843 0.0006882\n",
      " 0.00068724 0.00068658 0.00068643 0.00068424 0.00068384 0.00068243\n",
      " 0.00068137 0.00067605 0.00067605 0.00067421 0.00067267 0.00067128\n",
      " 0.00067081 0.00067075 0.00066915 0.00066751 0.00066454 0.00066215\n",
      " 0.00066193 0.00066063 0.00065869 0.00065333 0.00065328 0.00065315\n",
      " 0.00064951 0.00064786 0.00064695 0.00064672 0.00064598 0.00064301\n",
      " 0.00063904 0.00063789 0.00063512 0.00063436 0.00062991 0.00062645\n",
      " 0.00062565 0.00062558 0.00061729 0.00061671 0.00061385 0.00061054\n",
      " 0.00060638 0.00060314 0.00059977 0.00059684 0.00059103 0.00058942\n",
      " 0.00056734 0.00056304 0.00056158 0.00055756 0.00054781 0.00054633\n",
      " 0.00054247 0.00053912 0.00053856 0.00052916 0.0005211  0.00052082\n",
      " 0.00051067 0.00051002 0.00049366 0.0004901  0.0004784  0.00046714\n",
      " 0.00046655 0.00046338 0.00046331 0.00046133 0.00046014 0.00044316\n",
      " 0.00042287 0.00040823 0.00040542 0.0003904  0.0003857  0.00029005\n",
      " 0.00025893]\n"
     ]
    },
    {
     "data": {
      "image/png": "[encoded data removed]",
      "text/plain": [
       "<Figure size 864x288 with 1 Axes>"
      ]
     },
     "metadata": {
      "needs_background": "light"
     },
     "output_type": "display_data"
    }
   ],
   "source": [
    "dists = chamfer_evaluate(modified_preds, cloud_list[:limit], id_list, cat, blueprint,  ifcConvert_executable,\n",
    "                     cloudCompare_executable, temp_dir, target_dir, sample_size, threshold, icp_correction = False)\n",
    "\n",
    "if inference:\n",
    "    with open(model_path/('preds_finetuned_' + cat + '.pkl'), 'wb') as f:\n",
    "        pickle.dump([modified_preds, id_list, dists], f)\n",
    "\n",
    "plot_error_graph(dists, \"chamfer loss\")"
   ]
  },
  {
   "cell_type": "code",
   "execution_count": null,
   "metadata": {},
   "outputs": [],
   "source": [
    "\n",
    "# generate points on surface of tee\n",
    "def generate_tee_cloud(preds):\n",
    "    # read params\n",
    "    r1, l1, r2, l2 = abs(preds[0]), preds[1], preds[2], preds[3]\n",
    "    d1 = get_direction_from_trig(preds, 7)\n",
    "    d2 = get_direction_from_trig(preds, 13)\n",
    "    p2 = [preds[4], preds[5], preds[6]]\n",
    "    p1 = [p2[i] - ((l1*d1[i])/2) for i in range(3)]\n",
    "\n",
    "    # get new coordinate frame of tee\n",
    "    old_z = (0., 0., 1.)\n",
    "    x_axis = vector_normalise(np.cross(d1, old_z))\n",
    "    y_axis = vector_normalise(np.cross(d1, x_axis))\n",
    "\n",
    "    # sample points on main tube\n",
    "    no_of_axis_points = 50    \n",
    "    no_of_ring_points = 40\n",
    "    tube1_points = get_cylinder_points(no_of_axis_points, no_of_ring_points, \n",
    "                                      r1, l1, p1, d1, x_axis, y_axis)\n",
    "\n",
    "    # sample points on secondary tube\n",
    "    x_axis = vector_normalise(np.cross(d2, old_z))\n",
    "    y_axis = vector_normalise(np.cross(d2, x_axis))   \n",
    "    tube2_points = get_cylinder_points(no_of_axis_points, no_of_ring_points, \n",
    "                                      r2, l2, p2, d2, x_axis, y_axis)\n",
    "\n",
    "    # remove points from secondary tube in main tube\n",
    "    tube2_points = np.array(tube2_points)\n",
    "    p1, p2 = np.array(p1), np.array(p2)\n",
    "    p2p1 = p2-p1\n",
    "    p2p1_mag = vector_mag(p2p1)\n",
    "    tube2_points_ref = []\n",
    "\n",
    "    for q in tube2_points:\n",
    "        dist = vector_mag(np.cross((q-p1), (p2p1))) / p2p1_mag\n",
    "        print(dist, r1)\n",
    "        if dist > r1:\n",
    "            print('r', dist)\n",
    "            tube2_points_ref.append(q.tolist())\n",
    "\n",
    "    # remove points from main tube in secondary tube\n",
    "    tube1_points = np.array(tube1_points)\n",
    "    p3 = np.array(p2 + d2)\n",
    "    p2p3 = p2-p3\n",
    "    p2p3_mag = vector_mag(p2p3)\n",
    "    tube1_points_ref = []\n",
    "\n",
    "    for q in tube1_points:\n",
    "        dist = vector_mag(np.cross((q-p3), (p2p3))) / p2p3_mag\n",
    "        cos_theta = np.dot(q-p2, p2p3)\n",
    "        if dist > r2 or cos_theta > 0:\n",
    "            tube1_points_ref.append(q.tolist())\n",
    "\n",
    "    # make sure not all points are deleted if predictions are very wrong\n",
    "    thresh = 50\n",
    "    if len(tube1_points_ref) < thresh and len(tube2_points_ref) < thresh:\n",
    "        return (tube1_points + tube2_points)\n",
    "    elif len(tube2_points_ref) < thresh:\n",
    "        return (tube1_points_ref + tube2_points)\n",
    "    elif len(tube1_points_ref) < thresh:\n",
    "        return (tube1_points + tube2_points_ref)\n",
    "    else:\n",
    "        return (tube1_points_ref + tube2_points_ref)"
   ]
  },
  {
   "cell_type": "code",
   "execution_count": 11,
   "metadata": {},
   "outputs": [
    {
     "name": "stderr",
     "output_type": "stream",
     "text": [
      "/tmp/ipykernel_1893/4259431617.py:1: UserWarning: Creating a tensor from a list of numpy.ndarrays is extremely slow. Please consider converting the list to a single numpy.ndarray with numpy.array() before converting to a tensor. (Triggered internally at /opt/conda/conda-bld/pytorch_1666642975993/work/torch/csrc/utils/tensor_new.cpp:230.)\n",
      "  preds = torch.tensor([predictions_list[1]]).cuda()\n"
     ]
    },
    {
     "name": "stdout",
     "output_type": "stream",
     "text": [
      "[-0.17579098  1.5928817   0.170317    0.85650873 -0.03629723  0.14758301\n",
      " -0.20166188 -0.67296106  0.7596579  -0.4671862   0.8439026   0.39583406\n",
      "  0.8861705   0.4789741   0.86622447 -0.03916375  0.9693682   0.6652696\n",
      "  0.6601773 ]\n"
     ]
    },
    {
     "data": {
      "text/plain": [
       "True"
      ]
     },
     "execution_count": 11,
     "metadata": {},
     "output_type": "execute_result"
    }
   ],
   "source": [
    "preds = torch.tensor([predictions_list[1]]).cuda()\n",
    "print(predictions_list[1])\n",
    "pcd = generate_tee_cloud_tensor(preds)\n",
    "#tee = generate_tee_cloud(predictions_list[0])\n",
    "tee = pcd[0].cpu().numpy()\n",
    "tee = o3d.utility.Vector3dVector(tee)\n",
    "tee_cloud = o3d.geometry.PointCloud()\n",
    "tee_cloud.points = tee\n",
    "o3d.io.write_point_cloud(\"tee_cl.pcd\", tee_cloud)\n"
   ]
  },
  {
   "cell_type": "code",
   "execution_count": 13,
   "metadata": {},
   "outputs": [
    {
     "data": {
      "text/plain": [
       "True"
      ]
     },
     "execution_count": 13,
     "metadata": {},
     "output_type": "execute_result"
    }
   ],
   "source": [
    "original = cloud_list[2]\n",
    "points= o3d.utility.Vector3dVector(original.transpose(1,0))\n",
    "tee_cloud.points = points\n",
    "o3d.io.write_point_cloud(\"tee_cl_inp.pcd\", tee_cloud)"
   ]
  },
  {
   "cell_type": "code",
   "execution_count": null,
   "metadata": {},
   "outputs": [],
   "source": [
    "# undo normalisation opf the bp tee dataset created for inference, only for comparison with the inferred tee results\n",
    "tee_path = 'tee_fix/tee/test/'\n",
    "metadata_file = open(\"tee_fix/tee/metadata.json\", 'r')\n",
    "metadata = json.load(metadata_file)\n",
    "output_path = 'tee_fix/tee/unnormalised/'\n",
    "\n",
    "files = os.listdir(tee_path)\n",
    "new_points = []\n",
    "for f in tqdm(files):\n",
    "    cloud_data = metadata[f.split(\".\")[0]]\n",
    "    points = np.array(o3d.io.read_point_cloud(tee_path + f).points)\n",
    "    print(\"a\", points[0])\n",
    "    print(cloud_data[\"norm_factor\"], cloud_data[\"mean\"])\n",
    "    points *= cloud_data[\"norm_factor\"]\n",
    "    print(\"b\", points[0])\n",
    "\n",
    "    for i, pnt in enumerate(points):\n",
    "        pnt += cloud_data[\"mean\"]\n",
    "    print(\"c\", points[10])\n",
    "    new_points.append(points)\n",
    "        \n",
    "new_points = o3d.utility.Vector3dVector(np.concatenate(new_points))\n",
    "new_cloud = o3d.geometry.PointCloud()\n",
    "new_cloud.points = new_points\n",
    "o3d.io.write_point_cloud(output_path+\"tee_bp_unnormalised.pcd\", new_cloud)"
   ]
  },
  {
   "cell_type": "markdown",
   "metadata": {},
   "source": [
    "## Mesh deformation"
   ]
  },
  {
   "cell_type": "code",
   "execution_count": null,
   "metadata": {},
   "outputs": [],
   "source": []
  }
 ],
 "metadata": {
  "accelerator": "GPU",
  "colab": {
   "provenance": []
  },
  "gpuClass": "standard",
  "kernelspec": {
   "display_name": "Python 3 (ipykernel)",
   "language": "python",
   "name": "python3"
  },
  "language_info": {
   "codemirror_mode": {
    "name": "ipython",
    "version": 3
   },
   "file_extension": ".py",
   "mimetype": "text/x-python",
   "name": "python",
   "nbconvert_exporter": "python",
   "pygments_lexer": "ipython3",
   "version": "3.9.7"
  }
 },
 "nbformat": 4,
 "nbformat_minor": 1
}
