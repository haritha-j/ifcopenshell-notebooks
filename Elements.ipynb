{
 "cells": [
  {
   "cell_type": "markdown",
   "metadata": {
    "id": "NpvL68OfBEQC"
   },
   "source": [
    "# Element Parameter Detection"
   ]
  },
  {
   "cell_type": "markdown",
   "metadata": {
    "id": "-z7n_pw4SMWl"
   },
   "source": [
    "## Setup"
   ]
  },
  {
   "cell_type": "code",
   "execution_count": 1,
   "metadata": {
    "id": "TJ47VNF7fmTS",
    "scrolled": true
   },
   "outputs": [
    {
     "name": "stdout",
     "output_type": "stream",
     "text": [
      "Jupyter environment detected. Enabling Open3D WebVisualizer.\n",
      "[Open3D INFO] WebRTC GUI backend enabled.\n",
      "[Open3D INFO] WebRTCWindowSystem: HTTP handshake server disabled.\n"
     ]
    }
   ],
   "source": [
    "import numpy as np\n",
    "import math\n",
    "import random\n",
    "import os\n",
    "import os.path\n",
    "import torch\n",
    "import sys\n",
    "import copy\n",
    "import pickle\n",
    "import importlib\n",
    "import torch.nn as nn\n",
    "import time\n",
    "import functorch\n",
    "\n",
    "from torch.utils.data import Dataset, DataLoader\n",
    "from torchvision import transforms, utils\n",
    "import matplotlib.pyplot as plt\n",
    "from chamferdist import ChamferDistance\n",
    "from pathlib import Path\n",
    "\n",
    "import ifcopenshell\n",
    "import open3d as o3d\n",
    "\n",
    "from src.elements import *\n",
    "from src.ifc import *\n",
    "from src. preparation import *\n",
    "from src.dataset import *\n",
    "from src.pointnet import *\n",
    "from src.visualisation import *\n",
    "from src.geometry import sq_distance\n",
    "from src.icp import icp_finetuning\n",
    "from src.chamfer import *\n",
    "from src.utils import *\n",
    "from src.plots import plot_error_graph, plot_parameter_errors\n",
    "from src.pca import testset_PCA\n",
    "from src.finetune import chamfer_fine_tune\n",
    "from tqdm.notebook import tqdm\n"
   ]
  },
  {
   "cell_type": "code",
   "execution_count": 2,
   "metadata": {
    "id": "vpzTlKjmlr2q",
    "scrolled": true
   },
   "outputs": [],
   "source": [
    "random.seed = 42"
   ]
  },
  {
   "cell_type": "code",
   "execution_count": 3,
   "metadata": {
    "id": "Xyu78RWIQEQJ",
    "scrolled": true
   },
   "outputs": [],
   "source": [
    "#path = Path(\"ModelNet10\")\n",
    "#path = Path('/content/drive/MyDrive/ElementNet/')\n",
    "path = Path('output/')\n",
    "#savepath = '/content/drive/MyDrive/ElementNet/'\n",
    "savepath = 'models/'"
   ]
  },
  {
   "cell_type": "markdown",
   "metadata": {
    "id": "Isb_97zOA8Tl"
   },
   "source": [
    "## Model"
   ]
  },
  {
   "cell_type": "markdown",
   "metadata": {
    "id": "_8W4gOI_P9a9"
   },
   "source": [
    "## Test\n",
    "\n",
    "Analyze results statistically\n",
    "\n",
    "POINTNET++"
   ]
  },
  {
   "cell_type": "code",
   "execution_count": 4,
   "metadata": {
    "id": "4pOl95glmphX",
    "scrolled": true
   },
   "outputs": [],
   "source": [
    "train_transforms = transforms.Compose([\n",
    "                    Normalize(),\n",
    "#                    RandomNoise(),\n",
    "                    ToTensor()\n",
    "                    ])"
   ]
  },
  {
   "cell_type": "code",
   "execution_count": 44,
   "metadata": {
    "scrolled": true
   },
   "outputs": [
    {
     "data": {
      "text/plain": [
       "<All keys matched successfully>"
      ]
     },
     "execution_count": 44,
     "metadata": {},
     "output_type": "execute_result"
    }
   ],
   "source": [
    "# load data and model\n",
    "BASE_DIR = os.path.dirname(os.path.abspath('industrial-facility-relationships/'))\n",
    "BASE_DIR = os.path.join(BASE_DIR, 'pointnet2')\n",
    "ROOT_DIR = BASE_DIR\n",
    "sys.path.append(os.path.join(ROOT_DIR, 'models'))\n",
    "inference = True\n",
    "\n",
    "if inference:\n",
    "#     path = Path('output/bp_data/')\n",
    "#     ext = \".ply\"\n",
    "    #path = Path('output/west_ref/')\n",
    "    path = Path('/mnt/c/data/3D_CAD/east_clouds/')\n",
    "    ext = \".pcd\"\n",
    "else:\n",
    "    path = Path('output/')\n",
    "    ext = \".pcd\"\n",
    "\n",
    "cat= 'pipe'\n",
    "device = torch.device(\"cuda:0\" if torch.cuda.is_available() else \"cpu\")\n",
    "use_normals = False\n",
    "cat_targets = {\"elbow\":14, \"bend\":14, \"tee\":19, \"pipe\":11, \"flange\":13}\n",
    "\n",
    "if inference:\n",
    "    test_ds = PointCloudData(path, valid=True, folder='test', category=cat, transform=train_transforms, inference=True)\n",
    "    targets = cat_targets[cat]\n",
    "else:\n",
    "    test_ds = PointCloudData(path, valid=True, folder='test', category=cat, transform=train_transforms)\n",
    "    targets = test_ds.targets\n",
    "\n",
    "testDataLoader = torch.utils.data.DataLoader(dataset=test_ds, batch_size=32)\n",
    "test_criterion = nn.MSELoss()\n",
    "\n",
    "model_name = \"pointnet2_cls_ssg\"\n",
    "model_path = Path(\"pointnet2/log/classification/pointnet2_cls_ssg/\")\n",
    "model = importlib.import_module(model_name)\n",
    "\n",
    "\n",
    "predictor = model.get_model(targets, normal_channel=use_normals)\n",
    "if device != \"cpu\":\n",
    "    predictor = predictor.cuda()\n",
    "\n",
    "#checkpoint = torch.load(model_path/'checkpoints/best_model.pth')\n",
    "checkpoint = torch.load(model_path/'checkpoints/models/best_model_p_chamfer_0005.pth')\n",
    "predictor.load_state_dict(checkpoint['model_state_dict'])\n"
   ]
  },
  {
   "cell_type": "code",
   "execution_count": 45,
   "metadata": {
    "scrolled": true
   },
   "outputs": [],
   "source": [
    "blueprint = 'data/sample.ifc'\n",
    "temp_dir = \"output/temp/\"\n",
    "target_dir = \"output/tee/test/\"\n",
    "\n",
    "ifcConvert_executable = \"scripts/./IfcConvert\"\n",
    "cloudCompare_executable = \"cloudcompare.CloudCompare\"\n",
    "sample_size = 2048\n",
    "threshold = 2"
   ]
  },
  {
   "cell_type": "code",
   "execution_count": 46,
   "metadata": {
    "scrolled": true
   },
   "outputs": [],
   "source": [
    "def model_inference(model, loader, device, calculate_score=False):\n",
    "    predictor = model.eval()\n",
    "    predictions_list, pcd_list, id_list = [], [], []\n",
    "    with torch.no_grad():\n",
    "        for j, data  in tqdm(enumerate(loader), total=len(loader)):\n",
    "            points, ids = data['pointcloud'].to(device).float(), data['id'].to(device)\n",
    "            points = points.transpose(2, 1)\n",
    "            preds, _ = predictor(points)\n",
    "            preds, points, ids = preds.to(torch.device('cpu')), points.to(torch.device('cpu')), data['id'].to(torch.device('cpu'))\n",
    "            for i, pr in enumerate(preds):\n",
    "                predictions_list.append(pr.numpy())\n",
    "                pcd_list.append(points[i].numpy())\n",
    "                id_list.append(ids[i].numpy())\n",
    "\n",
    "        return (predictions_list, pcd_list, id_list)"
   ]
  },
  {
   "cell_type": "code",
   "execution_count": 47,
   "metadata": {
    "scrolled": true
   },
   "outputs": [
    {
     "data": {
      "application/vnd.jupyter.widget-view+json": {
       "model_id": "9d033ef88fa04fa88bca745b60303dc8",
       "version_major": 2,
       "version_minor": 0
      },
      "text/plain": [
       "  0%|          | 0/257 [00:00<?, ?it/s]"
      ]
     },
     "metadata": {},
     "output_type": "display_data"
    }
   ],
   "source": [
    "if inference:\n",
    "    predictions_list, cloud_list, id_list = model_inference(predictor.eval(), testDataLoader, device)"
   ]
  },
  {
   "cell_type": "code",
   "execution_count": null,
   "metadata": {
    "scrolled": true
   },
   "outputs": [],
   "source": [
    "def test(model, loader, device, criterion):\n",
    "    losses = []\n",
    "    predictor = model.eval()\n",
    "    cloud_list = []\n",
    "    label_list = []\n",
    "    output_list = []\n",
    "    predictions_list = []\n",
    "    inputs_list = []\n",
    "    id_list = []\n",
    "    parameter_id = 0\n",
    "    tot = 0\n",
    "    count = 0\n",
    "    \n",
    "    for j, data  in tqdm(enumerate(loader), total=len(loader)):\n",
    "        inputs, labels, ids = data['pointcloud'].to(device).float(), data['properties'].to(device), data['id'].to(device)\n",
    "        points, target, ids = data['pointcloud'].to(device).float(), data['properties'].to(device), data['id'].to(device)\n",
    "        points = points.transpose(2, 1)\n",
    "        outputs, _ = predictor(points)\n",
    "        outputs = outputs.to(torch.device('cpu'))\n",
    "        inputs = points.to(torch.device('cpu'))\n",
    "        labels = target.to(torch.device('cpu'))\n",
    "        ids = ids.to(torch.device('cpu'))\n",
    "        #print(data['pointcloud'].size(), labels.size(), outputs.size())\n",
    "\n",
    "        for i in range(outputs.size(0)):\n",
    "            label_list.append(labels[i][parameter_id].item())\n",
    "            id_list.append(ids[i].item())\n",
    "            output_list.append(outputs[i][parameter_id].item())\n",
    "            predictions_list.append(outputs[i].numpy())\n",
    "            inputs_list.append(labels[i].numpy())\n",
    "            cloud_list.append(inputs[i].numpy())\n",
    "            ratio = ((labels[i][parameter_id]-outputs[i][parameter_id])/labels[i][parameter_id]).item()\n",
    "            #print('r', i+count, ids[i].item(), labels[i][parameter_id].item(), outputs[i][parameter_id].item(), ratio)\n",
    "            tot += np.absolute(ratio)\n",
    "            #print('l', labels[i][1].item(), outputs[i][1].item(), ((labels[i][1]-outputs[i][1])/labels[i][1]).item())\n",
    "        \n",
    "        count += outputs.size(0)\n",
    "    print(tot/count)\n",
    "\n",
    "    return predictions_list, inputs_list, label_list, output_list, id_list, cloud_list"
   ]
  },
  {
   "cell_type": "code",
   "execution_count": null,
   "metadata": {
    "scrolled": true
   },
   "outputs": [],
   "source": [
    "if not inference:\n",
    "    with torch.no_grad():\n",
    "        predictions_list, inputs_list, label_list, output_list, id_list, cloud_list = test(predictor.eval(), testDataLoader, device, test_criterion)\n",
    "\n",
    "    print(len(predictions_list), len(inputs_list))"
   ]
  },
  {
   "cell_type": "code",
   "execution_count": null,
   "metadata": {
    "scrolled": false
   },
   "outputs": [],
   "source": [
    "# k = 5\n",
    "# j = 4\n",
    "# direction = False\n",
    "# use_direction = True\n",
    "# square_error = True\n",
    "# error_calc(predictions_list, inputs_list, k, j, direction, use_direction, square_error)"
   ]
  },
  {
   "cell_type": "code",
   "execution_count": null,
   "metadata": {
    "scrolled": true
   },
   "outputs": [],
   "source": [
    "if not inference:\n",
    "    label_list, output_list, id_list = np.array(label_list), np.array(output_list), np.array(id_list)"
   ]
  },
  {
   "cell_type": "code",
   "execution_count": null,
   "metadata": {
    "scrolled": true
   },
   "outputs": [],
   "source": [
    "# ratio = np.absolute((label_list - output_list)/label_list)\n",
    "# ratio_ind = ratio.argsort()\n",
    "# id_list = id_list[ratio_ind]\n",
    "# print(id_list[-10:-1])\n",
    "\n",
    "# error_threshold = 0.1\n",
    "# correct = ratio[np.where(ratio < error_threshold)]\n",
    "# print(len(ratio), len(correct), len(correct)/len(ratio))\n"
   ]
  },
  {
   "cell_type": "code",
   "execution_count": null,
   "metadata": {
    "scrolled": false
   },
   "outputs": [],
   "source": [
    "# cloud_id = 2\n",
    "# pcd_id = 24229  \n"
   ]
  },
  {
   "cell_type": "markdown",
   "metadata": {},
   "source": [
    "#### Visually analyse predictions and Fine tune with ICP, calculate chamfer distances"
   ]
  },
  {
   "cell_type": "code",
   "execution_count": 21,
   "metadata": {
    "scrolled": true
   },
   "outputs": [],
   "source": [
    "# scaling up and down is required for icp calculations\n",
    "def chamfer_evaluate(predictions_list, cloud_list, id_list, cat, blueprint,  ifcConvert_executable,\n",
    "                     cloudCompare_executable, temp_dir, target_dir, sample_size,\n",
    "                     threshold, icp_correction = False):\n",
    "\n",
    "    preds_list, pcd_list = [], []\n",
    "    error_count = 0\n",
    "\n",
    "    # get predictions and pcds\n",
    "    for i in tqdm(range(len(predictions_list))):\n",
    "    #for i in tqdm(range(50)):\n",
    "        pcd_id = id_list[i]\n",
    "        pcd, preds = cloud_list[i].transpose(1, 0), copy.deepcopy(predictions_list[i])\n",
    "        #print(preds, inputs_list[i])\n",
    "\n",
    "        preds = scale_preds(preds.tolist(), cat)\n",
    "        #pcd, preds = prepare_visualisation(pcd_id, cat, i, cloud_list, predictions_list, path, ext)\n",
    "\n",
    "        try:\n",
    "            if  icp_correction:\n",
    "                # note: preds are updated in place during ICP\n",
    "                _, _ = icp_finetuning(o3d.utility.Vector3dVector(pcd), pcd_id, cat, preds, blueprint, temp_dir, target_dir, \n",
    "                                     ifcConvert_executable, cloudCompare_executable, sample_size, threshold, False)\n",
    "\n",
    "            preds_list.append(preds)\n",
    "            pcd_list.append(pcd)\n",
    "\n",
    "        except Exception as e:\n",
    "            print(\"ICP error\", pcd_id, e)\n",
    "            error_count += 1\n",
    "\n",
    "    # calculate chamfer distances\n",
    "    cuda = torch.device('cuda')    \n",
    "    rescaled_preds = [scale_preds(preds, cat, up=0) for preds in preds_list]\n",
    "    preds_t = torch.tensor(rescaled_preds, requires_grad=True, device=cuda)\n",
    "    cloud_t = torch.tensor(cloud_list, device=cuda)\n",
    "    \n",
    "    chamfer_dists = get_chamfer_loss_tensor(preds_t, cloud_t, cat, reduce=False)\n",
    "    chamfer_dists = chamfer_dists.detach().cpu().numpy()\n",
    "    \n",
    "#     for i, preds in enumerate(tqdm(preds_list)):\n",
    "#         preds = scale_preds(preds, cat, up=0)\n",
    "#         chamfer_distance, _ = get_chamfer_dist_single(pcd_list[i], preds, cat)\n",
    "#         chamfer_dists.append(chamfer_distance)\n",
    "        \n",
    "\n",
    "    \n",
    "    print(\"error_count\", error_count)\n",
    "    return chamfer_dists"
   ]
  },
  {
   "cell_type": "code",
   "execution_count": null,
   "metadata": {
    "scrolled": true
   },
   "outputs": [],
   "source": [
    "dists = chamfer_evaluate(predictions_list, cloud_list, id_list, cat, blueprint,  ifcConvert_executable,\n",
    "                     cloudCompare_executable, temp_dir, target_dir, sample_size, threshold, icp_correction = False)\n",
    "# if inference:\n",
    "#     with open(model_path + 'preds_' + cat + '.pkl', 'wb') as f:\n",
    "#         pickle.dump([predictions_list, id_list, dists], f)\n",
    "    \n",
    "plot_error_graph(dists, \"Binned chamfer loss\", max_val=300)"
   ]
  },
  {
   "cell_type": "code",
   "execution_count": 9,
   "metadata": {
    "scrolled": true
   },
   "outputs": [],
   "source": [
    "# scaling up and down is required for icp calculations\n",
    "def _visualise_predictions(predictions_list, cloud_list, id_list, cat, blueprint,  ifcConvert_executable,\n",
    "                     cloudCompare_executable, temp_dir, target_dir, sample_size,\n",
    "                     threshold, icp_correction = False):\n",
    "\n",
    "    preds_list, pcd_list = [], []\n",
    "    viewer_list, ifc_list = [], []\n",
    "    error_count = 0\n",
    "\n",
    "    # get predictions and pcds\n",
    "    #for i in tqdm(range(len(predictions_list))):\n",
    "    for i in tqdm(range(20)):\n",
    "        pcd_id = id_list[i].item()\n",
    "        pcd, preds = cloud_list[i].transpose(1, 0).tolist(), copy.deepcopy(predictions_list[i])\n",
    "        #print(preds, inputs_list[i])\n",
    "\n",
    "        preds = scale_preds(preds.tolist(), cat)\n",
    "        print(preds)\n",
    "        #pcd, preds = prepare_visualisation(pcd_id, cat, i, cloud_list, inputs_list, ext)\n",
    "\n",
    "#         try:\n",
    "        if  icp_correction:\n",
    "            # note: preds are updated in place during ICP\n",
    "            viewer, ifc = icp_finetuning(o3d.utility.Vector3dVector(pcd), pcd_id, cat, preds, blueprint, temp_dir, target_dir, \n",
    "                                 ifcConvert_executable, cloudCompare_executable, sample_size, threshold, True)\n",
    "        else:\n",
    "            #print(preds)\n",
    "            viewer, ifc = visualize_predictions([pcd], cat, [preds], blueprint, visualize=True)\n",
    "\n",
    "\n",
    "        preds_list.append(preds)\n",
    "        pcd_list.append(pcd)\n",
    "        viewer_list.append(viewer)\n",
    "        ifc_list.append(ifc)\n",
    "\n",
    "#         except Exception as e:\n",
    "#             print(\"ICP error\", pcd_id, e)\n",
    "#             error_count += 1\n",
    "\n",
    "\n",
    "    print(\"error_count\", error_count)    \n",
    "    return viewer_list"
   ]
  },
  {
   "cell_type": "code",
   "execution_count": 10,
   "metadata": {
    "scrolled": true
   },
   "outputs": [
    {
     "data": {
      "application/vnd.jupyter.widget-view+json": {
       "model_id": "2ad7d55ecd6946548782d80ceb6ec14d",
       "version_major": 2,
       "version_minor": 0
      },
      "text/plain": [
       "  0%|          | 0/20 [00:00<?, ?it/s]"
      ]
     },
     "metadata": {},
     "output_type": "display_data"
    },
    {
     "name": "stdout",
     "output_type": "stream",
     "text": [
      "[355.60083389282227, 1080.9063911437988, 1064.619541168213, 0.02854142151772976, 0.13536159694194794, 0.7400295734405518, 0.9654734134674072, 0.7116151452064514, 0.10841098427772522, 0.9608677625656128, 0.04554576426744461, 0.9250467419624329, 0.914433479309082, 0.5504113435745239]\n",
      "no points: 2048\n",
      "[201.47085189819336, 1051.903486251831, 40.991395711898804, 0.4337482750415802, -0.4512055516242981, 0.38725972175598145, 0.923037588596344, 0.05270659923553467, 0.0895514115691185, 0.91356360912323, -0.7502656579017639, 0.7719957828521729, 0.5264798402786255, 0.8121696710586548]\n",
      "no points: 2048\n",
      "[244.16594207286835, -240.21662771701813, -146.47366106510162, 0.06008584424853325, -0.3229069411754608, 0.01849021390080452, 0.8255033493041992, -0.3026048541069031, 0.329441100358963, 0.705597996711731, -0.4359726905822754, 0.6673094034194946, 0.32151713967323303, 0.8483374118804932]\n",
      "no points: 2048\n",
      "[290.01426696777344, 245.09525299072266, 428.81911993026733, 0.6074424386024475, -0.061299003660678864, 0.16959825158119202, 0.9054267406463623, 0.34295517206192017, 0.7840291857719421, 0.5836111307144165, -0.1450740247964859, 0.8764907121658325, 0.18311622738838196, 0.9915176630020142]\n",
      "no points: 2048\n",
      "[257.4806809425354, -636.0244750976562, -439.42028284072876, -0.29231998324394226, 0.19919341802597046, 0.048613451421260834, 0.9344730377197266, 0.20416760444641113, -0.40936145186424255, 0.6784120798110962, 0.10447254031896591, 0.76189124584198, 0.2974357008934021, 0.8883930444717407]\n",
      "no points: 2048\n",
      "[198.8070011138916, -988.192617893219, -97.76940941810608, 0.4579913914203644, -0.4231792390346527, 0.10540073364973068, 0.9940478801727295, 0.07594168186187744, 0.758543848991394, 0.675294041633606, -0.24332907795906067, 0.8204395771026611, 0.23681354522705078, 0.9638315439224243]\n",
      "no points: 2048\n",
      "[219.90841627120972, -130.5578649044037, -297.903835773468, 0.03682273253798485, 0.2142873853445053, 0.0006356090307235718, 0.9921384453773499, -0.08909812569618225, -0.20008276402950287, 0.7321175336837769, 0.451376348733902, 0.7905636429786682, 0.2694667875766754, 0.9264661073684692]\n",
      "no points: 2048\n",
      "[226.5811413526535, 536.5824699401855, -325.87605714797974, 0.2370610237121582, -0.40893036127090454, 0.006313584744930267, 0.7961388826370239, -0.22590619325637817, -0.014062117785215378, 0.7945252060890198, -0.6305046081542969, 0.7095628976821899, 0.2736528515815735, 0.9317061305046082]\n",
      "no points: 2048\n",
      "[294.63788866996765, 961.401104927063, 953.3392786979675, 0.06178344413638115, 0.14962352812290192, 0.7345790266990662, 1.0241992473602295, 0.5470237135887146, 0.17703501880168915, 0.9367713928222656, -0.017292266711592674, 0.9139106273651123, 0.9058341383934021, 0.5536237359046936]\n",
      "no points: 2048\n",
      "[182.74345993995667, 493.6171770095825, 678.1904101371765, -0.016716035082936287, 0.44647330045700073, 0.49709123373031616, 0.8379208445549011, -0.2914845943450928, 0.328330397605896, 0.8489863276481628, 0.7020737528800964, 0.7014005184173584, 0.28035128116607666, 0.9557227492332458]\n",
      "no points: 2048\n",
      "[242.3214614391327, -22.528771311044693, -446.15840911865234, 0.29284384846687317, -0.04544868692755699, -0.08806018531322479, 0.906295895576477, 0.02998793125152588, 0.4290086030960083, 0.6592432856559753, -0.07777481526136398, 0.6525270938873291, 0.2186242640018463, 0.9136477112770081]\n",
      "no points: 2048\n",
      "[230.29311001300812, 584.2272043228149, 722.5287556648254, -0.00484774075448513, 0.28080204129219055, 0.7465274333953857, 0.9598836898803711, 0.0922166109085083, 0.3239099383354187, 0.9369529485702515, 0.07869535684585571, 0.9305957555770874, 0.9265241622924805, 0.547858715057373]\n",
      "no points: 2048\n",
      "[191.7099505662918, -21.81420847773552, 935.1142048835754, -0.014555775560438633, -0.4962092638015747, 0.4180283844470978, 0.946286678314209, -0.009259223937988281, 0.04357915371656418, 0.8961949944496155, -0.8209803700447083, 0.6012463569641113, 0.1987762302160263, 0.9921685457229614]\n",
      "no points: 2048\n",
      "[535.8810424804688, -261.2396478652954, -123.18290770053864, -0.13163648545742035, -0.5374058485031128, -0.026888154447078705, 0.6542481780052185, 0.9302234053611755, -0.22915001213550568, 0.8871169090270996, -0.7907572388648987, 0.5829541683197021, 0.09420084953308105, 1.0479055643081665]\n"
     ]
    },
    {
     "ename": "RuntimeError",
     "evalue": "Failed to process shape",
     "output_type": "error",
     "traceback": [
      "\u001b[0;31m---------------------------------------------------------------------------\u001b[0m",
      "\u001b[0;31mRuntimeError\u001b[0m                              Traceback (most recent call last)",
      "Input \u001b[0;32mIn [10]\u001b[0m, in \u001b[0;36m<cell line: 1>\u001b[0;34m()\u001b[0m\n\u001b[0;32m----> 1\u001b[0m viewers \u001b[38;5;241m=\u001b[39m \u001b[43m_visualise_predictions\u001b[49m\u001b[43m(\u001b[49m\u001b[43mpredictions_list\u001b[49m\u001b[43m,\u001b[49m\u001b[43m \u001b[49m\u001b[43mcloud_list\u001b[49m\u001b[43m,\u001b[49m\u001b[43m \u001b[49m\u001b[43mid_list\u001b[49m\u001b[43m,\u001b[49m\u001b[43m \u001b[49m\u001b[43mcat\u001b[49m\u001b[43m,\u001b[49m\u001b[43m \u001b[49m\u001b[43mblueprint\u001b[49m\u001b[43m,\u001b[49m\u001b[43m  \u001b[49m\u001b[43mifcConvert_executable\u001b[49m\u001b[43m,\u001b[49m\n\u001b[1;32m      2\u001b[0m \u001b[43m                     \u001b[49m\u001b[43mcloudCompare_executable\u001b[49m\u001b[43m,\u001b[49m\u001b[43m \u001b[49m\u001b[43mtemp_dir\u001b[49m\u001b[43m,\u001b[49m\u001b[43m \u001b[49m\u001b[43mtarget_dir\u001b[49m\u001b[43m,\u001b[49m\u001b[43m \u001b[49m\u001b[43msample_size\u001b[49m\u001b[43m,\u001b[49m\u001b[43m \u001b[49m\u001b[43mthreshold\u001b[49m\u001b[43m,\u001b[49m\u001b[43m \u001b[49m\u001b[43micp_correction\u001b[49m\u001b[43m \u001b[49m\u001b[38;5;241;43m=\u001b[39;49m\u001b[43m \u001b[49m\u001b[38;5;28;43;01mFalse\u001b[39;49;00m\u001b[43m)\u001b[49m\n",
      "Input \u001b[0;32mIn [9]\u001b[0m, in \u001b[0;36m_visualise_predictions\u001b[0;34m(predictions_list, cloud_list, id_list, cat, blueprint, ifcConvert_executable, cloudCompare_executable, temp_dir, target_dir, sample_size, threshold, icp_correction)\u001b[0m\n\u001b[1;32m     24\u001b[0m     viewer, ifc \u001b[38;5;241m=\u001b[39m icp_finetuning(o3d\u001b[38;5;241m.\u001b[39mutility\u001b[38;5;241m.\u001b[39mVector3dVector(pcd), pcd_id, cat, preds, blueprint, temp_dir, target_dir, \n\u001b[1;32m     25\u001b[0m                          ifcConvert_executable, cloudCompare_executable, sample_size, threshold, \u001b[38;5;28;01mTrue\u001b[39;00m)\n\u001b[1;32m     26\u001b[0m \u001b[38;5;28;01melse\u001b[39;00m:\n\u001b[1;32m     27\u001b[0m     \u001b[38;5;66;03m#print(preds)\u001b[39;00m\n\u001b[0;32m---> 28\u001b[0m     viewer, ifc \u001b[38;5;241m=\u001b[39m \u001b[43mvisualize_predictions\u001b[49m\u001b[43m(\u001b[49m\u001b[43m[\u001b[49m\u001b[43mpcd\u001b[49m\u001b[43m]\u001b[49m\u001b[43m,\u001b[49m\u001b[43m \u001b[49m\u001b[43mcat\u001b[49m\u001b[43m,\u001b[49m\u001b[43m \u001b[49m\u001b[43m[\u001b[49m\u001b[43mpreds\u001b[49m\u001b[43m]\u001b[49m\u001b[43m,\u001b[49m\u001b[43m \u001b[49m\u001b[43mblueprint\u001b[49m\u001b[43m,\u001b[49m\u001b[43m \u001b[49m\u001b[43mvisualize\u001b[49m\u001b[38;5;241;43m=\u001b[39;49m\u001b[38;5;28;43;01mTrue\u001b[39;49;00m\u001b[43m)\u001b[49m\n\u001b[1;32m     31\u001b[0m preds_list\u001b[38;5;241m.\u001b[39mappend(preds)\n\u001b[1;32m     32\u001b[0m pcd_list\u001b[38;5;241m.\u001b[39mappend(pcd)\n",
      "File \u001b[0;32m~/documents/industrial-facility-relationships/src/visualisation.py:108\u001b[0m, in \u001b[0;36mvisualize_predictions\u001b[0;34m(clouds, element, preds_list, blueprint, use_directions, visualize, z)\u001b[0m\n\u001b[1;32m    106\u001b[0m \u001b[38;5;66;03m#ifc.write(\"temp.ifc\")\u001b[39;00m\n\u001b[1;32m    107\u001b[0m \u001b[38;5;28;01mif\u001b[39;00m visualize:\n\u001b[0;32m--> 108\u001b[0m     \u001b[38;5;28;01mreturn\u001b[39;00m \u001b[43mvis_ifc_and_cloud\u001b[49m\u001b[43m(\u001b[49m\u001b[43mifc\u001b[49m\u001b[43m,\u001b[49m\u001b[43m \u001b[49m\u001b[43mclouds\u001b[49m\u001b[43m)\u001b[49m, ifc\n\u001b[1;32m    109\u001b[0m \u001b[38;5;28;01melse\u001b[39;00m:\n\u001b[1;32m    110\u001b[0m     \u001b[38;5;28;01mreturn\u001b[39;00m ifc\n",
      "File \u001b[0;32m~/documents/industrial-facility-relationships/src/visualisation.py:17\u001b[0m, in \u001b[0;36mvis_ifc_and_cloud\u001b[0;34m(ifc, clouds)\u001b[0m\n\u001b[1;32m     16\u001b[0m \u001b[38;5;28;01mdef\u001b[39;00m \u001b[38;5;21mvis_ifc_and_cloud\u001b[39m(ifc, clouds):\n\u001b[0;32m---> 17\u001b[0m     viewer \u001b[38;5;241m=\u001b[39m \u001b[43mJupyterIFCRenderer\u001b[49m\u001b[43m(\u001b[49m\u001b[43mifc\u001b[49m\u001b[43m,\u001b[49m\u001b[43m \u001b[49m\u001b[43msize\u001b[49m\u001b[38;5;241;43m=\u001b[39;49m\u001b[43m(\u001b[49m\u001b[38;5;241;43m400\u001b[39;49m\u001b[43m,\u001b[49m\u001b[43m \u001b[49m\u001b[38;5;241;43m300\u001b[39;49m\u001b[43m)\u001b[49m\u001b[43m)\u001b[49m\n\u001b[1;32m     18\u001b[0m     colours \u001b[38;5;241m=\u001b[39m [\u001b[38;5;124m'\u001b[39m\u001b[38;5;124m#ff7070\u001b[39m\u001b[38;5;124m'\u001b[39m, \u001b[38;5;124m'\u001b[39m\u001b[38;5;124m#70ff70\u001b[39m\u001b[38;5;124m'\u001b[39m, \u001b[38;5;124m'\u001b[39m\u001b[38;5;124m#7070ff\u001b[39m\u001b[38;5;124m'\u001b[39m]\n\u001b[1;32m     19\u001b[0m     \u001b[38;5;28;01mfor\u001b[39;00m i, cloud \u001b[38;5;129;01min\u001b[39;00m \u001b[38;5;28menumerate\u001b[39m(clouds):\n",
      "File \u001b[0;32m~/documents/industrial-facility-relationships/utils/JupyterIFCRenderer.py:68\u001b[0m, in \u001b[0;36mJupyterIFCRenderer.__init__\u001b[0;34m(self, model, display_ents, hide_ents, size, compute_normals_mode, default_shape_color, default_edge_color, default_vertex_color, pick_color, background_color)\u001b[0m\n\u001b[1;32m     64\u001b[0m \u001b[38;5;28;01mfor\u001b[39;00m product \u001b[38;5;129;01min\u001b[39;00m to_display:\n\u001b[1;32m     65\u001b[0m     \u001b[38;5;66;03m# some IfcProducts don't have any 3d representation\u001b[39;00m\n\u001b[1;32m     66\u001b[0m     \u001b[38;5;28;01mif\u001b[39;00m (product\u001b[38;5;241m.\u001b[39mRepresentation \u001b[38;5;129;01mis\u001b[39;00m \u001b[38;5;129;01mnot\u001b[39;00m \u001b[38;5;28;01mNone\u001b[39;00m ) :  \n\u001b[0;32m---> 68\u001b[0m         pdct_shape \u001b[38;5;241m=\u001b[39m \u001b[43mifcopenshell\u001b[49m\u001b[38;5;241;43m.\u001b[39;49m\u001b[43mgeom\u001b[49m\u001b[38;5;241;43m.\u001b[39;49m\u001b[43mcreate_shape\u001b[49m\u001b[43m(\u001b[49m\u001b[43msettings\u001b[49m\u001b[43m,\u001b[49m\u001b[43m \u001b[49m\u001b[43minst\u001b[49m\u001b[38;5;241;43m=\u001b[39;49m\u001b[43mproduct\u001b[49m\u001b[43m)\u001b[49m\n\u001b[1;32m     69\u001b[0m         r,g,b,alpha \u001b[38;5;241m=\u001b[39m pdct_shape\u001b[38;5;241m.\u001b[39mstyles[\u001b[38;5;241m0\u001b[39m] \u001b[38;5;66;03m# the shape color\u001b[39;00m\n\u001b[1;32m     70\u001b[0m         \u001b[38;5;66;03m# Styles come as floats 0 <= style <= 1\u001b[39;00m\n",
      "File \u001b[0;32m~/miniconda3/envs/cdbb/lib/python3.9/site-packages/ifcopenshell/geom/main.py:210\u001b[0m, in \u001b[0;36mcreate_shape\u001b[0;34m(settings, inst, repr)\u001b[0m\n\u001b[1;32m    181\u001b[0m \u001b[38;5;28;01mdef\u001b[39;00m \u001b[38;5;21mcreate_shape\u001b[39m(settings, inst, \u001b[38;5;28mrepr\u001b[39m\u001b[38;5;241m=\u001b[39m\u001b[38;5;28;01mNone\u001b[39;00m):\n\u001b[1;32m    182\u001b[0m     \u001b[38;5;124;03m\"\"\"\u001b[39;00m\n\u001b[1;32m    183\u001b[0m \u001b[38;5;124;03m    Return a geometric representation from STEP-based IFCREPRESENTATIONSHAPE\u001b[39;00m\n\u001b[1;32m    184\u001b[0m \u001b[38;5;124;03m    or\u001b[39;00m\n\u001b[0;32m   (...)\u001b[0m\n\u001b[1;32m    206\u001b[0m \u001b[38;5;124;03m                print(\"Shape creation failed\")\u001b[39;00m\n\u001b[1;32m    207\u001b[0m \u001b[38;5;124;03m    \"\"\"\u001b[39;00m\n\u001b[1;32m    208\u001b[0m     \u001b[38;5;28;01mreturn\u001b[39;00m wrap_shape_creation(\n\u001b[1;32m    209\u001b[0m         settings,\n\u001b[0;32m--> 210\u001b[0m         \u001b[43mifcopenshell_wrapper\u001b[49m\u001b[38;5;241;43m.\u001b[39;49m\u001b[43mcreate_shape\u001b[49m\u001b[43m(\u001b[49m\u001b[43msettings\u001b[49m\u001b[43m,\u001b[49m\u001b[43m \u001b[49m\u001b[43minst\u001b[49m\u001b[38;5;241;43m.\u001b[39;49m\u001b[43mwrapped_data\u001b[49m\u001b[43m,\u001b[49m\u001b[43m \u001b[49m\u001b[38;5;28;43mrepr\u001b[39;49m\u001b[38;5;241;43m.\u001b[39;49m\u001b[43mwrapped_data\u001b[49m\u001b[43m \u001b[49m\u001b[38;5;28;43;01mif\u001b[39;49;00m\u001b[43m \u001b[49m\u001b[38;5;28;43mrepr\u001b[39;49m\u001b[43m \u001b[49m\u001b[38;5;129;43;01mis\u001b[39;49;00m\u001b[43m \u001b[49m\u001b[38;5;129;43;01mnot\u001b[39;49;00m\u001b[43m \u001b[49m\u001b[38;5;28;43;01mNone\u001b[39;49;00m\u001b[43m \u001b[49m\u001b[38;5;28;43;01melse\u001b[39;49;00m\u001b[43m \u001b[49m\u001b[38;5;28;43;01mNone\u001b[39;49;00m\u001b[43m)\u001b[49m,\n\u001b[1;32m    211\u001b[0m     )\n",
      "File \u001b[0;32m~/miniconda3/envs/cdbb/lib/python3.9/site-packages/ifcopenshell/ifcopenshell_wrapper.py:1770\u001b[0m, in \u001b[0;36mcreate_shape\u001b[0;34m(settings, instance, representation)\u001b[0m\n\u001b[1;32m   1768\u001b[0m \u001b[38;5;28;01mdef\u001b[39;00m \u001b[38;5;21mcreate_shape\u001b[39m(settings, instance, representation\u001b[38;5;241m=\u001b[39m\u001b[38;5;28;01mNone\u001b[39;00m):\n\u001b[1;32m   1769\u001b[0m     \u001b[38;5;124mr\u001b[39m\u001b[38;5;124;03m\"\"\"create_shape(IteratorSettings settings, entity_instance instance, entity_instance representation=None) -> boost::variant< IfcGeom::Element *,IfcGeom::Representation::Representation * >\"\"\"\u001b[39;00m\n\u001b[0;32m-> 1770\u001b[0m     \u001b[38;5;28;01mreturn\u001b[39;00m \u001b[43m_ifcopenshell_wrapper\u001b[49m\u001b[38;5;241;43m.\u001b[39;49m\u001b[43mcreate_shape\u001b[49m\u001b[43m(\u001b[49m\u001b[43msettings\u001b[49m\u001b[43m,\u001b[49m\u001b[43m \u001b[49m\u001b[43minstance\u001b[49m\u001b[43m,\u001b[49m\u001b[43m \u001b[49m\u001b[43mrepresentation\u001b[49m\u001b[43m)\u001b[49m\n",
      "\u001b[0;31mRuntimeError\u001b[0m: Failed to process shape"
     ]
    }
   ],
   "source": [
    "viewers = _visualise_predictions(predictions_list, cloud_list, id_list, cat, blueprint,  ifcConvert_executable,\n",
    "                     cloudCompare_executable, temp_dir, target_dir, sample_size, threshold, icp_correction = False)"
   ]
  },
  {
   "cell_type": "code",
   "execution_count": 11,
   "metadata": {
    "scrolled": false
   },
   "outputs": [
    {
     "ename": "NameError",
     "evalue": "name 'viewers' is not defined",
     "output_type": "error",
     "traceback": [
      "\u001b[0;31m---------------------------------------------------------------------------\u001b[0m",
      "\u001b[0;31mNameError\u001b[0m                                 Traceback (most recent call last)",
      "Input \u001b[0;32mIn [11]\u001b[0m, in \u001b[0;36m<cell line: 1>\u001b[0;34m()\u001b[0m\n\u001b[0;32m----> 1\u001b[0m \u001b[38;5;28;01mfor\u001b[39;00m v \u001b[38;5;129;01min\u001b[39;00m \u001b[43mviewers\u001b[49m:\n\u001b[1;32m      2\u001b[0m     \u001b[38;5;28mprint\u001b[39m(v)\n",
      "\u001b[0;31mNameError\u001b[0m: name 'viewers' is not defined"
     ]
    }
   ],
   "source": [
    "for v in viewers:\n",
    "    print(v)"
   ]
  },
  {
   "cell_type": "code",
   "execution_count": null,
   "metadata": {
    "scrolled": false
   },
   "outputs": [],
   "source": [
    "# icp_correction = False\n",
    "# viewers, ifcs = [], []\n",
    "# preds_list, pcd_list = [], []\n",
    "\n",
    "# for i in range(1,4):\n",
    "#     pcd_id = id_list[i].item()\n",
    "#     #print(pcd_id) \n",
    "        \n",
    "#     #print(\"p\", predictions_list[i], \"in\", inputs_list[i])\n",
    "\n",
    "# #     #pcd, preds = prepare_visualisation(pcd_id, cat, i, cloud_list, predictions_list, path, ext)\n",
    "# #     pcd, preds = cloud_list[i].transpose(1, 0), copy.deepcopy(predictions_list[i])\n",
    "# #     print(pcd.shape)\n",
    "# #     preds = scale_preds(preds.tolist(), cat)\n",
    "# # #     pcd2, input_preds = prepare_visualisation(pcd_id, cat, i, cloud_list, inputs_list, path, ext)\n",
    "# # #     indices_to_replace = [5, 6, 7]\n",
    "# # #     for i in indices_to_replace:\n",
    "# # #         preds[i] = input_preds[i]\n",
    "    \n",
    "# #     #try:\n",
    "# #     if not icp_correction:\n",
    "# #         viewer, ifc = visualize_predictions([pcd], cat, [preds], blueprint, visualize=True)\n",
    "\n",
    "# #     else:\n",
    "# #         viewer, ifc = icp_finetuning(pcd, pcd_id, cat, preds, blueprint, temp_dir, target_dir, \n",
    "# #                              ifcConvert_executable, cloudCompare_executable, sample_size, threshold)\n",
    "\n",
    "# #     viewers.append(viewer) \n",
    "# #     ifcs.append(ifc)\n",
    "# #     preds_list.append(preds)\n",
    "# #     pcd_list.append(pcd)\n",
    "       \n",
    "# # #     except Exception as e:\n",
    "# # #         print(\"ICP error\", pcd_id, e)\n",
    "        \n",
    "#     preds_list.append(inputs_list[i])\n",
    "#     pcd_list.append(cloud_list[i].transpose(1, 0))\n",
    "\n",
    "# cloud = o3d.geometry.PointCloud()\n",
    "# chamfer_dists = []\n",
    "# for i, preds in enumerate(preds_list):\n",
    "#     pcd = pcd_list[i]\n",
    "#     chamfer_distance, cl = get_chamfer_dist_single(pcd, preds, cat)\n",
    "#     chamfer_dists.append(chamfer_distance)\n",
    "    \n",
    "# print(\"chamfer_distance\", sum(chamfer_dists)/len(chamfer_dists))\n",
    "# print(\"chamfer_distance\", chamfer_dists)\n",
    "# cloud.points = o3d.utility.Vector3dVector(np.array(cl))\n",
    "# o3d.io.write_point_cloud(\"generated.pcd\", cloud)\n",
    "# cloud.points = o3d.utility.Vector3dVector(pcd)\n",
    "# o3d.io.write_point_cloud(\"pcd.pcd\", cloud)\n",
    "\n",
    "\n",
    "# #tensor based chamfer dist\n",
    "# preds_tensor = torch.tensor(preds_list).cuda()\n",
    "# pcd_tensor = torch.transpose(torch.tensor(pcd_list).cuda().float(), 1,2)\n",
    "# #print(pcd_tensor.shape)\n",
    "# chamfer_distance = get_chamfer_loss_tensor(preds_tensor, pcd_tensor)\n",
    "# print(\"chamfer\", chamfer_distance)\n",
    "\n",
    "\n",
    "# # for i, cl in enumerate(clouds_tensor.detach().cpu().numpy()):\n",
    "# #     cloud.points = o3d.utility.Vector3dVector(cl)\n",
    "# #     o3d.io.write_point_cloud(\"axis_\"+str(i)+\".pcd\", cloud)\n",
    "# #     cloud.points = pcd_list[i]\n",
    "# #     o3d.io.write_point_cloud(\"pcd_\"+str(i)+\".pcd\", cloud)\n",
    "    \n",
    "# # cloud = generate_elbow_cloud(preds)\n",
    "    \n",
    "# #chamfer_distance = get_chamfer_dist_single(cloud, pcd)\n",
    "# #print(\"chamfer_distance\", chamfer_distance)\n",
    "\n",
    "\n"
   ]
  },
  {
   "cell_type": "code",
   "execution_count": null,
   "metadata": {
    "scrolled": false
   },
   "outputs": [],
   "source": [
    "plot_parameter_errors(inputs_list, predictions_list, cat)"
   ]
  },
  {
   "cell_type": "markdown",
   "metadata": {},
   "source": [
    "#### BP data Visualisation"
   ]
  },
  {
   "cell_type": "code",
   "execution_count": null,
   "metadata": {
    "scrolled": true
   },
   "outputs": [],
   "source": [
    "batch_visualise(model_path, blueprint, path, ext, device, ifc=False)"
   ]
  },
  {
   "cell_type": "code",
   "execution_count": null,
   "metadata": {
    "scrolled": true
   },
   "outputs": [],
   "source": [
    "merge_clouds(path, 'pipe')"
   ]
  },
  {
   "cell_type": "markdown",
   "metadata": {},
   "source": [
    "### Misc"
   ]
  },
  {
   "cell_type": "code",
   "execution_count": null,
   "metadata": {
    "scrolled": true
   },
   "outputs": [],
   "source": [
    "# PCA\n",
    "#testset_PCA(cloud_list, inputs_list, testDataLoader, cat)"
   ]
  },
  {
   "cell_type": "code",
   "execution_count": null,
   "metadata": {
    "scrolled": true
   },
   "outputs": [],
   "source": [
    "print(torch. __version__)"
   ]
  },
  {
   "cell_type": "code",
   "execution_count": null,
   "metadata": {
    "scrolled": false
   },
   "outputs": [],
   "source": [
    "# preds = inputs_list[:512]\n",
    "# #preds = scale_preds(preds, cat, up=0)\n",
    "# pcd = cloud_list[1].transpose(1, 0)\n",
    "# print(preds)\n",
    "\n",
    "# preds_tensor = torch.tensor(np.array(preds)).cuda().float()\n",
    "# gen_cloud = generate_tee_cloud_tensor(preds_tensor)\n",
    "# print(gen_cloud.shape)\n",
    "# #gen_cloud = generate_pipe_cloud(preds)\n",
    "\n",
    "# points = gen_cloud.detach().cpu().numpy()\n",
    "# #points = np.array(gen_cloud)\n",
    "# cloud = o3d.geometry.PointCloud()\n",
    "# print(type(points), points.shape)\n",
    "# cloud.points = o3d.utility.Vector3dVector(points[0])\n",
    "# #cloud.points = o3d.utility.Vector3dVector(points)\n",
    "# o3d.io.write_point_cloud(\"pipe_gen.pcd\", cloud)\n",
    "\n",
    "# cloud.points = o3d.utility.Vector3dVector(pcd)\n",
    "# o3d.io.write_point_cloud(\"pipe_input.pcd\", cloud)"
   ]
  },
  {
   "cell_type": "code",
   "execution_count": null,
   "metadata": {
    "scrolled": true
   },
   "outputs": [],
   "source": [
    "# chamfer loss\n",
    "#v, loss = chamfer_fine_tune(50, 0.0001, predictions_list[0], cloud_list[0], cat, blueprint)"
   ]
  },
  {
   "cell_type": "code",
   "execution_count": null,
   "metadata": {},
   "outputs": [],
   "source": [
    "print(id_list[0])"
   ]
  },
  {
   "cell_type": "code",
   "execution_count": 48,
   "metadata": {
    "scrolled": true
   },
   "outputs": [
    {
     "data": {
      "application/vnd.jupyter.widget-view+json": {
       "model_id": "036a71b60c464169b1587963a1b53f0c",
       "version_major": 2,
       "version_minor": 0
      },
      "text/plain": [
       "  0%|          | 0/100 [00:00<?, ?it/s]"
      ]
     },
     "metadata": {},
     "output_type": "display_data"
    },
    {
     "name": "stdout",
     "output_type": "stream",
     "text": [
      "0 loss 343.81622\n",
      "1 loss 307.221\n",
      "2 loss 276.17255\n",
      "3 loss 249.36832\n",
      "4 loss 225.6743\n",
      "5 loss 204.4786\n",
      "6 loss 185.56502\n",
      "7 loss 168.67087\n",
      "8 loss 153.42775\n",
      "9 loss 139.88426\n",
      "10 loss 127.93007\n",
      "11 loss 117.41052\n",
      "12 loss 108.16051\n",
      "13 loss 100.036095\n",
      "14 loss 92.92613\n",
      "15 loss 86.76333\n",
      "16 loss 81.4768\n",
      "17 loss 76.96741\n",
      "18 loss 73.12986\n",
      "19 loss 69.85617\n",
      "20 loss 67.06222\n",
      "21 loss 64.66262\n",
      "22 loss 62.593945\n",
      "23 loss 60.809452\n",
      "24 loss 59.265614\n",
      "25 loss 57.92526\n",
      "26 loss 56.735317\n",
      "27 loss 55.662052\n",
      "28 loss 54.674744\n",
      "29 loss 53.767273\n",
      "30 loss 52.91102\n",
      "31 loss 52.08984\n",
      "32 loss 51.30276\n",
      "33 loss 50.548695\n",
      "34 loss 49.826744\n",
      "35 loss 49.13588\n",
      "36 loss 48.470642\n",
      "37 loss 47.825615\n",
      "38 loss 47.19703\n",
      "39 loss 46.58318\n",
      "40 loss 45.98281\n",
      "41 loss 45.394993\n",
      "42 loss 44.820255\n",
      "43 loss 44.2582\n",
      "44 loss 43.709595\n",
      "45 loss 43.175686\n",
      "46 loss 42.656765\n",
      "47 loss 42.155006\n",
      "48 loss 41.670853\n",
      "49 loss 41.205753\n",
      "50 loss 40.759476\n",
      "51 loss 40.3324\n",
      "52 loss 39.924713\n",
      "53 loss 39.535847\n",
      "54 loss 39.16569\n",
      "55 loss 38.813683\n",
      "56 loss 38.478897\n",
      "57 loss 38.161087\n",
      "58 loss 37.859432\n",
      "59 loss 37.573658\n",
      "60 loss 37.303684\n",
      "61 loss 37.049828\n",
      "62 loss 36.809986\n",
      "63 loss 36.583675\n",
      "64 loss 36.36998\n",
      "65 loss 36.168804\n",
      "66 loss 35.97956\n",
      "67 loss 35.801167\n",
      "68 loss 35.632977\n",
      "69 loss 35.474594\n",
      "70 loss 35.325813\n",
      "71 loss 35.18549\n",
      "72 loss 35.052803\n",
      "73 loss 34.927082\n",
      "74 loss 34.80873\n",
      "75 loss 34.69744\n",
      "76 loss 34.592255\n",
      "77 loss 34.492336\n",
      "78 loss 34.397186\n",
      "79 loss 34.306923\n",
      "80 loss 34.221336\n",
      "81 loss 34.14057\n",
      "82 loss 34.06399\n",
      "83 loss 33.99127\n",
      "84 loss 33.922676\n",
      "85 loss 33.858067\n",
      "86 loss 33.796787\n",
      "87 loss 33.7387\n",
      "88 loss 33.683502\n",
      "89 loss 33.630642\n",
      "90 loss 33.579636\n",
      "91 loss 33.53117\n",
      "92 loss 33.484695\n",
      "93 loss 33.440205\n",
      "94 loss 33.397476\n",
      "95 loss 33.356693\n",
      "96 loss 33.31753\n",
      "97 loss 33.279987\n",
      "98 loss 33.244198\n",
      "99 loss 33.2099\n"
     ]
    }
   ],
   "source": [
    "#limit = 50\n",
    "limit = len(predictions_list)\n",
    "\n",
    "#v, modified_preds = chamfer_fine_tune(100, 0.01, predictions_list[:limit], cloud_list[:limit], cat, blueprint, alpha=3, visualise=True)\n",
    "if cat == 'bend':\n",
    "    cat = 'elbow'\n",
    "modified_preds = chamfer_fine_tune(100, 0.01, predictions_list[:limit], cloud_list[:limit], cat, blueprint, alpha=3, visualise=False)\n"
   ]
  },
  {
   "cell_type": "code",
   "execution_count": 17,
   "metadata": {
    "scrolled": true
   },
   "outputs": [
    {
     "name": "stderr",
     "output_type": "stream",
     "text": [
      "/home/haritha/miniconda3/envs/cdbb/lib/python3.9/site-packages/jupyter_client/session.py:716: UserWarning: Message serialization failed with:\n",
      "Out of range float values are not JSON compliant\n",
      "Supporting this message is deprecated in jupyter-client 7, please make sure your message is JSON-compliant\n",
      "  content = self.pack(content)\n"
     ]
    },
    {
     "data": {
      "application/vnd.jupyter.widget-view+json": {
       "model_id": "52959b75a3544eaabc01a761396acb19",
       "version_major": 2,
       "version_minor": 0
      },
      "text/plain": [
       "HBox(children=(VBox(children=(HBox(children=(VBox(children=(Checkbox(value=True, description='Axes', layout=La…"
      ]
     },
     "metadata": {},
     "output_type": "display_data"
    },
    {
     "data": {
      "application/vnd.jupyter.widget-view+json": {
       "model_id": "f98fd8b557984cb8842066d10cb3304b",
       "version_major": 2,
       "version_minor": 0
      },
      "text/plain": [
       "HBox(children=(VBox(children=(HBox(children=(VBox(children=(Checkbox(value=True, description='Axes', layout=La…"
      ]
     },
     "metadata": {},
     "output_type": "display_data"
    },
    {
     "data": {
      "application/vnd.jupyter.widget-view+json": {
       "model_id": "7494488646f045b38ef206644d6ccaa7",
       "version_major": 2,
       "version_minor": 0
      },
      "text/plain": [
       "HBox(children=(VBox(children=(HBox(children=(VBox(children=(Checkbox(value=True, description='Axes', layout=La…"
      ]
     },
     "metadata": {},
     "output_type": "display_data"
    },
    {
     "data": {
      "application/vnd.jupyter.widget-view+json": {
       "model_id": "71bb43e87f3e4625944ef7109d6f4df4",
       "version_major": 2,
       "version_minor": 0
      },
      "text/plain": [
       "HBox(children=(VBox(children=(HBox(children=(VBox(children=(Checkbox(value=True, description='Axes', layout=La…"
      ]
     },
     "metadata": {},
     "output_type": "display_data"
    },
    {
     "data": {
      "application/vnd.jupyter.widget-view+json": {
       "model_id": "2608b0a27c8a4fd89f82ce9013c97a4b",
       "version_major": 2,
       "version_minor": 0
      },
      "text/plain": [
       "HBox(children=(VBox(children=(HBox(children=(VBox(children=(Checkbox(value=True, description='Axes', layout=La…"
      ]
     },
     "metadata": {},
     "output_type": "display_data"
    },
    {
     "data": {
      "application/vnd.jupyter.widget-view+json": {
       "model_id": "f4eb1d581fa74c368e39edb6fc0d3889",
       "version_major": 2,
       "version_minor": 0
      },
      "text/plain": [
       "HBox(children=(VBox(children=(HBox(children=(VBox(children=(Checkbox(value=True, description='Axes', layout=La…"
      ]
     },
     "metadata": {},
     "output_type": "display_data"
    },
    {
     "data": {
      "application/vnd.jupyter.widget-view+json": {
       "model_id": "9916a4a6ec1a45398eed626ebdc3f84d",
       "version_major": 2,
       "version_minor": 0
      },
      "text/plain": [
       "HBox(children=(VBox(children=(HBox(children=(VBox(children=(Checkbox(value=True, description='Axes', layout=La…"
      ]
     },
     "metadata": {},
     "output_type": "display_data"
    },
    {
     "data": {
      "application/vnd.jupyter.widget-view+json": {
       "model_id": "f43a3b0869854c7db19cf2cf7604b50d",
       "version_major": 2,
       "version_minor": 0
      },
      "text/plain": [
       "HBox(children=(VBox(children=(HBox(children=(VBox(children=(Checkbox(value=True, description='Axes', layout=La…"
      ]
     },
     "metadata": {},
     "output_type": "display_data"
    },
    {
     "data": {
      "application/vnd.jupyter.widget-view+json": {
       "model_id": "e7723c4f02a9471290c9b92480a0177a",
       "version_major": 2,
       "version_minor": 0
      },
      "text/plain": [
       "HBox(children=(VBox(children=(HBox(children=(VBox(children=(Checkbox(value=True, description='Axes', layout=La…"
      ]
     },
     "metadata": {},
     "output_type": "display_data"
    },
    {
     "data": {
      "application/vnd.jupyter.widget-view+json": {
       "model_id": "8f3b93f259174240afe1035e703039cc",
       "version_major": 2,
       "version_minor": 0
      },
      "text/plain": [
       "HBox(children=(VBox(children=(HBox(children=(VBox(children=(Checkbox(value=True, description='Axes', layout=La…"
      ]
     },
     "metadata": {},
     "output_type": "display_data"
    },
    {
     "data": {
      "application/vnd.jupyter.widget-view+json": {
       "model_id": "e7553f476f2d4cb0a8c3f8b36b8b75ac",
       "version_major": 2,
       "version_minor": 0
      },
      "text/plain": [
       "HBox(children=(VBox(children=(HBox(children=(VBox(children=(Checkbox(value=True, description='Axes', layout=La…"
      ]
     },
     "metadata": {},
     "output_type": "display_data"
    },
    {
     "data": {
      "application/vnd.jupyter.widget-view+json": {
       "model_id": "567cafe2f0a14f04bfc8f157cff515b4",
       "version_major": 2,
       "version_minor": 0
      },
      "text/plain": [
       "HBox(children=(VBox(children=(HBox(children=(VBox(children=(Checkbox(value=True, description='Axes', layout=La…"
      ]
     },
     "metadata": {},
     "output_type": "display_data"
    },
    {
     "data": {
      "application/vnd.jupyter.widget-view+json": {
       "model_id": "fbc7dd7ccd494162a5d18f9e8fa07674",
       "version_major": 2,
       "version_minor": 0
      },
      "text/plain": [
       "HBox(children=(VBox(children=(HBox(children=(VBox(children=(Checkbox(value=True, description='Axes', layout=La…"
      ]
     },
     "metadata": {},
     "output_type": "display_data"
    },
    {
     "data": {
      "application/vnd.jupyter.widget-view+json": {
       "model_id": "67df3310f4434699a9034a421af96264",
       "version_major": 2,
       "version_minor": 0
      },
      "text/plain": [
       "HBox(children=(VBox(children=(HBox(children=(VBox(children=(Checkbox(value=True, description='Axes', layout=La…"
      ]
     },
     "metadata": {},
     "output_type": "display_data"
    },
    {
     "data": {
      "application/vnd.jupyter.widget-view+json": {
       "model_id": "9c7718d6f75e49a2a879f7bd50bae157",
       "version_major": 2,
       "version_minor": 0
      },
      "text/plain": [
       "HBox(children=(VBox(children=(HBox(children=(VBox(children=(Checkbox(value=True, description='Axes', layout=La…"
      ]
     },
     "metadata": {},
     "output_type": "display_data"
    },
    {
     "data": {
      "application/vnd.jupyter.widget-view+json": {
       "model_id": "db463651b63a40b8a7947cbb0b280851",
       "version_major": 2,
       "version_minor": 0
      },
      "text/plain": [
       "HBox(children=(VBox(children=(HBox(children=(VBox(children=(Checkbox(value=True, description='Axes', layout=La…"
      ]
     },
     "metadata": {},
     "output_type": "display_data"
    },
    {
     "data": {
      "application/vnd.jupyter.widget-view+json": {
       "model_id": "270b91a844634f17b6ee49d499bfc245",
       "version_major": 2,
       "version_minor": 0
      },
      "text/plain": [
       "HBox(children=(VBox(children=(HBox(children=(VBox(children=(Checkbox(value=True, description='Axes', layout=La…"
      ]
     },
     "metadata": {},
     "output_type": "display_data"
    },
    {
     "data": {
      "application/vnd.jupyter.widget-view+json": {
       "model_id": "89ab44fc872245c98e4206ac69925852",
       "version_major": 2,
       "version_minor": 0
      },
      "text/plain": [
       "HBox(children=(VBox(children=(HBox(children=(VBox(children=(Checkbox(value=True, description='Axes', layout=La…"
      ]
     },
     "metadata": {},
     "output_type": "display_data"
    },
    {
     "data": {
      "application/vnd.jupyter.widget-view+json": {
       "model_id": "9c47783a5a124b26b1d52393bf2d6bba",
       "version_major": 2,
       "version_minor": 0
      },
      "text/plain": [
       "HBox(children=(VBox(children=(HBox(children=(VBox(children=(Checkbox(value=True, description='Axes', layout=La…"
      ]
     },
     "metadata": {},
     "output_type": "display_data"
    },
    {
     "data": {
      "application/vnd.jupyter.widget-view+json": {
       "model_id": "72b9a73c252345c1b9aafe605d0d7607",
       "version_major": 2,
       "version_minor": 0
      },
      "text/plain": [
       "HBox(children=(VBox(children=(HBox(children=(VBox(children=(Checkbox(value=True, description='Axes', layout=La…"
      ]
     },
     "metadata": {},
     "output_type": "display_data"
    },
    {
     "data": {
      "application/vnd.jupyter.widget-view+json": {
       "model_id": "cbb8f4b3d41c4c1bbbed2ae4604f8bb5",
       "version_major": 2,
       "version_minor": 0
      },
      "text/plain": [
       "HBox(children=(VBox(children=(HBox(children=(VBox(children=(Checkbox(value=True, description='Axes', layout=La…"
      ]
     },
     "metadata": {},
     "output_type": "display_data"
    },
    {
     "data": {
      "application/vnd.jupyter.widget-view+json": {
       "model_id": "69d683d296a3464eb6604554c60073c7",
       "version_major": 2,
       "version_minor": 0
      },
      "text/plain": [
       "HBox(children=(VBox(children=(HBox(children=(VBox(children=(Checkbox(value=True, description='Axes', layout=La…"
      ]
     },
     "metadata": {},
     "output_type": "display_data"
    },
    {
     "data": {
      "application/vnd.jupyter.widget-view+json": {
       "model_id": "ecd006b098aa416a8ca2af4288e477be",
       "version_major": 2,
       "version_minor": 0
      },
      "text/plain": [
       "HBox(children=(VBox(children=(HBox(children=(VBox(children=(Checkbox(value=True, description='Axes', layout=La…"
      ]
     },
     "metadata": {},
     "output_type": "display_data"
    },
    {
     "data": {
      "application/vnd.jupyter.widget-view+json": {
       "model_id": "fdb1fa1a05594c1b85dad70702d29900",
       "version_major": 2,
       "version_minor": 0
      },
      "text/plain": [
       "HBox(children=(VBox(children=(HBox(children=(VBox(children=(Checkbox(value=True, description='Axes', layout=La…"
      ]
     },
     "metadata": {},
     "output_type": "display_data"
    },
    {
     "data": {
      "application/vnd.jupyter.widget-view+json": {
       "model_id": "3b888db5999b457daf58d829a72e3f2a",
       "version_major": 2,
       "version_minor": 0
      },
      "text/plain": [
       "HBox(children=(VBox(children=(HBox(children=(VBox(children=(Checkbox(value=True, description='Axes', layout=La…"
      ]
     },
     "metadata": {},
     "output_type": "display_data"
    },
    {
     "data": {
      "application/vnd.jupyter.widget-view+json": {
       "model_id": "a03e1ec3f94048808fc560b59fea0bc8",
       "version_major": 2,
       "version_minor": 0
      },
      "text/plain": [
       "HBox(children=(VBox(children=(HBox(children=(VBox(children=(Checkbox(value=True, description='Axes', layout=La…"
      ]
     },
     "metadata": {},
     "output_type": "display_data"
    },
    {
     "data": {
      "application/vnd.jupyter.widget-view+json": {
       "model_id": "9750d726bd4242e49f2a8f1a4b6404ab",
       "version_major": 2,
       "version_minor": 0
      },
      "text/plain": [
       "HBox(children=(VBox(children=(HBox(children=(VBox(children=(Checkbox(value=True, description='Axes', layout=La…"
      ]
     },
     "metadata": {},
     "output_type": "display_data"
    },
    {
     "data": {
      "application/vnd.jupyter.widget-view+json": {
       "model_id": "88e347684f1a4882b52455344f5fdd9c",
       "version_major": 2,
       "version_minor": 0
      },
      "text/plain": [
       "HBox(children=(VBox(children=(HBox(children=(VBox(children=(Checkbox(value=True, description='Axes', layout=La…"
      ]
     },
     "metadata": {},
     "output_type": "display_data"
    },
    {
     "data": {
      "application/vnd.jupyter.widget-view+json": {
       "model_id": "b7c56d07e4f845e78efa8dd484d8c056",
       "version_major": 2,
       "version_minor": 0
      },
      "text/plain": [
       "HBox(children=(VBox(children=(HBox(children=(VBox(children=(Checkbox(value=True, description='Axes', layout=La…"
      ]
     },
     "metadata": {},
     "output_type": "display_data"
    },
    {
     "data": {
      "application/vnd.jupyter.widget-view+json": {
       "model_id": "e5fca532b8524583b4121b7ec2e2feb1",
       "version_major": 2,
       "version_minor": 0
      },
      "text/plain": [
       "HBox(children=(VBox(children=(HBox(children=(VBox(children=(Checkbox(value=True, description='Axes', layout=La…"
      ]
     },
     "metadata": {},
     "output_type": "display_data"
    },
    {
     "data": {
      "application/vnd.jupyter.widget-view+json": {
       "model_id": "d4a84bd6e5f04a13b7869b9b3de1482a",
       "version_major": 2,
       "version_minor": 0
      },
      "text/plain": [
       "HBox(children=(VBox(children=(HBox(children=(VBox(children=(Checkbox(value=True, description='Axes', layout=La…"
      ]
     },
     "metadata": {},
     "output_type": "display_data"
    },
    {
     "data": {
      "application/vnd.jupyter.widget-view+json": {
       "model_id": "fd39cccd29084f9186070ad9be302318",
       "version_major": 2,
       "version_minor": 0
      },
      "text/plain": [
       "HBox(children=(VBox(children=(HBox(children=(VBox(children=(Checkbox(value=True, description='Axes', layout=La…"
      ]
     },
     "metadata": {},
     "output_type": "display_data"
    },
    {
     "data": {
      "application/vnd.jupyter.widget-view+json": {
       "model_id": "f4fafd909d7649349e19373a27441709",
       "version_major": 2,
       "version_minor": 0
      },
      "text/plain": [
       "HBox(children=(VBox(children=(HBox(children=(VBox(children=(Checkbox(value=True, description='Axes', layout=La…"
      ]
     },
     "metadata": {},
     "output_type": "display_data"
    },
    {
     "data": {
      "application/vnd.jupyter.widget-view+json": {
       "model_id": "17757cb3d06d4745b3e3f54f03b2ea3c",
       "version_major": 2,
       "version_minor": 0
      },
      "text/plain": [
       "HBox(children=(VBox(children=(HBox(children=(VBox(children=(Checkbox(value=True, description='Axes', layout=La…"
      ]
     },
     "metadata": {},
     "output_type": "display_data"
    },
    {
     "data": {
      "application/vnd.jupyter.widget-view+json": {
       "model_id": "67e7af5af22a4056a6e5ed03f17f4567",
       "version_major": 2,
       "version_minor": 0
      },
      "text/plain": [
       "HBox(children=(VBox(children=(HBox(children=(VBox(children=(Checkbox(value=True, description='Axes', layout=La…"
      ]
     },
     "metadata": {},
     "output_type": "display_data"
    },
    {
     "data": {
      "application/vnd.jupyter.widget-view+json": {
       "model_id": "4f4fad469fce4255a558c582df934e36",
       "version_major": 2,
       "version_minor": 0
      },
      "text/plain": [
       "HBox(children=(VBox(children=(HBox(children=(VBox(children=(Checkbox(value=True, description='Axes', layout=La…"
      ]
     },
     "metadata": {},
     "output_type": "display_data"
    },
    {
     "data": {
      "application/vnd.jupyter.widget-view+json": {
       "model_id": "de095d11f3eb44a780044b9e23e85908",
       "version_major": 2,
       "version_minor": 0
      },
      "text/plain": [
       "HBox(children=(VBox(children=(HBox(children=(VBox(children=(Checkbox(value=True, description='Axes', layout=La…"
      ]
     },
     "metadata": {},
     "output_type": "display_data"
    },
    {
     "data": {
      "application/vnd.jupyter.widget-view+json": {
       "model_id": "9166771fda6a43129ffc4cd2d2302183",
       "version_major": 2,
       "version_minor": 0
      },
      "text/plain": [
       "HBox(children=(VBox(children=(HBox(children=(VBox(children=(Checkbox(value=True, description='Axes', layout=La…"
      ]
     },
     "metadata": {},
     "output_type": "display_data"
    },
    {
     "data": {
      "application/vnd.jupyter.widget-view+json": {
       "model_id": "bf7cc2b9ce134527bd2fdf0720bd7318",
       "version_major": 2,
       "version_minor": 0
      },
      "text/plain": [
       "HBox(children=(VBox(children=(HBox(children=(VBox(children=(Checkbox(value=True, description='Axes', layout=La…"
      ]
     },
     "metadata": {},
     "output_type": "display_data"
    },
    {
     "data": {
      "application/vnd.jupyter.widget-view+json": {
       "model_id": "a2f3031c0fa944088c3b4523cd04a730",
       "version_major": 2,
       "version_minor": 0
      },
      "text/plain": [
       "HBox(children=(VBox(children=(HBox(children=(VBox(children=(Checkbox(value=True, description='Axes', layout=La…"
      ]
     },
     "metadata": {},
     "output_type": "display_data"
    },
    {
     "data": {
      "application/vnd.jupyter.widget-view+json": {
       "model_id": "a047a536d10948ee8a60a4d65e90e4bd",
       "version_major": 2,
       "version_minor": 0
      },
      "text/plain": [
       "HBox(children=(VBox(children=(HBox(children=(VBox(children=(Checkbox(value=True, description='Axes', layout=La…"
      ]
     },
     "metadata": {},
     "output_type": "display_data"
    },
    {
     "data": {
      "application/vnd.jupyter.widget-view+json": {
       "model_id": "e6781ff25ffd4f85b8c164074580171f",
       "version_major": 2,
       "version_minor": 0
      },
      "text/plain": [
       "HBox(children=(VBox(children=(HBox(children=(VBox(children=(Checkbox(value=True, description='Axes', layout=La…"
      ]
     },
     "metadata": {},
     "output_type": "display_data"
    },
    {
     "data": {
      "application/vnd.jupyter.widget-view+json": {
       "model_id": "da587923de904d108c8d8bc38d36c4ae",
       "version_major": 2,
       "version_minor": 0
      },
      "text/plain": [
       "HBox(children=(VBox(children=(HBox(children=(VBox(children=(Checkbox(value=True, description='Axes', layout=La…"
      ]
     },
     "metadata": {},
     "output_type": "display_data"
    },
    {
     "data": {
      "application/vnd.jupyter.widget-view+json": {
       "model_id": "7c53913aed7b4ddb82286345600a9021",
       "version_major": 2,
       "version_minor": 0
      },
      "text/plain": [
       "HBox(children=(VBox(children=(HBox(children=(VBox(children=(Checkbox(value=True, description='Axes', layout=La…"
      ]
     },
     "metadata": {},
     "output_type": "display_data"
    },
    {
     "data": {
      "application/vnd.jupyter.widget-view+json": {
       "model_id": "89b9d30cae0c45a4960b445a9f896c47",
       "version_major": 2,
       "version_minor": 0
      },
      "text/plain": [
       "HBox(children=(VBox(children=(HBox(children=(VBox(children=(Checkbox(value=True, description='Axes', layout=La…"
      ]
     },
     "metadata": {},
     "output_type": "display_data"
    },
    {
     "data": {
      "application/vnd.jupyter.widget-view+json": {
       "model_id": "67b12dbaa8a84619850f90af3b18c0bd",
       "version_major": 2,
       "version_minor": 0
      },
      "text/plain": [
       "HBox(children=(VBox(children=(HBox(children=(VBox(children=(Checkbox(value=True, description='Axes', layout=La…"
      ]
     },
     "metadata": {},
     "output_type": "display_data"
    },
    {
     "data": {
      "application/vnd.jupyter.widget-view+json": {
       "model_id": "56f04b974a754c62a7674c4062d6e539",
       "version_major": 2,
       "version_minor": 0
      },
      "text/plain": [
       "HBox(children=(VBox(children=(HBox(children=(VBox(children=(Checkbox(value=True, description='Axes', layout=La…"
      ]
     },
     "metadata": {},
     "output_type": "display_data"
    },
    {
     "data": {
      "application/vnd.jupyter.widget-view+json": {
       "model_id": "c4e8dd15812542dcb732c5a53e1155ac",
       "version_major": 2,
       "version_minor": 0
      },
      "text/plain": [
       "HBox(children=(VBox(children=(HBox(children=(VBox(children=(Checkbox(value=True, description='Axes', layout=La…"
      ]
     },
     "metadata": {},
     "output_type": "display_data"
    },
    {
     "data": {
      "application/vnd.jupyter.widget-view+json": {
       "model_id": "f571fd9c4fa543e8841129e6ebbb0976",
       "version_major": 2,
       "version_minor": 0
      },
      "text/plain": [
       "HBox(children=(VBox(children=(HBox(children=(VBox(children=(Checkbox(value=True, description='Axes', layout=La…"
      ]
     },
     "metadata": {},
     "output_type": "display_data"
    },
    {
     "data": {
      "application/vnd.jupyter.widget-view+json": {
       "model_id": "ffd693bfc5364ddc93f3b40cbfe25193",
       "version_major": 2,
       "version_minor": 0
      },
      "text/plain": [
       "HBox(children=(VBox(children=(HBox(children=(VBox(children=(Checkbox(value=True, description='Axes', layout=La…"
      ]
     },
     "metadata": {},
     "output_type": "display_data"
    },
    {
     "data": {
      "application/vnd.jupyter.widget-view+json": {
       "model_id": "bc2b1a3c50a54716927eaac88b1d76dd",
       "version_major": 2,
       "version_minor": 0
      },
      "text/plain": [
       "HBox(children=(VBox(children=(HBox(children=(VBox(children=(Checkbox(value=True, description='Axes', layout=La…"
      ]
     },
     "metadata": {},
     "output_type": "display_data"
    },
    {
     "data": {
      "application/vnd.jupyter.widget-view+json": {
       "model_id": "c0f661a6d27143a89e70efa007640781",
       "version_major": 2,
       "version_minor": 0
      },
      "text/plain": [
       "HBox(children=(VBox(children=(HBox(children=(VBox(children=(Checkbox(value=True, description='Axes', layout=La…"
      ]
     },
     "metadata": {},
     "output_type": "display_data"
    },
    {
     "data": {
      "application/vnd.jupyter.widget-view+json": {
       "model_id": "85ec8d3339f84a06a8a4cffdc96623cf",
       "version_major": 2,
       "version_minor": 0
      },
      "text/plain": [
       "HBox(children=(VBox(children=(HBox(children=(VBox(children=(Checkbox(value=True, description='Axes', layout=La…"
      ]
     },
     "metadata": {},
     "output_type": "display_data"
    },
    {
     "data": {
      "application/vnd.jupyter.widget-view+json": {
       "model_id": "c3d97117207e445a8d5dcc1e47e29fd8",
       "version_major": 2,
       "version_minor": 0
      },
      "text/plain": [
       "HBox(children=(VBox(children=(HBox(children=(VBox(children=(Checkbox(value=True, description='Axes', layout=La…"
      ]
     },
     "metadata": {},
     "output_type": "display_data"
    },
    {
     "data": {
      "application/vnd.jupyter.widget-view+json": {
       "model_id": "ba426dd76dd043499cea9647e2264894",
       "version_major": 2,
       "version_minor": 0
      },
      "text/plain": [
       "HBox(children=(VBox(children=(HBox(children=(VBox(children=(Checkbox(value=True, description='Axes', layout=La…"
      ]
     },
     "metadata": {},
     "output_type": "display_data"
    },
    {
     "data": {
      "application/vnd.jupyter.widget-view+json": {
       "model_id": "1bf648b8c7034b6fb46776ec33fcc83f",
       "version_major": 2,
       "version_minor": 0
      },
      "text/plain": [
       "HBox(children=(VBox(children=(HBox(children=(VBox(children=(Checkbox(value=True, description='Axes', layout=La…"
      ]
     },
     "metadata": {},
     "output_type": "display_data"
    },
    {
     "data": {
      "application/vnd.jupyter.widget-view+json": {
       "model_id": "e6e56a752e654142af21fcd924224ccc",
       "version_major": 2,
       "version_minor": 0
      },
      "text/plain": [
       "HBox(children=(VBox(children=(HBox(children=(VBox(children=(Checkbox(value=True, description='Axes', layout=La…"
      ]
     },
     "metadata": {},
     "output_type": "display_data"
    },
    {
     "data": {
      "application/vnd.jupyter.widget-view+json": {
       "model_id": "4437e9510b46468db06f625c815b025b",
       "version_major": 2,
       "version_minor": 0
      },
      "text/plain": [
       "HBox(children=(VBox(children=(HBox(children=(VBox(children=(Checkbox(value=True, description='Axes', layout=La…"
      ]
     },
     "metadata": {},
     "output_type": "display_data"
    },
    {
     "data": {
      "application/vnd.jupyter.widget-view+json": {
       "model_id": "ebb1d8bfb9064f18847a7028019a29d6",
       "version_major": 2,
       "version_minor": 0
      },
      "text/plain": [
       "HBox(children=(VBox(children=(HBox(children=(VBox(children=(Checkbox(value=True, description='Axes', layout=La…"
      ]
     },
     "metadata": {},
     "output_type": "display_data"
    },
    {
     "data": {
      "application/vnd.jupyter.widget-view+json": {
       "model_id": "fd1c8d66d4bb4c7a88317eccadf42bc3",
       "version_major": 2,
       "version_minor": 0
      },
      "text/plain": [
       "HBox(children=(VBox(children=(HBox(children=(VBox(children=(Checkbox(value=True, description='Axes', layout=La…"
      ]
     },
     "metadata": {},
     "output_type": "display_data"
    },
    {
     "data": {
      "application/vnd.jupyter.widget-view+json": {
       "model_id": "bcbafd436a224401a9c9840715701f24",
       "version_major": 2,
       "version_minor": 0
      },
      "text/plain": [
       "HBox(children=(VBox(children=(HBox(children=(VBox(children=(Checkbox(value=True, description='Axes', layout=La…"
      ]
     },
     "metadata": {},
     "output_type": "display_data"
    },
    {
     "data": {
      "application/vnd.jupyter.widget-view+json": {
       "model_id": "476d1be94bba4db9a8c367461515927a",
       "version_major": 2,
       "version_minor": 0
      },
      "text/plain": [
       "HBox(children=(VBox(children=(HBox(children=(VBox(children=(Checkbox(value=True, description='Axes', layout=La…"
      ]
     },
     "metadata": {},
     "output_type": "display_data"
    },
    {
     "data": {
      "application/vnd.jupyter.widget-view+json": {
       "model_id": "ccf893befbb64a39bc8dc06eed72a7ca",
       "version_major": 2,
       "version_minor": 0
      },
      "text/plain": [
       "HBox(children=(VBox(children=(HBox(children=(VBox(children=(Checkbox(value=True, description='Axes', layout=La…"
      ]
     },
     "metadata": {},
     "output_type": "display_data"
    },
    {
     "data": {
      "application/vnd.jupyter.widget-view+json": {
       "model_id": "8543969b42fa4425897a926849efed95",
       "version_major": 2,
       "version_minor": 0
      },
      "text/plain": [
       "HBox(children=(VBox(children=(HBox(children=(VBox(children=(Checkbox(value=True, description='Axes', layout=La…"
      ]
     },
     "metadata": {},
     "output_type": "display_data"
    },
    {
     "data": {
      "application/vnd.jupyter.widget-view+json": {
       "model_id": "13c60fdddf04417b919e8cfa847b228f",
       "version_major": 2,
       "version_minor": 0
      },
      "text/plain": [
       "HBox(children=(VBox(children=(HBox(children=(VBox(children=(Checkbox(value=True, description='Axes', layout=La…"
      ]
     },
     "metadata": {},
     "output_type": "display_data"
    },
    {
     "data": {
      "application/vnd.jupyter.widget-view+json": {
       "model_id": "09de44e6ca644e7e9fcff1d77e568a4f",
       "version_major": 2,
       "version_minor": 0
      },
      "text/plain": [
       "HBox(children=(VBox(children=(HBox(children=(VBox(children=(Checkbox(value=True, description='Axes', layout=La…"
      ]
     },
     "metadata": {},
     "output_type": "display_data"
    },
    {
     "data": {
      "application/vnd.jupyter.widget-view+json": {
       "model_id": "41f007616e6943e98dabb7dddfeb06d3",
       "version_major": 2,
       "version_minor": 0
      },
      "text/plain": [
       "HBox(children=(VBox(children=(HBox(children=(VBox(children=(Checkbox(value=True, description='Axes', layout=La…"
      ]
     },
     "metadata": {},
     "output_type": "display_data"
    },
    {
     "data": {
      "application/vnd.jupyter.widget-view+json": {
       "model_id": "9b5665e58e20477282f7c118c25a909b",
       "version_major": 2,
       "version_minor": 0
      },
      "text/plain": [
       "HBox(children=(VBox(children=(HBox(children=(VBox(children=(Checkbox(value=True, description='Axes', layout=La…"
      ]
     },
     "metadata": {},
     "output_type": "display_data"
    },
    {
     "data": {
      "application/vnd.jupyter.widget-view+json": {
       "model_id": "673416001be24c7794df76c8f53431f3",
       "version_major": 2,
       "version_minor": 0
      },
      "text/plain": [
       "HBox(children=(VBox(children=(HBox(children=(VBox(children=(Checkbox(value=True, description='Axes', layout=La…"
      ]
     },
     "metadata": {},
     "output_type": "display_data"
    },
    {
     "data": {
      "application/vnd.jupyter.widget-view+json": {
       "model_id": "9358db6053ed461698e320e11ba8c77b",
       "version_major": 2,
       "version_minor": 0
      },
      "text/plain": [
       "HBox(children=(VBox(children=(HBox(children=(VBox(children=(Checkbox(value=True, description='Axes', layout=La…"
      ]
     },
     "metadata": {},
     "output_type": "display_data"
    },
    {
     "data": {
      "application/vnd.jupyter.widget-view+json": {
       "model_id": "3cc1ca68c65848c1a38a10951507770b",
       "version_major": 2,
       "version_minor": 0
      },
      "text/plain": [
       "HBox(children=(VBox(children=(HBox(children=(VBox(children=(Checkbox(value=True, description='Axes', layout=La…"
      ]
     },
     "metadata": {},
     "output_type": "display_data"
    },
    {
     "data": {
      "application/vnd.jupyter.widget-view+json": {
       "model_id": "cd6a758f2c46450a8d8e4ab05f657a82",
       "version_major": 2,
       "version_minor": 0
      },
      "text/plain": [
       "HBox(children=(VBox(children=(HBox(children=(VBox(children=(Checkbox(value=True, description='Axes', layout=La…"
      ]
     },
     "metadata": {},
     "output_type": "display_data"
    },
    {
     "data": {
      "application/vnd.jupyter.widget-view+json": {
       "model_id": "c3b21bcbfc4b47d1ad042cfdcb269bf2",
       "version_major": 2,
       "version_minor": 0
      },
      "text/plain": [
       "HBox(children=(VBox(children=(HBox(children=(VBox(children=(Checkbox(value=True, description='Axes', layout=La…"
      ]
     },
     "metadata": {},
     "output_type": "display_data"
    },
    {
     "data": {
      "application/vnd.jupyter.widget-view+json": {
       "model_id": "b233749995db41748ece4313d031b17d",
       "version_major": 2,
       "version_minor": 0
      },
      "text/plain": [
       "HBox(children=(VBox(children=(HBox(children=(VBox(children=(Checkbox(value=True, description='Axes', layout=La…"
      ]
     },
     "metadata": {},
     "output_type": "display_data"
    },
    {
     "data": {
      "application/vnd.jupyter.widget-view+json": {
       "model_id": "3e7e93df7fc94072897f55b065d5153a",
       "version_major": 2,
       "version_minor": 0
      },
      "text/plain": [
       "HBox(children=(VBox(children=(HBox(children=(VBox(children=(Checkbox(value=True, description='Axes', layout=La…"
      ]
     },
     "metadata": {},
     "output_type": "display_data"
    },
    {
     "data": {
      "application/vnd.jupyter.widget-view+json": {
       "model_id": "34e1f30adbbb44d1a93e5986302d84db",
       "version_major": 2,
       "version_minor": 0
      },
      "text/plain": [
       "HBox(children=(VBox(children=(HBox(children=(VBox(children=(Checkbox(value=True, description='Axes', layout=La…"
      ]
     },
     "metadata": {},
     "output_type": "display_data"
    },
    {
     "data": {
      "application/vnd.jupyter.widget-view+json": {
       "model_id": "edbde1d4e1384112a68f7c2ce608ed27",
       "version_major": 2,
       "version_minor": 0
      },
      "text/plain": [
       "HBox(children=(VBox(children=(HBox(children=(VBox(children=(Checkbox(value=True, description='Axes', layout=La…"
      ]
     },
     "metadata": {},
     "output_type": "display_data"
    },
    {
     "data": {
      "application/vnd.jupyter.widget-view+json": {
       "model_id": "609e10c60f2a403288843109f80be186",
       "version_major": 2,
       "version_minor": 0
      },
      "text/plain": [
       "HBox(children=(VBox(children=(HBox(children=(VBox(children=(Checkbox(value=True, description='Axes', layout=La…"
      ]
     },
     "metadata": {},
     "output_type": "display_data"
    },
    {
     "data": {
      "application/vnd.jupyter.widget-view+json": {
       "model_id": "0b32d53adfc246caa1769cfc8b6322a3",
       "version_major": 2,
       "version_minor": 0
      },
      "text/plain": [
       "HBox(children=(VBox(children=(HBox(children=(VBox(children=(Checkbox(value=True, description='Axes', layout=La…"
      ]
     },
     "metadata": {},
     "output_type": "display_data"
    },
    {
     "data": {
      "application/vnd.jupyter.widget-view+json": {
       "model_id": "bb920780dab245b1a8d1a54f116bdce3",
       "version_major": 2,
       "version_minor": 0
      },
      "text/plain": [
       "HBox(children=(VBox(children=(HBox(children=(VBox(children=(Checkbox(value=True, description='Axes', layout=La…"
      ]
     },
     "metadata": {},
     "output_type": "display_data"
    },
    {
     "data": {
      "application/vnd.jupyter.widget-view+json": {
       "model_id": "97a3e802ef504202ae325d6c2b1e647b",
       "version_major": 2,
       "version_minor": 0
      },
      "text/plain": [
       "HBox(children=(VBox(children=(HBox(children=(VBox(children=(Checkbox(value=True, description='Axes', layout=La…"
      ]
     },
     "metadata": {},
     "output_type": "display_data"
    },
    {
     "data": {
      "application/vnd.jupyter.widget-view+json": {
       "model_id": "a152b3b9b7ce4893a678f7ff7786250f",
       "version_major": 2,
       "version_minor": 0
      },
      "text/plain": [
       "HBox(children=(VBox(children=(HBox(children=(VBox(children=(Checkbox(value=True, description='Axes', layout=La…"
      ]
     },
     "metadata": {},
     "output_type": "display_data"
    },
    {
     "data": {
      "application/vnd.jupyter.widget-view+json": {
       "model_id": "e01e72af58e74954acc66d99ef71ce1c",
       "version_major": 2,
       "version_minor": 0
      },
      "text/plain": [
       "HBox(children=(VBox(children=(HBox(children=(VBox(children=(Checkbox(value=True, description='Axes', layout=La…"
      ]
     },
     "metadata": {},
     "output_type": "display_data"
    },
    {
     "data": {
      "application/vnd.jupyter.widget-view+json": {
       "model_id": "80d7a1e6e71c42f194989d184d42de8b",
       "version_major": 2,
       "version_minor": 0
      },
      "text/plain": [
       "HBox(children=(VBox(children=(HBox(children=(VBox(children=(Checkbox(value=True, description='Axes', layout=La…"
      ]
     },
     "metadata": {},
     "output_type": "display_data"
    },
    {
     "data": {
      "application/vnd.jupyter.widget-view+json": {
       "model_id": "409841a8f719467fb1c92839e3c3c8ce",
       "version_major": 2,
       "version_minor": 0
      },
      "text/plain": [
       "HBox(children=(VBox(children=(HBox(children=(VBox(children=(Checkbox(value=True, description='Axes', layout=La…"
      ]
     },
     "metadata": {},
     "output_type": "display_data"
    },
    {
     "data": {
      "application/vnd.jupyter.widget-view+json": {
       "model_id": "e50a7ae281da41e3aa8affaa2169b9e6",
       "version_major": 2,
       "version_minor": 0
      },
      "text/plain": [
       "HBox(children=(VBox(children=(HBox(children=(VBox(children=(Checkbox(value=True, description='Axes', layout=La…"
      ]
     },
     "metadata": {},
     "output_type": "display_data"
    },
    {
     "data": {
      "application/vnd.jupyter.widget-view+json": {
       "model_id": "f93ba31c4f0149c6ab4b7410a2a32e47",
       "version_major": 2,
       "version_minor": 0
      },
      "text/plain": [
       "HBox(children=(VBox(children=(HBox(children=(VBox(children=(Checkbox(value=True, description='Axes', layout=La…"
      ]
     },
     "metadata": {},
     "output_type": "display_data"
    },
    {
     "data": {
      "application/vnd.jupyter.widget-view+json": {
       "model_id": "ee5ec73848db4e42b7e08a6c240f3616",
       "version_major": 2,
       "version_minor": 0
      },
      "text/plain": [
       "HBox(children=(VBox(children=(HBox(children=(VBox(children=(Checkbox(value=True, description='Axes', layout=La…"
      ]
     },
     "metadata": {},
     "output_type": "display_data"
    },
    {
     "data": {
      "application/vnd.jupyter.widget-view+json": {
       "model_id": "12d125c5601646ed95bc2321b57f07c7",
       "version_major": 2,
       "version_minor": 0
      },
      "text/plain": [
       "HBox(children=(VBox(children=(HBox(children=(VBox(children=(Checkbox(value=True, description='Axes', layout=La…"
      ]
     },
     "metadata": {},
     "output_type": "display_data"
    },
    {
     "data": {
      "application/vnd.jupyter.widget-view+json": {
       "model_id": "160a6da3c8424635b155b27eda1fbe91",
       "version_major": 2,
       "version_minor": 0
      },
      "text/plain": [
       "HBox(children=(VBox(children=(HBox(children=(VBox(children=(Checkbox(value=True, description='Axes', layout=La…"
      ]
     },
     "metadata": {},
     "output_type": "display_data"
    },
    {
     "data": {
      "application/vnd.jupyter.widget-view+json": {
       "model_id": "2aa56e7bf2984d8cb7e79e7f9de8a218",
       "version_major": 2,
       "version_minor": 0
      },
      "text/plain": [
       "HBox(children=(VBox(children=(HBox(children=(VBox(children=(Checkbox(value=True, description='Axes', layout=La…"
      ]
     },
     "metadata": {},
     "output_type": "display_data"
    },
    {
     "data": {
      "application/vnd.jupyter.widget-view+json": {
       "model_id": "6d060e26af6f470b8e6eb7c3c67a7db4",
       "version_major": 2,
       "version_minor": 0
      },
      "text/plain": [
       "HBox(children=(VBox(children=(HBox(children=(VBox(children=(Checkbox(value=True, description='Axes', layout=La…"
      ]
     },
     "metadata": {},
     "output_type": "display_data"
    },
    {
     "data": {
      "application/vnd.jupyter.widget-view+json": {
       "model_id": "f3954a6f415c43db9bb06a7ba780e619",
       "version_major": 2,
       "version_minor": 0
      },
      "text/plain": [
       "HBox(children=(VBox(children=(HBox(children=(VBox(children=(Checkbox(value=True, description='Axes', layout=La…"
      ]
     },
     "metadata": {},
     "output_type": "display_data"
    },
    {
     "data": {
      "application/vnd.jupyter.widget-view+json": {
       "model_id": "b38787caa86d4681bc7aa83122fdd3fd",
       "version_major": 2,
       "version_minor": 0
      },
      "text/plain": [
       "HBox(children=(VBox(children=(HBox(children=(VBox(children=(Checkbox(value=True, description='Axes', layout=La…"
      ]
     },
     "metadata": {},
     "output_type": "display_data"
    },
    {
     "data": {
      "application/vnd.jupyter.widget-view+json": {
       "model_id": "bb922d980bbc4957b256e8c6950b9526",
       "version_major": 2,
       "version_minor": 0
      },
      "text/plain": [
       "HBox(children=(VBox(children=(HBox(children=(VBox(children=(Checkbox(value=True, description='Axes', layout=La…"
      ]
     },
     "metadata": {},
     "output_type": "display_data"
    },
    {
     "data": {
      "application/vnd.jupyter.widget-view+json": {
       "model_id": "26d372fdcb444dbca1a36c8a2d007aeb",
       "version_major": 2,
       "version_minor": 0
      },
      "text/plain": [
       "HBox(children=(VBox(children=(HBox(children=(VBox(children=(Checkbox(value=True, description='Axes', layout=La…"
      ]
     },
     "metadata": {},
     "output_type": "display_data"
    },
    {
     "data": {
      "application/vnd.jupyter.widget-view+json": {
       "model_id": "0553b6c76ac14758b38eb1ad26eb0aaa",
       "version_major": 2,
       "version_minor": 0
      },
      "text/plain": [
       "HBox(children=(VBox(children=(HBox(children=(VBox(children=(Checkbox(value=True, description='Axes', layout=La…"
      ]
     },
     "metadata": {},
     "output_type": "display_data"
    },
    {
     "data": {
      "application/vnd.jupyter.widget-view+json": {
       "model_id": "dfb83e2cc0cd409ebe97d364550d37e1",
       "version_major": 2,
       "version_minor": 0
      },
      "text/plain": [
       "HBox(children=(VBox(children=(HBox(children=(VBox(children=(Checkbox(value=True, description='Axes', layout=La…"
      ]
     },
     "metadata": {},
     "output_type": "display_data"
    },
    {
     "name": "stdout",
     "output_type": "stream",
     "text": [
      "[, , , , , , , , , , , , , , , , , , , , , , , , , , , , , , , , , , , , , , , , , , , , , , , , , , , , , , , , , , , , , , , , , , , , , , , , , , , , , , , , , , , , , , , , , , , , , , , , , ]\n"
     ]
    }
   ],
   "source": [
    "print(v)"
   ]
  },
  {
   "cell_type": "code",
   "execution_count": null,
   "metadata": {
    "scrolled": true
   },
   "outputs": [],
   "source": [
    "print(modified_preds[0], len(id_list))"
   ]
  },
  {
   "cell_type": "code",
   "execution_count": null,
   "metadata": {
    "scrolled": true
   },
   "outputs": [],
   "source": [
    "plot_parameter_errors(inputs_list, modified_preds, cat)"
   ]
  },
  {
   "cell_type": "code",
   "execution_count": 49,
   "metadata": {
    "scrolled": true
   },
   "outputs": [
    {
     "data": {
      "application/vnd.jupyter.widget-view+json": {
       "model_id": "e4283aff346e4bf0b5a930168c9b59a8",
       "version_major": 2,
       "version_minor": 0
      },
      "text/plain": [
       "  0%|          | 0/8211 [00:00<?, ?it/s]"
      ]
     },
     "metadata": {},
     "output_type": "display_data"
    },
    {
     "name": "stdout",
     "output_type": "stream",
     "text": [
      "error_count 0\n",
      "avg 12.679864 82 128.62616 0.18415968\n"
     ]
    },
    {
     "data": {
      "image/png": "[encoded data removed]",
      "text/plain": [
       "<Figure size 864x288 with 1 Axes>"
      ]
     },
     "metadata": {
      "needs_background": "light"
     },
     "output_type": "display_data"
    }
   ],
   "source": [
    "dists = chamfer_evaluate(modified_preds, cloud_list[:limit], id_list, cat, blueprint,  ifcConvert_executable,\n",
    "                     cloudCompare_executable, temp_dir, target_dir, sample_size, threshold, icp_correction = False)\n",
    "\n",
    "if inference:\n",
    "    with open(model_path/('preds_finetuned_' + 'pipe' + '.pkl'), 'wb') as f:\n",
    "        pickle.dump([modified_preds, id_list, dists], f)\n",
    "\n",
    "plot_error_graph(dists, \"Binned chamfer loss\", max_val=300)"
   ]
  },
  {
   "cell_type": "code",
   "execution_count": null,
   "metadata": {},
   "outputs": [],
   "source": []
  },
  {
   "cell_type": "code",
   "execution_count": null,
   "metadata": {},
   "outputs": [],
   "source": []
  },
  {
   "cell_type": "code",
   "execution_count": null,
   "metadata": {},
   "outputs": [],
   "source": [
    "node_dict = get_features_from_params(path)"
   ]
  },
  {
   "cell_type": "code",
   "execution_count": null,
   "metadata": {
    "scrolled": true
   },
   "outputs": [],
   "source": [
    "\n",
    "# generate points on surface of tee\n",
    "def generate_tee_cloud(preds):\n",
    "    # read params\n",
    "    r1, l1, r2, l2 = abs(preds[0]), preds[1], preds[2], preds[3]\n",
    "    d1 = get_direction_from_trig(preds, 7)\n",
    "    d2 = get_direction_from_trig(preds, 13)\n",
    "    p2 = [preds[4], preds[5], preds[6]]\n",
    "    p1 = [p2[i] - ((l1*d1[i])/2) for i in range(3)]\n",
    "\n",
    "    # get new coordinate frame of tee\n",
    "    old_z = (0., 0., 1.)\n",
    "    x_axis = vector_normalise(np.cross(d1, old_z))\n",
    "    y_axis = vector_normalise(np.cross(d1, x_axis))\n",
    "\n",
    "    # sample points on main tube\n",
    "    no_of_axis_points = 50    \n",
    "    no_of_ring_points = 40\n",
    "    tube1_points = get_cylinder_points(no_of_axis_points, no_of_ring_points, \n",
    "                                      r1, l1, p1, d1, x_axis, y_axis)\n",
    "\n",
    "    # sample points on secondary tube\n",
    "    x_axis = vector_normalise(np.cross(d2, old_z))\n",
    "    y_axis = vector_normalise(np.cross(d2, x_axis))   \n",
    "    tube2_points = get_cylinder_points(no_of_axis_points, no_of_ring_points, \n",
    "                                      r2, l2, p2, d2, x_axis, y_axis)\n",
    "\n",
    "    # remove points from secondary tube in main tube\n",
    "    tube2_points = np.array(tube2_points)\n",
    "    p1, p2 = np.array(p1), np.array(p2)\n",
    "    p2p1 = p2-p1\n",
    "    p2p1_mag = vector_mag(p2p1)\n",
    "    tube2_points_ref = []\n",
    "\n",
    "    for q in tube2_points:\n",
    "        dist = vector_mag(np.cross((q-p1), (p2p1))) / p2p1_mag\n",
    "        print(dist, r1)\n",
    "        if dist > r1:\n",
    "            print('r', dist)\n",
    "            tube2_points_ref.append(q.tolist())\n",
    "\n",
    "    # remove points from main tube in secondary tube\n",
    "    tube1_points = np.array(tube1_points)\n",
    "    p3 = np.array(p2 + d2)\n",
    "    p2p3 = p2-p3\n",
    "    p2p3_mag = vector_mag(p2p3)\n",
    "    tube1_points_ref = []\n",
    "\n",
    "    for q in tube1_points:\n",
    "        dist = vector_mag(np.cross((q-p3), (p2p3))) / p2p3_mag\n",
    "        cos_theta = np.dot(q-p2, p2p3)\n",
    "        if dist > r2 or cos_theta > 0:\n",
    "            tube1_points_ref.append(q.tolist())\n",
    "\n",
    "    # make sure not all points are deleted if predictions are very wrong\n",
    "    thresh = 50\n",
    "    if len(tube1_points_ref) < thresh and len(tube2_points_ref) < thresh:\n",
    "        return (tube1_points + tube2_points)\n",
    "    elif len(tube2_points_ref) < thresh:\n",
    "        return (tube1_points_ref + tube2_points)\n",
    "    elif len(tube1_points_ref) < thresh:\n",
    "        return (tube1_points + tube2_points_ref)\n",
    "    else:\n",
    "        return (tube1_points_ref + tube2_points_ref)\n"
   ]
  },
  {
   "cell_type": "code",
   "execution_count": null,
   "metadata": {
    "scrolled": true
   },
   "outputs": [],
   "source": [
    "preds = torch.tensor([predictions_list[1]]).cuda()\n",
    "print(predictions_list[1])\n",
    "pcd = generate_tee_cloud_tensor(preds)\n",
    "#tee = generate_tee_cloud(predictions_list[0])\n",
    "tee = pcd[0].cpu().numpy()\n",
    "tee = o3d.utility.Vector3dVector(tee)\n",
    "tee_cloud = o3d.geometry.PointCloud()\n",
    "tee_cloud.points = tee\n",
    "o3d.io.write_point_cloud(\"tee_cl.pcd\", tee_cloud)\n"
   ]
  },
  {
   "cell_type": "code",
   "execution_count": null,
   "metadata": {
    "scrolled": true
   },
   "outputs": [],
   "source": [
    "original = cloud_list[2]\n",
    "points= o3d.utility.Vector3dVector(original.transpose(1,0))\n",
    "tee_cloud.points = points\n",
    "o3d.io.write_point_cloud(\"tee_cl_inp.pcd\", tee_cloud)"
   ]
  },
  {
   "cell_type": "code",
   "execution_count": null,
   "metadata": {
    "scrolled": true
   },
   "outputs": [],
   "source": [
    "# undo normalisation opf the bp tee dataset created for inference, only for comparison with the inferred tee results\n",
    "tee_path = 'tee_fix/tee/test/'\n",
    "metadata_file = open(\"tee_fix/tee/metadata.json\", 'r')\n",
    "metadata = json.load(metadata_file)\n",
    "output_path = 'tee_fix/tee/unnormalised/'\n",
    "\n",
    "files = os.listdir(tee_path)\n",
    "new_points = []\n",
    "for f in tqdm(files):\n",
    "    cloud_data = metadata[f.split(\".\")[0]]\n",
    "    points = np.array(o3d.io.read_point_cloud(tee_path + f).points)\n",
    "    print(\"a\", points[0])\n",
    "    print(cloud_data[\"norm_factor\"], cloud_data[\"mean\"])\n",
    "    points *= cloud_data[\"norm_factor\"]\n",
    "    print(\"b\", points[0])\n",
    "\n",
    "    for i, pnt in enumerate(points):\n",
    "        pnt += cloud_data[\"mean\"]\n",
    "    print(\"c\", points[10])\n",
    "    new_points.append(points)\n",
    "        \n",
    "new_points = o3d.utility.Vector3dVector(np.concatenate(new_points))\n",
    "new_cloud = o3d.geometry.PointCloud()\n",
    "new_cloud.points = new_points\n",
    "o3d.io.write_point_cloud(output_path+\"tee_bp_unnormalised.pcd\", new_cloud)"
   ]
  },
  {
   "cell_type": "markdown",
   "metadata": {},
   "source": [
    "## Mesh deformation"
   ]
  },
  {
   "cell_type": "code",
   "execution_count": null,
   "metadata": {
    "scrolled": true
   },
   "outputs": [],
   "source": []
  },
  {
   "cell_type": "code",
   "execution_count": null,
   "metadata": {},
   "outputs": [],
   "source": [
    "pr = [0.5,1.0, 0.2, 10., 10., 10., math.sin(0.75), math.cos(0.75), math.sin(0.75), math.cos(0.75), math.sin(0.75), math.cos(0.75)]\n",
    "\n",
    "pr_tensor = torch.tensor([pr]).cuda()\n",
    "pcd = generate_flange_cloud_tensor(pr_tensor)\n",
    "pcd = pcd[0].cpu().numpy()\n",
    "\n",
    "#pcd = generate_flange_cloud(pr)\n",
    "\n",
    "print(len(pcd))\n",
    "new_points = o3d.utility.Vector3dVector(pcd)\n",
    "new_cloud = o3d.geometry.PointCloud()\n",
    "new_cloud.points = new_points\n",
    "o3d.io.write_point_cloud(\"sample_flange.pcd\", new_cloud)\n",
    "\n"
   ]
  },
  {
   "cell_type": "code",
   "execution_count": null,
   "metadata": {},
   "outputs": [],
   "source": []
  }
 ],
 "metadata": {
  "accelerator": "GPU",
  "colab": {
   "provenance": []
  },
  "gpuClass": "standard",
  "kernelspec": {
   "display_name": "Python 3 (ipykernel)",
   "language": "python",
   "name": "python3"
  },
  "language_info": {
   "codemirror_mode": {
    "name": "ipython",
    "version": 3
   },
   "file_extension": ".py",
   "mimetype": "text/x-python",
   "name": "python",
   "nbconvert_exporter": "python",
   "pygments_lexer": "ipython3",
   "version": "3.9.7"
  }
 },
 "nbformat": 4,
 "nbformat_minor": 1
}
