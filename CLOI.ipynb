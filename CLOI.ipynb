{
 "cells": [
  {
   "cell_type": "code",
   "execution_count": null,
   "id": "2eacd459",
   "metadata": {},
   "outputs": [],
   "source": [
    "import math\n",
    "import pickle\n",
    "import os\n",
    "import json\n",
    "import uuid\n",
    "\n",
    "import numpy as np\n",
    "import open3d as o3d\n",
    "from tqdm import tqdm\n",
    "from numpy.random import default_rng\n",
    "from compas.geometry import oriented_bounding_box_numpy\n",
    "import ifcopenshell.template\n",
    "import ifcopenshell"
   ]
  },
  {
   "cell_type": "code",
   "execution_count": null,
   "id": "c58acbb3",
   "metadata": {},
   "outputs": [],
   "source": [
    "# constants\n",
    "data_path = \"/mnt/f/datasets/AVEVA_newfacility/AVEVA_newfacility/exports/\"\n",
    "save_path = \"../cloi/\"\n",
    "shapes = ['Pipes', 'Flanges', 'Elbows']\n",
    "labels = ['TUBE', 'FLANGE', 'ELBOW', 'TEE', 'BEND']\n",
    "\n",
    "rng = default_rng()"
   ]
  },
  {
   "cell_type": "code",
   "execution_count": null,
   "id": "301c7bff",
   "metadata": {},
   "outputs": [],
   "source": [
    "def sq_distance(x1, y1, z1, x2, y2, z2):\n",
    "    return ((x2 - x1)**2 + (y2 - y1)**2 + (z2 - z1)**2)\n",
    "\n",
    "\n",
    "def vector_norm(vec):\n",
    "    den = math.sqrt(vec[0]**2 + vec[1]**2 + vec[2]**2)\n",
    "    return [vec[0]/den, vec[1]/den, vec[2]/den]\n",
    "\n",
    "\n",
    "# get center, dimensions and direction of cloud\n",
    "def get_dimensions (element_coords):\n",
    "    bbox = oriented_bounding_box_numpy(element_coords)\n",
    "    center = [(bbox[0][i] + bbox[6][i])/2 for i in range(3)]\n",
    "    \n",
    "    # identify box orientation\n",
    "    l1 = math.sqrt(sq_distance(bbox[0][0], bbox[0][1], bbox[0][2],\n",
    "                               bbox[1][0], bbox[1][1], bbox[1][2]))\n",
    "    l2 = math.sqrt(sq_distance(bbox[0][0], bbox[0][1], bbox[0][2],\n",
    "                               bbox[3][0], bbox[3][1], bbox[3][2]))\n",
    "    l3 = math.sqrt(sq_distance(bbox[0][0], bbox[0][1], bbox[0][2],\n",
    "                               bbox[4][0], bbox[4][1], bbox[4][2]))\n",
    "    lengths = [l1, l2, l3]\n",
    "    \n",
    "    dominant_axis = lengths.index(max(lengths))\n",
    "    if dominant_axis == 0:\n",
    "        dominant_direction = vector_norm([bbox[0][i] - bbox[1][i] \n",
    "                                          for i in range(3)])\n",
    "    elif dominant_axis == 1:\n",
    "        dominant_direction = vector_norm([bbox[0][i] - bbox[3][i] \n",
    "                                          for i in range(3)])\n",
    "    else:\n",
    "        dominant_direction = vector_norm([bbox[0][i] - bbox[4][i] \n",
    "                                          for i in range(3)])\n",
    "        \n",
    "    return(center, lengths, dominant_direction)\n",
    "\n",
    "\n"
   ]
  },
  {
   "cell_type": "code",
   "execution_count": null,
   "id": "20534753",
   "metadata": {},
   "outputs": [],
   "source": [
    "def rot2eul(R):\n",
    "    beta = -np.arcsin(R[2,0])\n",
    "    alpha = np.arctan2(R[2,1]/np.cos(beta),R[2,2]/np.cos(beta))\n",
    "    gamma = np.arctan2(R[1,0]/np.cos(beta),R[0,0]/np.cos(beta))\n",
    "    return np.array((alpha, beta, gamma))\n",
    "\n",
    "\n",
    "def get_labelcloud_bbox(points, label):\n",
    "    pcl = o3d.geometry.PointCloud()\n",
    "    pcl.points = o3d.utility.Vector3dVector(points)\n",
    "    oriented_bounding_box = pcl.get_oriented_bounding_box()\n",
    "\n",
    "    r = [math.degrees(x) for x in rot2eul(oriented_bounding_box.R)]\n",
    "    c = oriented_bounding_box.center\n",
    "    e = oriented_bounding_box.extent\n",
    "\n",
    "    bbox = {\n",
    "        'name': label,\n",
    "        'centroid': {\n",
    "            'x': c[0],\n",
    "            'y': c[1],\n",
    "            'z': c[2]\n",
    "        },\n",
    "        'dimensions': {\n",
    "            'length': e[0],\n",
    "            'width': e[1],\n",
    "            'height': e[2]\n",
    "        },\n",
    "        'rotations': {\n",
    "            'x': r[0],\n",
    "            'y': r[1],\n",
    "            'z': r[2]\n",
    "        }\n",
    "    }\n",
    "        \n",
    "    return bbox"
   ]
  },
  {
   "cell_type": "code",
   "execution_count": null,
   "id": "5655087d",
   "metadata": {},
   "outputs": [],
   "source": [
    "# create smaller cleaned cloud by removing outliers and downsampling\n",
    "def refine_cloud(file_path, n_points=1000):\n",
    "    # read points\n",
    "    f = open(file_path, 'r')\n",
    "    points = f.readlines()\n",
    "    points = [p.strip().split(' ')[:3] for p in points]\n",
    "    for i in range(len(points)):\n",
    "        points[i] = [float(p) for p in points[i]]\n",
    "    \n",
    "    # create cloud\n",
    "    points = np.array(points)\n",
    "    #print(points.shape)\n",
    "    if len(points) == 0:\n",
    "        return None\n",
    "    pcd = o3d.geometry.PointCloud()\n",
    "    pcd.points = o3d.utility.Vector3dVector(points)\n",
    "    \n",
    "    # outlier removal\n",
    "    # TODO: experiment with parameters and try radius outlier removal\n",
    "    voxel_down_pcd = pcd.voxel_down_sample(voxel_size=0.005)\n",
    "    cl, ind = voxel_down_pcd.remove_statistical_outlier(nb_neighbors=20,\n",
    "                                                        std_ratio=2.0)\n",
    "\n",
    "    # further down sampling\n",
    "    if len(ind) > n_points:\n",
    "        #print('l', len(ind))\n",
    "        sub_ind = rng.choice(len(ind), size=n_points, replace=False)\n",
    "        cl = cl.select_by_index(sub_ind)\n",
    "    \n",
    "    # o3d.io.write_point_cloud(\"sync.ply\", cl)\n",
    "    \n",
    "    return np.asarray(cl.points)"
   ]
  },
  {
   "cell_type": "code",
   "execution_count": null,
   "id": "bd4f8fcc",
   "metadata": {},
   "outputs": [],
   "source": [
    "dataset = {}\n",
    "for i, shape in enumerate(shapes):\n",
    "    clouds = []\n",
    "    elements = os.listdir(data_path + shape)\n",
    "\n",
    "    points = 0\n",
    "    for el in tqdm(elements):\n",
    "        cl = refine_cloud(data_path + shape + '/' + el)\n",
    "        if cl is not None:\n",
    "            #print(len(cl))\n",
    "            clouds.append(cl)\n",
    "            points += len(cl)\n",
    "    \n",
    "    print(len(clouds), points)\n",
    "    dataset[labels[i]] = clouds\n"
   ]
  },
  {
   "cell_type": "code",
   "execution_count": null,
   "id": "55e9d5c8",
   "metadata": {},
   "outputs": [],
   "source": [
    "with open(save_path + 'clouds.pkl', 'wb') as f:\n",
    "    pickle.dump(dataset, f)"
   ]
  },
  {
   "cell_type": "code",
   "execution_count": null,
   "id": "eb85ab65",
   "metadata": {},
   "outputs": [],
   "source": [
    "with open(save_path + 'clouds.pkl', 'rb') as f:\n",
    "    dataset = pickle.load(f)"
   ]
  },
  {
   "cell_type": "markdown",
   "id": "b45fa970",
   "metadata": {},
   "source": [
    "### visaulize"
   ]
  },
  {
   "cell_type": "code",
   "execution_count": null,
   "id": "33d59e33",
   "metadata": {},
   "outputs": [],
   "source": [
    "# create and visualize a combined cloud\n",
    "full = []\n",
    "for label in dataset:\n",
    "    merged = np.concatenate(dataset[label])\n",
    "    full.append(merged)\n",
    "    print(merged.shape)\n",
    "    pcd = o3d.geometry.PointCloud()\n",
    "    pcd.points = o3d.utility.Vector3dVector(merged)\n",
    "    o3d.io.write_point_cloud(save_path + label + \".ply\", pcd)\n",
    "    \n",
    "full = np.concatenate(full)\n",
    "pcd = o3d.geometry.PointCloud()\n",
    "pcd.points = o3d.utility.Vector3dVector(full)\n",
    "o3d.io.write_point_cloud(save_path + \"combined.ply\", pcd)"
   ]
  },
  {
   "cell_type": "markdown",
   "id": "113ab31b",
   "metadata": {},
   "source": [
    "### graph nodes"
   ]
  },
  {
   "cell_type": "code",
   "execution_count": null,
   "id": "59ac306d",
   "metadata": {},
   "outputs": [],
   "source": [
    "# convert to graph dataset node info, and generate labelcloud annotation\n",
    "types = ['FLANGE', 'ELBOW', 'TEE', 'TUBE', 'BEND']\n",
    "\n",
    "def process_nodes(dataset):\n",
    "    \n",
    "    nodes = []\n",
    "    points = []\n",
    "    bboxes = []\n",
    "    error_count = 0\n",
    "    count = 0\n",
    "    \n",
    "    for j in dataset:\n",
    "        print(j)\n",
    "        for i, el in tqdm(enumerate(dataset[j])):\n",
    "            try:\n",
    "                center, lengths, dominant_direction = get_dimensions(el)\n",
    "                node = [types.index(j), center, lengths, dominant_direction, \n",
    "                              count]\n",
    "                \n",
    "                bbox = get_labelcloud_bbox(el, j)\n",
    "                \n",
    "                count += 1\n",
    "                bboxes.append(bbox)\n",
    "                nodes.append(node)\n",
    "                points.append(el)\n",
    "\n",
    "            except Exception as e:\n",
    "                error_count += 1\n",
    "                print(len(el))\n",
    "                print(e)\n",
    "\n",
    "    print(error_count)\n",
    "    return([nodes, points], bboxes)\n"
   ]
  },
  {
   "cell_type": "code",
   "execution_count": null,
   "id": "57ebf510",
   "metadata": {},
   "outputs": [],
   "source": [
    "node_info, bboxes = process_nodes(dataset)"
   ]
  },
  {
   "cell_type": "code",
   "execution_count": null,
   "id": "f7a6569a",
   "metadata": {},
   "outputs": [],
   "source": [
    "with open(save_path + 'data.json', 'w') as f:\n",
    "    json.dump({'objects':bboxes}, f)"
   ]
  },
  {
   "cell_type": "code",
   "execution_count": null,
   "id": "75a13e04",
   "metadata": {},
   "outputs": [],
   "source": [
    "print(len(node_info), len(node_info[0]), len(node_info[1]))\n",
    "\n",
    "with open(save_path + 'nodes_cloi.pkl', 'wb') as f:\n",
    "    pickle.dump(node_info, f)"
   ]
  },
  {
   "cell_type": "code",
   "execution_count": null,
   "id": "74e33970",
   "metadata": {},
   "outputs": [],
   "source": [
    "\n"
   ]
  },
  {
   "cell_type": "markdown",
   "id": "2af12b28",
   "metadata": {},
   "source": [
    "### edges"
   ]
  },
  {
   "cell_type": "code",
   "execution_count": null,
   "id": "7b845f60",
   "metadata": {},
   "outputs": [],
   "source": [
    "# convert labelcloud annotations to graph edges\n",
    "with open(save_path + 'combined_rels.json', 'r') as f:\n",
    "    annots = json.load(f)"
   ]
  },
  {
   "cell_type": "code",
   "execution_count": null,
   "id": "944ecb3c",
   "metadata": {},
   "outputs": [],
   "source": [
    "edges = [i['bboxes'] for i in annots['relationships']]\n",
    "with open(save_path + 'edges_cloi.pkl', 'wb') as f:\n",
    "    pickle.dump(edges, f)"
   ]
  },
  {
   "cell_type": "code",
   "execution_count": null,
   "id": "60a5ff3e",
   "metadata": {},
   "outputs": [],
   "source": []
  },
  {
   "cell_type": "code",
   "execution_count": null,
   "id": "893b19ea",
   "metadata": {},
   "outputs": [],
   "source": [
    "# convert graph predictions back to labelcloud format for visualization\n",
    "with open('../eval/cloi_non_rep.pkl', 'rb') as f:\n",
    "    non_rep_TPs, non_rep_FPs, non_rep_FNs = pickle.load(f)\n",
    "print(refined_TPs[10])\n",
    "prediction_sets = [non_rep_TPs, non_rep_FPs, non_rep_FNs] "
   ]
  },
  {
   "cell_type": "code",
   "execution_count": null,
   "id": "3de58b9a",
   "metadata": {},
   "outputs": [],
   "source": [
    "rel_dict = { \"folder\": \"pointclouds\",\n",
    "            \"filename\": \"combined.ply\",\n",
    "            \"path\": \"pointclouds\\\\combined.ply\",}\n",
    "\n",
    "relationships = []\n",
    "\n",
    "for i, preds in enumerate(prediction_sets):\n",
    "    if i == 0:\n",
    "        label = 'TP'\n",
    "    elif i == 1:\n",
    "        label = 'FP'\n",
    "    else:\n",
    "        label = 'FN'\n",
    "        \n",
    "    for p in preds:\n",
    "        rel = {'name': label,\n",
    "              'bboxes': p.tolist()}\n",
    "        relationships.append(rel)\n",
    "        \n",
    "rel_dict['relationships'] = relationships  "
   ]
  },
  {
   "cell_type": "code",
   "execution_count": null,
   "id": "7f287fed",
   "metadata": {},
   "outputs": [],
   "source": [
    "print(rel_dict)"
   ]
  },
  {
   "cell_type": "code",
   "execution_count": null,
   "id": "31f9b517",
   "metadata": {},
   "outputs": [],
   "source": [
    "with open(save_path + 'cloi_vis.json', 'w') as f:\n",
    "    json.dump(rel_dict, f)"
   ]
  },
  {
   "cell_type": "code",
   "execution_count": null,
   "id": "4cefc790",
   "metadata": {},
   "outputs": [],
   "source": []
  }
 ],
 "metadata": {
  "kernelspec": {
   "display_name": "Python 3 (ipykernel)",
   "language": "python",
   "name": "python3"
  },
  "language_info": {
   "codemirror_mode": {
    "name": "ipython",
    "version": 3
   },
   "file_extension": ".py",
   "mimetype": "text/x-python",
   "name": "python",
   "nbconvert_exporter": "python",
   "pygments_lexer": "ipython3",
   "version": "3.9.7"
  }
 },
 "nbformat": 4,
 "nbformat_minor": 5
}
