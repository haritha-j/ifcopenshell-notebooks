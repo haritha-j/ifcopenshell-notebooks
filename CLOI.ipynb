{
 "cells": [
  {
   "cell_type": "markdown",
   "id": "1687149a",
   "metadata": {},
   "source": [
    "## Experimentation on CLOI dataset\n",
    "\n",
    "Create graph dataset from CLOI data and visualize CLOI results"
   ]
  },
  {
   "cell_type": "code",
   "execution_count": null,
   "id": "2243917f",
   "metadata": {},
   "outputs": [],
   "source": [
    "import math\n",
    "import pickle\n",
    "import os\n",
    "import json\n",
    "import uuid\n",
    "\n",
    "import numpy as np\n",
    "from tqdm import tqdm\n",
    "import open3d as o3d\n",
    "from numpy.random import default_rng\n",
    "from compas.geometry import oriented_bounding_box_numpy\n",
    "import ifcopenshell.template\n",
    "import ifcopenshell\n",
    "\n",
    "from src.geometry import sq_distance, get_dimensions_points, vector_normalise, rot2eul, get_labelcloud_bbox\n",
    "from src.cloud import refine_cloud"
   ]
  },
  {
   "cell_type": "code",
   "execution_count": null,
   "id": "c58acbb3",
   "metadata": {},
   "outputs": [],
   "source": [
    "# constants\n",
    "data_path = \"/mnt/f/datasets/AVEVA_newfacility/AVEVA_newfacility/exports/\"\n",
    "save_path = \"../cloi/\"\n",
    "shapes = ['Pipes', 'Flanges', 'Elbows']\n",
    "labels = ['TUBE', 'FLANGE', 'ELBOW', 'TEE', 'BEND']\n",
    "\n"
   ]
  },
  {
   "cell_type": "code",
   "execution_count": null,
   "id": "5655087d",
   "metadata": {},
   "outputs": [],
   "source": []
  },
  {
   "cell_type": "code",
   "execution_count": null,
   "id": "bd4f8fcc",
   "metadata": {},
   "outputs": [],
   "source": [
    "dataset = {}\n",
    "for i, shape in enumerate(shapes):\n",
    "    clouds = []\n",
    "    elements = os.listdir(data_path + shape)\n",
    "\n",
    "    points = 0\n",
    "    for el in tqdm(elements):\n",
    "        cl = refine_cloud(data_path + shape + '/' + el)\n",
    "        if cl is not None:\n",
    "            #print(len(cl))\n",
    "            clouds.append(cl)\n",
    "            points += len(cl)\n",
    "    \n",
    "    print(len(clouds), points)\n",
    "    dataset[labels[i]] = clouds\n"
   ]
  },
  {
   "cell_type": "code",
   "execution_count": null,
   "id": "55e9d5c8",
   "metadata": {},
   "outputs": [],
   "source": [
    "with open(save_path + 'clouds_test.pkl', 'wb') as f:\n",
    "    pickle.dump(dataset, f)"
   ]
  },
  {
   "cell_type": "code",
   "execution_count": null,
   "id": "eb85ab65",
   "metadata": {},
   "outputs": [],
   "source": [
    "with open(save_path + 'clouds_test.pkl', 'rb') as f:\n",
    "    dataset = pickle.load(f)"
   ]
  },
  {
   "cell_type": "markdown",
   "id": "6b3a07b8",
   "metadata": {},
   "source": [
    "### visualize"
   ]
  },
  {
   "cell_type": "code",
   "execution_count": null,
   "id": "33d59e33",
   "metadata": {},
   "outputs": [],
   "source": [
    "# create and visualize a combined cloud\n",
    "full = []\n",
    "for label in dataset:\n",
    "    merged = np.concatenate(dataset[label])\n",
    "    full.append(merged)\n",
    "    print(merged.shape)\n",
    "    pcd = o3d.geometry.PointCloud()\n",
    "    pcd.points = o3d.utility.Vector3dVector(merged)\n",
    "    o3d.io.write_point_cloud(save_path + label + \".ply\", pcd)\n",
    "    \n",
    "full = np.concatenate(full)\n",
    "pcd = o3d.geometry.PointCloud()\n",
    "pcd.points = o3d.utility.Vector3dVector(full)\n",
    "o3d.io.write_point_cloud(save_path + \"combined.ply\", pcd)"
   ]
  },
  {
   "cell_type": "markdown",
   "id": "d665e7a9",
   "metadata": {},
   "source": [
    "### graph nodes"
   ]
  },
  {
   "cell_type": "code",
   "execution_count": null,
   "id": "59ac306d",
   "metadata": {},
   "outputs": [],
   "source": [
    "# convert to graph dataset node info, and generate labelcloud annotation\n",
    "types = ['FLANGE', 'ELBOW', 'TEE', 'TUBE', 'BEND']\n",
    "\n",
    "def process_nodes(dataset):\n",
    "    \n",
    "    nodes = []\n",
    "    points = []\n",
    "    bboxes = []\n",
    "    error_count = 0\n",
    "    count = 0\n",
    "    \n",
    "    for j in dataset:\n",
    "        print(j)\n",
    "        for i, el in tqdm(enumerate(dataset[j])):\n",
    "            try:\n",
    "                center, lengths, dominant_direction = get_dimensions_points(el)\n",
    "                node = [types.index(j), center, lengths, dominant_direction, \n",
    "                              count]\n",
    "\n",
    "                bbox = get_labelcloud_bbox(el, j)\n",
    "\n",
    "                count += 1\n",
    "                bboxes.append(bbox)\n",
    "                nodes.append(node)\n",
    "                points.append(el)\n",
    "\n",
    "            except Exception as e:\n",
    "                error_count += 1\n",
    "                print(len(el))\n",
    "                print(e)\n",
    "\n",
    "    print(error_count)\n",
    "    return([nodes, points], bboxes)\n"
   ]
  },
  {
   "cell_type": "code",
   "execution_count": null,
   "id": "57ebf510",
   "metadata": {},
   "outputs": [],
   "source": [
    "node_info, bboxes = process_nodes(dataset)"
   ]
  },
  {
   "cell_type": "code",
   "execution_count": null,
   "id": "f7a6569a",
   "metadata": {},
   "outputs": [],
   "source": [
    "with open(save_path + 'data.json', 'w') as f:\n",
    "    json.dump({'objects':bboxes}, f)"
   ]
  },
  {
   "cell_type": "code",
   "execution_count": null,
   "id": "75a13e04",
   "metadata": {},
   "outputs": [],
   "source": [
    "print(len(node_info), len(node_info[0]), len(node_info[1]))\n",
    "\n",
    "with open(save_path + 'nodes_cloi.pkl', 'wb') as f:\n",
    "    pickle.dump(node_info, f)"
   ]
  },
  {
   "cell_type": "markdown",
   "id": "c090327c",
   "metadata": {},
   "source": [
    "### edges"
   ]
  },
  {
   "cell_type": "code",
   "execution_count": null,
   "id": "a4faa494",
   "metadata": {},
   "outputs": [],
   "source": [
    "# convert labelcloud annotations to graph edges\n",
    "with open(save_path + 'combined_rels.json', 'r') as f:\n",
    "    annots = json.load(f)"
   ]
  },
  {
   "cell_type": "code",
   "execution_count": null,
   "id": "29873c95",
   "metadata": {},
   "outputs": [],
   "source": [
    "edges = [i['bboxes'] for i in annots['relationships']]\n",
    "with open(save_path + 'edges_cloi.pkl', 'wb') as f:\n",
    "    pickle.dump(edges, f)"
   ]
  },
  {
   "cell_type": "code",
   "execution_count": null,
   "id": "4af28329",
   "metadata": {},
   "outputs": [],
   "source": []
  },
  {
   "cell_type": "code",
   "execution_count": null,
   "id": "20216a15",
   "metadata": {},
   "outputs": [],
   "source": [
    "# convert graph predictions back to labelcloud format for visualization\n",
    "with open('../eval/cloi_non_rep.pkl', 'rb') as f:\n",
    "    non_rep_TPs, non_rep_FPs, non_rep_FNs = pickle.load(f)\n",
    "#print(refined_TPs[10])\n",
    "prediction_sets = [non_rep_TPs, non_rep_FPs, non_rep_FNs] "
   ]
  },
  {
   "cell_type": "code",
   "execution_count": null,
   "id": "9fa6f1aa",
   "metadata": {},
   "outputs": [],
   "source": [
    "rel_dict = { \"folder\": \"pointclouds\",\n",
    "            \"filename\": \"combined.ply\",\n",
    "            \"path\": \"pointclouds\\\\combined.ply\",}\n",
    "\n",
    "relationships = []\n",
    "\n",
    "for i, preds in enumerate(prediction_sets):\n",
    "    if i == 0:\n",
    "        label = 'TP'\n",
    "    elif i == 1:\n",
    "        label = 'FP'\n",
    "    else:\n",
    "        label = 'FN'\n",
    "        \n",
    "    for p in preds:\n",
    "        rel = {'name': label,\n",
    "              'bboxes': p.tolist()}\n",
    "        relationships.append(rel)\n",
    "        \n",
    "rel_dict['relationships'] = relationships  "
   ]
  },
  {
   "cell_type": "code",
   "execution_count": null,
   "id": "505e6406",
   "metadata": {},
   "outputs": [],
   "source": [
    "print(rel_dict)"
   ]
  },
  {
   "cell_type": "code",
   "execution_count": null,
   "id": "91e3ee1e",
   "metadata": {},
   "outputs": [],
   "source": [
    "with open(save_path + 'cloi_vis.json', 'w') as f:\n",
    "    json.dump(rel_dict, f)"
   ]
  },
  {
   "cell_type": "code",
   "execution_count": null,
   "id": "eabcfe12",
   "metadata": {},
   "outputs": [],
   "source": []
  }
 ],
 "metadata": {
  "kernelspec": {
   "display_name": "Python 3 (ipykernel)",
   "language": "python",
   "name": "python3"
  },
  "language_info": {
   "codemirror_mode": {
    "name": "ipython",
    "version": 3
   },
   "file_extension": ".py",
   "mimetype": "text/x-python",
   "name": "python",
   "nbconvert_exporter": "python",
   "pygments_lexer": "ipython3",
   "version": "3.9.7"
  }
 },
 "nbformat": 4,
 "nbformat_minor": 5
}
