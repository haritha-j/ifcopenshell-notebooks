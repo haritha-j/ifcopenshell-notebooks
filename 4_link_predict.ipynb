{
  "cells": [
    {
      "cell_type": "code",
      "execution_count": null,
      "metadata": {
        "id": "PzV-X6jJObZk"
      },
      "outputs": [],
      "source": [
        "%matplotlib inline"
      ]
    },
    {
      "cell_type": "markdown",
      "metadata": {
        "id": "dRX0fNk4ObZo"
      },
      "source": [
        "\n",
        "Link Prediction using Graph Neural Networks\n",
        "===========================================\n",
        "\n",
        "In the :doc:`introduction <1_introduction>`, you have already learned\n",
        "the basic workflow of using GNNs for node classification,\n",
        "i.e. predicting the category of a node in a graph. This tutorial will\n",
        "teach you how to train a GNN for link prediction, i.e. predicting the\n",
        "existence of an edge between two arbitrary nodes in a graph.\n",
        "\n",
        "By the end of this tutorial you will be able to\n",
        "\n",
        "-  Build a GNN-based link prediction model.\n",
        "-  Train and evaluate the model on a small DGL-provided dataset.\n",
        "\n",
        "(Time estimate: 28 minutes)\n"
      ]
    },
    {
      "cell_type": "code",
      "execution_count": null,
      "metadata": {
        "id": "ifRsGSMuObZq"
      },
      "outputs": [],
      "source": [
        "import dgl\n",
        "from dgl.data import DGLDataset\n",
        "import torch\n",
        "import torch.nn as nn\n",
        "import torch.nn.functional as F\n",
        "import itertools\n",
        "import numpy as np\n",
        "import scipy.sparse as sp\n",
        "from google.colab import drive\n",
        "import pickle"
      ]
    },
    {
      "cell_type": "code",
      "source": [
        "#!pip install dgl-cu111 dglgo -f https://data.dgl.ai/wheels/repo.html\n",
        "#!pip install dgl dglgo -f https://data.dgl.ai/wheels/repo.html"
      ],
      "metadata": {
        "id": "XfOtS0TXPCNt"
      },
      "execution_count": null,
      "outputs": []
    },
    {
      "cell_type": "markdown",
      "metadata": {
        "id": "0f05yJmDObZq"
      },
      "source": [
        "Overview of Link Prediction with GNN\n",
        "------------------------------------\n",
        "\n",
        "Many applications such as social recommendation, item recommendation,\n",
        "knowledge graph completion, etc., can be formulated as link prediction,\n",
        "which predicts whether an edge exists between two particular nodes. This\n",
        "tutorial shows an example of predicting whether a citation relationship,\n",
        "either citing or being cited, between two papers exists in a citation\n",
        "network.\n",
        "\n",
        "This tutorial formulates the link prediction problem as a binary classification\n",
        "problem as follows:\n",
        "\n",
        "-  Treat the edges in the graph as *positive examples*.\n",
        "-  Sample a number of non-existent edges (i.e. node pairs with no edges\n",
        "   between them) as *negative* examples.\n",
        "-  Divide the positive examples and negative examples into a training\n",
        "   set and a test set.\n",
        "-  Evaluate the model with any binary classification metric such as Area\n",
        "   Under Curve (AUC).\n",
        "\n",
        "<div class=\"alert alert-info\"><h4>Note</h4><p>The practice comes from\n",
        "   `SEAL <https://papers.nips.cc/paper/2018/file/53f0d7c537d99b3824f0f99d62ea2428-Paper.pdf>`__,\n",
        "   although the model here does not use their idea of node labeling.</p></div>\n",
        "\n",
        "In some domains such as large-scale recommender systems or information\n",
        "retrieval, you may favor metrics that emphasize good performance of\n",
        "top-K predictions. In these cases you may want to consider other metrics\n",
        "such as mean average precision, and use other negative sampling methods,\n",
        "which are beyond the scope of this tutorial.\n",
        "\n",
        "Loading graph and features\n",
        "--------------------------\n",
        "\n",
        "Following the :doc:`introduction <1_introduction>`, this tutorial\n",
        "first loads the Cora dataset.\n",
        "\n",
        "\n"
      ]
    },
    {
      "cell_type": "code",
      "source": [
        "drive.mount('/content/drive')"
      ],
      "metadata": {
        "id": "G-NH3zAEtGab"
      },
      "execution_count": null,
      "outputs": []
    },
    {
      "cell_type": "code",
      "source": [
        "np.random.seed(42)"
      ],
      "metadata": {
        "id": "FUYGNHzduB0E"
      },
      "execution_count": null,
      "outputs": []
    },
    {
      "cell_type": "code",
      "execution_count": null,
      "metadata": {
        "id": "_fKLkYjrObZr"
      },
      "outputs": [],
      "source": [
        "# define industrial facility graph dataset\n",
        "class IndustrialFacilityDataset(DGLDataset):\n",
        "    def __init__(self):\n",
        "        super().__init__(name='industrial_facility')\n",
        "\n",
        "    def process(self):\n",
        "        # data loading\n",
        "        data_path = \"/content/drive/MyDrive/graph/\"\n",
        "        edge_file = \"edges_westdeckbox.pkl\"\n",
        "        node_file = \"nodes_westdeckbox.pkl\"\n",
        "        with open(data_path + node_file, 'rb') as f:\n",
        "            node_info = pickle.load(f)\n",
        "        with open(data_path + edge_file, 'rb') as f:\n",
        "            edges = pickle.load(f)\n",
        "        \n",
        "        # node features\n",
        "        # points = np.array(node_info[1])\n",
        "        # points = points.reshape((points.shape[0], points.shape[1]*points.shape[2]))\n",
        "        # features = torch.from_numpy(points)\n",
        "        # print(np.array([i[0] for i in node_info[0]]).shape, np.array([i[1] for i in node_info[0]]).shape, \n",
        "        #       np.array([i[2] for i in node_info[0]]).shape, np.array([i[3] for i in node_info[0]]).shape)\n",
        "\n",
        "        labels = np.array([i[0] for i in node_info[0]])\n",
        "        centers = np.array([i[1] for i in node_info[0]])\n",
        "        lengths = np.array([i[2] for i in node_info[0]])\n",
        "        directions = np.array([i[3] for i in node_info[0]])\n",
        "        features = torch.from_numpy(np.column_stack((labels, centers, lengths, directions)))\n",
        "\n",
        "        #b = np.random.randn(*labels.shape)\n",
        "        #features = torch.from_numpy(np.column_stack((labels, b)))\n",
        "        print(features.shape)\n",
        "        \n",
        "        # edges\n",
        "        edges = np.array(edges)\n",
        "        edges_src = torch.from_numpy(edges[:,0])\n",
        "        edges_dst = torch.from_numpy(edges[:,1])\n",
        "\n",
        "        # create graph\n",
        "        self.graph = dgl.to_bidirected(dgl.graph((edges_src, edges_dst), num_nodes = len(node_info[0])))\n",
        "        self.graph.ndata['feat'] = features\n",
        "        # self.graph.ndata['centers'] = centers\n",
        "        # self.graph.ndata['directions'] = directions\n",
        "        # self.graph.ndata['lengths'] = lengths\n",
        "        # self.graph.ndata['label'] = labels\n",
        "        #self.graph.ndata['points'] = points\n",
        "        #self.graph.edata['weight'] = edge_features\n",
        "\n",
        "        # If your dataset is a node classification dataset, you will need to assign\n",
        "        # masks indicating whether a node belongs to training, validation, and test set.\n",
        "#         n_nodes = nodes_data.shape[0]\n",
        "#         n_train = int(n_nodes * 0.6)\n",
        "#         n_val = int(n_nodes * 0.2)\n",
        "#         train_mask = torch.zeros(n_nodes, dtype=torch.bool)\n",
        "#         val_mask = torch.zeros(n_nodes, dtype=torch.bool)\n",
        "#         test_mask = torch.zeros(n_nodes, dtype=torch.bool)\n",
        "#         train_mask[:n_train] = True\n",
        "#         val_mask[n_train:n_train + n_val] = True\n",
        "#         test_mask[n_train + n_val:] = True\n",
        "#         self.graph.ndata['train_mask'] = train_mask\n",
        "#         self.graph.ndata['val_mask'] = val_mask\n",
        "#         self.graph.ndata['test_mask'] = test_mask\n",
        "\n",
        "    def __getitem__(self, i):\n",
        "        return self.graph\n",
        "\n",
        "    def __len__(self):\n",
        "        return 1\n"
      ]
    },
    {
      "cell_type": "code",
      "source": [
        "dataset = IndustrialFacilityDataset()\n",
        "g = dataset[0]\n",
        "print(g)"
      ],
      "metadata": {
        "id": "jdY9VscEuNM-"
      },
      "execution_count": null,
      "outputs": []
    },
    {
      "cell_type": "markdown",
      "metadata": {
        "id": "xq8E_7erObZs"
      },
      "source": [
        "Prepare training and testing sets\n",
        "---------------------------------\n",
        "\n",
        "This tutorial randomly picks 10% of the edges for positive examples in\n",
        "the test set, and leave the rest for the training set. It then samples\n",
        "the same number of edges for negative examples in both sets.\n",
        "\n",
        "\n"
      ]
    },
    {
      "cell_type": "code",
      "execution_count": null,
      "metadata": {
        "id": "RI6Beil3ObZt"
      },
      "outputs": [],
      "source": [
        "# Split edge set for training and testing\n",
        "u, v = g.edges()\n",
        "\n",
        "eids = np.arange(g.number_of_edges())\n",
        "eids = np.random.permutation(eids)\n",
        "test_size = int(len(eids) * 0.1)\n",
        "train_size = g.number_of_edges() - test_size\n",
        "test_pos_u, test_pos_v = u[eids[:test_size]], v[eids[:test_size]]\n",
        "train_pos_u, train_pos_v = u[eids[test_size:]], v[eids[test_size:]]\n",
        "\n",
        "# Find all negative edges and split them for training and testing\n",
        "#print(u.numpy().shape, v.numpy().shape)\n",
        "\n",
        "adj = sp.coo_matrix((np.ones(len(u)), (u.numpy(), v.numpy())), \n",
        "                    shape=(g.number_of_nodes(), g.number_of_nodes()))\n",
        "#print(adj.shape, adj.todense().shape, np.eye(g.number_of_nodes()).shape)\n",
        "adj_neg = 1 - adj.todense() - np.eye(g.number_of_nodes())\n",
        "neg_u, neg_v = np.where(adj_neg != 0)\n",
        "\n",
        "neg_eids = np.random.choice(len(neg_u), g.number_of_edges())\n",
        "test_neg_u, test_neg_v = neg_u[neg_eids[:test_size]], neg_v[neg_eids[:test_size]]\n",
        "train_neg_u, train_neg_v = neg_u[neg_eids[test_size:]], neg_v[neg_eids[test_size:]]"
      ]
    },
    {
      "cell_type": "markdown",
      "metadata": {
        "id": "J10y1JXfObZu"
      },
      "source": [
        "When training, you will need to remove the edges in the test set from\n",
        "the original graph. You can do this via ``dgl.remove_edges``.\n",
        "\n",
        "<div class=\"alert alert-info\"><h4>Note</h4><p>``dgl.remove_edges`` works by creating a subgraph from the\n",
        "   original graph, resulting in a copy and therefore could be slow for\n",
        "   large graphs. If so, you could save the training and test graph to\n",
        "   disk, as you would do for preprocessing.</p></div>\n",
        "\n",
        "\n"
      ]
    },
    {
      "cell_type": "code",
      "execution_count": null,
      "metadata": {
        "id": "bhcyOy04ObZu"
      },
      "outputs": [],
      "source": [
        "train_g = dgl.remove_edges(g, eids[:test_size])"
      ]
    },
    {
      "cell_type": "markdown",
      "metadata": {
        "id": "QxfARbi9ObZv"
      },
      "source": [
        "Define a GraphSAGE model\n",
        "------------------------\n",
        "\n",
        "This tutorial builds a model consisting of two\n",
        "`GraphSAGE <https://arxiv.org/abs/1706.02216>`__ layers, each computes\n",
        "new node representations by averaging neighbor information. DGL provides\n",
        "``dgl.nn.SAGEConv`` that conveniently creates a GraphSAGE layer.\n",
        "\n",
        "\n"
      ]
    },
    {
      "cell_type": "code",
      "execution_count": null,
      "metadata": {
        "id": "07x2B1_RObZv"
      },
      "outputs": [],
      "source": [
        "from dgl.nn import SAGEConv\n",
        "\n",
        "# ----------- 2. create model -------------- #\n",
        "# build a 3-layer GraphSAGE model\n",
        "class GraphSAGE(nn.Module):\n",
        "    def __init__(self, in_feats, h_feats):\n",
        "        super(GraphSAGE, self).__init__()\n",
        "        self.conv1 = SAGEConv(in_feats, h_feats, 'mean')\n",
        "        self.conv2 = SAGEConv(h_feats, h_feats, 'mean')\n",
        "        #self.conv3 = SAGEConv(h_feats, h_feats, 'mean')\n",
        "    \n",
        "    def forward(self, g, in_feat):\n",
        "        h = self.conv1(g, in_feat)\n",
        "        h = F.relu(h)\n",
        "        h = self.conv2(g, h)\n",
        "        #h = F.relu(h)\n",
        "        #h = self.conv3(g, h)\n",
        "        return h"
      ]
    },
    {
      "cell_type": "markdown",
      "metadata": {
        "id": "YfIOMb4mObZv"
      },
      "source": [
        "The model then predicts the probability of existence of an edge by\n",
        "computing a score between the representations of both incident nodes\n",
        "with a function (e.g. an MLP or a dot product), which you will see in\n",
        "the next section.\n",
        "\n",
        "\\begin{align}\\hat{y}_{u\\sim v} = f(h_u, h_v)\\end{align}\n",
        "\n",
        "\n"
      ]
    },
    {
      "cell_type": "markdown",
      "metadata": {
        "id": "DfSVXiDPObZw"
      },
      "source": [
        "Positive graph, negative graph, and ``apply_edges``\n",
        "---------------------------------------------------\n",
        "\n",
        "In previous tutorials you have learned how to compute node\n",
        "representations with a GNN. However, link prediction requires you to\n",
        "compute representation of *pairs of nodes*.\n",
        "\n",
        "DGL recommends you to treat the pairs of nodes as another graph, since\n",
        "you can describe a pair of nodes with an edge. In link prediction, you\n",
        "will have a *positive graph* consisting of all the positive examples as\n",
        "edges, and a *negative graph* consisting of all the negative examples.\n",
        "The *positive graph* and the *negative graph* will contain the same set\n",
        "of nodes as the original graph.  This makes it easier to pass node\n",
        "features among multiple graphs for computation.  As you will see later,\n",
        "you can directly feed the node representations computed on the entire\n",
        "graph to the positive and the negative graphs for computing pair-wise\n",
        "scores.\n",
        "\n",
        "The following code constructs the positive graph and the negative graph\n",
        "for the training set and the test set respectively.\n",
        "\n",
        "\n"
      ]
    },
    {
      "cell_type": "code",
      "execution_count": null,
      "metadata": {
        "id": "hfqj5PUFObZw"
      },
      "outputs": [],
      "source": [
        "train_pos_g = dgl.graph((train_pos_u, train_pos_v), num_nodes=g.number_of_nodes())\n",
        "train_neg_g = dgl.graph((train_neg_u, train_neg_v), num_nodes=g.number_of_nodes())\n",
        "\n",
        "test_pos_g = dgl.graph((test_pos_u, test_pos_v), num_nodes=g.number_of_nodes())\n",
        "test_neg_g = dgl.graph((test_neg_u, test_neg_v), num_nodes=g.number_of_nodes())"
      ]
    },
    {
      "cell_type": "markdown",
      "metadata": {
        "id": "YaLzxFNoObZw"
      },
      "source": [
        "The benefit of treating the pairs of nodes as a graph is that you can\n",
        "use the ``DGLGraph.apply_edges`` method, which conveniently computes new\n",
        "edge features based on the incident nodes’ features and the original\n",
        "edge features (if applicable).\n",
        "\n",
        "DGL provides a set of optimized builtin functions to compute new\n",
        "edge features based on the original node/edge features. For example,\n",
        "``dgl.function.u_dot_v`` computes a dot product of the incident nodes’\n",
        "representations for each edge.\n",
        "\n",
        "\n"
      ]
    },
    {
      "cell_type": "code",
      "execution_count": null,
      "metadata": {
        "id": "Mk5OgXZZObZx"
      },
      "outputs": [],
      "source": [
        "import dgl.function as fn\n",
        "\n",
        "class DotPredictor(nn.Module):\n",
        "    def forward(self, g, h):\n",
        "        with g.local_scope():\n",
        "            g.ndata['h'] = h\n",
        "            # Compute a new edge feature named 'score' by a dot-product between the\n",
        "            # source node feature 'h' and destination node feature 'h'.\n",
        "            g.apply_edges(fn.u_dot_v('h', 'h', 'score'))\n",
        "            # u_dot_v returns a 1-element vector for each edge so you need to squeeze it.\n",
        "            return g.edata['score'][:, 0]"
      ]
    },
    {
      "cell_type": "markdown",
      "metadata": {
        "id": "o9Dc-PJRObZx"
      },
      "source": [
        "You can also write your own function if it is complex.\n",
        "For instance, the following module produces a scalar score on each edge\n",
        "by concatenating the incident nodes’ features and passing it to an MLP.\n",
        "\n",
        "\n"
      ]
    },
    {
      "cell_type": "code",
      "execution_count": null,
      "metadata": {
        "id": "frksQEAnObZx"
      },
      "outputs": [],
      "source": [
        "class MLPPredictor(nn.Module):\n",
        "    def __init__(self, h_feats):\n",
        "        super().__init__()\n",
        "        # self.W1 = nn.Linear(h_feats * 2, h_feats)\n",
        "        # self.W2 = nn.Linear(h_feats, 1)\n",
        "        self.W1 = nn.Linear(h_feats * 2, h_feats)\n",
        "        self.W2 = nn.Linear(h_feats, int(h_feats/2))\n",
        "        self.W3 = nn.Linear(int(h_feats/2), 1)\n",
        "\n",
        "    def apply_edges(self, edges):\n",
        "        \"\"\"\n",
        "        Computes a scalar score for each edge of the given graph.\n",
        "\n",
        "        Parameters\n",
        "        ----------\n",
        "        edges :\n",
        "            Has three members ``src``, ``dst`` and ``data``, each of\n",
        "            which is a dictionary representing the features of the\n",
        "            source nodes, the destination nodes, and the edges\n",
        "            themselves.\n",
        "\n",
        "        Returns\n",
        "        -------\n",
        "        dict\n",
        "            A dictionary of new edge features.\n",
        "        \"\"\"\n",
        "        h = torch.cat([edges.src['h'], edges.dst['h']], 1)\n",
        "        #return {'score': self.W2(F.relu(self.W1(h))).squeeze(1)}\n",
        "        return {'score': self.W3(F.relu(self.W2(F.relu(self.W1(h))))).squeeze(1)}\n",
        "        #return {'score': self.W1(h).squeeze(1)}\n",
        "\n",
        "    def forward(self, g, h):\n",
        "        with g.local_scope():\n",
        "            g.ndata['h'] = h\n",
        "            g.apply_edges(self.apply_edges)\n",
        "            return g.edata['score']"
      ]
    },
    {
      "cell_type": "markdown",
      "metadata": {
        "id": "TDbzFdOJObZx"
      },
      "source": [
        "<div class=\"alert alert-info\"><h4>Note</h4><p>The builtin functions are optimized for both speed and memory.\n",
        "   We recommend using builtin functions whenever possible.</p></div>\n",
        "\n",
        "<div class=\"alert alert-info\"><h4>Note</h4><p>If you have read the :doc:`message passing\n",
        "   tutorial <3_message_passing>`, you will notice that the\n",
        "   argument ``apply_edges`` takes has exactly the same form as a message\n",
        "   function in ``update_all``.</p></div>\n",
        "\n",
        "\n"
      ]
    },
    {
      "cell_type": "markdown",
      "metadata": {
        "id": "ytKvY1PPObZy"
      },
      "source": [
        "Training loop\n",
        "-------------\n",
        "\n",
        "After you defined the node representation computation and the edge score\n",
        "computation, you can go ahead and define the overall model, loss\n",
        "function, and evaluation metric.\n",
        "\n",
        "The loss function is simply binary cross entropy loss.\n",
        "\n",
        "\\begin{align}\\mathcal{L} = -\\sum_{u\\sim v\\in \\mathcal{D}}\\left( y_{u\\sim v}\\log(\\hat{y}_{u\\sim v}) + (1-y_{u\\sim v})\\log(1-\\hat{y}_{u\\sim v})) \\right)\\end{align}\n",
        "\n",
        "The evaluation metric in this tutorial is AUC.\n",
        "\n",
        "\n"
      ]
    },
    {
      "cell_type": "code",
      "execution_count": null,
      "metadata": {
        "id": "TELwQMhoObZy"
      },
      "outputs": [],
      "source": [
        "from sklearn.metrics import roc_auc_score\n",
        "\n",
        "model = GraphSAGE(train_g.ndata['feat'].shape[1], 16)\n",
        "model = model.to(torch.double)\n",
        "# You can replace DotPredictor with MLPPredictor.\n",
        "pred = MLPPredictor(16)\n",
        "pred = pred.to(torch.double)\n",
        "# pred = DotPredictor()\n",
        "\n",
        "def compute_loss(pos_score, neg_score):\n",
        "    scores = torch.cat([pos_score, neg_score])\n",
        "    #print(scores)\n",
        "    labels = torch.cat([torch.ones(pos_score.shape[0]), torch.zeros(neg_score.shape[0])])\n",
        "    return F.binary_cross_entropy_with_logits(scores, labels)\n",
        "\n",
        "def compute_auc(pos_score, neg_score):\n",
        "    scores = torch.cat([pos_score, neg_score]).numpy()\n",
        "    labels = torch.cat(\n",
        "        [torch.ones(pos_score.shape[0]), torch.zeros(neg_score.shape[0])]).numpy()\n",
        "    return roc_auc_score(labels, scores)\n",
        "\n"
      ]
    },
    {
      "cell_type": "markdown",
      "metadata": {
        "id": "cosYqo2yObZy"
      },
      "source": [
        "The training loop goes as follows:\n",
        "\n",
        "<div class=\"alert alert-info\"><h4>Note</h4><p>This tutorial does not include evaluation on a validation\n",
        "   set. In practice you should save and evaluate the best model based on\n",
        "   performance on the validation set.</p></div>\n",
        "\n",
        "\n"
      ]
    },
    {
      "cell_type": "code",
      "source": [
        "from numpy.lib.function_base import average\n",
        "from sklearn.metrics import accuracy_score, precision_score, recall_score, f1_score\n",
        "\n",
        "def compute_metrics(pos_score, neg_score):\n",
        "    # for x in torch.cat([pos_score, neg_score]):\n",
        "    #   print(x)\n",
        "\n",
        "    scores = torch.sigmoid(torch.cat([pos_score, neg_score])).numpy()\n",
        "    scores = np.rint(scores).astype(int)\n",
        "    labels = torch.cat(\n",
        "        [torch.ones(pos_score.shape[0]), torch.zeros(neg_score.shape[0])]).numpy()\n",
        "    print(np.average(scores), scores.shape)\n",
        "    return (accuracy_score(labels, scores), precision_score(labels, scores), \n",
        "            recall_score(labels, scores), f1_score(labels, scores))\n"
      ],
      "metadata": {
        "id": "jQb634YtQHfU"
      },
      "execution_count": null,
      "outputs": []
    },
    {
      "cell_type": "code",
      "execution_count": null,
      "metadata": {
        "id": "qiVgzAd7ObZy"
      },
      "outputs": [],
      "source": [
        "# ----------- 3. set up loss and optimizer -------------- #\n",
        "# in this case, loss will in training loop\n",
        "optimizer = torch.optim.Adam(itertools.chain(model.parameters(), pred.parameters()), lr=0.01)\n",
        "\n",
        "# ----------- 4. training -------------------------------- #\n",
        "all_logits = []\n",
        "accuracies = []\n",
        "losses = []\n",
        "\n",
        "for e in range(250):\n",
        "    # forward\n",
        "    h = model(train_g, train_g.ndata['feat'])\n",
        "    pos_score = pred(train_pos_g, h)\n",
        "    neg_score = pred(train_neg_g, h)\n",
        "    loss = compute_loss(pos_score, neg_score)\n",
        "    \n",
        "    # backward\n",
        "    optimizer.zero_grad()\n",
        "    loss.backward()\n",
        "    optimizer.step()\n",
        "    \n",
        "    if e % 5 == 0:\n",
        "        print('In epoch {}, loss: {}'.format(e, loss))\n",
        "        with torch.no_grad():\n",
        "          pos_score = pred(test_pos_g, h)\n",
        "          neg_score = pred(test_neg_g, h)\n",
        "          # metrics = compute_metrics(pos_score, neg_score)\n",
        "          # accuracies.append(metrics[0])\n",
        "          # losses.append(loss.item())\n",
        "\n",
        "\n",
        "# ----------- 5. check results ------------------------ #\n",
        "with torch.no_grad():\n",
        "    pos_score = pred(test_pos_g, h)\n",
        "    neg_score = pred(test_neg_g, h)\n",
        "    print('AUC', compute_auc(pos_score, neg_score))\n",
        "    \n",
        "    # for i in range(len(losses)):\n",
        "    #   print(i*5, losses[i], accuracies[i])\n",
        "\n",
        "\n",
        "# Thumbnail credits: Link Prediction with Neo4j, Mark Needham\n",
        "# sphinx_gallery_thumbnail_path = '_static/blitz_4_link_predict.png'"
      ]
    },
    {
      "cell_type": "code",
      "source": [
        "\n",
        "with torch.no_grad():\n",
        "    pos_score = pred(test_pos_g, h)\n",
        "    neg_score = pred(test_neg_g, h)\n",
        "    metrics = compute_metrics(pos_score, neg_score)\n",
        "    print('accuracy', metrics[0])\n",
        "    print('precision', metrics[1])\n",
        "    print('recall', metrics[2])\n",
        "    print('f1_score', metrics[3])"
      ],
      "metadata": {
        "id": "_XEs4t_LtHHb"
      },
      "execution_count": null,
      "outputs": []
    },
    {
      "cell_type": "code",
      "source": [
        ""
      ],
      "metadata": {
        "id": "039Csi_hW9yX"
      },
      "execution_count": null,
      "outputs": []
    }
  ],
  "metadata": {
    "kernelspec": {
      "display_name": "Python 3",
      "language": "python",
      "name": "python3"
    },
    "language_info": {
      "codemirror_mode": {
        "name": "ipython",
        "version": 3
      },
      "file_extension": ".py",
      "mimetype": "text/x-python",
      "name": "python",
      "nbconvert_exporter": "python",
      "pygments_lexer": "ipython3",
      "version": "3.7.3"
    },
    "colab": {
      "name": "4_link_predict.ipynb",
      "provenance": [],
      "collapsed_sections": []
    },
    "gpuClass": "standard"
  },
  "nbformat": 4,
  "nbformat_minor": 0
}