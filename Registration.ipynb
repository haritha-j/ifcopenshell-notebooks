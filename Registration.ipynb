{
 "cells": [
  {
   "cell_type": "code",
   "execution_count": null,
   "id": "52912098",
   "metadata": {},
   "outputs": [],
   "source": [
    "from src.icp import icp\n",
    "\n",
    "import torch\n",
    "import open3d as o3d\n",
    "import numpy as np\n",
    "import copy\n",
    "from chamferdist import ChamferDistance\n",
    "from pytorch3d.transforms import euler_angles_to_matrix\n",
    "from tqdm import tqdm_notebook as tqdm\n"
   ]
  },
  {
   "cell_type": "code",
   "execution_count": null,
   "id": "ec29b85b",
   "metadata": {},
   "outputs": [],
   "source": [
    "def draw_registration_result(source, target, transformation):\n",
    "    source_temp = copy.deepcopy(source)\n",
    "    target_temp = copy.deepcopy(target)\n",
    "    source_temp.paint_uniform_color([1, 0.706, 0])\n",
    "    target_temp.paint_uniform_color([0, 0.651, 0.929])\n",
    "    source_temp.transform(transformation)\n",
    "    o3d.visualization.draw_geometries([source_temp, target_temp],\n",
    "                                      zoom=0.4459,\n",
    "                                      front=[0.9288, -0.2951, -0.2242],\n",
    "                                      lookat=[1.6784, 2.0612, 1.4451],\n",
    "                                      up=[-0.3402, -0.9189, -0.1996])"
   ]
  },
  {
   "cell_type": "code",
   "execution_count": null,
   "id": "2b6359d6",
   "metadata": {},
   "outputs": [],
   "source": [
    "# load and subsample\n",
    "\n",
    "demo_icp_pcds = o3d.data.DemoICPPointClouds().paths\n",
    "\n",
    "target_cloud = o3d.io.read_point_cloud(demo_icp_pcds[1])\n",
    "\n",
    "trans_init = np.asarray([[0.862, 0.011, -0.507, 0.5],\n",
    "                         [-0.139, 0.967, -0.215, 0.7],\n",
    "                         [0.487, 0.255, 0.835, -1.4], [0.0, 0.0, 0.0, 1.0]])\n",
    "source_cloud = o3d.io.read_point_cloud(demo_icp_pcds[0]).transform(trans_init)\n",
    "\n",
    "target_cloud_down = target_cloud.voxel_down_sample(voxel_size=0.02)\n",
    "source_cloud_down = source_cloud.voxel_down_sample(voxel_size=0.02)\n",
    "\n",
    "\n",
    "threshold = 0.2"
   ]
  },
  {
   "cell_type": "code",
   "execution_count": null,
   "id": "ed1017b1",
   "metadata": {},
   "outputs": [],
   "source": [
    "# icp\n",
    "\n",
    "t_init = np.asarray([[1.,0.,0.,0.], [0.,1.,0.,0.], [0.,0.,1.,0.], [0.,0.,0.,1.]])\n",
    "t, _ = icp(source_cloud_down, target_cloud_down, threshold, t)\n",
    "print(t)"
   ]
  },
  {
   "cell_type": "code",
   "execution_count": null,
   "id": "28b7f14e",
   "metadata": {},
   "outputs": [],
   "source": [
    "draw_registration_result(source_cloud_down, target_cloud_down, t)"
   ]
  },
  {
   "cell_type": "code",
   "execution_count": null,
   "id": "c5db039b",
   "metadata": {},
   "outputs": [],
   "source": [
    "draw_registration_result(source_cloud, target_cloud, trans_init)"
   ]
  },
  {
   "cell_type": "code",
   "execution_count": null,
   "id": "57bcc273",
   "metadata": {},
   "outputs": [],
   "source": [
    "# convert to gpu tensors\n",
    "cuda = torch.device('cuda')\n",
    "source = np.array(source_cloud_down.points)\n",
    "target = np.array(target_cloud_down.points)\n",
    "source = torch.tensor([source], device=cuda)\n",
    "target = torch.tensor([target], device=cuda)\n",
    "#trans_init = torch.tensor([trans_init], requires_grad=True, device=cuda)\n"
   ]
  },
  {
   "cell_type": "code",
   "execution_count": null,
   "id": "b077e171",
   "metadata": {},
   "outputs": [],
   "source": [
    "print(source.shape)"
   ]
  },
  {
   "cell_type": "code",
   "execution_count": null,
   "id": "26541cd8",
   "metadata": {},
   "outputs": [],
   "source": [
    "#TODO: modify chamfer distance to ignore points beyond a threshold\n",
    "def chamfer_registration(source, target, iterations, step_size, cuda):\n",
    "    \n",
    "    # params = [x_translation, y_translation, z_translation, x_rotation, y_rotation, z_rotation]\n",
    "    params = torch.zeros((source.shape[0], 6), requires_grad=True, device=cuda)\n",
    "    optimiser = torch.optim.Adam([params], lr=step_size)\n",
    "    chamferDist = ChamferDistance()\n",
    "    \n",
    "    for i in tqdm(range(iterations)):\n",
    "        # preparation\n",
    "        optimiser.zero_grad()\n",
    "        tensor_1 = torch.ones((source.shape[0], source.shape[1]), device=cuda)\n",
    "        source_t = torch.cat((source, tensor_1.unsqueeze(2)), dim=-1)\n",
    "        source_t = torch.transpose(source_t, 1, 2)\n",
    "        #print(source_t.shape, tensor_1.shape, trans_init.shape)\n",
    "        \n",
    "        # setup transformation matrix\n",
    "        tensor_0 = torch.zeros((source.shape[0], 3), device=cuda)\n",
    "        transform = euler_angles_to_matrix(params[:, :3], \"XYZ\")\n",
    "        transform = torch.cat((transform, tensor_0.unsqueeze(2)), dim =-1)\n",
    "        tensor_1_vector = torch.ones(source.shape[0], device=cuda)\n",
    "        translation = torch.cat((params[:, 3:],  tensor_1_vector.unsqueeze(-1)), dim=-1)\n",
    "        print(\"trans\",translation.unsqueeze(1))\n",
    "        #print(\"trans\",params[:, 3:].shape, tensor_1_vector.unsqueeze(-1).shape)\n",
    "\n",
    "        transform = torch.cat((transform, translation.unsqueeze(1)), dim =-2)\n",
    "        transform = torch.transpose(transform, 1, 2).double()\n",
    "        #print(\"trans\", transform)\n",
    "            \n",
    "        # transformation\n",
    "        source_t = torch.bmm(transform, source_t)\n",
    "        source_t = torch.transpose(source_t, 1, 2)[:, :, :-1]\n",
    "        \n",
    "        # optimisation\n",
    "        chamfer_loss = chamferDist(target, source_t, bidirectional=False)\n",
    "        chamfer_loss.backward()\n",
    "        optimiser.step()\n",
    "        \n",
    "        print(i, \"loss\", chamfer_loss)\n",
    "        \n",
    "    return source_t, transform\n",
    "    \n",
    "        "
   ]
  },
  {
   "cell_type": "code",
   "execution_count": null,
   "id": "dc95fee2",
   "metadata": {},
   "outputs": [],
   "source": [
    "transformed_source, trans = chamfer_registration(source, target, 10,  0.01, cuda)"
   ]
  },
  {
   "cell_type": "code",
   "execution_count": null,
   "id": "3ac4718d",
   "metadata": {},
   "outputs": [],
   "source": [
    "trans = trans[0].detach().cpu().numpy()"
   ]
  },
  {
   "cell_type": "code",
   "execution_count": null,
   "id": "1a808ea0",
   "metadata": {},
   "outputs": [],
   "source": [
    "print(trans)"
   ]
  },
  {
   "cell_type": "code",
   "execution_count": null,
   "id": "2786d5b8",
   "metadata": {},
   "outputs": [],
   "source": [
    "draw_registration_result(source_cloud_down, target_cloud_down, trans)"
   ]
  },
  {
   "cell_type": "code",
   "execution_count": null,
   "id": "004bd286",
   "metadata": {},
   "outputs": [],
   "source": [
    "draw_registration_result(source_cloud_down, target_cloud_down, t_init)"
   ]
  },
  {
   "cell_type": "code",
   "execution_count": null,
   "id": "a7f035ec",
   "metadata": {},
   "outputs": [],
   "source": []
  }
 ],
 "metadata": {
  "kernelspec": {
   "display_name": "Python 3 (ipykernel)",
   "language": "python",
   "name": "python3"
  },
  "language_info": {
   "codemirror_mode": {
    "name": "ipython",
    "version": 3
   },
   "file_extension": ".py",
   "mimetype": "text/x-python",
   "name": "python",
   "nbconvert_exporter": "python",
   "pygments_lexer": "ipython3",
   "version": "3.9.16"
  }
 },
 "nbformat": 4,
 "nbformat_minor": 5
}
